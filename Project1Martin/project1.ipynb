{
 "cells": [
  {
   "cell_type": "code",
   "execution_count": 1,
   "metadata": {},
   "outputs": [],
   "source": [
    "# Useful starting lines\n",
    "%matplotlib inline\n",
    "import datetime\n",
    "from costs import compute_loss\n",
    "import numpy as np\n",
    "from tqdm import tqdm\n",
    "import matplotlib.pyplot as plt\n",
    "%load_ext autoreload\n",
    "\n",
    "%autoreload 2"
   ]
  },
  {
   "cell_type": "code",
   "execution_count": null,
   "metadata": {},
   "outputs": [],
   "source": []
  },
  {
   "cell_type": "markdown",
   "metadata": {},
   "source": [
    "## Load the training data into feature matrix, class labels, and event ids:"
   ]
  },
  {
   "cell_type": "code",
   "execution_count": 2,
   "metadata": {},
   "outputs": [],
   "source": [
    "from proj1_helpers import *\n",
    "DATA_TRAIN_PATH = \"train.csv\" \n",
    "y, tX, ids = load_csv_data(DATA_TRAIN_PATH)\n",
    "# standardize the data\n",
    "tX_std = standardize(tX)"
   ]
  },
  {
   "cell_type": "markdown",
   "metadata": {},
   "source": [
    "# Implement ML methods"
   ]
  },
  {
   "cell_type": "markdown",
   "metadata": {},
   "source": [
    "## Least squares GD"
   ]
  },
  {
   "cell_type": "code",
   "execution_count": 3,
   "metadata": {},
   "outputs": [],
   "source": [
    "def compute_gradient(y, tx, w):\n",
    "    \"\"\"\n",
    "    Compute the gradient.\n",
    "    \n",
    "    :param y: labels\n",
    "    :param tx: features\n",
    "    :param w: weights\n",
    "    :return grad: gradient\n",
    "    \"\"\"\n",
    "    grad = (-1/len(y))*tx.T@(y-tx@w)\n",
    "    return grad\n",
    "    # ***************************************************\n",
    "\n",
    "\n",
    "def least_squares_GD(y, tx, initial_w, max_iter, gamma):\n",
    "    \"\"\"\n",
    "    Least square gradient descent\n",
    "    \n",
    "    :param y: labels\n",
    "    :param tx: features\n",
    "    :param initial_w: initial weights\n",
    "    :param max_iter: max number of iterations\n",
    "    :param gamma: learning rate\n",
    "    :return ws: weights\n",
    "    :return ls: loss\n",
    "    \"\"\"    \n",
    "    ws = [initial_w]\n",
    "    losses = []\n",
    "    w = initial_w\n",
    "    for n_iter in range(max_iter):\n",
    "        gradient = compute_gradient(y,tx,w)\n",
    "        loss = compute_loss(y,tx,w)\n",
    "        w = w-gamma*gradient\n",
    "        ws.append(w)\n",
    "        losses.append(loss)\n",
    "        \n",
    "    return np.array(ws)[-1], np.array(losses)"
   ]
  },
  {
   "cell_type": "markdown",
   "metadata": {},
   "source": [
    "## Least square SGD"
   ]
  },
  {
   "cell_type": "code",
   "execution_count": 4,
   "metadata": {},
   "outputs": [],
   "source": [
    "\n",
    "def compute_stoch_gradient(y, tx, w):\n",
    "    \"\"\"\n",
    "    Compute the gradient.\n",
    "    \n",
    "    :param y: labels\n",
    "    :param tx: features\n",
    "    :param w: weights\n",
    "    :return grad: gradient\n",
    "    \"\"\"    # ***************************************************\n",
    "    e = y-tx@w\n",
    "    grad = -1/len(y)*tx.T@e\n",
    "    return grad\n",
    "    # ***************************************************\n",
    "\n",
    "\n",
    "def least_squares_SGD(y, tx, initial_w, batch_size, max_iter, gamma):\n",
    "    \"\"\"\n",
    "    Least square stochastic gradient descent\n",
    "    \n",
    "    :param y: labels\n",
    "    :param tx: features\n",
    "    :param initial_w: initial weights\n",
    "    :param batch_size: 1 if sgd\n",
    "    :param max_iter: max number of iterations\n",
    "    :param gamma: learning rate\n",
    "    :return ws: weights\n",
    "    :return ls: loss\n",
    "    \"\"\"   \n",
    "    ws = []\n",
    "    losses = []\n",
    "    w = initial_w\n",
    "    for n_iter in range(max_iter):\n",
    "        # compute random batch\n",
    "        a = batch_iter(y, tx, batch_size, num_batches=1, shuffle=True)\n",
    "        a = list(a)\n",
    "        tx2, y2 = a[0][1], a[0][0]\n",
    "        # compute gradient & loss\n",
    "        grad = compute_stoch_gradient(y2,tx2,w)\n",
    "        loss= compute_loss(y2, tx2, w)\n",
    "        # update gradient\n",
    "        w = w-gamma*grad\n",
    "        # store w and loss\n",
    "        ws.append(w)\n",
    "        losses.append(loss)\n",
    "\n",
    "\n",
    "    return np.array(ws)[-1], np.array(losses)"
   ]
  },
  {
   "cell_type": "markdown",
   "metadata": {},
   "source": [
    "## Least square\n",
    "computed by solving for w:  X<sup>T</sup>X * w = X<sup>T</sup>y"
   ]
  },
  {
   "cell_type": "code",
   "execution_count": 5,
   "metadata": {},
   "outputs": [],
   "source": [
    "def least_square(y, tx):\n",
    "    \"\"\"\n",
    "    Solves the closed form least square equation to obtain optimal weights\n",
    "    \n",
    "    :param y: labels\n",
    "    :param tx: features\n",
    "    :returns w,l: weights and loss of the model\n",
    "    \"\"\"\n",
    "    w = np.linalg.solve(tx.T@tx,tx.T@y)\n",
    "    l = compute_loss(y, tx, w)\n",
    "    return w, l\n"
   ]
  },
  {
   "cell_type": "markdown",
   "metadata": {},
   "source": [
    "## Ridge regression"
   ]
  },
  {
   "cell_type": "code",
   "execution_count": 6,
   "metadata": {},
   "outputs": [],
   "source": [
    "def ridge_regression(y, tx, lambda_):\n",
    "    \"\"\"\n",
    "    Solves the closed form of Ridge regression equation to obtain optimal weights\n",
    "    \n",
    "    :param y: labels\n",
    "    :param tx: features\n",
    "    :param lambda_: regulizer\n",
    "    :returns w,l: weights and loss of the model\n",
    "    \"\"\"\n",
    "    w = np.linalg.solve(tx.T@tx+lambda_*np.eye(tx.shape[1]),tx.T@y)\n",
    "    l = compute_loss(y, tx, w)\n",
    "    return w, l\n"
   ]
  },
  {
   "cell_type": "markdown",
   "metadata": {},
   "source": [
    "## Logistic regression"
   ]
  },
  {
   "cell_type": "code",
   "execution_count": 7,
   "metadata": {},
   "outputs": [],
   "source": [
    "def sigmoid(z):\n",
    "    \"\"\"\n",
    "    sigmoid function\n",
    "    \n",
    "    :param z: \n",
    "    :return z:\n",
    "    \"\"\"\n",
    "    return 1/(1+np.exp(-z))\n",
    "def update_weights(y, tx, w, gamma):\n",
    "    \"\"\"\n",
    "    Update weights function for logistic regression\n",
    "    \n",
    "    :param tx: features matrix\n",
    "    :param y: labels vector\n",
    "    :param w: weights\n",
    "    :param gamma: learning rate\n",
    "    \n",
    "    :return w: new updated weights\n",
    "    \"\"\" \n",
    "    #probabilities array that the label is 1\n",
    "    probabilities = sigmoid(np.dot(tx, w))\n",
    "    gradient = np.dot(tx.T,  probabilities - y)\n",
    "    w -= gradient*gamma / len(tx)\n",
    "    return w\n",
    "\n",
    "def LR_loss_function(y, tx, w):\n",
    "    \"\"\"\n",
    "    Computes logistic loss\n",
    "    \n",
    "    :param tx: features matrix\n",
    "    :param y: labels vector\n",
    "    :param w: weights\n",
    "    \n",
    "    :return loss: logistic loss\n",
    "    \"\"\" \n",
    "    #probabilities array that the label is 1\n",
    "    probabilities = sigmoid(np.dot(tx, w))\n",
    "    #the error when label=1\n",
    "    error1 = -y*np.log(probabilities)\n",
    "    #the error when label=-1\n",
    "    error2 = (1-y)*np.log(1-probabilities)\n",
    "    #return average of sum of costs\n",
    "    loss = (error1-error2).mean()\n",
    "    return loss\n",
    "\n",
    "\n",
    "# logistic regression function\n",
    "def logistic_regression(y,tx, initial_w,  max_iter, gamma):\n",
    "    \"\"\"\n",
    "    Logistic regression function\n",
    "    \n",
    "    :param tx: features matrix\n",
    "    :param y: labels vector\n",
    "    :param initial_w: initial weights\n",
    "    :param max_iter: number of iterations\n",
    "    :param gamma: learning rate\n",
    "\n",
    "    :return ls: last loss  computed\n",
    "    :return ws: last weights computed\n",
    "    \"\"\" \n",
    "    losses = []\n",
    "    ws = []\n",
    "    for iter_n in range(max_iter):\n",
    "        w = update_weights(y, tx, initial_w, gamma)\n",
    "        loss = LR_loss_function(y, tx, w)\n",
    "        losses.append(loss)\n",
    "        ws.append(w)\n",
    "    ls, wes  = np.array(losses), np.array(ws)\n",
    "    return wes[-1],ls\n",
    "\n"
   ]
  },
  {
   "cell_type": "markdown",
   "metadata": {},
   "source": [
    "## Regularized logistic regression"
   ]
  },
  {
   "cell_type": "code",
   "execution_count": 8,
   "metadata": {},
   "outputs": [],
   "source": [
    "def reg_LR_update_weights(y, tx, w, gamma, lambda_):\n",
    "    \"\"\"\n",
    "    Update weights function for  regularized logistic regression\n",
    "    \n",
    "    :param tx: features matrix\n",
    "    :param y: labels vector\n",
    "    :param w: weights\n",
    "    :param gamma: learning rate\n",
    "    :param lambda_: regulizer\n",
    "    \n",
    "    :return w: new updated weights\n",
    "    \"\"\" \n",
    "    # probabilities array that the label is 1\n",
    "    probabilities = sigmoid(np.dot(tx, w))\n",
    "    gradient = np.dot(tx.T,  probabilities - y) + lambda_ * w\n",
    "    w -= gradient*gamma / len(tx)\n",
    "    return w\n",
    "\n",
    "def reg_LR_loss_function(y, tx, w, lambda_):\n",
    "    \"\"\"\n",
    "    Computes logistic loss\n",
    "    \n",
    "    :param tx: features matrix\n",
    "    :param y: labels vector\n",
    "    :param w: weights\n",
    "    :param lambda_: regulizer\n",
    "    \n",
    "    :return w: logistic loss\n",
    "    \"\"\" \n",
    "    # probabilities array that the label is 1\n",
    "    probabilities = sigmoid(np.dot(tx, w))\n",
    "    # the error when label=1\n",
    "    error1 = -y*np.log(probabilities)\n",
    "    # the error when label=0\n",
    "    error2 = (1-y)*np.log(1-probabilities)\n",
    "    # return average of sum of costs\n",
    "    return (error1-error2).mean()+lambda_/2*np.dot(w.T,w)/ len(tx)\n",
    "\n",
    "\n",
    "# regularized logistic regression function\n",
    "def reg_logistic_regression(y,tx, initial_w,max_iter, gamma,lambda_):\n",
    "    \"\"\"\n",
    "    Regularized logistic regression function\n",
    "    \n",
    "    :param tx: features matrix\n",
    "    :param y: labels vector\n",
    "    :param initial_w: initial weights\n",
    "    :param max_iter: number of iterations\n",
    "    :param gamma: learning rate\n",
    "    :param lambda_: regulizer\n",
    "\n",
    "    :return ls: last loss  computed\n",
    "    :return ws: last weights computed\n",
    "    \"\"\" \n",
    "    losses = []\n",
    "    ws = []\n",
    "    for iter_n in range(max_iter):\n",
    "        if(iter_n > 800):\n",
    "            gamma = gamma-gamma/30\n",
    "        w = reg_LR_update_weights(y, tx, initial_w, gamma,lambda_)\n",
    "        loss = reg_LR_loss_function(y, tx, w, lambda_)\n",
    "        losses.append(loss)\n",
    "        ws.append(w)\n",
    "    ls, wes  = np.array(losses), np.array(ws)\n",
    "    return wes[-1],ls\n"
   ]
  },
  {
   "cell_type": "code",
   "execution_count": null,
   "metadata": {},
   "outputs": [],
   "source": []
  },
  {
   "cell_type": "markdown",
   "metadata": {},
   "source": [
    "# Useful functions"
   ]
  },
  {
   "cell_type": "code",
   "execution_count": 9,
   "metadata": {},
   "outputs": [],
   "source": [
    "def compute_accuracy(y_pred, y):\n",
    "    \"\"\"\n",
    "    compute the accuracy\n",
    "    \n",
    "    :param y_pred: predictions\n",
    "    :param y: real labels\n",
    "    \n",
    "    :return acc: accuracy\n",
    "    \"\"\"\n",
    "    # y_pred - y & count 0\n",
    "    arr = np.array(y_pred) - np.array(y)\n",
    "    acc = np.count_nonzero(arr==0) / len(y)\n",
    "    return acc\n",
    "\n",
    "\n",
    "def build_k_indices(y, k_fold, seed):\n",
    "    \"\"\"\n",
    "    build k indices for k-fold.\n",
    "    \n",
    "    :param y: labels\n",
    "    :param k_fold: number of folds\n",
    "    :param seed: seed for randomization\n",
    "    \n",
    "    :return k_indices: indices \n",
    "    \"\"\"\n",
    "    num_row = y.shape[0]\n",
    "    interval = int(num_row / k_fold)\n",
    "    np.random.seed(seed)\n",
    "    indices = np.random.permutation(num_row)\n",
    "    k_indices = [indices[k * interval: (k + 1) * interval] for k in range(k_fold)]\n",
    "    return np.array(k_indices)\n",
    "\n",
    "\n",
    "def build_poly(x, degree):\n",
    "    \"\"\"\n",
    "    polynomial basis functions for input data x, for j=0 up to j=degree.\n",
    "    \n",
    "    :param x: matrix \n",
    "    :param degree: degree of expansion\n",
    "    \"\"\"\n",
    "    poly = np.ones((len(x), 1))\n",
    "    for deg in range(1, degree+1):\n",
    "        poly = np.c_[poly, np.power(x, deg)]\n",
    "    return poly\n",
    "\n",
    "\n",
    "def cross_validation(y, x, k_indices, k, degree, regression_method, **kwargs):\n",
    "    \"\"\"\n",
    "    Computes cross validation on a given data set using a given regression method, and computes the\n",
    "    weights, the train loss, the test loss, and the train and loss accuracy\n",
    "    if the degree is not none, it will perform feature expansion on the data set\n",
    "    \n",
    "    :param y: labels vector\n",
    "    :param tx: features matrix\n",
    "    :param k_indices: k_fold already randomly computed indices\n",
    "    :param degree: degree of polynomial expansion\n",
    "    :param logistic: boolean; if true, the loss used is the logistic one\n",
    "    :param **kwargs: differents parameters such as the regulizer lambda or the learning rate gamma\n",
    "    \"\"\"\n",
    "    test_indice = k_indices[k]\n",
    "    train_indice = k_indices[~(np.arange(k_indices.shape[0]) == k)]\n",
    "    train_indice = train_indice.reshape(-1)\n",
    "    \n",
    "    y_test = y[test_indice]\n",
    "    y_train = y[train_indice]\n",
    "    x_test = x[test_indice]\n",
    "    x_train = x[train_indice]\n",
    "    \n",
    "    if degree != None:\n",
    "        x_train = build_poly(x_train, degree)\n",
    "        x_test = build_poly(x_test, degree)\n",
    "    \n",
    "\n",
    "    w_initial = np.zeros(x_train.shape[1])\n",
    "    kwargs = kwargs\n",
    "    kwargs['initial_w'] = w_initial\n",
    "\n",
    "    \n",
    "    if regression_method is reg_logistic_regression:\n",
    "        w, loss_train = regression_method(y = y_train, tx = x_train, **kwargs)\n",
    "        loss_test = reg_LR_loss_function(y_test, x_test, w ,kwargs['lambda_'])\n",
    "        \n",
    "    elif regression_method is logistic_regression:\n",
    "        w, loss_train = regression_method(y = y_train, tx = x_train, **kwargs)\n",
    "        loss_test = LR_loss_function(y_test, x_test, w)\n",
    "        \n",
    "    elif regression_method is least_square:\n",
    "        w, loss_train = regression_method(y = y_train, tx = x_train)\n",
    "        loss_test = compute_loss(y_test, x_test, w)\n",
    "        \n",
    "    elif regression_method is ridge_regression:\n",
    "        w, loss_train = regression_method(y_train,x_train, kwargs['lambda_'])\n",
    "        loss_test = compute_loss(y_test, x_test, w)\n",
    "    else: \n",
    "        w, loss_train = regression_method(y = y_train, tx = x_train, **kwargs)\n",
    "        loss_test = compute_loss(y_test, x_test, w)\n",
    "\n",
    "        \n",
    "    y_train_pred = predict_labels(w, x_train)\n",
    "    y_test_pred = predict_labels(w, x_test)\n",
    "    y_test = (y_test*2)-1\n",
    "    y_train = (y_train*2)-1\n",
    "    accuracy_train = compute_accuracy(y_train_pred, y_train)\n",
    "    accuracy_test = compute_accuracy(y_test_pred, y_test)\n",
    "    return w, loss_train, loss_test, accuracy_train, accuracy_test\n",
    "\n",
    "def evaluate(tx, wf, degree):\n",
    "    \n",
    "    \"\"\"\n",
    "    function to evaluate weights over all the train model\n",
    "    \n",
    "    :param tx: train features\n",
    "    :param wf: wights to evaluate\n",
    "    :param degree: degree of expansion\n",
    "    :return acc: accuracy of the weights over the train model\n",
    "    \"\"\"\n",
    "    if degree is not None:\n",
    "        tx =build_poly(tx, degree)\n",
    "    if isinstance(wf, list):\n",
    "        wk =np.mean(wf, axis =0)\n",
    "\n",
    "    else:\n",
    "        wk = wf\n",
    "                \n",
    "    y_pred = predict_labels(wk, tx)\n",
    "    acc = compute_accuracy(y_std*2-1, y_pred)\n",
    "    return acc\n",
    "def remove_outliers_IQR(tx, y, high,low):\n",
    "    \"\"\"\n",
    "    removes outliers using IQR\n",
    "    \n",
    "    :param tx: features\n",
    "    :param y: labels\n",
    "    :param high: high IQR\n",
    "    :param low: low IQR\n",
    "    :returns tX, Y: features and labels without outliers\n",
    "    \"\"\"\n",
    "    Q1 = np.quantile(tX,low,axis = 0)\n",
    "    Q3 = np.quantile(tX,high, axis = 0)\n",
    "    IQR = Q3 - Q1\n",
    "    tX_no_outliers = tX[~((tX < (Q1 - 1.5 * IQR)) |(tX > (Q3 + 1.5 * IQR))).any(axis=1)]\n",
    "    y_no_outliers = y_std[~((tX < (Q1 - 1.5 * IQR)) |(tX > (Q3 + 1.5 * IQR))).any(axis=1)]\n",
    "    return tX_no_outliers, y_no_outliers\n",
    "\n",
    "def replace(tX, value):\n",
    "    \"\"\"\n",
    "    Replaces invalid values with the mean of all the values in the cooresponding feature \n",
    "\n",
    "    :param tX: features\n",
    "    :param value: value to replace\n",
    "    :return tX: tX with replaced values\n",
    "    \"\"\"\n",
    "    for i in range(tX.shape[1]):\n",
    "        data = tX[:, i].copy()\n",
    "        np.delete(data, np.where(data == value))  \n",
    "        data_median = np.median(data)  \n",
    "        tX[tX[:, i] == value,i] = data_median  \n",
    "    return tX\n",
    "\n",
    "def standardize_test(tx, tx_test):\n",
    "    \"\"\"\n",
    "    Standardize wrt the tx train mean and std\n",
    "    \n",
    "    :param tx: train features\n",
    "    :param tx_test: test features\n",
    "    :return: std_data: standardized version of tx_test\n",
    "    \"\"\"\n",
    "    value = -999\n",
    "    tx_test = replace(tx_test, value)\n",
    "    centered_data = tx_test - np.mean(tx, axis=0)\n",
    "    std_data = centered_data / np.std(tx, axis=0)\n",
    "    return std_data"
   ]
  },
  {
   "cell_type": "markdown",
   "metadata": {},
   "source": [
    "# Train "
   ]
  },
  {
   "cell_type": "markdown",
   "metadata": {},
   "source": [
    "## Train function"
   ]
  },
  {
   "cell_type": "code",
   "execution_count": 10,
   "metadata": {},
   "outputs": [],
   "source": [
    "def train(model,y,tx,k_fold,degree,seed=0, **kwargs):\n",
    "    \"\"\"\n",
    "    regularized logistic regression function \n",
    "    \n",
    "    :param Model: model that we'll use\n",
    "    :param y: labels vector\n",
    "    :param tx: features matrix\n",
    "    :param k_fold: number of folds\n",
    "    :param degree: degree of polynomial expansion\n",
    "    :param seed: random seed for cross validation split\n",
    "    :param **kwargs: multiple possible parameters\n",
    "    \n",
    "    :return wf: final weights \n",
    "    \"\"\"    \n",
    "    weights = []\n",
    "    losses_train = []\n",
    "    losses_test = []\n",
    "    accuracies_train = []\n",
    "    accuracies_test = []\n",
    "    \n",
    "    logistic = False\n",
    "    if model is logistic_regression or model is reg_logistic_regression:\n",
    "        logistic = True\n",
    "    \n",
    "    k_indices = build_k_indices(y, k_fold, seed)\n",
    "    for k in tqdm(range(k_fold)):\n",
    "        w, loss_train, loss_test, accuracy_train, accuracy_test = cross_validation(y, tx, k_indices, k, degree, model, **kwargs)\n",
    "        weights.append(w)\n",
    "        losses_train.append(loss_train)\n",
    "        losses_test.append(loss_test)\n",
    "        accuracies_train.append(accuracy_train)\n",
    "        accuracies_test.append(accuracy_test)\n",
    "    leg = [\"train loss \"+str(i) for i in range(k_fold)]\n",
    "    plt.legend(leg)\n",
    "    plt.plot(losses_train[-1])    \n",
    "    print(\"<-\"+\"-\"*75+\"->\")\n",
    "    if degree is not None:\n",
    "        degree = int(degree)\n",
    "    \n",
    "    print(\"{:15.14}|{:15.14}|{:15.14}|{:15.14}|{:15.14}\".format(\"Train losses\",\"Test losses\",\"Train accuracy\",\"Test Accuracy\", \"Evaluation\"))\n",
    "    for i in range(k_fold):\n",
    "        if model is least_square or model is ridge_regression:\n",
    "            print(\"{:< 15f}|{:< 15f}|{:< 15f}|{:< 15f}|{:< 15f}\".format(losses_train[i], losses_test[i] ,accuracies_train[i], accuracies_test[i], evaluate(tX_std, np.array(weights[i]), degree)))\n",
    "        else:\n",
    "            print(\"{:< 15f}|{:< 15f}|{:< 15f}|{:< 15f}|{:< 15f}\".format(losses_train[i][-1], losses_test[i] ,accuracies_train[i], accuracies_test[i], evaluate(tX_std, np.array(weights[i]), degree)))\n",
    "        print(\"{:15.1}|{:15.14}|{:15.14}|{:15.14}|{:15.14}\".format(\"\",\"\",\"\",\"\",\"\"))\n",
    "    print(\"<-\"+\"-\"*75+\"->\")\n",
    "    print(f\"evaluation mean w: {evaluate(tX_std, weights, degree)}\")\n",
    "\n",
    "    return weights, sum(accuracies_train)/len(accuracies_train),sum(accuracies_test)/len(accuracies_test)\n",
    "    "
   ]
  },
  {
   "cell_type": "markdown",
   "metadata": {},
   "source": [
    "# Testing without outliers"
   ]
  },
  {
   "cell_type": "code",
   "execution_count": 11,
   "metadata": {},
   "outputs": [],
   "source": [
    "DATA_TRAIN_PATH = \"train.csv\" \n",
    "y, tX, ids = load_csv_data(DATA_TRAIN_PATH)\n",
    "y_std = (y+1)/2\n",
    "\n",
    "\n",
    "tX_no_outliers, y_no_outliers = remove_outliers_IQR(tX,y_std, 0.85, 0)\n",
    "\n",
    "tX_no_outliers_std = standardize(tX_no_outliers)\n"
   ]
  },
  {
   "cell_type": "markdown",
   "metadata": {},
   "source": [
    "## test least square"
   ]
  },
  {
   "cell_type": "code",
   "execution_count": null,
   "metadata": {},
   "outputs": [],
   "source": [
    "w_ls = train(least_square,y_std,tX_std,5,None,seed=0)\n"
   ]
  },
  {
   "cell_type": "markdown",
   "metadata": {},
   "source": [
    "## test least squares Gradient descent "
   ]
  },
  {
   "cell_type": "code",
   "execution_count": null,
   "metadata": {},
   "outputs": [],
   "source": [
    "w_lsGD = train(least_squares_GD,y_no_outliers,tX_no_outliers_std,5,None,gamma=0.0277184057,seed=0, max_iter = 200)\n"
   ]
  },
  {
   "cell_type": "markdown",
   "metadata": {},
   "source": [
    "## test least squares Stochastic Gradient descent \n"
   ]
  },
  {
   "cell_type": "code",
   "execution_count": null,
   "metadata": {},
   "outputs": [],
   "source": [
    "w_lsSGD = train(least_squares_SGD,y_no_outliers,tX_no_outliers_std,5,None,gamma=0.0257184057,seed=0,batch_size = 10000, max_iter = 200)\n"
   ]
  },
  {
   "cell_type": "markdown",
   "metadata": {},
   "source": [
    "## test Logistic regression \n"
   ]
  },
  {
   "cell_type": "code",
   "execution_count": null,
   "metadata": {},
   "outputs": [],
   "source": [
    "w_LR = train(logistic_regression,y_no_outliers,tX_no_outliers_std,5,2,gamma=0.2307184057,seed=0, max_iter = 200)\n"
   ]
  },
  {
   "cell_type": "markdown",
   "metadata": {},
   "source": [
    "## test regularized Logistic regression \n"
   ]
  },
  {
   "cell_type": "code",
   "execution_count": null,
   "metadata": {},
   "outputs": [],
   "source": [
    "w_regLR = train(reg_logistic_regression,y_no_outliers,tX_no_outliers_std,5,2,gamma=0.227184057,seed=0, max_iter = 300, lambda_ = 0.000770)\n"
   ]
  },
  {
   "cell_type": "code",
   "execution_count": 19,
   "metadata": {},
   "outputs": [
    {
     "name": "stderr",
     "output_type": "stream",
     "text": [
      "\r",
      "  0%|                                                                                            | 0/5 [00:00<?, ?it/s]"
     ]
    },
    {
     "name": "stdout",
     "output_type": "stream",
     "text": [
      "Done about :0.0\n"
     ]
    },
    {
     "name": "stderr",
     "output_type": "stream",
     "text": [
      "100%|████████████████████████████████████████████████████████████████████████████████████| 5/5 [00:40<00:00,  8.07s/it]\n",
      "  0%|                                                                                            | 0/5 [00:00<?, ?it/s]"
     ]
    },
    {
     "name": "stdout",
     "output_type": "stream",
     "text": [
      "<----------------------------------------------------------------------------->\n",
      "Train losses   |Test losses    |Train accuracy |Test Accuracy  |Evaluation     \n",
      " 0.332305      | 0.335568      | 0.645683      | 0.642712      | 0.638600      \n",
      "               |               |               |               |               \n",
      " 0.333582      | 0.330413      | 0.644919      | 0.646132      | 0.638392      \n",
      "               |               |               |               |               \n",
      " 0.332866      | 0.333454      | 0.645443      | 0.643289      | 0.638460      \n",
      "               |               |               |               |               \n",
      " 0.332807      | 0.333793      | 0.644967      | 0.646474      | 0.638308      \n",
      "               |               |               |               |               \n",
      " 0.333318      | 0.331524      | 0.644983      | 0.647051      | 0.638580      \n",
      "               |               |               |               |               \n",
      "<----------------------------------------------------------------------------->\n",
      "evaluation mean w: 0.638472\n"
     ]
    },
    {
     "name": "stderr",
     "output_type": "stream",
     "text": [
      "100%|████████████████████████████████████████████████████████████████████████████████████| 5/5 [00:39<00:00,  7.88s/it]\n",
      "  0%|                                                                                            | 0/5 [00:00<?, ?it/s]"
     ]
    },
    {
     "name": "stdout",
     "output_type": "stream",
     "text": [
      "<----------------------------------------------------------------------------->\n",
      "Train losses   |Test losses    |Train accuracy |Test Accuracy  |Evaluation     \n",
      " 0.309356      | 0.312720      | 0.672579      | 0.670735      | 0.660416      \n",
      "               |               |               |               |               \n",
      " 0.310428      | 0.307883      | 0.672643      | 0.673300      | 0.661024      \n",
      "               |               |               |               |               \n",
      " 0.310047      | 0.310144      | 0.672985      | 0.669880      | 0.660592      \n",
      "               |               |               |               |               \n",
      " 0.310004      | 0.310181      | 0.672825      | 0.674433      | 0.661588      \n",
      "               |               |               |               |               \n",
      " 0.310213      | 0.308828      | 0.672584      | 0.674839      | 0.661428      \n",
      "               |               |               |               |               \n",
      "<----------------------------------------------------------------------------->\n",
      "evaluation mean w: 0.661\n"
     ]
    },
    {
     "name": "stderr",
     "output_type": "stream",
     "text": [
      "100%|████████████████████████████████████████████████████████████████████████████████████| 5/5 [00:39<00:00,  7.96s/it]\n",
      "  0%|                                                                                            | 0/5 [00:00<?, ?it/s]"
     ]
    },
    {
     "name": "stdout",
     "output_type": "stream",
     "text": [
      "<----------------------------------------------------------------------------->\n",
      "Train losses   |Test losses    |Train accuracy |Test Accuracy  |Evaluation     \n",
      " 0.287057      | 0.289822      | 0.703247      | 0.704551      | 0.697972      \n",
      "               |               |               |               |               \n",
      " 0.287847      | 0.286465      | 0.703060      | 0.702948      | 0.697552      \n",
      "               |               |               |               |               \n",
      " 0.287631      | 0.287305      | 0.704257      | 0.698972      | 0.697748      \n",
      "               |               |               |               |               \n",
      " 0.287643      | 0.287389      | 0.703028      | 0.703183      | 0.697564      \n",
      "               |               |               |               |               \n",
      " 0.287764      | 0.287027      | 0.702344      | 0.705940      | 0.697312      \n",
      "               |               |               |               |               \n",
      "<----------------------------------------------------------------------------->\n",
      "evaluation mean w: 0.697608\n"
     ]
    },
    {
     "name": "stderr",
     "output_type": "stream",
     "text": [
      "100%|████████████████████████████████████████████████████████████████████████████████████| 5/5 [00:39<00:00,  7.89s/it]\n",
      "  0%|                                                                                            | 0/5 [00:00<?, ?it/s]"
     ]
    },
    {
     "name": "stdout",
     "output_type": "stream",
     "text": [
      "<----------------------------------------------------------------------------->\n",
      "Train losses   |Test losses    |Train accuracy |Test Accuracy  |Evaluation     \n",
      " 0.277845      | 0.280220      | 0.721384      | 0.724216      | 0.718292      \n",
      "               |               |               |               |               \n",
      " 0.278449      | 0.277668      | 0.721758      | 0.721587      | 0.717900      \n",
      "               |               |               |               |               \n",
      " 0.278346      | 0.278145      | 0.723479      | 0.715324      | 0.717984      \n",
      "               |               |               |               |               \n",
      " 0.278287      | 0.278285      | 0.721817      | 0.722998      | 0.718008      \n",
      "               |               |               |               |               \n",
      " 0.278547      | 0.277465      | 0.720764      | 0.725071      | 0.717780      \n",
      "               |               |               |               |               \n",
      "<----------------------------------------------------------------------------->\n",
      "evaluation mean w: 0.718008\n",
      "Done about :0.2\n"
     ]
    },
    {
     "name": "stderr",
     "output_type": "stream",
     "text": [
      "100%|████████████████████████████████████████████████████████████████████████████████████| 5/5 [00:00<00:00,  9.62it/s]\n",
      "  0%|                                                                                            | 0/5 [00:00<?, ?it/s]"
     ]
    },
    {
     "name": "stdout",
     "output_type": "stream",
     "text": [
      "<----------------------------------------------------------------------------->\n",
      "Train losses   |Test losses    |Train accuracy |Test Accuracy  |Evaluation     \n",
      " 0.277355      | 0.279849      | 0.722308      | 0.725263      | 0.405356      \n",
      "               |               |               |               |               \n",
      " 0.277960      | 0.277427      | 0.722522      | 0.723169      | 0.628936      \n",
      "               |               |               |               |               \n",
      " 0.277891      | 0.277675      | 0.724542      | 0.716777      | 0.658264      \n",
      "               |               |               |               |               \n",
      " 0.277835      | 0.277910      | 0.722944      | 0.723382      | 0.622236      \n",
      "               |               |               |               |               \n",
      " 0.278109      | 0.276824      | 0.722004      | 0.725926      | 0.621244      \n",
      "               |               |               |               |               \n",
      "<----------------------------------------------------------------------------->\n",
      "evaluation mean w: 0.627424\n",
      "Done about :0.4\n"
     ]
    },
    {
     "name": "stderr",
     "output_type": "stream",
     "text": [
      "100%|████████████████████████████████████████████████████████████████████████████████████| 5/5 [00:00<00:00, 10.21it/s]\n",
      "  0%|                                                                                            | 0/5 [00:00<?, ?it/s]"
     ]
    },
    {
     "name": "stdout",
     "output_type": "stream",
     "text": [
      "<----------------------------------------------------------------------------->\n",
      "Train losses   |Test losses    |Train accuracy |Test Accuracy  |Evaluation     \n",
      " 0.277355      | 0.279847      | 0.722276      | 0.725285      | 0.489264      \n",
      "               |               |               |               |               \n",
      " 0.277960      | 0.277427      | 0.722527      | 0.723169      | 0.651768      \n",
      "               |               |               |               |               \n",
      " 0.277891      | 0.277675      | 0.724531      | 0.716863      | 0.703948      \n",
      "               |               |               |               |               \n",
      " 0.277836      | 0.277907      | 0.722918      | 0.723382      | 0.632912      \n",
      "               |               |               |               |               \n",
      " 0.278110      | 0.276817      | 0.721881      | 0.725841      | 0.630060      \n",
      "               |               |               |               |               \n",
      "<----------------------------------------------------------------------------->\n",
      "evaluation mean w: 0.647188\n"
     ]
    },
    {
     "name": "stderr",
     "output_type": "stream",
     "text": [
      "100%|████████████████████████████████████████████████████████████████████████████████████| 5/5 [00:00<00:00, 10.29it/s]\n",
      "  0%|                                                                                            | 0/5 [00:00<?, ?it/s]"
     ]
    },
    {
     "name": "stdout",
     "output_type": "stream",
     "text": [
      "<----------------------------------------------------------------------------->\n",
      "Train losses   |Test losses    |Train accuracy |Test Accuracy  |Evaluation     \n",
      " 0.277355      | 0.279846      | 0.722282      | 0.725263      | 0.611680      \n",
      "               |               |               |               |               \n",
      " 0.277960      | 0.277427      | 0.722549      | 0.723169      | 0.671480      \n",
      "               |               |               |               |               \n",
      " 0.277891      | 0.277675      | 0.724542      | 0.716863      | 0.714240      \n",
      "               |               |               |               |               \n",
      " 0.277836      | 0.277906      | 0.722901      | 0.723297      | 0.644956      \n",
      "               |               |               |               |               \n",
      " 0.278110      | 0.276816      | 0.721881      | 0.725883      | 0.640356      \n",
      "               |               |               |               |               \n",
      "<----------------------------------------------------------------------------->\n",
      "evaluation mean w: 0.66504\n"
     ]
    },
    {
     "name": "stderr",
     "output_type": "stream",
     "text": [
      "100%|████████████████████████████████████████████████████████████████████████████████████| 5/5 [00:00<00:00, 10.38it/s]\n",
      "  0%|                                                                                            | 0/5 [00:00<?, ?it/s]"
     ]
    },
    {
     "name": "stdout",
     "output_type": "stream",
     "text": [
      "<----------------------------------------------------------------------------->\n",
      "Train losses   |Test losses    |Train accuracy |Test Accuracy  |Evaluation     \n",
      " 0.277355      | 0.279846      | 0.722292      | 0.725263      | 0.687884      \n",
      "               |               |               |               |               \n",
      " 0.277960      | 0.277427      | 0.722549      | 0.723190      | 0.701528      \n",
      "               |               |               |               |               \n",
      " 0.277891      | 0.277675      | 0.724542      | 0.716863      | 0.718040      \n",
      "               |               |               |               |               \n",
      " 0.277836      | 0.277906      | 0.722923      | 0.723297      | 0.665592      \n",
      "               |               |               |               |               \n",
      " 0.278110      | 0.276816      | 0.721891      | 0.725926      | 0.659092      \n",
      "               |               |               |               |               \n",
      "<----------------------------------------------------------------------------->\n",
      "evaluation mean w: 0.697532\n"
     ]
    },
    {
     "name": "stderr",
     "output_type": "stream",
     "text": [
      "100%|████████████████████████████████████████████████████████████████████████████████████| 5/5 [00:00<00:00,  9.57it/s]\n",
      "  0%|                                                                                            | 0/5 [00:00<?, ?it/s]"
     ]
    },
    {
     "name": "stdout",
     "output_type": "stream",
     "text": [
      "<----------------------------------------------------------------------------->\n",
      "Train losses   |Test losses    |Train accuracy |Test Accuracy  |Evaluation     \n",
      " 0.277355      | 0.279846      | 0.722298      | 0.725263      | 0.712948      \n",
      "               |               |               |               |               \n",
      " 0.277960      | 0.277427      | 0.722554      | 0.723169      | 0.714696      \n",
      "               |               |               |               |               \n",
      " 0.277891      | 0.277675      | 0.724537      | 0.716863      | 0.719116      \n",
      "               |               |               |               |               \n",
      " 0.277836      | 0.277906      | 0.722950      | 0.723297      | 0.699676      \n",
      "               |               |               |               |               \n",
      " 0.278111      | 0.276815      | 0.721870      | 0.725926      | 0.691452      \n",
      "               |               |               |               |               \n",
      "<----------------------------------------------------------------------------->\n",
      "evaluation mean w: 0.713196\n"
     ]
    },
    {
     "name": "stderr",
     "output_type": "stream",
     "text": [
      "100%|████████████████████████████████████████████████████████████████████████████████████| 5/5 [00:00<00:00,  9.53it/s]\n",
      "  0%|                                                                                            | 0/5 [00:00<?, ?it/s]"
     ]
    },
    {
     "name": "stdout",
     "output_type": "stream",
     "text": [
      "<----------------------------------------------------------------------------->\n",
      "Train losses   |Test losses    |Train accuracy |Test Accuracy  |Evaluation     \n",
      " 0.277355      | 0.279845      | 0.722303      | 0.725242      | 0.718456      \n",
      "               |               |               |               |               \n",
      " 0.277960      | 0.277427      | 0.722549      | 0.723169      | 0.718024      \n",
      "               |               |               |               |               \n",
      " 0.277891      | 0.277675      | 0.724547      | 0.716863      | 0.719804      \n",
      "               |               |               |               |               \n",
      " 0.277836      | 0.277906      | 0.722944      | 0.723276      | 0.714224      \n",
      "               |               |               |               |               \n",
      " 0.278111      | 0.276815      | 0.721870      | 0.725947      | 0.711184      \n",
      "               |               |               |               |               \n",
      "<----------------------------------------------------------------------------->\n",
      "evaluation mean w: 0.717844\n"
     ]
    },
    {
     "name": "stderr",
     "output_type": "stream",
     "text": [
      "100%|████████████████████████████████████████████████████████████████████████████████████| 5/5 [00:00<00:00,  9.70it/s]\n",
      "  0%|                                                                                            | 0/5 [00:00<?, ?it/s]"
     ]
    },
    {
     "name": "stdout",
     "output_type": "stream",
     "text": [
      "<----------------------------------------------------------------------------->\n",
      "Train losses   |Test losses    |Train accuracy |Test Accuracy  |Evaluation     \n",
      " 0.277355      | 0.279845      | 0.722292      | 0.725242      | 0.719652      \n",
      "               |               |               |               |               \n",
      " 0.277960      | 0.277428      | 0.722549      | 0.723190      | 0.719124      \n",
      "               |               |               |               |               \n",
      " 0.277891      | 0.277675      | 0.724558      | 0.716842      | 0.719660      \n",
      "               |               |               |               |               \n",
      " 0.277836      | 0.277906      | 0.722939      | 0.723276      | 0.718028      \n",
      "               |               |               |               |               \n",
      " 0.278111      | 0.276815      | 0.721897      | 0.725969      | 0.716992      \n",
      "               |               |               |               |               \n",
      "<----------------------------------------------------------------------------->\n",
      "evaluation mean w: 0.719116\n"
     ]
    },
    {
     "name": "stderr",
     "output_type": "stream",
     "text": [
      "100%|████████████████████████████████████████████████████████████████████████████████████| 5/5 [00:00<00:00, 10.23it/s]\n",
      "  0%|                                                                                            | 0/5 [00:00<?, ?it/s]"
     ]
    },
    {
     "name": "stdout",
     "output_type": "stream",
     "text": [
      "<----------------------------------------------------------------------------->\n",
      "Train losses   |Test losses    |Train accuracy |Test Accuracy  |Evaluation     \n",
      " 0.277355      | 0.279843      | 0.722282      | 0.725263      | 0.719880      \n",
      "               |               |               |               |               \n",
      " 0.277960      | 0.277428      | 0.722565      | 0.723169      | 0.719660      \n",
      "               |               |               |               |               \n",
      " 0.277891      | 0.277675      | 0.724553      | 0.716799      | 0.719604      \n",
      "               |               |               |               |               \n",
      " 0.277836      | 0.277907      | 0.722976      | 0.723318      | 0.719332      \n",
      "               |               |               |               |               \n",
      " 0.278111      | 0.276815      | 0.721897      | 0.725947      | 0.718908      \n",
      "               |               |               |               |               \n",
      "<----------------------------------------------------------------------------->\n",
      "evaluation mean w: 0.719816\n"
     ]
    },
    {
     "name": "stderr",
     "output_type": "stream",
     "text": [
      "100%|████████████████████████████████████████████████████████████████████████████████████| 5/5 [00:00<00:00,  9.37it/s]\n",
      "  0%|                                                                                            | 0/5 [00:00<?, ?it/s]"
     ]
    },
    {
     "name": "stdout",
     "output_type": "stream",
     "text": [
      "<----------------------------------------------------------------------------->\n",
      "Train losses   |Test losses    |Train accuracy |Test Accuracy  |Evaluation     \n",
      " 0.277355      | 0.279839      | 0.722292      | 0.725242      | 0.719944      \n",
      "               |               |               |               |               \n",
      " 0.277960      | 0.277430      | 0.722597      | 0.723147      | 0.719600      \n",
      "               |               |               |               |               \n",
      " 0.277891      | 0.277675      | 0.724542      | 0.716756      | 0.719564      \n",
      "               |               |               |               |               \n",
      " 0.277836      | 0.277909      | 0.722971      | 0.723340      | 0.719808      \n",
      "               |               |               |               |               \n",
      " 0.278111      | 0.276815      | 0.721902      | 0.725969      | 0.719536      \n",
      "               |               |               |               |               \n",
      "<----------------------------------------------------------------------------->\n",
      "evaluation mean w: 0.719812\n"
     ]
    },
    {
     "name": "stderr",
     "output_type": "stream",
     "text": [
      "100%|████████████████████████████████████████████████████████████████████████████████████| 5/5 [00:00<00:00,  9.70it/s]\n",
      "  0%|                                                                                            | 0/5 [00:00<?, ?it/s]"
     ]
    },
    {
     "name": "stdout",
     "output_type": "stream",
     "text": [
      "<----------------------------------------------------------------------------->\n",
      "Train losses   |Test losses    |Train accuracy |Test Accuracy  |Evaluation     \n",
      " 0.277356      | 0.279832      | 0.722335      | 0.725285      | 0.720008      \n",
      "               |               |               |               |               \n",
      " 0.277961      | 0.277433      | 0.722634      | 0.723169      | 0.719600      \n",
      "               |               |               |               |               \n",
      " 0.277892      | 0.277676      | 0.724558      | 0.716777      | 0.719608      \n",
      "               |               |               |               |               \n",
      " 0.277837      | 0.277912      | 0.723019      | 0.723468      | 0.719800      \n",
      "               |               |               |               |               \n",
      " 0.278111      | 0.276815      | 0.721913      | 0.726012      | 0.719624      \n",
      "               |               |               |               |               \n",
      "<----------------------------------------------------------------------------->\n",
      "evaluation mean w: 0.7197\n"
     ]
    },
    {
     "name": "stderr",
     "output_type": "stream",
     "text": [
      "100%|████████████████████████████████████████████████████████████████████████████████████| 5/5 [00:00<00:00, 10.19it/s]\n",
      "  0%|                                                                                            | 0/5 [00:00<?, ?it/s]"
     ]
    },
    {
     "name": "stdout",
     "output_type": "stream",
     "text": [
      "<----------------------------------------------------------------------------->\n",
      "Train losses   |Test losses    |Train accuracy |Test Accuracy  |Evaluation     \n",
      " 0.277359      | 0.279820      | 0.722330      | 0.725306      | 0.720028      \n",
      "               |               |               |               |               \n",
      " 0.277963      | 0.277440      | 0.722597      | 0.723126      | 0.719652      \n",
      "               |               |               |               |               \n",
      " 0.277894      | 0.277678      | 0.724585      | 0.716756      | 0.719640      \n",
      "               |               |               |               |               \n",
      " 0.277839      | 0.277920      | 0.722944      | 0.723340      | 0.719860      \n",
      "               |               |               |               |               \n",
      " 0.278114      | 0.276817      | 0.721988      | 0.726054      | 0.719620      \n",
      "               |               |               |               |               \n",
      "<----------------------------------------------------------------------------->\n",
      "evaluation mean w: 0.719688\n"
     ]
    },
    {
     "name": "stderr",
     "output_type": "stream",
     "text": [
      "100%|████████████████████████████████████████████████████████████████████████████████████| 5/5 [00:00<00:00, 10.40it/s]\n",
      "  0%|                                                                                            | 0/5 [00:00<?, ?it/s]"
     ]
    },
    {
     "name": "stdout",
     "output_type": "stream",
     "text": [
      "<----------------------------------------------------------------------------->\n",
      "Train losses   |Test losses    |Train accuracy |Test Accuracy  |Evaluation     \n",
      " 0.277368      | 0.279806      | 0.722383      | 0.725499      | 0.720020      \n",
      "               |               |               |               |               \n",
      " 0.277967      | 0.277451      | 0.722613      | 0.723190      | 0.719604      \n",
      "               |               |               |               |               \n",
      " 0.277900      | 0.277685      | 0.724601      | 0.716649      | 0.719632      \n",
      "               |               |               |               |               \n",
      " 0.277844      | 0.277934      | 0.722944      | 0.723447      | 0.719868      \n",
      "               |               |               |               |               \n",
      " 0.278120      | 0.276823      | 0.722132      | 0.726076      | 0.719552      \n",
      "               |               |               |               |               \n",
      "<----------------------------------------------------------------------------->\n",
      "evaluation mean w: 0.719652\n"
     ]
    },
    {
     "name": "stderr",
     "output_type": "stream",
     "text": [
      "100%|████████████████████████████████████████████████████████████████████████████████████| 5/5 [00:00<00:00, 10.53it/s]\n",
      "  0%|                                                                                            | 0/5 [00:00<?, ?it/s]"
     ]
    },
    {
     "name": "stdout",
     "output_type": "stream",
     "text": [
      "<----------------------------------------------------------------------------->\n",
      "Train losses   |Test losses    |Train accuracy |Test Accuracy  |Evaluation     \n",
      " 0.277383      | 0.279794      | 0.722458      | 0.725691      | 0.720032      \n",
      "               |               |               |               |               \n",
      " 0.277976      | 0.277463      | 0.722682      | 0.723105      | 0.719536      \n",
      "               |               |               |               |               \n",
      " 0.277911      | 0.277696      | 0.724724      | 0.716457      | 0.719616      \n",
      "               |               |               |               |               \n",
      " 0.277852      | 0.277954      | 0.723024      | 0.723746      | 0.719752      \n",
      "               |               |               |               |               \n",
      " 0.278132      | 0.276838      | 0.722175      | 0.725926      | 0.719520      \n",
      "               |               |               |               |               \n",
      "<----------------------------------------------------------------------------->\n",
      "evaluation mean w: 0.719648\n"
     ]
    },
    {
     "name": "stderr",
     "output_type": "stream",
     "text": [
      "100%|████████████████████████████████████████████████████████████████████████████████████| 5/5 [00:00<00:00, 10.42it/s]\n",
      "  0%|                                                                                            | 0/5 [00:00<?, ?it/s]"
     ]
    },
    {
     "name": "stdout",
     "output_type": "stream",
     "text": [
      "<----------------------------------------------------------------------------->\n",
      "Train losses   |Test losses    |Train accuracy |Test Accuracy  |Evaluation     \n",
      " 0.277403      | 0.279786      | 0.722437      | 0.725862      | 0.720000      \n",
      "               |               |               |               |               \n",
      " 0.277988      | 0.277470      | 0.722704      | 0.723233      | 0.719624      \n",
      "               |               |               |               |               \n",
      " 0.277925      | 0.277710      | 0.724676      | 0.716628      | 0.719496      \n",
      "               |               |               |               |               \n",
      " 0.277864      | 0.277976      | 0.722939      | 0.723746      | 0.719744      \n",
      "               |               |               |               |               \n",
      " 0.278146      | 0.276860      | 0.722185      | 0.725776      | 0.719424      \n",
      "               |               |               |               |               \n",
      "<----------------------------------------------------------------------------->\n",
      "evaluation mean w: 0.719652\n"
     ]
    },
    {
     "name": "stderr",
     "output_type": "stream",
     "text": [
      "100%|████████████████████████████████████████████████████████████████████████████████████| 5/5 [00:00<00:00, 10.15it/s]\n",
      "  0%|                                                                                            | 0/5 [00:00<?, ?it/s]"
     ]
    },
    {
     "name": "stdout",
     "output_type": "stream",
     "text": [
      "<----------------------------------------------------------------------------->\n",
      "Train losses   |Test losses    |Train accuracy |Test Accuracy  |Evaluation     \n",
      " 0.277425      | 0.279782      | 0.722415      | 0.725712      | 0.720052      \n",
      "               |               |               |               |               \n",
      " 0.278005      | 0.277471      | 0.722693      | 0.723147      | 0.719644      \n",
      "               |               |               |               |               \n",
      " 0.277941      | 0.277728      | 0.724756      | 0.716521      | 0.719512      \n",
      "               |               |               |               |               \n",
      " 0.277878      | 0.277999      | 0.722901      | 0.723960      | 0.719720      \n",
      "               |               |               |               |               \n",
      " 0.278160      | 0.276890      | 0.722185      | 0.725712      | 0.719452      \n",
      "               |               |               |               |               \n",
      "<----------------------------------------------------------------------------->\n",
      "evaluation mean w: 0.71968\n"
     ]
    },
    {
     "name": "stderr",
     "output_type": "stream",
     "text": [
      "100%|████████████████████████████████████████████████████████████████████████████████████| 5/5 [00:00<00:00, 10.34it/s]\n",
      "  0%|                                                                                            | 0/5 [00:00<?, ?it/s]"
     ]
    },
    {
     "name": "stdout",
     "output_type": "stream",
     "text": [
      "<----------------------------------------------------------------------------->\n",
      "Train losses   |Test losses    |Train accuracy |Test Accuracy  |Evaluation     \n",
      " 0.277450      | 0.279785      | 0.722362      | 0.725969      | 0.720036      \n",
      "               |               |               |               |               \n",
      " 0.278029      | 0.277471      | 0.722720      | 0.723404      | 0.719684      \n",
      "               |               |               |               |               \n",
      " 0.277961      | 0.277749      | 0.724761      | 0.716521      | 0.719544      \n",
      "               |               |               |               |               \n",
      " 0.277896      | 0.278023      | 0.722891      | 0.723703      | 0.719840      \n",
      "               |               |               |               |               \n",
      " 0.278176      | 0.276926      | 0.722116      | 0.725456      | 0.719444      \n",
      "               |               |               |               |               \n",
      "<----------------------------------------------------------------------------->\n",
      "evaluation mean w: 0.719688\n",
      "Done about :0.6\n"
     ]
    },
    {
     "name": "stderr",
     "output_type": "stream",
     "text": [
      "100%|████████████████████████████████████████████████████████████████████████████████████| 5/5 [00:29<00:00,  5.91s/it]\n",
      "  0%|                                                                                            | 0/5 [00:00<?, ?it/s]"
     ]
    },
    {
     "name": "stdout",
     "output_type": "stream",
     "text": [
      "<----------------------------------------------------------------------------->\n",
      "Train losses   |Test losses    |Train accuracy |Test Accuracy  |Evaluation     \n",
      " 0.689666      | 0.689730      | 0.645416      | 0.641772      | 0.638860      \n",
      "               |               |               |               |               \n",
      " 0.689692      | 0.689689      | 0.644310      | 0.646068      | 0.638844      \n",
      "               |               |               |               |               \n",
      " 0.689687      | 0.689697      | 0.644989      | 0.643311      | 0.638816      \n",
      "               |               |               |               |               \n",
      " 0.689711      | 0.689660      | 0.644299      | 0.646154      | 0.638780      \n",
      "               |               |               |               |               \n",
      " 0.689698      | 0.689679      | 0.644411      | 0.645833      | 0.638812      \n",
      "               |               |               |               |               \n",
      "<----------------------------------------------------------------------------->\n",
      "evaluation mean w: 0.638804\n"
     ]
    },
    {
     "name": "stderr",
     "output_type": "stream",
     "text": [
      "100%|████████████████████████████████████████████████████████████████████████████████████| 5/5 [00:29<00:00,  5.85s/it]\n",
      "  0%|                                                                                            | 0/5 [00:00<?, ?it/s]"
     ]
    },
    {
     "name": "stdout",
     "output_type": "stream",
     "text": [
      "<----------------------------------------------------------------------------->\n",
      "Train losses   |Test losses    |Train accuracy |Test Accuracy  |Evaluation     \n",
      " 0.667259      | 0.667735      | 0.648190      | 0.645299      | 0.639504      \n",
      "               |               |               |               |               \n",
      " 0.667411      | 0.667380      | 0.647377      | 0.649103      | 0.639508      \n",
      "               |               |               |               |               \n",
      " 0.667374      | 0.667472      | 0.647965      | 0.646175      | 0.639436      \n",
      "               |               |               |               |               \n",
      " 0.667532      | 0.667127      | 0.647580      | 0.648590      | 0.639528      \n",
      "               |               |               |               |               \n",
      " 0.667435      | 0.667313      | 0.647489      | 0.649253      | 0.639572      \n",
      "               |               |               |               |               \n",
      "<----------------------------------------------------------------------------->\n",
      "evaluation mean w: 0.63948\n"
     ]
    },
    {
     "name": "stderr",
     "output_type": "stream",
     "text": [
      "100%|████████████████████████████████████████████████████████████████████████████████████| 5/5 [00:33<00:00,  6.62s/it]\n",
      "  0%|                                                                                            | 0/5 [00:00<?, ?it/s]"
     ]
    },
    {
     "name": "stdout",
     "output_type": "stream",
     "text": [
      "<----------------------------------------------------------------------------->\n",
      "Train losses   |Test losses    |Train accuracy |Test Accuracy  |Evaluation     \n",
      " 0.607517      | 0.608357      | 0.688872      | 0.690892      | 0.682256      \n",
      "               |               |               |               |               \n",
      " 0.607719      | 0.607571      | 0.689145      | 0.689909      | 0.682240      \n",
      "               |               |               |               |               \n",
      " 0.607469      | 0.608113      | 0.690374      | 0.685014      | 0.682380      \n",
      "               |               |               |               |               \n",
      " 0.607934      | 0.606780      | 0.689118      | 0.689738      | 0.682216      \n",
      "               |               |               |               |               \n",
      " 0.607682      | 0.607598      | 0.688909      | 0.691341      | 0.682400      \n",
      "               |               |               |               |               \n",
      "<----------------------------------------------------------------------------->\n",
      "evaluation mean w: 0.682308\n"
     ]
    },
    {
     "name": "stderr",
     "output_type": "stream",
     "text": [
      "100%|████████████████████████████████████████████████████████████████████████████████████| 5/5 [00:31<00:00,  6.28s/it]\n",
      "  0%|                                                                                            | 0/5 [00:00<?, ?it/s]"
     ]
    },
    {
     "name": "stdout",
     "output_type": "stream",
     "text": [
      "<----------------------------------------------------------------------------->\n",
      "Train losses   |Test losses    |Train accuracy |Test Accuracy  |Evaluation     \n",
      " 0.570310      | 0.570731      | 0.711567      | 0.714127      | 0.706492      \n",
      "               |               |               |               |               \n",
      " 0.570488      | 0.569698      | 0.711920      | 0.711455      | 0.706212      \n",
      "               |               |               |               |               \n",
      " 0.569628      | 0.572548      | 0.713603      | 0.707159      | 0.706764      \n",
      "               |               |               |               |               \n",
      " 0.570649      | 0.568965      | 0.712080      | 0.712331      | 0.706276      \n",
      "               |               |               |               |               \n",
      " 0.570480      | 0.569942      | 0.711428      | 0.714961      | 0.706504      \n",
      "               |               |               |               |               \n",
      "<----------------------------------------------------------------------------->\n",
      "evaluation mean w: 0.706444\n",
      "Done about :0.8\n"
     ]
    },
    {
     "name": "stderr",
     "output_type": "stream",
     "text": [
      "100%|████████████████████████████████████████████████████████████████████████████████████| 5/5 [00:29<00:00,  5.98s/it]\n",
      "  0%|                                                                                            | 0/5 [00:00<?, ?it/s]"
     ]
    },
    {
     "name": "stdout",
     "output_type": "stream",
     "text": [
      "<----------------------------------------------------------------------------->\n",
      "Train losses   |Test losses    |Train accuracy |Test Accuracy  |Evaluation     \n",
      " 0.689666      | 0.689730      | 0.645416      | 0.641772      | 0.638860      \n",
      "               |               |               |               |               \n",
      " 0.689692      | 0.689689      | 0.644310      | 0.646068      | 0.638844      \n",
      "               |               |               |               |               \n",
      " 0.689687      | 0.689697      | 0.644989      | 0.643311      | 0.638816      \n",
      "               |               |               |               |               \n",
      " 0.689711      | 0.689660      | 0.644299      | 0.646154      | 0.638780      \n",
      "               |               |               |               |               \n",
      " 0.689698      | 0.689679      | 0.644411      | 0.645833      | 0.638812      \n",
      "               |               |               |               |               \n",
      "<----------------------------------------------------------------------------->\n",
      "evaluation mean w: 0.638804\n"
     ]
    },
    {
     "name": "stderr",
     "output_type": "stream",
     "text": [
      "100%|████████████████████████████████████████████████████████████████████████████████████| 5/5 [00:29<00:00,  5.88s/it]\n",
      "  0%|                                                                                            | 0/5 [00:00<?, ?it/s]"
     ]
    },
    {
     "name": "stdout",
     "output_type": "stream",
     "text": [
      "<----------------------------------------------------------------------------->\n",
      "Train losses   |Test losses    |Train accuracy |Test Accuracy  |Evaluation     \n",
      " 0.689666      | 0.689730      | 0.645416      | 0.641772      | 0.638860      \n",
      "               |               |               |               |               \n",
      " 0.689692      | 0.689689      | 0.644310      | 0.646068      | 0.638844      \n",
      "               |               |               |               |               \n",
      " 0.689687      | 0.689697      | 0.644989      | 0.643311      | 0.638816      \n",
      "               |               |               |               |               \n",
      " 0.689711      | 0.689660      | 0.644299      | 0.646154      | 0.638780      \n",
      "               |               |               |               |               \n",
      " 0.689698      | 0.689679      | 0.644411      | 0.645833      | 0.638812      \n",
      "               |               |               |               |               \n",
      "<----------------------------------------------------------------------------->\n",
      "evaluation mean w: 0.638804\n"
     ]
    },
    {
     "name": "stderr",
     "output_type": "stream",
     "text": [
      "100%|████████████████████████████████████████████████████████████████████████████████████| 5/5 [00:29<00:00,  5.97s/it]\n",
      "  0%|                                                                                            | 0/5 [00:00<?, ?it/s]"
     ]
    },
    {
     "name": "stdout",
     "output_type": "stream",
     "text": [
      "<----------------------------------------------------------------------------->\n",
      "Train losses   |Test losses    |Train accuracy |Test Accuracy  |Evaluation     \n",
      " 0.689666      | 0.689730      | 0.645416      | 0.641772      | 0.638860      \n",
      "               |               |               |               |               \n",
      " 0.689692      | 0.689689      | 0.644310      | 0.646068      | 0.638844      \n",
      "               |               |               |               |               \n",
      " 0.689687      | 0.689697      | 0.644989      | 0.643311      | 0.638816      \n",
      "               |               |               |               |               \n",
      " 0.689711      | 0.689660      | 0.644299      | 0.646154      | 0.638780      \n",
      "               |               |               |               |               \n",
      " 0.689698      | 0.689679      | 0.644411      | 0.645833      | 0.638812      \n",
      "               |               |               |               |               \n",
      "<----------------------------------------------------------------------------->\n",
      "evaluation mean w: 0.638804\n"
     ]
    },
    {
     "name": "stderr",
     "output_type": "stream",
     "text": [
      "100%|████████████████████████████████████████████████████████████████████████████████████| 5/5 [00:29<00:00,  5.85s/it]\n",
      "  0%|                                                                                            | 0/5 [00:00<?, ?it/s]"
     ]
    },
    {
     "name": "stdout",
     "output_type": "stream",
     "text": [
      "<----------------------------------------------------------------------------->\n",
      "Train losses   |Test losses    |Train accuracy |Test Accuracy  |Evaluation     \n",
      " 0.689666      | 0.689730      | 0.645416      | 0.641772      | 0.638860      \n",
      "               |               |               |               |               \n",
      " 0.689692      | 0.689689      | 0.644310      | 0.646068      | 0.638844      \n",
      "               |               |               |               |               \n",
      " 0.689687      | 0.689697      | 0.644989      | 0.643311      | 0.638816      \n",
      "               |               |               |               |               \n",
      " 0.689711      | 0.689660      | 0.644299      | 0.646154      | 0.638780      \n",
      "               |               |               |               |               \n",
      " 0.689698      | 0.689679      | 0.644411      | 0.645833      | 0.638812      \n",
      "               |               |               |               |               \n",
      "<----------------------------------------------------------------------------->\n",
      "evaluation mean w: 0.638804\n"
     ]
    },
    {
     "name": "stderr",
     "output_type": "stream",
     "text": [
      "100%|████████████████████████████████████████████████████████████████████████████████████| 5/5 [00:29<00:00,  5.84s/it]\n",
      "  0%|                                                                                            | 0/5 [00:00<?, ?it/s]"
     ]
    },
    {
     "name": "stdout",
     "output_type": "stream",
     "text": [
      "<----------------------------------------------------------------------------->\n",
      "Train losses   |Test losses    |Train accuracy |Test Accuracy  |Evaluation     \n",
      " 0.689666      | 0.689730      | 0.645416      | 0.641772      | 0.638860      \n",
      "               |               |               |               |               \n",
      " 0.689692      | 0.689689      | 0.644310      | 0.646068      | 0.638844      \n",
      "               |               |               |               |               \n",
      " 0.689687      | 0.689697      | 0.644989      | 0.643311      | 0.638816      \n",
      "               |               |               |               |               \n",
      " 0.689711      | 0.689660      | 0.644299      | 0.646154      | 0.638780      \n",
      "               |               |               |               |               \n",
      " 0.689698      | 0.689679      | 0.644411      | 0.645833      | 0.638812      \n",
      "               |               |               |               |               \n",
      "<----------------------------------------------------------------------------->\n",
      "evaluation mean w: 0.638804\n"
     ]
    },
    {
     "name": "stderr",
     "output_type": "stream",
     "text": [
      "100%|████████████████████████████████████████████████████████████████████████████████████| 5/5 [00:29<00:00,  5.89s/it]\n",
      "  0%|                                                                                            | 0/5 [00:00<?, ?it/s]"
     ]
    },
    {
     "name": "stdout",
     "output_type": "stream",
     "text": [
      "<----------------------------------------------------------------------------->\n",
      "Train losses   |Test losses    |Train accuracy |Test Accuracy  |Evaluation     \n",
      " 0.689666      | 0.689730      | 0.645416      | 0.641772      | 0.638860      \n",
      "               |               |               |               |               \n",
      " 0.689692      | 0.689689      | 0.644310      | 0.646068      | 0.638844      \n",
      "               |               |               |               |               \n",
      " 0.689687      | 0.689697      | 0.644989      | 0.643311      | 0.638816      \n",
      "               |               |               |               |               \n",
      " 0.689711      | 0.689660      | 0.644299      | 0.646154      | 0.638780      \n",
      "               |               |               |               |               \n",
      " 0.689698      | 0.689679      | 0.644411      | 0.645833      | 0.638812      \n",
      "               |               |               |               |               \n",
      "<----------------------------------------------------------------------------->\n",
      "evaluation mean w: 0.638804\n"
     ]
    },
    {
     "name": "stderr",
     "output_type": "stream",
     "text": [
      "100%|████████████████████████████████████████████████████████████████████████████████████| 5/5 [00:29<00:00,  5.84s/it]\n",
      "  0%|                                                                                            | 0/5 [00:00<?, ?it/s]"
     ]
    },
    {
     "name": "stdout",
     "output_type": "stream",
     "text": [
      "<----------------------------------------------------------------------------->\n",
      "Train losses   |Test losses    |Train accuracy |Test Accuracy  |Evaluation     \n",
      " 0.689666      | 0.689730      | 0.645416      | 0.641772      | 0.638860      \n",
      "               |               |               |               |               \n",
      " 0.689692      | 0.689689      | 0.644310      | 0.646068      | 0.638844      \n",
      "               |               |               |               |               \n",
      " 0.689687      | 0.689697      | 0.644989      | 0.643311      | 0.638816      \n",
      "               |               |               |               |               \n",
      " 0.689711      | 0.689660      | 0.644299      | 0.646154      | 0.638780      \n",
      "               |               |               |               |               \n",
      " 0.689698      | 0.689679      | 0.644411      | 0.645833      | 0.638812      \n",
      "               |               |               |               |               \n",
      "<----------------------------------------------------------------------------->\n",
      "evaluation mean w: 0.638804\n"
     ]
    },
    {
     "name": "stderr",
     "output_type": "stream",
     "text": [
      "100%|████████████████████████████████████████████████████████████████████████████████████| 5/5 [00:29<00:00,  5.84s/it]\n",
      "  0%|                                                                                            | 0/5 [00:00<?, ?it/s]"
     ]
    },
    {
     "name": "stdout",
     "output_type": "stream",
     "text": [
      "<----------------------------------------------------------------------------->\n",
      "Train losses   |Test losses    |Train accuracy |Test Accuracy  |Evaluation     \n",
      " 0.689666      | 0.689730      | 0.645416      | 0.641772      | 0.638860      \n",
      "               |               |               |               |               \n",
      " 0.689692      | 0.689689      | 0.644310      | 0.646068      | 0.638844      \n",
      "               |               |               |               |               \n",
      " 0.689687      | 0.689697      | 0.644989      | 0.643311      | 0.638816      \n",
      "               |               |               |               |               \n",
      " 0.689711      | 0.689660      | 0.644299      | 0.646154      | 0.638780      \n",
      "               |               |               |               |               \n",
      " 0.689698      | 0.689679      | 0.644411      | 0.645833      | 0.638812      \n",
      "               |               |               |               |               \n",
      "<----------------------------------------------------------------------------->\n",
      "evaluation mean w: 0.638804\n"
     ]
    },
    {
     "name": "stderr",
     "output_type": "stream",
     "text": [
      "100%|████████████████████████████████████████████████████████████████████████████████████| 5/5 [00:29<00:00,  5.87s/it]\n",
      "  0%|                                                                                            | 0/5 [00:00<?, ?it/s]"
     ]
    },
    {
     "name": "stdout",
     "output_type": "stream",
     "text": [
      "<----------------------------------------------------------------------------->\n",
      "Train losses   |Test losses    |Train accuracy |Test Accuracy  |Evaluation     \n",
      " 0.689666      | 0.689730      | 0.645416      | 0.641772      | 0.638860      \n",
      "               |               |               |               |               \n",
      " 0.689692      | 0.689689      | 0.644310      | 0.646068      | 0.638844      \n",
      "               |               |               |               |               \n",
      " 0.689687      | 0.689697      | 0.644989      | 0.643311      | 0.638816      \n",
      "               |               |               |               |               \n",
      " 0.689711      | 0.689660      | 0.644299      | 0.646154      | 0.638780      \n",
      "               |               |               |               |               \n",
      " 0.689698      | 0.689679      | 0.644411      | 0.645833      | 0.638812      \n",
      "               |               |               |               |               \n",
      "<----------------------------------------------------------------------------->\n",
      "evaluation mean w: 0.638804\n"
     ]
    },
    {
     "name": "stderr",
     "output_type": "stream",
     "text": [
      "100%|████████████████████████████████████████████████████████████████████████████████████| 5/5 [00:29<00:00,  5.91s/it]\n",
      "  0%|                                                                                            | 0/5 [00:00<?, ?it/s]"
     ]
    },
    {
     "name": "stdout",
     "output_type": "stream",
     "text": [
      "<----------------------------------------------------------------------------->\n",
      "Train losses   |Test losses    |Train accuracy |Test Accuracy  |Evaluation     \n",
      " 0.689666      | 0.689730      | 0.645416      | 0.641772      | 0.638860      \n",
      "               |               |               |               |               \n",
      " 0.689692      | 0.689689      | 0.644310      | 0.646068      | 0.638844      \n",
      "               |               |               |               |               \n",
      " 0.689687      | 0.689697      | 0.644989      | 0.643311      | 0.638816      \n",
      "               |               |               |               |               \n",
      " 0.689711      | 0.689660      | 0.644299      | 0.646154      | 0.638780      \n",
      "               |               |               |               |               \n",
      " 0.689698      | 0.689679      | 0.644411      | 0.645833      | 0.638812      \n",
      "               |               |               |               |               \n",
      "<----------------------------------------------------------------------------->\n",
      "evaluation mean w: 0.638804\n"
     ]
    },
    {
     "name": "stderr",
     "output_type": "stream",
     "text": [
      "100%|████████████████████████████████████████████████████████████████████████████████████| 5/5 [00:29<00:00,  5.95s/it]\n",
      "  0%|                                                                                            | 0/5 [00:00<?, ?it/s]"
     ]
    },
    {
     "name": "stdout",
     "output_type": "stream",
     "text": [
      "<----------------------------------------------------------------------------->\n",
      "Train losses   |Test losses    |Train accuracy |Test Accuracy  |Evaluation     \n",
      " 0.689666      | 0.689730      | 0.645416      | 0.641772      | 0.638860      \n",
      "               |               |               |               |               \n",
      " 0.689692      | 0.689689      | 0.644310      | 0.646068      | 0.638844      \n",
      "               |               |               |               |               \n",
      " 0.689687      | 0.689697      | 0.644989      | 0.643311      | 0.638816      \n",
      "               |               |               |               |               \n",
      " 0.689711      | 0.689660      | 0.644299      | 0.646154      | 0.638780      \n",
      "               |               |               |               |               \n",
      " 0.689698      | 0.689679      | 0.644411      | 0.645833      | 0.638812      \n",
      "               |               |               |               |               \n",
      "<----------------------------------------------------------------------------->\n",
      "evaluation mean w: 0.638804\n"
     ]
    },
    {
     "name": "stderr",
     "output_type": "stream",
     "text": [
      "100%|████████████████████████████████████████████████████████████████████████████████████| 5/5 [00:29<00:00,  5.88s/it]\n",
      "  0%|                                                                                            | 0/5 [00:00<?, ?it/s]"
     ]
    },
    {
     "name": "stdout",
     "output_type": "stream",
     "text": [
      "<----------------------------------------------------------------------------->\n",
      "Train losses   |Test losses    |Train accuracy |Test Accuracy  |Evaluation     \n",
      " 0.689666      | 0.689730      | 0.645416      | 0.641772      | 0.638860      \n",
      "               |               |               |               |               \n",
      " 0.689692      | 0.689689      | 0.644310      | 0.646068      | 0.638844      \n",
      "               |               |               |               |               \n",
      " 0.689687      | 0.689697      | 0.644989      | 0.643311      | 0.638816      \n",
      "               |               |               |               |               \n",
      " 0.689711      | 0.689660      | 0.644299      | 0.646154      | 0.638780      \n",
      "               |               |               |               |               \n",
      " 0.689698      | 0.689679      | 0.644411      | 0.645833      | 0.638812      \n",
      "               |               |               |               |               \n",
      "<----------------------------------------------------------------------------->\n",
      "evaluation mean w: 0.638804\n"
     ]
    },
    {
     "name": "stderr",
     "output_type": "stream",
     "text": [
      "100%|████████████████████████████████████████████████████████████████████████████████████| 5/5 [00:29<00:00,  5.91s/it]\n",
      "  0%|                                                                                            | 0/5 [00:00<?, ?it/s]"
     ]
    },
    {
     "name": "stdout",
     "output_type": "stream",
     "text": [
      "<----------------------------------------------------------------------------->\n",
      "Train losses   |Test losses    |Train accuracy |Test Accuracy  |Evaluation     \n",
      " 0.689666      | 0.689730      | 0.645416      | 0.641772      | 0.638860      \n",
      "               |               |               |               |               \n",
      " 0.689692      | 0.689689      | 0.644310      | 0.646068      | 0.638844      \n",
      "               |               |               |               |               \n",
      " 0.689687      | 0.689697      | 0.644989      | 0.643311      | 0.638816      \n",
      "               |               |               |               |               \n",
      " 0.689711      | 0.689660      | 0.644299      | 0.646154      | 0.638780      \n",
      "               |               |               |               |               \n",
      " 0.689698      | 0.689679      | 0.644411      | 0.645833      | 0.638812      \n",
      "               |               |               |               |               \n",
      "<----------------------------------------------------------------------------->\n",
      "evaluation mean w: 0.638804\n"
     ]
    },
    {
     "name": "stderr",
     "output_type": "stream",
     "text": [
      "100%|████████████████████████████████████████████████████████████████████████████████████| 5/5 [00:29<00:00,  5.87s/it]\n",
      "  0%|                                                                                            | 0/5 [00:00<?, ?it/s]"
     ]
    },
    {
     "name": "stdout",
     "output_type": "stream",
     "text": [
      "<----------------------------------------------------------------------------->\n",
      "Train losses   |Test losses    |Train accuracy |Test Accuracy  |Evaluation     \n",
      " 0.689666      | 0.689730      | 0.645416      | 0.641772      | 0.638860      \n",
      "               |               |               |               |               \n",
      " 0.689692      | 0.689689      | 0.644310      | 0.646068      | 0.638844      \n",
      "               |               |               |               |               \n",
      " 0.689687      | 0.689697      | 0.644989      | 0.643311      | 0.638816      \n",
      "               |               |               |               |               \n",
      " 0.689711      | 0.689660      | 0.644299      | 0.646154      | 0.638780      \n",
      "               |               |               |               |               \n",
      " 0.689698      | 0.689679      | 0.644411      | 0.645833      | 0.638812      \n",
      "               |               |               |               |               \n",
      "<----------------------------------------------------------------------------->\n",
      "evaluation mean w: 0.638804\n"
     ]
    },
    {
     "name": "stderr",
     "output_type": "stream",
     "text": [
      "100%|████████████████████████████████████████████████████████████████████████████████████| 5/5 [00:30<00:00,  6.10s/it]\n",
      "  0%|                                                                                            | 0/5 [00:00<?, ?it/s]"
     ]
    },
    {
     "name": "stdout",
     "output_type": "stream",
     "text": [
      "<----------------------------------------------------------------------------->\n",
      "Train losses   |Test losses    |Train accuracy |Test Accuracy  |Evaluation     \n",
      " 0.689666      | 0.689730      | 0.645416      | 0.641772      | 0.638860      \n",
      "               |               |               |               |               \n",
      " 0.689692      | 0.689689      | 0.644310      | 0.646068      | 0.638844      \n",
      "               |               |               |               |               \n",
      " 0.689687      | 0.689697      | 0.644989      | 0.643311      | 0.638816      \n",
      "               |               |               |               |               \n",
      " 0.689711      | 0.689660      | 0.644299      | 0.646154      | 0.638780      \n",
      "               |               |               |               |               \n",
      " 0.689698      | 0.689679      | 0.644411      | 0.645833      | 0.638812      \n",
      "               |               |               |               |               \n",
      "<----------------------------------------------------------------------------->\n",
      "evaluation mean w: 0.638804\n"
     ]
    },
    {
     "name": "stderr",
     "output_type": "stream",
     "text": [
      "100%|████████████████████████████████████████████████████████████████████████████████████| 5/5 [00:29<00:00,  5.88s/it]\n",
      "  0%|                                                                                            | 0/5 [00:00<?, ?it/s]"
     ]
    },
    {
     "name": "stdout",
     "output_type": "stream",
     "text": [
      "<----------------------------------------------------------------------------->\n",
      "Train losses   |Test losses    |Train accuracy |Test Accuracy  |Evaluation     \n",
      " 0.667259      | 0.667735      | 0.648190      | 0.645299      | 0.639504      \n",
      "               |               |               |               |               \n",
      " 0.667411      | 0.667380      | 0.647377      | 0.649103      | 0.639508      \n",
      "               |               |               |               |               \n",
      " 0.667374      | 0.667472      | 0.647965      | 0.646175      | 0.639436      \n",
      "               |               |               |               |               \n",
      " 0.667532      | 0.667127      | 0.647580      | 0.648590      | 0.639528      \n",
      "               |               |               |               |               \n",
      " 0.667435      | 0.667313      | 0.647489      | 0.649253      | 0.639572      \n",
      "               |               |               |               |               \n",
      "<----------------------------------------------------------------------------->\n",
      "evaluation mean w: 0.63948\n"
     ]
    },
    {
     "name": "stderr",
     "output_type": "stream",
     "text": [
      "100%|████████████████████████████████████████████████████████████████████████████████████| 5/5 [00:29<00:00,  5.89s/it]\n",
      "  0%|                                                                                            | 0/5 [00:00<?, ?it/s]"
     ]
    },
    {
     "name": "stdout",
     "output_type": "stream",
     "text": [
      "<----------------------------------------------------------------------------->\n",
      "Train losses   |Test losses    |Train accuracy |Test Accuracy  |Evaluation     \n",
      " 0.667259      | 0.667735      | 0.648190      | 0.645299      | 0.639504      \n",
      "               |               |               |               |               \n",
      " 0.667411      | 0.667380      | 0.647377      | 0.649103      | 0.639508      \n",
      "               |               |               |               |               \n",
      " 0.667374      | 0.667472      | 0.647965      | 0.646175      | 0.639436      \n",
      "               |               |               |               |               \n",
      " 0.667532      | 0.667127      | 0.647580      | 0.648590      | 0.639528      \n",
      "               |               |               |               |               \n",
      " 0.667435      | 0.667313      | 0.647489      | 0.649253      | 0.639572      \n",
      "               |               |               |               |               \n",
      "<----------------------------------------------------------------------------->\n",
      "evaluation mean w: 0.63948\n"
     ]
    },
    {
     "name": "stderr",
     "output_type": "stream",
     "text": [
      "100%|████████████████████████████████████████████████████████████████████████████████████| 5/5 [00:29<00:00,  5.89s/it]\n",
      "  0%|                                                                                            | 0/5 [00:00<?, ?it/s]"
     ]
    },
    {
     "name": "stdout",
     "output_type": "stream",
     "text": [
      "<----------------------------------------------------------------------------->\n",
      "Train losses   |Test losses    |Train accuracy |Test Accuracy  |Evaluation     \n",
      " 0.667259      | 0.667735      | 0.648190      | 0.645299      | 0.639504      \n",
      "               |               |               |               |               \n",
      " 0.667411      | 0.667380      | 0.647377      | 0.649103      | 0.639508      \n",
      "               |               |               |               |               \n",
      " 0.667374      | 0.667472      | 0.647965      | 0.646175      | 0.639436      \n",
      "               |               |               |               |               \n",
      " 0.667532      | 0.667127      | 0.647580      | 0.648590      | 0.639528      \n",
      "               |               |               |               |               \n",
      " 0.667435      | 0.667313      | 0.647489      | 0.649253      | 0.639572      \n",
      "               |               |               |               |               \n",
      "<----------------------------------------------------------------------------->\n",
      "evaluation mean w: 0.63948\n"
     ]
    },
    {
     "name": "stderr",
     "output_type": "stream",
     "text": [
      "100%|████████████████████████████████████████████████████████████████████████████████████| 5/5 [00:29<00:00,  5.95s/it]\n",
      "  0%|                                                                                            | 0/5 [00:00<?, ?it/s]"
     ]
    },
    {
     "name": "stdout",
     "output_type": "stream",
     "text": [
      "<----------------------------------------------------------------------------->\n",
      "Train losses   |Test losses    |Train accuracy |Test Accuracy  |Evaluation     \n",
      " 0.667259      | 0.667735      | 0.648190      | 0.645299      | 0.639504      \n",
      "               |               |               |               |               \n",
      " 0.667411      | 0.667380      | 0.647377      | 0.649103      | 0.639508      \n",
      "               |               |               |               |               \n",
      " 0.667374      | 0.667472      | 0.647965      | 0.646175      | 0.639436      \n",
      "               |               |               |               |               \n",
      " 0.667532      | 0.667127      | 0.647580      | 0.648590      | 0.639528      \n",
      "               |               |               |               |               \n",
      " 0.667435      | 0.667313      | 0.647489      | 0.649253      | 0.639572      \n",
      "               |               |               |               |               \n",
      "<----------------------------------------------------------------------------->\n",
      "evaluation mean w: 0.63948\n"
     ]
    },
    {
     "name": "stderr",
     "output_type": "stream",
     "text": [
      "100%|████████████████████████████████████████████████████████████████████████████████████| 5/5 [00:29<00:00,  5.88s/it]\n",
      "  0%|                                                                                            | 0/5 [00:00<?, ?it/s]"
     ]
    },
    {
     "name": "stdout",
     "output_type": "stream",
     "text": [
      "<----------------------------------------------------------------------------->\n",
      "Train losses   |Test losses    |Train accuracy |Test Accuracy  |Evaluation     \n",
      " 0.667259      | 0.667735      | 0.648190      | 0.645299      | 0.639504      \n",
      "               |               |               |               |               \n",
      " 0.667411      | 0.667380      | 0.647377      | 0.649103      | 0.639508      \n",
      "               |               |               |               |               \n",
      " 0.667374      | 0.667472      | 0.647965      | 0.646175      | 0.639436      \n",
      "               |               |               |               |               \n",
      " 0.667532      | 0.667127      | 0.647580      | 0.648590      | 0.639528      \n",
      "               |               |               |               |               \n",
      " 0.667435      | 0.667313      | 0.647489      | 0.649253      | 0.639572      \n",
      "               |               |               |               |               \n",
      "<----------------------------------------------------------------------------->\n",
      "evaluation mean w: 0.63948\n"
     ]
    },
    {
     "name": "stderr",
     "output_type": "stream",
     "text": [
      "100%|████████████████████████████████████████████████████████████████████████████████████| 5/5 [00:29<00:00,  5.89s/it]\n",
      "  0%|                                                                                            | 0/5 [00:00<?, ?it/s]"
     ]
    },
    {
     "name": "stdout",
     "output_type": "stream",
     "text": [
      "<----------------------------------------------------------------------------->\n",
      "Train losses   |Test losses    |Train accuracy |Test Accuracy  |Evaluation     \n",
      " 0.667259      | 0.667735      | 0.648190      | 0.645299      | 0.639504      \n",
      "               |               |               |               |               \n",
      " 0.667411      | 0.667380      | 0.647377      | 0.649103      | 0.639508      \n",
      "               |               |               |               |               \n",
      " 0.667374      | 0.667472      | 0.647965      | 0.646175      | 0.639436      \n",
      "               |               |               |               |               \n",
      " 0.667532      | 0.667127      | 0.647580      | 0.648590      | 0.639528      \n",
      "               |               |               |               |               \n",
      " 0.667435      | 0.667313      | 0.647489      | 0.649253      | 0.639572      \n",
      "               |               |               |               |               \n",
      "<----------------------------------------------------------------------------->\n",
      "evaluation mean w: 0.63948\n"
     ]
    },
    {
     "name": "stderr",
     "output_type": "stream",
     "text": [
      "100%|████████████████████████████████████████████████████████████████████████████████████| 5/5 [00:29<00:00,  5.95s/it]\n",
      "  0%|                                                                                            | 0/5 [00:00<?, ?it/s]"
     ]
    },
    {
     "name": "stdout",
     "output_type": "stream",
     "text": [
      "<----------------------------------------------------------------------------->\n",
      "Train losses   |Test losses    |Train accuracy |Test Accuracy  |Evaluation     \n",
      " 0.667259      | 0.667735      | 0.648190      | 0.645299      | 0.639504      \n",
      "               |               |               |               |               \n",
      " 0.667411      | 0.667380      | 0.647377      | 0.649103      | 0.639508      \n",
      "               |               |               |               |               \n",
      " 0.667374      | 0.667472      | 0.647965      | 0.646175      | 0.639436      \n",
      "               |               |               |               |               \n",
      " 0.667532      | 0.667127      | 0.647580      | 0.648590      | 0.639528      \n",
      "               |               |               |               |               \n",
      " 0.667435      | 0.667313      | 0.647489      | 0.649253      | 0.639572      \n",
      "               |               |               |               |               \n",
      "<----------------------------------------------------------------------------->\n",
      "evaluation mean w: 0.63948\n"
     ]
    },
    {
     "name": "stderr",
     "output_type": "stream",
     "text": [
      "100%|████████████████████████████████████████████████████████████████████████████████████| 5/5 [00:29<00:00,  5.84s/it]\n",
      "  0%|                                                                                            | 0/5 [00:00<?, ?it/s]"
     ]
    },
    {
     "name": "stdout",
     "output_type": "stream",
     "text": [
      "<----------------------------------------------------------------------------->\n",
      "Train losses   |Test losses    |Train accuracy |Test Accuracy  |Evaluation     \n",
      " 0.667259      | 0.667735      | 0.648190      | 0.645299      | 0.639504      \n",
      "               |               |               |               |               \n",
      " 0.667411      | 0.667380      | 0.647377      | 0.649103      | 0.639508      \n",
      "               |               |               |               |               \n",
      " 0.667374      | 0.667472      | 0.647965      | 0.646175      | 0.639436      \n",
      "               |               |               |               |               \n",
      " 0.667532      | 0.667127      | 0.647580      | 0.648590      | 0.639528      \n",
      "               |               |               |               |               \n",
      " 0.667435      | 0.667313      | 0.647489      | 0.649253      | 0.639572      \n",
      "               |               |               |               |               \n",
      "<----------------------------------------------------------------------------->\n",
      "evaluation mean w: 0.63948\n"
     ]
    },
    {
     "name": "stderr",
     "output_type": "stream",
     "text": [
      "100%|████████████████████████████████████████████████████████████████████████████████████| 5/5 [00:29<00:00,  5.88s/it]\n",
      "  0%|                                                                                            | 0/5 [00:00<?, ?it/s]"
     ]
    },
    {
     "name": "stdout",
     "output_type": "stream",
     "text": [
      "<----------------------------------------------------------------------------->\n",
      "Train losses   |Test losses    |Train accuracy |Test Accuracy  |Evaluation     \n",
      " 0.667259      | 0.667735      | 0.648190      | 0.645299      | 0.639504      \n",
      "               |               |               |               |               \n",
      " 0.667411      | 0.667380      | 0.647377      | 0.649103      | 0.639508      \n",
      "               |               |               |               |               \n",
      " 0.667374      | 0.667472      | 0.647965      | 0.646175      | 0.639436      \n",
      "               |               |               |               |               \n",
      " 0.667532      | 0.667127      | 0.647580      | 0.648590      | 0.639528      \n",
      "               |               |               |               |               \n",
      " 0.667435      | 0.667313      | 0.647489      | 0.649253      | 0.639572      \n",
      "               |               |               |               |               \n",
      "<----------------------------------------------------------------------------->\n",
      "evaluation mean w: 0.63948\n"
     ]
    },
    {
     "name": "stderr",
     "output_type": "stream",
     "text": [
      "100%|████████████████████████████████████████████████████████████████████████████████████| 5/5 [00:29<00:00,  5.87s/it]\n",
      "  0%|                                                                                            | 0/5 [00:00<?, ?it/s]"
     ]
    },
    {
     "name": "stdout",
     "output_type": "stream",
     "text": [
      "<----------------------------------------------------------------------------->\n",
      "Train losses   |Test losses    |Train accuracy |Test Accuracy  |Evaluation     \n",
      " 0.667259      | 0.667735      | 0.648190      | 0.645299      | 0.639504      \n",
      "               |               |               |               |               \n",
      " 0.667411      | 0.667380      | 0.647377      | 0.649103      | 0.639508      \n",
      "               |               |               |               |               \n",
      " 0.667374      | 0.667472      | 0.647965      | 0.646175      | 0.639436      \n",
      "               |               |               |               |               \n",
      " 0.667532      | 0.667127      | 0.647580      | 0.648590      | 0.639528      \n",
      "               |               |               |               |               \n",
      " 0.667435      | 0.667313      | 0.647489      | 0.649253      | 0.639572      \n",
      "               |               |               |               |               \n",
      "<----------------------------------------------------------------------------->\n",
      "evaluation mean w: 0.63948\n"
     ]
    },
    {
     "name": "stderr",
     "output_type": "stream",
     "text": [
      "100%|████████████████████████████████████████████████████████████████████████████████████| 5/5 [00:29<00:00,  5.92s/it]\n",
      "  0%|                                                                                            | 0/5 [00:00<?, ?it/s]"
     ]
    },
    {
     "name": "stdout",
     "output_type": "stream",
     "text": [
      "<----------------------------------------------------------------------------->\n",
      "Train losses   |Test losses    |Train accuracy |Test Accuracy  |Evaluation     \n",
      " 0.667259      | 0.667735      | 0.648190      | 0.645299      | 0.639504      \n",
      "               |               |               |               |               \n",
      " 0.667411      | 0.667380      | 0.647377      | 0.649103      | 0.639508      \n",
      "               |               |               |               |               \n",
      " 0.667374      | 0.667472      | 0.647965      | 0.646175      | 0.639436      \n",
      "               |               |               |               |               \n",
      " 0.667532      | 0.667127      | 0.647580      | 0.648590      | 0.639528      \n",
      "               |               |               |               |               \n",
      " 0.667435      | 0.667313      | 0.647489      | 0.649253      | 0.639572      \n",
      "               |               |               |               |               \n",
      "<----------------------------------------------------------------------------->\n",
      "evaluation mean w: 0.63948\n"
     ]
    },
    {
     "name": "stderr",
     "output_type": "stream",
     "text": [
      "100%|████████████████████████████████████████████████████████████████████████████████████| 5/5 [00:29<00:00,  5.86s/it]\n",
      "  0%|                                                                                            | 0/5 [00:00<?, ?it/s]"
     ]
    },
    {
     "name": "stdout",
     "output_type": "stream",
     "text": [
      "<----------------------------------------------------------------------------->\n",
      "Train losses   |Test losses    |Train accuracy |Test Accuracy  |Evaluation     \n",
      " 0.667259      | 0.667735      | 0.648190      | 0.645299      | 0.639504      \n",
      "               |               |               |               |               \n",
      " 0.667411      | 0.667380      | 0.647377      | 0.649103      | 0.639508      \n",
      "               |               |               |               |               \n",
      " 0.667374      | 0.667472      | 0.647965      | 0.646175      | 0.639436      \n",
      "               |               |               |               |               \n",
      " 0.667532      | 0.667127      | 0.647580      | 0.648590      | 0.639528      \n",
      "               |               |               |               |               \n",
      " 0.667435      | 0.667313      | 0.647489      | 0.649253      | 0.639568      \n",
      "               |               |               |               |               \n",
      "<----------------------------------------------------------------------------->\n",
      "evaluation mean w: 0.63948\n"
     ]
    },
    {
     "name": "stderr",
     "output_type": "stream",
     "text": [
      "100%|████████████████████████████████████████████████████████████████████████████████████| 5/5 [00:29<00:00,  5.83s/it]\n",
      "  0%|                                                                                            | 0/5 [00:00<?, ?it/s]"
     ]
    },
    {
     "name": "stdout",
     "output_type": "stream",
     "text": [
      "<----------------------------------------------------------------------------->\n",
      "Train losses   |Test losses    |Train accuracy |Test Accuracy  |Evaluation     \n",
      " 0.667259      | 0.667735      | 0.648190      | 0.645299      | 0.639504      \n",
      "               |               |               |               |               \n",
      " 0.667411      | 0.667380      | 0.647377      | 0.649103      | 0.639508      \n",
      "               |               |               |               |               \n",
      " 0.667374      | 0.667472      | 0.647965      | 0.646175      | 0.639436      \n",
      "               |               |               |               |               \n",
      " 0.667532      | 0.667127      | 0.647580      | 0.648590      | 0.639528      \n",
      "               |               |               |               |               \n",
      " 0.667435      | 0.667313      | 0.647489      | 0.649253      | 0.639568      \n",
      "               |               |               |               |               \n",
      "<----------------------------------------------------------------------------->\n",
      "evaluation mean w: 0.63948\n"
     ]
    },
    {
     "name": "stderr",
     "output_type": "stream",
     "text": [
      "100%|████████████████████████████████████████████████████████████████████████████████████| 5/5 [00:29<00:00,  5.87s/it]\n",
      "  0%|                                                                                            | 0/5 [00:00<?, ?it/s]"
     ]
    },
    {
     "name": "stdout",
     "output_type": "stream",
     "text": [
      "<----------------------------------------------------------------------------->\n",
      "Train losses   |Test losses    |Train accuracy |Test Accuracy  |Evaluation     \n",
      " 0.667259      | 0.667735      | 0.648190      | 0.645299      | 0.639504      \n",
      "               |               |               |               |               \n",
      " 0.667411      | 0.667380      | 0.647377      | 0.649103      | 0.639508      \n",
      "               |               |               |               |               \n",
      " 0.667374      | 0.667472      | 0.647965      | 0.646175      | 0.639436      \n",
      "               |               |               |               |               \n",
      " 0.667532      | 0.667127      | 0.647580      | 0.648590      | 0.639528      \n",
      "               |               |               |               |               \n",
      " 0.667435      | 0.667313      | 0.647489      | 0.649253      | 0.639568      \n",
      "               |               |               |               |               \n",
      "<----------------------------------------------------------------------------->\n",
      "evaluation mean w: 0.63948\n"
     ]
    },
    {
     "name": "stderr",
     "output_type": "stream",
     "text": [
      "100%|████████████████████████████████████████████████████████████████████████████████████| 5/5 [00:29<00:00,  5.92s/it]\n",
      "  0%|                                                                                            | 0/5 [00:00<?, ?it/s]"
     ]
    },
    {
     "name": "stdout",
     "output_type": "stream",
     "text": [
      "<----------------------------------------------------------------------------->\n",
      "Train losses   |Test losses    |Train accuracy |Test Accuracy  |Evaluation     \n",
      " 0.667259      | 0.667735      | 0.648190      | 0.645299      | 0.639504      \n",
      "               |               |               |               |               \n",
      " 0.667411      | 0.667380      | 0.647377      | 0.649103      | 0.639508      \n",
      "               |               |               |               |               \n",
      " 0.667374      | 0.667472      | 0.647965      | 0.646175      | 0.639436      \n",
      "               |               |               |               |               \n",
      " 0.667532      | 0.667128      | 0.647580      | 0.648590      | 0.639528      \n",
      "               |               |               |               |               \n",
      " 0.667435      | 0.667313      | 0.647489      | 0.649253      | 0.639568      \n",
      "               |               |               |               |               \n",
      "<----------------------------------------------------------------------------->\n",
      "evaluation mean w: 0.63948\n"
     ]
    },
    {
     "name": "stderr",
     "output_type": "stream",
     "text": [
      "100%|████████████████████████████████████████████████████████████████████████████████████| 5/5 [00:29<00:00,  5.91s/it]\n",
      "  0%|                                                                                            | 0/5 [00:00<?, ?it/s]"
     ]
    },
    {
     "name": "stdout",
     "output_type": "stream",
     "text": [
      "<----------------------------------------------------------------------------->\n",
      "Train losses   |Test losses    |Train accuracy |Test Accuracy  |Evaluation     \n",
      " 0.607517      | 0.608357      | 0.688872      | 0.690892      | 0.682256      \n",
      "               |               |               |               |               \n",
      " 0.607719      | 0.607571      | 0.689145      | 0.689909      | 0.682240      \n",
      "               |               |               |               |               \n",
      " 0.607469      | 0.608113      | 0.690374      | 0.685014      | 0.682380      \n",
      "               |               |               |               |               \n",
      " 0.607934      | 0.606780      | 0.689118      | 0.689738      | 0.682216      \n",
      "               |               |               |               |               \n",
      " 0.607682      | 0.607598      | 0.688909      | 0.691341      | 0.682400      \n",
      "               |               |               |               |               \n",
      "<----------------------------------------------------------------------------->\n",
      "evaluation mean w: 0.682308\n"
     ]
    },
    {
     "name": "stderr",
     "output_type": "stream",
     "text": [
      "100%|████████████████████████████████████████████████████████████████████████████████████| 5/5 [00:29<00:00,  5.92s/it]\n",
      "  0%|                                                                                            | 0/5 [00:00<?, ?it/s]"
     ]
    },
    {
     "name": "stdout",
     "output_type": "stream",
     "text": [
      "<----------------------------------------------------------------------------->\n",
      "Train losses   |Test losses    |Train accuracy |Test Accuracy  |Evaluation     \n",
      " 0.607517      | 0.608357      | 0.688872      | 0.690892      | 0.682256      \n",
      "               |               |               |               |               \n",
      " 0.607719      | 0.607571      | 0.689145      | 0.689909      | 0.682240      \n",
      "               |               |               |               |               \n",
      " 0.607469      | 0.608113      | 0.690374      | 0.685014      | 0.682380      \n",
      "               |               |               |               |               \n",
      " 0.607934      | 0.606780      | 0.689118      | 0.689738      | 0.682216      \n",
      "               |               |               |               |               \n",
      " 0.607682      | 0.607598      | 0.688909      | 0.691341      | 0.682400      \n",
      "               |               |               |               |               \n",
      "<----------------------------------------------------------------------------->\n",
      "evaluation mean w: 0.682308\n"
     ]
    },
    {
     "name": "stderr",
     "output_type": "stream",
     "text": [
      "100%|████████████████████████████████████████████████████████████████████████████████████| 5/5 [00:29<00:00,  5.95s/it]\n",
      "  0%|                                                                                            | 0/5 [00:00<?, ?it/s]"
     ]
    },
    {
     "name": "stdout",
     "output_type": "stream",
     "text": [
      "<----------------------------------------------------------------------------->\n",
      "Train losses   |Test losses    |Train accuracy |Test Accuracy  |Evaluation     \n",
      " 0.607517      | 0.608357      | 0.688872      | 0.690892      | 0.682256      \n",
      "               |               |               |               |               \n",
      " 0.607719      | 0.607571      | 0.689145      | 0.689909      | 0.682240      \n",
      "               |               |               |               |               \n",
      " 0.607469      | 0.608113      | 0.690374      | 0.685014      | 0.682380      \n",
      "               |               |               |               |               \n",
      " 0.607934      | 0.606780      | 0.689118      | 0.689738      | 0.682216      \n",
      "               |               |               |               |               \n",
      " 0.607682      | 0.607598      | 0.688909      | 0.691341      | 0.682400      \n",
      "               |               |               |               |               \n",
      "<----------------------------------------------------------------------------->\n",
      "evaluation mean w: 0.682308\n"
     ]
    },
    {
     "name": "stderr",
     "output_type": "stream",
     "text": [
      "100%|████████████████████████████████████████████████████████████████████████████████████| 5/5 [00:29<00:00,  5.90s/it]\n",
      "  0%|                                                                                            | 0/5 [00:00<?, ?it/s]"
     ]
    },
    {
     "name": "stdout",
     "output_type": "stream",
     "text": [
      "<----------------------------------------------------------------------------->\n",
      "Train losses   |Test losses    |Train accuracy |Test Accuracy  |Evaluation     \n",
      " 0.607517      | 0.608357      | 0.688872      | 0.690892      | 0.682256      \n",
      "               |               |               |               |               \n",
      " 0.607719      | 0.607571      | 0.689145      | 0.689909      | 0.682240      \n",
      "               |               |               |               |               \n",
      " 0.607469      | 0.608113      | 0.690374      | 0.685014      | 0.682380      \n",
      "               |               |               |               |               \n",
      " 0.607934      | 0.606780      | 0.689118      | 0.689738      | 0.682216      \n",
      "               |               |               |               |               \n",
      " 0.607682      | 0.607598      | 0.688909      | 0.691341      | 0.682400      \n",
      "               |               |               |               |               \n",
      "<----------------------------------------------------------------------------->\n",
      "evaluation mean w: 0.682308\n"
     ]
    },
    {
     "name": "stderr",
     "output_type": "stream",
     "text": [
      "100%|████████████████████████████████████████████████████████████████████████████████████| 5/5 [00:29<00:00,  5.92s/it]\n",
      "  0%|                                                                                            | 0/5 [00:00<?, ?it/s]"
     ]
    },
    {
     "name": "stdout",
     "output_type": "stream",
     "text": [
      "<----------------------------------------------------------------------------->\n",
      "Train losses   |Test losses    |Train accuracy |Test Accuracy  |Evaluation     \n",
      " 0.607517      | 0.608357      | 0.688872      | 0.690892      | 0.682256      \n",
      "               |               |               |               |               \n",
      " 0.607719      | 0.607571      | 0.689145      | 0.689909      | 0.682240      \n",
      "               |               |               |               |               \n",
      " 0.607469      | 0.608113      | 0.690374      | 0.685014      | 0.682380      \n",
      "               |               |               |               |               \n",
      " 0.607934      | 0.606780      | 0.689118      | 0.689738      | 0.682216      \n",
      "               |               |               |               |               \n",
      " 0.607682      | 0.607598      | 0.688909      | 0.691341      | 0.682400      \n",
      "               |               |               |               |               \n",
      "<----------------------------------------------------------------------------->\n",
      "evaluation mean w: 0.682308\n"
     ]
    },
    {
     "name": "stderr",
     "output_type": "stream",
     "text": [
      "100%|████████████████████████████████████████████████████████████████████████████████████| 5/5 [00:29<00:00,  5.92s/it]\n",
      "  0%|                                                                                            | 0/5 [00:00<?, ?it/s]"
     ]
    },
    {
     "name": "stdout",
     "output_type": "stream",
     "text": [
      "<----------------------------------------------------------------------------->\n",
      "Train losses   |Test losses    |Train accuracy |Test Accuracy  |Evaluation     \n",
      " 0.607517      | 0.608357      | 0.688872      | 0.690892      | 0.682256      \n",
      "               |               |               |               |               \n",
      " 0.607719      | 0.607571      | 0.689145      | 0.689909      | 0.682240      \n",
      "               |               |               |               |               \n",
      " 0.607469      | 0.608114      | 0.690374      | 0.685014      | 0.682380      \n",
      "               |               |               |               |               \n",
      " 0.607934      | 0.606780      | 0.689118      | 0.689738      | 0.682216      \n",
      "               |               |               |               |               \n",
      " 0.607682      | 0.607598      | 0.688909      | 0.691341      | 0.682400      \n",
      "               |               |               |               |               \n",
      "<----------------------------------------------------------------------------->\n",
      "evaluation mean w: 0.682308\n"
     ]
    },
    {
     "name": "stderr",
     "output_type": "stream",
     "text": [
      "100%|████████████████████████████████████████████████████████████████████████████████████| 5/5 [00:29<00:00,  5.88s/it]\n",
      "  0%|                                                                                            | 0/5 [00:00<?, ?it/s]"
     ]
    },
    {
     "name": "stdout",
     "output_type": "stream",
     "text": [
      "<----------------------------------------------------------------------------->\n",
      "Train losses   |Test losses    |Train accuracy |Test Accuracy  |Evaluation     \n",
      " 0.607517      | 0.608357      | 0.688872      | 0.690892      | 0.682256      \n",
      "               |               |               |               |               \n",
      " 0.607719      | 0.607571      | 0.689145      | 0.689909      | 0.682240      \n",
      "               |               |               |               |               \n",
      " 0.607469      | 0.608114      | 0.690374      | 0.685014      | 0.682380      \n",
      "               |               |               |               |               \n",
      " 0.607934      | 0.606780      | 0.689118      | 0.689738      | 0.682216      \n",
      "               |               |               |               |               \n",
      " 0.607682      | 0.607598      | 0.688909      | 0.691341      | 0.682400      \n",
      "               |               |               |               |               \n",
      "<----------------------------------------------------------------------------->\n",
      "evaluation mean w: 0.682308\n"
     ]
    },
    {
     "name": "stderr",
     "output_type": "stream",
     "text": [
      "100%|████████████████████████████████████████████████████████████████████████████████████| 5/5 [00:29<00:00,  5.85s/it]\n",
      "  0%|                                                                                            | 0/5 [00:00<?, ?it/s]"
     ]
    },
    {
     "name": "stdout",
     "output_type": "stream",
     "text": [
      "<----------------------------------------------------------------------------->\n",
      "Train losses   |Test losses    |Train accuracy |Test Accuracy  |Evaluation     \n",
      " 0.607517      | 0.608357      | 0.688872      | 0.690892      | 0.682256      \n",
      "               |               |               |               |               \n",
      " 0.607719      | 0.607571      | 0.689145      | 0.689909      | 0.682240      \n",
      "               |               |               |               |               \n",
      " 0.607469      | 0.608114      | 0.690374      | 0.685014      | 0.682380      \n",
      "               |               |               |               |               \n",
      " 0.607934      | 0.606780      | 0.689118      | 0.689738      | 0.682216      \n",
      "               |               |               |               |               \n",
      " 0.607682      | 0.607598      | 0.688909      | 0.691341      | 0.682400      \n",
      "               |               |               |               |               \n",
      "<----------------------------------------------------------------------------->\n",
      "evaluation mean w: 0.682308\n"
     ]
    },
    {
     "name": "stderr",
     "output_type": "stream",
     "text": [
      "100%|████████████████████████████████████████████████████████████████████████████████████| 5/5 [00:29<00:00,  5.86s/it]\n",
      "  0%|                                                                                            | 0/5 [00:00<?, ?it/s]"
     ]
    },
    {
     "name": "stdout",
     "output_type": "stream",
     "text": [
      "<----------------------------------------------------------------------------->\n",
      "Train losses   |Test losses    |Train accuracy |Test Accuracy  |Evaluation     \n",
      " 0.607517      | 0.608357      | 0.688872      | 0.690892      | 0.682256      \n",
      "               |               |               |               |               \n",
      " 0.607719      | 0.607571      | 0.689145      | 0.689909      | 0.682240      \n",
      "               |               |               |               |               \n",
      " 0.607469      | 0.608114      | 0.690374      | 0.685014      | 0.682380      \n",
      "               |               |               |               |               \n",
      " 0.607934      | 0.606780      | 0.689118      | 0.689738      | 0.682216      \n",
      "               |               |               |               |               \n",
      " 0.607682      | 0.607598      | 0.688909      | 0.691341      | 0.682400      \n",
      "               |               |               |               |               \n",
      "<----------------------------------------------------------------------------->\n",
      "evaluation mean w: 0.682308\n"
     ]
    },
    {
     "name": "stderr",
     "output_type": "stream",
     "text": [
      "100%|████████████████████████████████████████████████████████████████████████████████████| 5/5 [00:29<00:00,  5.87s/it]\n",
      "  0%|                                                                                            | 0/5 [00:00<?, ?it/s]"
     ]
    },
    {
     "name": "stdout",
     "output_type": "stream",
     "text": [
      "<----------------------------------------------------------------------------->\n",
      "Train losses   |Test losses    |Train accuracy |Test Accuracy  |Evaluation     \n",
      " 0.607517      | 0.608357      | 0.688872      | 0.690892      | 0.682256      \n",
      "               |               |               |               |               \n",
      " 0.607719      | 0.607571      | 0.689145      | 0.689909      | 0.682240      \n",
      "               |               |               |               |               \n",
      " 0.607469      | 0.608114      | 0.690374      | 0.685014      | 0.682380      \n",
      "               |               |               |               |               \n",
      " 0.607934      | 0.606780      | 0.689118      | 0.689738      | 0.682216      \n",
      "               |               |               |               |               \n",
      " 0.607682      | 0.607598      | 0.688909      | 0.691341      | 0.682400      \n",
      "               |               |               |               |               \n",
      "<----------------------------------------------------------------------------->\n",
      "evaluation mean w: 0.682308\n"
     ]
    },
    {
     "name": "stderr",
     "output_type": "stream",
     "text": [
      "100%|████████████████████████████████████████████████████████████████████████████████████| 5/5 [00:29<00:00,  5.82s/it]\n",
      "  0%|                                                                                            | 0/5 [00:00<?, ?it/s]"
     ]
    },
    {
     "name": "stdout",
     "output_type": "stream",
     "text": [
      "<----------------------------------------------------------------------------->\n",
      "Train losses   |Test losses    |Train accuracy |Test Accuracy  |Evaluation     \n",
      " 0.607517      | 0.608357      | 0.688872      | 0.690892      | 0.682256      \n",
      "               |               |               |               |               \n",
      " 0.607719      | 0.607571      | 0.689145      | 0.689909      | 0.682240      \n",
      "               |               |               |               |               \n",
      " 0.607470      | 0.608114      | 0.690374      | 0.685014      | 0.682380      \n",
      "               |               |               |               |               \n",
      " 0.607934      | 0.606780      | 0.689118      | 0.689738      | 0.682216      \n",
      "               |               |               |               |               \n",
      " 0.607682      | 0.607598      | 0.688909      | 0.691341      | 0.682400      \n",
      "               |               |               |               |               \n",
      "<----------------------------------------------------------------------------->\n",
      "evaluation mean w: 0.682308\n"
     ]
    },
    {
     "name": "stderr",
     "output_type": "stream",
     "text": [
      "100%|████████████████████████████████████████████████████████████████████████████████████| 5/5 [00:29<00:00,  5.89s/it]\n",
      "  0%|                                                                                            | 0/5 [00:00<?, ?it/s]"
     ]
    },
    {
     "name": "stdout",
     "output_type": "stream",
     "text": [
      "<----------------------------------------------------------------------------->\n",
      "Train losses   |Test losses    |Train accuracy |Test Accuracy  |Evaluation     \n",
      " 0.607517      | 0.608357      | 0.688872      | 0.690892      | 0.682256      \n",
      "               |               |               |               |               \n",
      " 0.607719      | 0.607572      | 0.689145      | 0.689909      | 0.682240      \n",
      "               |               |               |               |               \n",
      " 0.607470      | 0.608114      | 0.690374      | 0.685014      | 0.682380      \n",
      "               |               |               |               |               \n",
      " 0.607934      | 0.606780      | 0.689118      | 0.689738      | 0.682216      \n",
      "               |               |               |               |               \n",
      " 0.607683      | 0.607598      | 0.688909      | 0.691341      | 0.682400      \n",
      "               |               |               |               |               \n",
      "<----------------------------------------------------------------------------->\n",
      "evaluation mean w: 0.682308\n"
     ]
    },
    {
     "name": "stderr",
     "output_type": "stream",
     "text": [
      "100%|████████████████████████████████████████████████████████████████████████████████████| 5/5 [00:29<00:00,  5.91s/it]\n",
      "  0%|                                                                                            | 0/5 [00:00<?, ?it/s]"
     ]
    },
    {
     "name": "stdout",
     "output_type": "stream",
     "text": [
      "<----------------------------------------------------------------------------->\n",
      "Train losses   |Test losses    |Train accuracy |Test Accuracy  |Evaluation     \n",
      " 0.607518      | 0.608357      | 0.688872      | 0.690892      | 0.682256      \n",
      "               |               |               |               |               \n",
      " 0.607719      | 0.607572      | 0.689145      | 0.689909      | 0.682240      \n",
      "               |               |               |               |               \n",
      " 0.607470      | 0.608114      | 0.690374      | 0.685014      | 0.682380      \n",
      "               |               |               |               |               \n",
      " 0.607935      | 0.606780      | 0.689118      | 0.689738      | 0.682216      \n",
      "               |               |               |               |               \n",
      " 0.607683      | 0.607598      | 0.688909      | 0.691341      | 0.682400      \n",
      "               |               |               |               |               \n",
      "<----------------------------------------------------------------------------->\n",
      "evaluation mean w: 0.682308\n"
     ]
    },
    {
     "name": "stderr",
     "output_type": "stream",
     "text": [
      "100%|████████████████████████████████████████████████████████████████████████████████████| 5/5 [00:29<00:00,  5.91s/it]\n",
      "  0%|                                                                                            | 0/5 [00:00<?, ?it/s]"
     ]
    },
    {
     "name": "stdout",
     "output_type": "stream",
     "text": [
      "<----------------------------------------------------------------------------->\n",
      "Train losses   |Test losses    |Train accuracy |Test Accuracy  |Evaluation     \n",
      " 0.607518      | 0.608357      | 0.688872      | 0.690892      | 0.682260      \n",
      "               |               |               |               |               \n",
      " 0.607719      | 0.607572      | 0.689145      | 0.689909      | 0.682240      \n",
      "               |               |               |               |               \n",
      " 0.607470      | 0.608114      | 0.690374      | 0.685014      | 0.682380      \n",
      "               |               |               |               |               \n",
      " 0.607935      | 0.606780      | 0.689118      | 0.689738      | 0.682216      \n",
      "               |               |               |               |               \n",
      " 0.607683      | 0.607599      | 0.688909      | 0.691341      | 0.682400      \n",
      "               |               |               |               |               \n",
      "<----------------------------------------------------------------------------->\n",
      "evaluation mean w: 0.682308\n"
     ]
    },
    {
     "name": "stderr",
     "output_type": "stream",
     "text": [
      "100%|████████████████████████████████████████████████████████████████████████████████████| 5/5 [00:29<00:00,  5.88s/it]\n",
      "  0%|                                                                                            | 0/5 [00:00<?, ?it/s]"
     ]
    },
    {
     "name": "stdout",
     "output_type": "stream",
     "text": [
      "<----------------------------------------------------------------------------->\n",
      "Train losses   |Test losses    |Train accuracy |Test Accuracy  |Evaluation     \n",
      " 0.607518      | 0.608358      | 0.688872      | 0.690892      | 0.682260      \n",
      "               |               |               |               |               \n",
      " 0.607720      | 0.607573      | 0.689145      | 0.689909      | 0.682240      \n",
      "               |               |               |               |               \n",
      " 0.607470      | 0.608115      | 0.690368      | 0.685014      | 0.682380      \n",
      "               |               |               |               |               \n",
      " 0.607935      | 0.606781      | 0.689118      | 0.689738      | 0.682216      \n",
      "               |               |               |               |               \n",
      " 0.607683      | 0.607600      | 0.688909      | 0.691341      | 0.682400      \n",
      "               |               |               |               |               \n",
      "<----------------------------------------------------------------------------->\n",
      "evaluation mean w: 0.682308\n"
     ]
    },
    {
     "name": "stderr",
     "output_type": "stream",
     "text": [
      "100%|████████████████████████████████████████████████████████████████████████████████████| 5/5 [00:29<00:00,  5.91s/it]\n",
      "  0%|                                                                                            | 0/5 [00:00<?, ?it/s]"
     ]
    },
    {
     "name": "stdout",
     "output_type": "stream",
     "text": [
      "<----------------------------------------------------------------------------->\n",
      "Train losses   |Test losses    |Train accuracy |Test Accuracy  |Evaluation     \n",
      " 0.570310      | 0.570731      | 0.711567      | 0.714127      | 0.706492      \n",
      "               |               |               |               |               \n",
      " 0.570488      | 0.569698      | 0.711920      | 0.711455      | 0.706212      \n",
      "               |               |               |               |               \n",
      " 0.569628      | 0.572548      | 0.713603      | 0.707159      | 0.706764      \n",
      "               |               |               |               |               \n",
      " 0.570649      | 0.568965      | 0.712080      | 0.712331      | 0.706276      \n",
      "               |               |               |               |               \n",
      " 0.570480      | 0.569942      | 0.711428      | 0.714961      | 0.706504      \n",
      "               |               |               |               |               \n",
      "<----------------------------------------------------------------------------->\n",
      "evaluation mean w: 0.706444\n"
     ]
    },
    {
     "name": "stderr",
     "output_type": "stream",
     "text": [
      "100%|████████████████████████████████████████████████████████████████████████████████████| 5/5 [00:29<00:00,  5.87s/it]\n",
      "  0%|                                                                                            | 0/5 [00:00<?, ?it/s]"
     ]
    },
    {
     "name": "stdout",
     "output_type": "stream",
     "text": [
      "<----------------------------------------------------------------------------->\n",
      "Train losses   |Test losses    |Train accuracy |Test Accuracy  |Evaluation     \n",
      " 0.570310      | 0.570731      | 0.711567      | 0.714127      | 0.706492      \n",
      "               |               |               |               |               \n",
      " 0.570488      | 0.569698      | 0.711920      | 0.711455      | 0.706212      \n",
      "               |               |               |               |               \n",
      " 0.569628      | 0.572548      | 0.713603      | 0.707159      | 0.706764      \n",
      "               |               |               |               |               \n",
      " 0.570649      | 0.568965      | 0.712080      | 0.712331      | 0.706276      \n",
      "               |               |               |               |               \n",
      " 0.570480      | 0.569942      | 0.711428      | 0.714961      | 0.706504      \n",
      "               |               |               |               |               \n",
      "<----------------------------------------------------------------------------->\n",
      "evaluation mean w: 0.706444\n"
     ]
    },
    {
     "name": "stderr",
     "output_type": "stream",
     "text": [
      "100%|████████████████████████████████████████████████████████████████████████████████████| 5/5 [00:31<00:00,  6.25s/it]\n",
      "  0%|                                                                                            | 0/5 [00:00<?, ?it/s]"
     ]
    },
    {
     "name": "stdout",
     "output_type": "stream",
     "text": [
      "<----------------------------------------------------------------------------->\n",
      "Train losses   |Test losses    |Train accuracy |Test Accuracy  |Evaluation     \n",
      " 0.570310      | 0.570731      | 0.711567      | 0.714127      | 0.706492      \n",
      "               |               |               |               |               \n",
      " 0.570488      | 0.569698      | 0.711920      | 0.711455      | 0.706212      \n",
      "               |               |               |               |               \n",
      " 0.569628      | 0.572548      | 0.713603      | 0.707159      | 0.706764      \n",
      "               |               |               |               |               \n",
      " 0.570649      | 0.568965      | 0.712080      | 0.712331      | 0.706276      \n",
      "               |               |               |               |               \n",
      " 0.570480      | 0.569942      | 0.711428      | 0.714961      | 0.706504      \n",
      "               |               |               |               |               \n",
      "<----------------------------------------------------------------------------->\n",
      "evaluation mean w: 0.706444\n"
     ]
    },
    {
     "name": "stderr",
     "output_type": "stream",
     "text": [
      "100%|████████████████████████████████████████████████████████████████████████████████████| 5/5 [00:30<00:00,  6.07s/it]\n",
      "  0%|                                                                                            | 0/5 [00:00<?, ?it/s]"
     ]
    },
    {
     "name": "stdout",
     "output_type": "stream",
     "text": [
      "<----------------------------------------------------------------------------->\n",
      "Train losses   |Test losses    |Train accuracy |Test Accuracy  |Evaluation     \n",
      " 0.570310      | 0.570731      | 0.711567      | 0.714127      | 0.706492      \n",
      "               |               |               |               |               \n",
      " 0.570488      | 0.569698      | 0.711920      | 0.711455      | 0.706212      \n",
      "               |               |               |               |               \n",
      " 0.569628      | 0.572548      | 0.713603      | 0.707159      | 0.706764      \n",
      "               |               |               |               |               \n",
      " 0.570649      | 0.568965      | 0.712080      | 0.712331      | 0.706276      \n",
      "               |               |               |               |               \n",
      " 0.570480      | 0.569942      | 0.711428      | 0.714961      | 0.706504      \n",
      "               |               |               |               |               \n",
      "<----------------------------------------------------------------------------->\n",
      "evaluation mean w: 0.706444\n"
     ]
    },
    {
     "name": "stderr",
     "output_type": "stream",
     "text": [
      "100%|████████████████████████████████████████████████████████████████████████████████████| 5/5 [00:29<00:00,  5.94s/it]\n",
      "  0%|                                                                                            | 0/5 [00:00<?, ?it/s]"
     ]
    },
    {
     "name": "stdout",
     "output_type": "stream",
     "text": [
      "<----------------------------------------------------------------------------->\n",
      "Train losses   |Test losses    |Train accuracy |Test Accuracy  |Evaluation     \n",
      " 0.570310      | 0.570731      | 0.711567      | 0.714127      | 0.706492      \n",
      "               |               |               |               |               \n",
      " 0.570488      | 0.569698      | 0.711920      | 0.711455      | 0.706212      \n",
      "               |               |               |               |               \n",
      " 0.569628      | 0.572548      | 0.713603      | 0.707159      | 0.706764      \n",
      "               |               |               |               |               \n",
      " 0.570649      | 0.568965      | 0.712080      | 0.712331      | 0.706276      \n",
      "               |               |               |               |               \n",
      " 0.570480      | 0.569942      | 0.711428      | 0.714961      | 0.706504      \n",
      "               |               |               |               |               \n",
      "<----------------------------------------------------------------------------->\n",
      "evaluation mean w: 0.706444\n"
     ]
    },
    {
     "name": "stderr",
     "output_type": "stream",
     "text": [
      "100%|████████████████████████████████████████████████████████████████████████████████████| 5/5 [00:29<00:00,  5.90s/it]\n",
      "  0%|                                                                                            | 0/5 [00:00<?, ?it/s]"
     ]
    },
    {
     "name": "stdout",
     "output_type": "stream",
     "text": [
      "<----------------------------------------------------------------------------->\n",
      "Train losses   |Test losses    |Train accuracy |Test Accuracy  |Evaluation     \n",
      " 0.570310      | 0.570731      | 0.711567      | 0.714127      | 0.706492      \n",
      "               |               |               |               |               \n",
      " 0.570488      | 0.569698      | 0.711920      | 0.711455      | 0.706212      \n",
      "               |               |               |               |               \n",
      " 0.569628      | 0.572548      | 0.713603      | 0.707159      | 0.706764      \n",
      "               |               |               |               |               \n",
      " 0.570649      | 0.568965      | 0.712080      | 0.712331      | 0.706276      \n",
      "               |               |               |               |               \n",
      " 0.570480      | 0.569942      | 0.711428      | 0.714961      | 0.706504      \n",
      "               |               |               |               |               \n",
      "<----------------------------------------------------------------------------->\n",
      "evaluation mean w: 0.706444\n"
     ]
    },
    {
     "name": "stderr",
     "output_type": "stream",
     "text": [
      "100%|████████████████████████████████████████████████████████████████████████████████████| 5/5 [00:29<00:00,  5.91s/it]\n",
      "  0%|                                                                                            | 0/5 [00:00<?, ?it/s]"
     ]
    },
    {
     "name": "stdout",
     "output_type": "stream",
     "text": [
      "<----------------------------------------------------------------------------->\n",
      "Train losses   |Test losses    |Train accuracy |Test Accuracy  |Evaluation     \n",
      " 0.570310      | 0.570731      | 0.711567      | 0.714127      | 0.706492      \n",
      "               |               |               |               |               \n",
      " 0.570488      | 0.569698      | 0.711920      | 0.711455      | 0.706212      \n",
      "               |               |               |               |               \n",
      " 0.569628      | 0.572548      | 0.713603      | 0.707159      | 0.706764      \n",
      "               |               |               |               |               \n",
      " 0.570649      | 0.568965      | 0.712080      | 0.712331      | 0.706276      \n",
      "               |               |               |               |               \n",
      " 0.570480      | 0.569942      | 0.711428      | 0.714961      | 0.706504      \n",
      "               |               |               |               |               \n",
      "<----------------------------------------------------------------------------->\n",
      "evaluation mean w: 0.706444\n"
     ]
    },
    {
     "name": "stderr",
     "output_type": "stream",
     "text": [
      "100%|████████████████████████████████████████████████████████████████████████████████████| 5/5 [00:29<00:00,  5.89s/it]\n",
      "  0%|                                                                                            | 0/5 [00:00<?, ?it/s]"
     ]
    },
    {
     "name": "stdout",
     "output_type": "stream",
     "text": [
      "<----------------------------------------------------------------------------->\n",
      "Train losses   |Test losses    |Train accuracy |Test Accuracy  |Evaluation     \n",
      " 0.570310      | 0.570731      | 0.711567      | 0.714127      | 0.706492      \n",
      "               |               |               |               |               \n",
      " 0.570488      | 0.569698      | 0.711920      | 0.711455      | 0.706212      \n",
      "               |               |               |               |               \n",
      " 0.569628      | 0.572548      | 0.713603      | 0.707159      | 0.706764      \n",
      "               |               |               |               |               \n",
      " 0.570649      | 0.568965      | 0.712080      | 0.712331      | 0.706276      \n",
      "               |               |               |               |               \n",
      " 0.570480      | 0.569942      | 0.711428      | 0.714961      | 0.706504      \n",
      "               |               |               |               |               \n",
      "<----------------------------------------------------------------------------->\n",
      "evaluation mean w: 0.706444\n"
     ]
    },
    {
     "name": "stderr",
     "output_type": "stream",
     "text": [
      "100%|████████████████████████████████████████████████████████████████████████████████████| 5/5 [00:29<00:00,  5.94s/it]\n",
      "  0%|                                                                                            | 0/5 [00:00<?, ?it/s]"
     ]
    },
    {
     "name": "stdout",
     "output_type": "stream",
     "text": [
      "<----------------------------------------------------------------------------->\n",
      "Train losses   |Test losses    |Train accuracy |Test Accuracy  |Evaluation     \n",
      " 0.570310      | 0.570731      | 0.711567      | 0.714127      | 0.706492      \n",
      "               |               |               |               |               \n",
      " 0.570488      | 0.569698      | 0.711920      | 0.711455      | 0.706212      \n",
      "               |               |               |               |               \n",
      " 0.569628      | 0.572548      | 0.713603      | 0.707159      | 0.706764      \n",
      "               |               |               |               |               \n",
      " 0.570649      | 0.568965      | 0.712080      | 0.712331      | 0.706276      \n",
      "               |               |               |               |               \n",
      " 0.570480      | 0.569942      | 0.711428      | 0.714961      | 0.706504      \n",
      "               |               |               |               |               \n",
      "<----------------------------------------------------------------------------->\n",
      "evaluation mean w: 0.706444\n"
     ]
    },
    {
     "name": "stderr",
     "output_type": "stream",
     "text": [
      "100%|████████████████████████████████████████████████████████████████████████████████████| 5/5 [00:29<00:00,  5.91s/it]\n",
      "  0%|                                                                                            | 0/5 [00:00<?, ?it/s]"
     ]
    },
    {
     "name": "stdout",
     "output_type": "stream",
     "text": [
      "<----------------------------------------------------------------------------->\n",
      "Train losses   |Test losses    |Train accuracy |Test Accuracy  |Evaluation     \n",
      " 0.570310      | 0.570732      | 0.711567      | 0.714127      | 0.706492      \n",
      "               |               |               |               |               \n",
      " 0.570488      | 0.569698      | 0.711920      | 0.711455      | 0.706212      \n",
      "               |               |               |               |               \n",
      " 0.569628      | 0.572548      | 0.713603      | 0.707159      | 0.706764      \n",
      "               |               |               |               |               \n",
      " 0.570649      | 0.568965      | 0.712080      | 0.712331      | 0.706276      \n",
      "               |               |               |               |               \n",
      " 0.570480      | 0.569942      | 0.711428      | 0.714961      | 0.706504      \n",
      "               |               |               |               |               \n",
      "<----------------------------------------------------------------------------->\n",
      "evaluation mean w: 0.706444\n"
     ]
    },
    {
     "name": "stderr",
     "output_type": "stream",
     "text": [
      "100%|████████████████████████████████████████████████████████████████████████████████████| 5/5 [00:28<00:00,  5.79s/it]\n",
      "  0%|                                                                                            | 0/5 [00:00<?, ?it/s]"
     ]
    },
    {
     "name": "stdout",
     "output_type": "stream",
     "text": [
      "<----------------------------------------------------------------------------->\n",
      "Train losses   |Test losses    |Train accuracy |Test Accuracy  |Evaluation     \n",
      " 0.570310      | 0.570732      | 0.711567      | 0.714127      | 0.706492      \n",
      "               |               |               |               |               \n",
      " 0.570488      | 0.569698      | 0.711920      | 0.711455      | 0.706212      \n",
      "               |               |               |               |               \n",
      " 0.569628      | 0.572549      | 0.713603      | 0.707137      | 0.706764      \n",
      "               |               |               |               |               \n",
      " 0.570649      | 0.568965      | 0.712080      | 0.712331      | 0.706276      \n",
      "               |               |               |               |               \n",
      " 0.570480      | 0.569942      | 0.711428      | 0.714961      | 0.706504      \n",
      "               |               |               |               |               \n",
      "<----------------------------------------------------------------------------->\n",
      "evaluation mean w: 0.706444\n"
     ]
    },
    {
     "name": "stderr",
     "output_type": "stream",
     "text": [
      "100%|████████████████████████████████████████████████████████████████████████████████████| 5/5 [00:29<00:00,  5.96s/it]\n",
      "  0%|                                                                                            | 0/5 [00:00<?, ?it/s]"
     ]
    },
    {
     "name": "stdout",
     "output_type": "stream",
     "text": [
      "<----------------------------------------------------------------------------->\n",
      "Train losses   |Test losses    |Train accuracy |Test Accuracy  |Evaluation     \n",
      " 0.570310      | 0.570732      | 0.711567      | 0.714127      | 0.706492      \n",
      "               |               |               |               |               \n",
      " 0.570488      | 0.569698      | 0.711920      | 0.711455      | 0.706212      \n",
      "               |               |               |               |               \n",
      " 0.569628      | 0.572549      | 0.713603      | 0.707137      | 0.706764      \n",
      "               |               |               |               |               \n",
      " 0.570649      | 0.568965      | 0.712080      | 0.712331      | 0.706276      \n",
      "               |               |               |               |               \n",
      " 0.570480      | 0.569943      | 0.711428      | 0.714961      | 0.706504      \n",
      "               |               |               |               |               \n",
      "<----------------------------------------------------------------------------->\n",
      "evaluation mean w: 0.706444\n"
     ]
    },
    {
     "name": "stderr",
     "output_type": "stream",
     "text": [
      "100%|████████████████████████████████████████████████████████████████████████████████████| 5/5 [00:29<00:00,  5.82s/it]\n",
      "  0%|                                                                                            | 0/5 [00:00<?, ?it/s]"
     ]
    },
    {
     "name": "stdout",
     "output_type": "stream",
     "text": [
      "<----------------------------------------------------------------------------->\n",
      "Train losses   |Test losses    |Train accuracy |Test Accuracy  |Evaluation     \n",
      " 0.570310      | 0.570733      | 0.711567      | 0.714127      | 0.706496      \n",
      "               |               |               |               |               \n",
      " 0.570489      | 0.569700      | 0.711920      | 0.711455      | 0.706212      \n",
      "               |               |               |               |               \n",
      " 0.569628      | 0.572550      | 0.713603      | 0.707137      | 0.706764      \n",
      "               |               |               |               |               \n",
      " 0.570650      | 0.568967      | 0.712080      | 0.712331      | 0.706276      \n",
      "               |               |               |               |               \n",
      " 0.570480      | 0.569944      | 0.711428      | 0.714961      | 0.706504      \n",
      "               |               |               |               |               \n",
      "<----------------------------------------------------------------------------->\n",
      "evaluation mean w: 0.706444\n"
     ]
    },
    {
     "name": "stderr",
     "output_type": "stream",
     "text": [
      "100%|████████████████████████████████████████████████████████████████████████████████████| 5/5 [00:29<00:00,  5.88s/it]\n",
      "  0%|                                                                                            | 0/5 [00:00<?, ?it/s]"
     ]
    },
    {
     "name": "stdout",
     "output_type": "stream",
     "text": [
      "<----------------------------------------------------------------------------->\n",
      "Train losses   |Test losses    |Train accuracy |Test Accuracy  |Evaluation     \n",
      " 0.570311      | 0.570736      | 0.711567      | 0.714127      | 0.706496      \n",
      "               |               |               |               |               \n",
      " 0.570490      | 0.569702      | 0.711920      | 0.711455      | 0.706212      \n",
      "               |               |               |               |               \n",
      " 0.569629      | 0.572553      | 0.713603      | 0.707137      | 0.706764      \n",
      "               |               |               |               |               \n",
      " 0.570651      | 0.568969      | 0.712080      | 0.712331      | 0.706276      \n",
      "               |               |               |               |               \n",
      " 0.570481      | 0.569947      | 0.711428      | 0.714961      | 0.706504      \n",
      "               |               |               |               |               \n",
      "<----------------------------------------------------------------------------->\n",
      "evaluation mean w: 0.70644\n"
     ]
    },
    {
     "name": "stderr",
     "output_type": "stream",
     "text": [
      "100%|████████████████████████████████████████████████████████████████████████████████████| 5/5 [00:29<00:00,  5.91s/it]\n"
     ]
    },
    {
     "name": "stdout",
     "output_type": "stream",
     "text": [
      "<----------------------------------------------------------------------------->\n",
      "Train losses   |Test losses    |Train accuracy |Test Accuracy  |Evaluation     \n",
      " 0.570313      | 0.570742      | 0.711567      | 0.714127      | 0.706496      \n",
      "               |               |               |               |               \n",
      " 0.570491      | 0.569709      | 0.711915      | 0.711455      | 0.706212      \n",
      "               |               |               |               |               \n",
      " 0.569631      | 0.572559      | 0.713603      | 0.707137      | 0.706764      \n",
      "               |               |               |               |               \n",
      " 0.570653      | 0.568976      | 0.712086      | 0.712331      | 0.706276      \n",
      "               |               |               |               |               \n",
      " 0.570483      | 0.569953      | 0.711423      | 0.714961      | 0.706504      \n",
      "               |               |               |               |               \n",
      "<----------------------------------------------------------------------------->\n",
      "evaluation mean w: 0.70644\n"
     ]
    },
    {
     "data": {
      "image/png": "[encoded data removed]",
      "text/plain": [
       "<Figure size 432x288 with 1 Axes>"
      ]
     },
     "metadata": {
      "needs_background": "light"
     },
     "output_type": "display_data"
    }
   ],
   "source": [
    "\n",
    "names = [least_squares_GD,least_square, ridge_regression, logistic_regression,reg_logistic_regression]\n",
    "initial_w  = np.zeros(tX_std.shape[1])\n",
    "lambdas = np.logspace(-5, 0, 15)\n",
    "gammas = np.array([0.0001,0.001,0.01,0.1])\n",
    "degrees = np.array([0,1,2,3,4,5,6,7])\n",
    "lambda_ = lambdas[0]\n",
    "gamma = gammas[0]\n",
    "degree = degrees[0]\n",
    "bestParametersAccuracyTrain = [names[0], lambdas[0], gammas[0],degrees[0], 0, initial_w ]\n",
    "bestParametersAccuracyTest = [names[0], lambdas[0], gammas[0],degrees[0], 0, initial_w ]\n",
    "bestParametersAll= [[names[0], lambdas[0], gammas[0],degrees[0], 0, initial_w ],\n",
    "                   [names[0], lambdas[0], gammas[0],degrees[0], 0, initial_w ],\n",
    "                   [names[0], lambdas[0], gammas[0],degrees[0], 0, initial_w ],\n",
    "                   [names[0], lambdas[0], gammas[0],degrees[0], 0, initial_w ],\n",
    "                   [names[0], lambdas[0], gammas[0],degrees[0], 0, initial_w ]]\n",
    "for indexML, model_name in enumerate(names):\n",
    "        print(\"Done about :\" + str(indexML/len(names)))\n",
    "        if(model_name is least_square or model_name is ridge_regression): #Skip the lambdas\n",
    "            if(model_name is ridge_regression):\n",
    "                for indexL,lambda_ in enumerate(lambdas):\n",
    "                    parameters = [{'initial_w': initial_w, 'max_iter':200,'gamma' : gamma}, {}, {'lambda_' : lambda_}, {'initial_w':initial_w,'max_iter':200,'gamma' : gamma}, {'initial_w':initial_w,'max_iter':200,'gamma' : gamma,'lambda_' : lambda_}]\n",
    "                    wTemp, accTr, accTe = train(names[indexML],y_no_outliers,tX_no_outliers_std,5,None,0,**parameters[indexML])                \n",
    "                    if accTr > bestParametersAccuracyTrain[4]:    \n",
    "                        bestParametersAccuracyTrain = [model_name,lambda_, gamma, None, accTr, wTemp]                    \n",
    "                    if accTe > bestParametersAccuracyTest[4]:\n",
    "                        bestParametersAccuracyTest = [model_name,lambda_, gamma, None, accTe, wTemp]\n",
    "                    if accTe > bestParametersAll[indexML][4]:\n",
    "                        bestParametersAll[indexML] = [model_name,lambda_, gamma, None, accTe, wTemp]\n",
    "            else:\n",
    "                parameteres = [{'initial_w': initial_w, 'max_iter':200,'gamma' : gamma}, {}, {'lambda_' : lambda_}, {'initial_w':initial_w,'max_iter':200,'gamma' : gamma}, {'initial_w':initial_w,'max_iter':200,'gamma' : gamma,'lambda_' : lambda_}]\n",
    "                wTemp, accTr, accTe = train(names[indexML],y_no_outliers,tX_no_outliers_std,5,None,0,**parameters[indexML])                \n",
    "                if accTr > bestParametersAccuracyTrain[4]:    \n",
    "                    bestParametersAccuracyTrain = [model_name,lambda_, gamma, None, accTr, wTemp]                    \n",
    "                if accTe > bestParametersAccuracyTest[4]:\n",
    "                    bestParametersAccuracyTest = [model_name,lambda_, gamma, None, accTe, wTemp] \n",
    "                if accTe > bestParametersAll[indexML][4]:\n",
    "                    bestParametersAll[indexML] = [model_name,lambda_, gamma, None, accTe, wTemp]\n",
    "        else:    \n",
    "            for indexG,gamma in enumerate(gammas):\n",
    "                if(model_name is reg_logistic_regression):\n",
    "                    for indexL,lambda_ in enumerate(lambdas):\n",
    "                        parameters = [{'initial_w': initial_w, 'max_iter':200,'gamma' : gamma}, {}, {'lambda_' : lambda_}, {'initial_w':initial_w,'max_iter':200,'gamma' : gamma}, {'initial_w':initial_w,'max_iter':200,'gamma' : gamma,'lambda_' : lambda_}]\n",
    "                        wTemp, accTr, accTe = train(names[indexML],y_no_outliers,tX_no_outliers_std,5,None,0,**parameters[indexML])\n",
    "                        if accTr > bestParametersAccuracyTrain[4]:    \n",
    "                            bestParametersAccuracyTrain = [model_name,lambda_, gamma, None, accTr, wTemp]                    \n",
    "                        if accTe > bestParametersAccuracyTest[4]:\n",
    "                            bestParametersAccuracyTest = [model_name,lambda_, gamma, None, accTe, wTemp]\n",
    "                        if accTe > bestParametersAll[indexML][4]:\n",
    "                            bestParametersAll[indexML] = [model_name,lambda_, gamma, None, accTe, wTemp]\n",
    "                else:\n",
    "                    parameters = [{'initial_w': initial_w, 'max_iter':200,'gamma' : gamma}, {}, {'lambda_' : lambda_}, {'initial_w':initial_w,'max_iter':200,'gamma' : gamma}, {'initial_w':initial_w,'max_iter':200,'gamma' : gamma,'lambda_' : lambda_}]\n",
    "                    wTemp, accTr, accTe = train(names[indexML],y_no_outliers,tX_no_outliers_std,5,None,0,**parameters[indexML])\n",
    "                    if accTr > bestParametersAccuracyTrain[4]:    \n",
    "                        bestParametersAccuracyTrain = [model_name,lambda_, gamma, None, accTr, wTemp]                    \n",
    "                    if accTe > bestParametersAccuracyTest[4]:\n",
    "                        bestParametersAccuracyTest = [model_name,lambda_, gamma, None, accTe, wTemp] \n",
    "                    if accTe > bestParametersAll[indexML][4]:\n",
    "                        bestParametersAll[indexML] = [model_name,lambda_, gamma, None, accTe, wTemp]\n",
    "               \n",
    "                           \n",
    "                \n",
    "\n"
   ]
  },
  {
   "cell_type": "code",
   "execution_count": 21,
   "metadata": {
    "scrolled": true
   },
   "outputs": [
    {
     "name": "stdout",
     "output_type": "stream",
     "text": [
      "[<function ridge_regression at 0x000001DE03184DC0>, 0.08483428982440726, 0.1, None, 0.7230126327939637, [array([ 5.38357905e-03, -1.29831427e-01, -1.38653263e-01,  1.39057956e-02,\n",
      "       -6.29887544e-01,  1.86479876e-01, -2.78249739e+00,  1.64287194e-01,\n",
      "       -1.05220902e-02,  2.43038663e-03, -5.13045900e-02,  4.70059991e-02,\n",
      "        6.45498232e+00,  1.32219791e-01, -4.08639501e-04, -1.14839592e-03,\n",
      "        1.09258118e-01,  7.85157359e-04,  6.70384338e-04,  4.88306486e-02,\n",
      "        3.83114482e-04, -1.49074611e-02, -7.01170282e-02,  7.93742227e-02,\n",
      "        2.12565645e-01, -2.29551304e-01,  8.80702045e-02, -1.28228726e+00,\n",
      "       -1.94215019e+00, -5.55496509e-02]), array([ 3.64005507e-03, -1.29704068e-01, -1.44024480e-01,  2.20919442e-02,\n",
      "        3.99528350e-01,  1.81243834e-01, -2.84666278e+00,  1.70641467e-01,\n",
      "       -1.24776787e-02, -1.04697261e-02, -5.06070611e-02,  4.55818171e-02,\n",
      "        5.23969817e+00,  1.35612637e-01,  2.18573397e-05, -6.31688015e-04,\n",
      "        1.11851264e-01, -1.16108213e-03,  9.66163626e-04,  4.41841747e-02,\n",
      "       -6.87755938e-04, -1.13072367e-02, -6.21431477e-02,  1.34680598e-01,\n",
      "        2.92968125e-02, -1.01982853e-01,  1.78407890e-01, -1.23542210e+00,\n",
      "       -1.82341753e+00, -5.88911248e-02]), array([ 4.87437727e-03, -1.30975436e-01, -1.39439001e-01,  1.80301526e-02,\n",
      "       -4.30165098e-01,  1.90735034e-01, -2.35805532e+00,  1.66589821e-01,\n",
      "       -1.21597307e-02,  1.54792496e-03, -5.08225060e-02,  4.59746655e-02,\n",
      "        5.44920360e+00,  1.30883600e-01, -2.79619122e-04, -1.30727129e-03,\n",
      "        1.09571835e-01,  1.19198975e-04,  4.33040543e-04,  4.79917098e-02,\n",
      "        2.88336285e-04, -1.14013838e-02, -7.87730415e-02, -5.07276542e-04,\n",
      "        9.03087436e-02, -2.88637677e-02,  6.08549060e-02, -6.25126732e-01,\n",
      "       -2.19214301e+00, -4.91755584e-02]), array([ 5.18820607e-03, -1.30664857e-01, -1.41041512e-01,  1.36855372e-02,\n",
      "       -1.78777922e-01,  1.89522140e-01, -2.64657853e+00,  1.66973305e-01,\n",
      "       -1.16329761e-02, -1.03720683e-02, -4.99720874e-02,  4.54528646e-02,\n",
      "        4.98082517e+00,  1.34038371e-01,  6.03384675e-04, -1.01693478e-03,\n",
      "        1.11642214e-01, -1.35914646e-03,  8.73637236e-04,  4.72077081e-02,\n",
      "        1.20149929e-04, -9.70882182e-03, -6.87483996e-02,  1.20497359e-01,\n",
      "        8.05427149e-02, -1.38685351e-01,  7.65253962e-02, -7.62040319e-01,\n",
      "       -1.56764334e+00, -4.84966220e-02]), array([ 5.94352191e-03, -1.29338320e-01, -1.41339544e-01,  1.63373049e-02,\n",
      "       -8.59552984e-01,  1.93091180e-01, -2.19849130e+00,  1.67404282e-01,\n",
      "       -1.21299290e-02, -1.94426805e-02, -5.09738840e-02,  4.80491841e-02,\n",
      "        5.36181641e+00,  1.36717713e-01,  4.48486490e-05, -7.29577626e-04,\n",
      "        1.12780322e-01,  1.54426241e-04,  5.07675378e-04,  4.85500827e-02,\n",
      "        1.99093214e-04, -9.75162815e-03, -5.83108604e-02,  1.56711898e-01,\n",
      "        1.68914277e-02, -1.12795159e-01,  1.70397694e-01, -9.76314938e-01,\n",
      "       -1.59687762e+00, -5.57853078e-02])]]\n",
      "[<function ridge_regression at 0x000001DE03184DC0>, 0.19306977288832497, 0.1, None, 0.7230489707799841, [array([ 5.37954592e-03, -1.29834508e-01, -1.38691476e-01,  1.40414459e-02,\n",
      "        5.58391534e-01,  1.86457561e-01, -2.32667450e+00,  1.64308637e-01,\n",
      "       -1.05765325e-02,  7.95719417e-04, -5.13242144e-02,  4.70212722e-02,\n",
      "        4.12813009e+00,  1.32548648e-01, -4.36596570e-04, -1.08699064e-03,\n",
      "        1.09622125e-01,  7.56041014e-04,  7.51220148e-04,  4.88472065e-02,\n",
      "        4.48552887e-04, -1.48781215e-02, -6.98924696e-02,  8.09195331e-02,\n",
      "        2.01986462e-01, -2.20526926e-01,  1.00389037e-01, -1.00896628e+00,\n",
      "       -1.54499139e+00, -5.45269812e-02]), array([ 3.63492906e-03, -1.29720270e-01, -1.44052814e-01,  2.22232443e-02,\n",
      "        1.15064237e+00,  1.82831333e-01, -2.44826328e+00,  1.70652609e-01,\n",
      "       -1.25306275e-02, -8.70843252e-03, -5.06216557e-02,  4.55985752e-02,\n",
      "        3.46774914e+00,  1.35290550e-01, -7.07773165e-06, -5.77226047e-04,\n",
      "        1.11540557e-01, -1.19515566e-03,  1.03388572e-03,  4.41925430e-02,\n",
      "       -6.36522046e-04, -1.12768361e-02, -6.19555365e-02,  1.34669810e-01,\n",
      "        2.96338848e-02, -1.02352709e-01,  1.84631864e-01, -9.84273939e-01,\n",
      "       -1.45983698e+00, -6.07815968e-02]), array([ 4.86455111e-03, -1.30981444e-01, -1.39468168e-01,  1.81479793e-02,\n",
      "        5.45277197e-01,  1.90766168e-01, -1.98169514e+00,  1.66608293e-01,\n",
      "       -1.22099511e-02,  1.76680750e-03, -5.08376581e-02,  4.59900524e-02,\n",
      "        3.49740781e+00,  1.30854595e-01, -3.00553330e-04, -1.24551303e-03,\n",
      "        1.09564204e-01,  9.86501784e-05,  5.12807527e-04,  4.79949197e-02,\n",
      "        3.47570500e-04, -1.13689528e-02, -7.84793761e-02,  2.01351352e-03,\n",
      "        8.29469727e-02, -2.40048143e-02,  7.21824861e-02, -4.32889500e-01,\n",
      "       -1.79573071e+00, -4.98812347e-02]), array([ 5.18143930e-03, -1.30668007e-01, -1.41074321e-01,  1.38066259e-02,\n",
      "        6.73918570e-01,  1.90294028e-01, -2.26165083e+00,  1.66994047e-01,\n",
      "       -1.16845533e-02, -5.96868634e-03, -4.99869335e-02,  4.54651040e-02,\n",
      "        3.22041252e+00,  1.33214962e-01,  5.81231675e-04, -9.67825839e-04,\n",
      "        1.10816982e-01, -1.38199481e-03,  9.36705028e-04,  4.72129136e-02,\n",
      "        1.67907235e-04, -9.67573432e-03, -6.85521817e-02,  1.21302317e-01,\n",
      "        7.43159247e-02, -1.33290166e-01,  8.45042125e-02, -5.66275917e-01,\n",
      "       -1.24932447e+00, -5.27103334e-02]), array([ 5.93688982e-03, -1.29337715e-01, -1.41374075e-01,  1.64519590e-02,\n",
      "        2.07362291e-01,  1.92481912e-01, -1.82903410e+00,  1.67426040e-01,\n",
      "       -1.21791901e-02, -1.39565343e-02, -5.09889762e-02,  4.80539479e-02,\n",
      "        3.38255175e+00,  1.35685055e-01,  1.90272139e-05, -6.83510853e-04,\n",
      "        1.11746777e-01,  1.30048919e-04,  5.67950349e-04,  4.85554908e-02,\n",
      "        2.44736226e-04, -9.71559599e-03, -5.81839076e-02,  1.57588263e-01,\n",
      "        1.60237075e-02, -1.12835453e-01,  1.81116864e-01, -7.62877491e-01,\n",
      "       -1.27756377e+00, -6.08325221e-02])]]\n"
     ]
    }
   ],
   "source": [
    "print(bestParametersAccuracyTrain)\n",
    "print(bestParametersAccuracyTest)\n"
   ]
  },
  {
   "cell_type": "markdown",
   "metadata": {},
   "source": [
    "# Create submission"
   ]
  },
  {
   "cell_type": "code",
   "execution_count": null,
   "metadata": {},
   "outputs": [],
   "source": [
    "# load test data\n",
    "DATA_TEST_PATH = '../data/test.csv' \n",
    "_, tX_test, ids_test = load_csv_data(DATA_TEST_PATH)\n",
    "\n",
    "tX_test_std = standardize_test(tX, tX_test)\n",
    "tX_test_std =build_poly(tX_test_std, 2)\n",
    "OUTPUT_PATH = 'outLogRegD23v2.csv' \n",
    "y_pred = predict_labels(np.mean(w_LR,axis=0), tX_test_std)\n",
    "create_csv_submission(ids_test, y_pred, OUTPUT_PATH)\n"
   ]
  },
  {
   "cell_type": "code",
   "execution_count": null,
   "metadata": {},
   "outputs": [],
   "source": []
  },
  {
   "cell_type": "code",
   "execution_count": null,
   "metadata": {},
   "outputs": [],
   "source": []
  },
  {
   "cell_type": "code",
   "execution_count": null,
   "metadata": {},
   "outputs": [],
   "source": []
  }
 ],
 "metadata": {
  "anaconda-cloud": {},
  "kernelspec": {
   "display_name": "Python 3",
   "language": "python",
   "name": "python3"
  },
  "language_info": {
   "codemirror_mode": {
    "name": "ipython",
    "version": 3
   },
   "file_extension": ".py",
   "mimetype": "text/x-python",
   "name": "python",
   "nbconvert_exporter": "python",
   "pygments_lexer": "ipython3",
   "version": "3.8.3"
  },
  "toc": {
   "base_numbering": 1,
   "nav_menu": {},
   "number_sections": true,
   "sideBar": true,
   "skip_h1_title": false,
   "title_cell": "Table of Contents",
   "title_sidebar": "Contents",
   "toc_cell": false,
   "toc_position": {},
   "toc_section_display": true,
   "toc_window_display": true
  }
 },
 "nbformat": 4,
 "nbformat_minor": 1
}
