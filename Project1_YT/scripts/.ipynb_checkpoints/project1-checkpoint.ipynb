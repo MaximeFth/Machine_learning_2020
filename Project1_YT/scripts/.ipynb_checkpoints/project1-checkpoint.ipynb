{
 "cells": [
  {
   "cell_type": "code",
   "execution_count": 1,
   "metadata": {},
   "outputs": [],
   "source": [
    "# Useful starting lines\n",
    "%matplotlib inline\n",
    "import numpy as np\n",
    "import matplotlib.pyplot as plt\n",
    "%load_ext autoreload\n",
    "%autoreload 2"
   ]
  },
  {
   "cell_type": "markdown",
   "metadata": {},
   "source": [
    "## Load the training data into feature matrix, class labels, and event ids:"
   ]
  },
  {
   "cell_type": "code",
   "execution_count": 2,
   "metadata": {},
   "outputs": [],
   "source": [
    "from proj1_helpers import *\n",
    "DATA_TRAIN_PATH = '../data/train.csv'\n",
    "y, tX, ids = load_csv_data(DATA_TRAIN_PATH)"
   ]
  },
  {
   "cell_type": "markdown",
   "metadata": {},
   "source": [
    "## Do your thing crazy machine learning thing here :) ..."
   ]
  },
  {
   "cell_type": "code",
   "execution_count": 3,
   "metadata": {},
   "outputs": [],
   "source": [
    "from YT_implementations import *\n",
    "import warnings"
   ]
  },
  {
   "cell_type": "code",
   "execution_count": 4,
   "metadata": {},
   "outputs": [],
   "source": [
    "warnings.filterwarnings('ignore')"
   ]
  },
  {
   "cell_type": "code",
   "execution_count": 5,
   "metadata": {},
   "outputs": [],
   "source": [
    "# Undefined values processing\n",
    "\n",
    "# From documentation, list of features which may be undefined\n",
    "undefined_cols=[0, 4, 5, 6, 12, 23, 24, 25, 26, 27, 28]\n",
    "\n",
    "for c in undefined_cols:\n",
    "    undefined_lines = (tX[:, c]==-999)\n",
    "    tX[undefined_lines, c] = 0"
   ]
  },
  {
   "cell_type": "code",
   "execution_count": 6,
   "metadata": {},
   "outputs": [],
   "source": [
    "# Data preprocessing\n",
    "\n",
    "mean = np.mean(tX, axis=0)\n",
    "std = np.std(tX, axis=0)\n",
    "\n",
    "tX_train = standardization(tX, mean, std)"
   ]
  },
  {
   "cell_type": "code",
   "execution_count": 8,
   "metadata": {},
   "outputs": [
    {
     "name": "stdout",
     "output_type": "stream",
     "text": [
      "[29 16  2 10 17 25 13 15 27 28  8 20 24 19  8 25 11 17 12  0 22 12  2  5\n",
      " 21 16  3  4 23  9]\n"
     ]
    },
    {
     "data": {
      "image/png": "[encoded data removed]",
      "text/plain": [
       "<Figure size 432x288 with 1 Axes>"
      ]
     },
     "metadata": {
      "needs_background": "light"
     },
     "output_type": "display_data"
    }
   ],
   "source": [
    "from sklearn.decomposition import PCA\n",
    "\n",
    "pca = PCA()\n",
    "pca.fit(tX_train)\n",
    "x_test = pca.transform(tX_train)\n",
    "\n",
    "plt.scatter(list(range(30)), pca.singular_values_)\n",
    "\n",
    "features_ordered = np.abs(pca.components_).argmax(axis=1)\n",
    "features_top = features_ordered[:20]\n",
    "\n",
    "print(features_ordered)"
   ]
  },
  {
   "cell_type": "code",
   "execution_count": 9,
   "metadata": {},
   "outputs": [],
   "source": [
    "tX_train = tX_train[:, features_top]"
   ]
  },
  {
   "cell_type": "code",
   "execution_count": 10,
   "metadata": {},
   "outputs": [],
   "source": [
    "max_iters=500\n",
    "seed = 7\n",
    "k_fold = 5\n",
    "k_indices = build_k_indices(y, k_fold, seed)"
   ]
  },
  {
   "cell_type": "markdown",
   "metadata": {},
   "source": [
    "### Least Squares GD"
   ]
  },
  {
   "cell_type": "code",
   "execution_count": 28,
   "metadata": {},
   "outputs": [],
   "source": [
    "# Hyperparameter Gamma Tuning for Least Squares GD using Cross-Validation\n",
    "\n",
    "gammas = np.logspace(-4, 0, 15)\n",
    "gamma_opt, acc_opt, ls_tr, ls_te, accs_tr, accs_te = hyperparameter_tuning(y, tX_train, least_squares_GD, max_iters, k_fold, k_indices, gammas, None)\n"
   ]
  },
  {
   "cell_type": "code",
   "execution_count": 29,
   "metadata": {},
   "outputs": [
    {
     "name": "stdout",
     "output_type": "stream",
     "text": [
      "optimal gamma : 0.071969 / accuracy : 0.679052\n"
     ]
    }
   ],
   "source": [
    "print(\"optimal gamma : {:f} / accuracy : {:f}\".format(gamma_opt, acc_opt))"
   ]
  },
  {
   "cell_type": "code",
   "execution_count": 30,
   "metadata": {},
   "outputs": [
    {
     "data": {
      "text/plain": [
       "Text(0.5, 0, 'gamma')"
      ]
     },
     "execution_count": 30,
     "metadata": {},
     "output_type": "execute_result"
    },
    {
     "data": {
      "image/png": "[encoded data removed]",
      "text/plain": [
       "<Figure size 432x288 with 1 Axes>"
      ]
     },
     "metadata": {
      "needs_background": "light"
     },
     "output_type": "display_data"
    }
   ],
   "source": [
    "plt.title(\"Gamma tuning for Least Squares GD\")\n",
    "plt.xlabel(\"gamma\")\n",
    "plt.ylabel(\"accuracy\")\n",
    "plt.plot(gammas, list(zip(accs_tr, accs_te)))\n",
    "plt.plot(gamma_opt, acc_opt, 'ro')\n",
    "plt.xlabel(\"gamma\")"
   ]
  },
  {
   "cell_type": "code",
   "execution_count": 31,
   "metadata": {},
   "outputs": [
    {
     "name": "stdout",
     "output_type": "stream",
     "text": [
      "Train Loss     : 0.423250 / Test Loss     : 0.423405\n",
      "Train Accuracy : 0.679052 / Test Accuracy : 0.679052\n"
     ]
    }
   ],
   "source": [
    "test(y, tX_train, least_squares_GD, max_iters, k_fold, k_indices, gamma_opt, None)"
   ]
  },
  {
   "cell_type": "markdown",
   "metadata": {},
   "source": [
    "### Least Squares SGD"
   ]
  },
  {
   "cell_type": "code",
   "execution_count": 32,
   "metadata": {},
   "outputs": [],
   "source": [
    "# Hyperparameter Gamma Tuning for Least Squares SGD using Cross-Validation\n",
    "\n",
    "gammas = np.logspace(-4, 0, 15)\n",
    "gamma_opt, acc_opt, ls_tr, ls_te, accs_tr, accs_te = hyperparameter_tuning(y, tX_train, least_squares_SGD, max_iters, k_fold, k_indices, gammas, None)\n"
   ]
  },
  {
   "cell_type": "code",
   "execution_count": 33,
   "metadata": {},
   "outputs": [
    {
     "name": "stdout",
     "output_type": "stream",
     "text": [
      "optimal gamma : 0.002683 / accuracy : 0.669856\n"
     ]
    }
   ],
   "source": [
    "print(\"optimal gamma : {:f} / accuracy : {:f}\".format(gamma_opt, acc_opt))"
   ]
  },
  {
   "cell_type": "code",
   "execution_count": 34,
   "metadata": {
    "scrolled": true
   },
   "outputs": [
    {
     "data": {
      "text/plain": [
       "[<matplotlib.lines.Line2D at 0x11dbf2510>]"
      ]
     },
     "execution_count": 34,
     "metadata": {},
     "output_type": "execute_result"
    },
    {
     "data": {
      "image/png": "[encoded data removed]",
      "text/plain": [
       "<Figure size 432x288 with 1 Axes>"
      ]
     },
     "metadata": {
      "needs_background": "light"
     },
     "output_type": "display_data"
    }
   ],
   "source": [
    "plt.title(\"Gamma tuning for Least Squares SGD\")\n",
    "plt.xlabel(\"gamma\")\n",
    "plt.ylabel(\"accuracy\")\n",
    "plt.plot(gammas, list(zip(accs_tr, accs_te)))\n",
    "plt.plot(gamma_opt, acc_opt, 'ro')"
   ]
  },
  {
   "cell_type": "code",
   "execution_count": 35,
   "metadata": {},
   "outputs": [
    {
     "name": "stdout",
     "output_type": "stream",
     "text": [
      "Train Loss     : 0.430232 / Test Loss     : 0.430318\n",
      "Train Accuracy : 0.673028 / Test Accuracy : 0.673028\n"
     ]
    }
   ],
   "source": [
    "# Performance Test for Least Squares SGD\n",
    "test(y, tX_train, least_squares_GD, max_iters, k_fold, k_indices, gamma_opt, None)"
   ]
  },
  {
   "cell_type": "markdown",
   "metadata": {},
   "source": [
    "### Least Squares"
   ]
  },
  {
   "cell_type": "code",
   "execution_count": 39,
   "metadata": {},
   "outputs": [],
   "source": [
    "# Degree Tuning for Least Squares using Cross-Validation\n",
    "\n",
    "degrees = list(range(1, 10))\n",
    "degree_opt, acc_opt, ls_tr, ls_te, accs_tr, accs_te = hyperparameter_tuning(y, tX_train, least_squares, max_iters, k_fold, k_indices, degrees, None)\n"
   ]
  },
  {
   "cell_type": "code",
   "execution_count": 40,
   "metadata": {},
   "outputs": [
    {
     "name": "stdout",
     "output_type": "stream",
     "text": [
      "optimal degree : 4 / accuracy : 0.764696\n"
     ]
    }
   ],
   "source": [
    "print(\"optimal degree : {:d} / accuracy : {:f}\".format(degree_opt, acc_opt))"
   ]
  },
  {
   "cell_type": "code",
   "execution_count": 41,
   "metadata": {},
   "outputs": [
    {
     "data": {
      "text/plain": [
       "[<matplotlib.lines.Line2D at 0x11db34fd0>]"
      ]
     },
     "execution_count": 41,
     "metadata": {},
     "output_type": "execute_result"
    },
    {
     "data": {
      "image/png": "[encoded data removed]",
      "text/plain": [
       "<Figure size 432x288 with 1 Axes>"
      ]
     },
     "metadata": {
      "needs_background": "light"
     },
     "output_type": "display_data"
    }
   ],
   "source": [
    "plt.title(\"Degree tuning for Least Squares\")\n",
    "plt.xlabel(\"degree\")\n",
    "plt.ylabel(\"accuracy\")\n",
    "plt.plot(degrees, list(zip(accs_tr, accs_te)))\n",
    "plt.plot(degree_opt, acc_opt, 'ro')"
   ]
  },
  {
   "cell_type": "code",
   "execution_count": 42,
   "metadata": {},
   "outputs": [
    {
     "name": "stdout",
     "output_type": "stream",
     "text": [
      "Train Loss     : 0.325030 / Test Loss     : 9.713119\n",
      "Train Accuracy : 0.764696 / Test Accuracy : 0.764696\n"
     ]
    }
   ],
   "source": [
    "# Performance Test for Least Squares\n",
    "test(y, tX_train, least_squares, max_iters, k_fold, k_indices, degree_opt, None)"
   ]
  },
  {
   "cell_type": "markdown",
   "metadata": {},
   "source": [
    "### Ridge Regression"
   ]
  },
  {
   "cell_type": "code",
   "execution_count": 43,
   "metadata": {},
   "outputs": [],
   "source": [
    "# Hyperparameter and Degree Tuning for Ridge Regression using Cross-Validation\n",
    "\n",
    "degrees = list(range(1, 10))\n",
    "lambdas = np.logspace(-4, 0, 15)\n",
    "lambda_opt, degree_opt, acc_opt, ls_tr, ls_te, accs_tr, accs_te = hyperparameter_tuning(y, tX_train, ridge_regression, max_iters, k_fold, k_indices, lambdas, degrees)\n"
   ]
  },
  {
   "cell_type": "code",
   "execution_count": 44,
   "metadata": {},
   "outputs": [
    {
     "name": "stdout",
     "output_type": "stream",
     "text": [
      "optimal degree : 4 and lambda : 0.000720 / accuracy : 0.764720\n"
     ]
    }
   ],
   "source": [
    "print(\"optimal degree : {:d} and lambda : {:f} / accuracy : {:f}\".format(degree_opt, lambda_opt, acc_opt))"
   ]
  },
  {
   "cell_type": "code",
   "execution_count": 45,
   "metadata": {},
   "outputs": [
    {
     "data": {
      "text/plain": [
       "[<matplotlib.lines.Line2D at 0x1247effd0>]"
      ]
     },
     "execution_count": 45,
     "metadata": {},
     "output_type": "execute_result"
    },
    {
     "data": {
      "image/png": "[encoded data removed]",
      "text/plain": [
       "<Figure size 432x288 with 1 Axes>"
      ]
     },
     "metadata": {
      "needs_background": "light"
     },
     "output_type": "display_data"
    }
   ],
   "source": [
    "plt.title(\"Degree tuning for Ridge Regression\")\n",
    "plt.xlabel(\"degree\")\n",
    "plt.ylabel(\"loss\")\n",
    "plt.plot(degrees, list(zip(accs_tr, accs_te)))\n",
    "plt.plot(degree_opt, acc_opt, 'ro')"
   ]
  },
  {
   "cell_type": "code",
   "execution_count": 46,
   "metadata": {},
   "outputs": [
    {
     "name": "stdout",
     "output_type": "stream",
     "text": [
      "Train Loss     : 0.325048 / Test Loss     : 4.549552\n",
      "Train Accuracy : 0.764720 / Test Accuracy : 0.764720\n"
     ]
    }
   ],
   "source": [
    "# Performance Test for Ridge Regression\n",
    "test(y, tX_train, ridge_regression, max_iters, k_fold, k_indices, degree_opt, lambda_opt)"
   ]
  },
  {
   "cell_type": "markdown",
   "metadata": {},
   "source": [
    "### Logistic Regression"
   ]
  },
  {
   "cell_type": "code",
   "execution_count": 18,
   "metadata": {},
   "outputs": [],
   "source": [
    "y_logistic = y.copy()\n",
    "y_logistic[y_logistic == -1] = 0"
   ]
  },
  {
   "cell_type": "code",
   "execution_count": 20,
   "metadata": {},
   "outputs": [],
   "source": [
    "# Hyperparameter Tuning for Logistic Regression using Cross-Validation\n",
    "\n",
    "gammas = np.logspace(-4, 0, 15)\n",
    "gamma_opt, acc_opt, ls_tr, ls_te, accs_tr, accs_te = hyperparameter_tuning(y_logistic, tX_train, logistic_regression, max_iters, k_fold, k_indices, gammas, None)\n"
   ]
  },
  {
   "cell_type": "code",
   "execution_count": 21,
   "metadata": {},
   "outputs": [
    {
     "name": "stdout",
     "output_type": "stream",
     "text": [
      "optimal gamma : 0.000100 / accuracy : 0.650904\n"
     ]
    }
   ],
   "source": [
    "print(\"optimal gamma : {:f} / accuracy : {:f}\".format(gamma_opt, acc_opt))"
   ]
  },
  {
   "cell_type": "code",
   "execution_count": 22,
   "metadata": {},
   "outputs": [
    {
     "data": {
      "text/plain": [
       "[<matplotlib.lines.Line2D at 0x11b7d5cd0>]"
      ]
     },
     "execution_count": 22,
     "metadata": {},
     "output_type": "execute_result"
    },
    {
     "data": {
      "image/png": "[encoded data removed]",
      "text/plain": [
       "<Figure size 432x288 with 1 Axes>"
      ]
     },
     "metadata": {
      "needs_background": "light"
     },
     "output_type": "display_data"
    }
   ],
   "source": [
    "plt.title(\"Gamma tuning for Logistic Regression\")\n",
    "plt.xlabel(\"gamma\")\n",
    "plt.ylabel(\"accuracy\")\n",
    "plt.plot(gammas, list(zip(accs_tr, accs_te)))\n",
    "plt.plot(gamma_opt, acc_opt, 'ro')"
   ]
  },
  {
   "cell_type": "code",
   "execution_count": 23,
   "metadata": {},
   "outputs": [
    {
     "name": "stdout",
     "output_type": "stream",
     "text": [
      "Train Loss     : 673170.323105 / Test Loss     : 114.194790\n",
      "Train Accuracy : 0.650904 / Test Accuracy : 0.650904\n"
     ]
    }
   ],
   "source": [
    "# Performance Test for Logistic Regression\n",
    "\n",
    "test(y_logistic, tX_train, logistic_regression, max_iters, k_fold, k_indices, gamma_opt, None)"
   ]
  },
  {
   "cell_type": "markdown",
   "metadata": {},
   "source": [
    "### Regularized Logistic Regression"
   ]
  },
  {
   "cell_type": "code",
   "execution_count": 24,
   "metadata": {},
   "outputs": [],
   "source": [
    "# Hyperparameter Tuning for Regularized Ridge Regression using Cross-Validation\n",
    "\n",
    "gammas = np.logspace(-4, 0, 15)\n",
    "lambdas = np.logspace(-4, 0, 15)\n",
    "lambda_opt, gamma_opt, acc_opt, ls_tr, ls_te, accs_tr, accs_te = hyperparameter_tuning(y, tX_train, reg_logistic_regression, max_iters, k_fold, k_indices, lambdas, gammas)\n"
   ]
  },
  {
   "cell_type": "code",
   "execution_count": 25,
   "metadata": {},
   "outputs": [
    {
     "name": "stdout",
     "output_type": "stream",
     "text": [
      "optimal gamma : 0.000100 and lambda : 0.000100 / accuracy : 0.696728\n"
     ]
    }
   ],
   "source": [
    "print(\"optimal gamma : {:f} and lambda : {:f} / accuracy : {:f}\".format(gamma_opt, lambda_opt, acc_opt))"
   ]
  },
  {
   "cell_type": "code",
   "execution_count": 26,
   "metadata": {},
   "outputs": [
    {
     "data": {
      "text/plain": [
       "[<matplotlib.lines.Line2D at 0x11dee18d0>]"
      ]
     },
     "execution_count": 26,
     "metadata": {},
     "output_type": "execute_result"
    },
    {
     "data": {
      "image/png": "[encoded data removed]",
      "text/plain": [
       "<Figure size 432x288 with 1 Axes>"
      ]
     },
     "metadata": {
      "needs_background": "light"
     },
     "output_type": "display_data"
    }
   ],
   "source": [
    "plt.title(\"Gamma tuning for Regularized Logistic Regression\")\n",
    "plt.xlabel(\"gamma\")\n",
    "plt.ylabel(\"accuracy\")\n",
    "plt.plot(gammas, list(zip(accs_tr, accs_te)))\n",
    "plt.plot(gamma_opt, acc_opt, 'ro')"
   ]
  },
  {
   "cell_type": "code",
   "execution_count": 27,
   "metadata": {
    "scrolled": true
   },
   "outputs": [
    {
     "name": "stdout",
     "output_type": "stream",
     "text": [
      "Train Loss     : 673170.338959 / Test Loss     : 114.194793\n",
      "Train Accuracy : 0.650904 / Test Accuracy : 0.650904\n"
     ]
    }
   ],
   "source": [
    "test(y_logistic, tX_train, reg_logistic_regression, max_iters, k_fold, k_indices, gamma_opt, lambda_opt)"
   ]
  },
  {
   "cell_type": "markdown",
   "metadata": {},
   "source": [
    "## Generate predictions and save ouput in csv format for submission:"
   ]
  },
  {
   "cell_type": "code",
   "execution_count": null,
   "metadata": {},
   "outputs": [],
   "source": [
    "DATA_TEST_PATH = '../data/test.csv'\n",
    "y_test, tX_test, ids_test = load_csv_data(DATA_TEST_PATH)"
   ]
  },
  {
   "cell_type": "code",
   "execution_count": null,
   "metadata": {},
   "outputs": [],
   "source": [
    "tX_test = standardization(tX_test, mean, std)\n",
    "y_logistic = y_test.copy()\n",
    "y_logistic[y_logistic == -1] = 0\n",
    "\n",
    "initial_w = np.zeros(tX_test.shape[1])\n",
    "weights, _ = reg_logistic_regression(y_logistic, tX_test, lambda_opt, initial_w, max_iters, gamma_opt)"
   ]
  },
  {
   "cell_type": "code",
   "execution_count": null,
   "metadata": {},
   "outputs": [],
   "source": [
    "OUTPUT_PATH = 'output.csv'\n",
    "y_pred = predict_labels(weights, tX_test)\n",
    "create_csv_submission(ids_test, y_pred, OUTPUT_PATH)"
   ]
  },
  {
   "cell_type": "code",
   "execution_count": null,
   "metadata": {},
   "outputs": [],
   "source": [
    "compute_accuracy(pd.read_csv(OUTPUT_PATH).Prediction.values.tolist(), y_test)"
   ]
  }
 ],
 "metadata": {
  "anaconda-cloud": {},
  "kernelspec": {
   "display_name": "Python 3",
   "language": "python",
   "name": "python3"
  },
  "language_info": {
   "codemirror_mode": {
    "name": "ipython",
    "version": 3
   },
   "file_extension": ".py",
   "mimetype": "text/x-python",
   "name": "python",
   "nbconvert_exporter": "python",
   "pygments_lexer": "ipython3",
   "version": "3.7.6"
  }
 },
 "nbformat": 4,
 "nbformat_minor": 1
}
