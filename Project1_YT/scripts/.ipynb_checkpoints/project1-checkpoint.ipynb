{
 "cells": [
  {
   "cell_type": "code",
   "execution_count": null,
   "metadata": {},
   "outputs": [],
   "source": [
    "# Useful starting lines\n",
    "%matplotlib inline\n",
    "import numpy as np\n",
    "import matplotlib.pyplot as plt\n",
    "%load_ext autoreload\n",
    "%autoreload 2"
   ]
  },
  {
   "cell_type": "markdown",
   "metadata": {},
   "source": [
    "## Load the training data into feature matrix, class labels, and event ids:"
   ]
  },
  {
   "cell_type": "code",
   "execution_count": null,
   "metadata": {},
   "outputs": [],
   "source": [
    "from proj1_helpers import *\n",
    "DATA_TRAIN_PATH = '../data/train.csv'\n",
    "y, tX, ids = load_csv_data(DATA_TRAIN_PATH)"
   ]
  },
  {
   "cell_type": "markdown",
   "metadata": {},
   "source": [
    "## Do your thing crazy machine learning thing here :) ..."
   ]
  },
  {
   "cell_type": "code",
   "execution_count": null,
   "metadata": {},
   "outputs": [],
   "source": [
    "from YT_implementations import *"
   ]
  },
  {
   "cell_type": "code",
   "execution_count": null,
   "metadata": {},
   "outputs": [],
   "source": [
    "# Data preprocessing\n",
    "\n",
    "mean = np.mean(tX, axis=0)\n",
    "std = np.std(tX, axis=0)\n",
    "\n",
    "tX_train = standardization(tX, mean, std)"
   ]
  },
  {
   "cell_type": "code",
   "execution_count": null,
   "metadata": {},
   "outputs": [],
   "source": [
    "seed = 7"
   ]
  },
  {
   "cell_type": "markdown",
   "metadata": {},
   "source": [
    "### Least Squares GD"
   ]
  },
  {
   "cell_type": "code",
   "execution_count": null,
   "metadata": {},
   "outputs": [],
   "source": [
    "max_iters = 500\n",
    "gammas = np.linspace(0.001, 0.2, 20)\n",
    "\n",
    "losses = []\n",
    "accuracies = []\n",
    "\n",
    "for gamma in gammas:\n",
    "    initial_w = np.zeros(tX_train.shape[1])\n",
    "    w_LSGD, loss_LSGD = least_squares_GD(y, tX_train, initial_w, max_iters, gamma)\n",
    "\n",
    "    y_pred_LSGD = predict_labels(w_LSGD, tX_train)\n",
    "    acc_LSGD = compute_accuracy(y_pred_LSGD, y)\n",
    "    \n",
    "    losses.append(loss_LSGD)\n",
    "    accuracies.append(acc_LSGD)\n",
    "    \n",
    "gamma_opt = gammas[np.argmin(losses)]\n",
    "print(gamma_opt, accuracies[np.argmin(losses)])"
   ]
  },
  {
   "cell_type": "code",
   "execution_count": null,
   "metadata": {},
   "outputs": [],
   "source": [
    "plt.plot(gammas, losses)"
   ]
  },
  {
   "cell_type": "code",
   "execution_count": null,
   "metadata": {},
   "outputs": [],
   "source": [
    "max_iters = 1000\n",
    "gamma = gamma_opt\n",
    "\n",
    "initial_w = np.zeros(tX_train.shape[1])\n",
    "w_LSGD, loss_LSGD = least_squares_GD(y, tX_train, initial_w, max_iters, gamma)\n",
    "\n",
    "y_pred_LSGD = predict_labels(w_LSGD, tX_train)\n",
    "acc_LSGD = compute_accuracy(y_pred_LSGD, y)\n",
    "\n",
    "acc_LSGD"
   ]
  },
  {
   "cell_type": "markdown",
   "metadata": {},
   "source": [
    "### Least Squares SGD"
   ]
  },
  {
   "cell_type": "code",
   "execution_count": null,
   "metadata": {},
   "outputs": [],
   "source": [
    "max_iters = 1000\n",
    "gamma = gamma_opt\n",
    "\n",
    "initial_w = np.zeros(tX_train.shape[1])\n",
    "w_LSSGD, loss_LSSGD = least_squares_SGD(y, tX_train, initial_w, max_iters, gamma_SGD)\n",
    "\n",
    "y_pred_LSSGD = predict_labels(w_LSSGD, tX_train)\n",
    "acc_LSSGD = compute_accuracy(y_pred_LSSGD, y)\n",
    "\n",
    "acc_LSSGD"
   ]
  },
  {
   "cell_type": "markdown",
   "metadata": {},
   "source": [
    "### Least Squares"
   ]
  },
  {
   "cell_type": "code",
   "execution_count": null,
   "metadata": {},
   "outputs": [],
   "source": [
    "# Opt Degree\n",
    "\n",
    "k_fold = 5\n",
    "k_indices = build_k_indices(y, k_fold, seed)\n",
    "\n",
    "degrees = [1, 3, 5, 7, 9]\n",
    "\n",
    "losses_opt = []\n",
    "\n",
    "for degree in degrees:\n",
    "    losses = []\n",
    "\n",
    "    for k in range(k_fold):\n",
    "        w, loss, acc_tr, acc_te = cross_validation(y, tX_train, k_indices, k, degree, False, least_squares)\n",
    "        losses.append(loss)\n",
    "            \n",
    "    losses_opt.append(np.mean(losses))\n",
    "    \n",
    "degree_opt = degrees[np.argmin(losses_opt)]\n",
    "\n",
    "print(degree_opt)"
   ]
  },
  {
   "cell_type": "code",
   "execution_count": null,
   "metadata": {},
   "outputs": [],
   "source": [
    "plt.plot(degrees, losses_opt)"
   ]
  },
  {
   "cell_type": "code",
   "execution_count": null,
   "metadata": {},
   "outputs": [],
   "source": [
    "tX_train_aug = build_poly(tX_train, degree_opt)\n",
    "\n",
    "w_LS, loss_LS = least_squares(y, tX_train_aug)\n",
    "\n",
    "y_pred_LS = predict_labels(w_LS, tX_train_aug)\n",
    "acc_LS = compute_accuracy(y_pred_LS, y)\n",
    "\n",
    "acc_LS"
   ]
  },
  {
   "cell_type": "markdown",
   "metadata": {},
   "source": [
    "### Ridge Regression"
   ]
  },
  {
   "cell_type": "code",
   "execution_count": null,
   "metadata": {},
   "outputs": [],
   "source": [
    "# Parameters Tuning\n",
    "\n",
    "k_fold = 5\n",
    "k_indices = build_k_indices(y, k_fold, seed)\n",
    "\n",
    "degrees = [1, 3, 5, 7, 9]\n",
    "#lambdas = np.logspace(-4, 0, 30)\n",
    "lambdas = [0.05, 0.001]\n",
    "\n",
    "losses_opt = []\n",
    "lambdas_opt = []\n",
    "\n",
    "for degree in degrees:\n",
    "    losses = []\n",
    "    \n",
    "    for lambda_ in lambdas:\n",
    "        losses_tmp = []\n",
    "\n",
    "        for k in range(k_fold):\n",
    "            w, loss_tr, loss_te, acc_tr, acc_te = cross_validation(y, tX_train, k_indices, k, degree, False, ridge_regression, lambda_=lambda_)\n",
    "            losses_tmp.append(loss_te)\n",
    "            \n",
    "        losses.append(np.mean(losses_tmp))\n",
    "\n",
    "    ind_lambda_opt = np.argmin(losses)\n",
    "    lambdas_opt.append(lambdas[ind_lambda_opt])\n",
    "    losses_opt.append(losses[ind_lambda_opt])\n",
    "    \n",
    "degree_opt = degrees[np.argmin(losses_opt)]\n",
    "lambda_opt = lambdas_opt[np.argmin(losses_opt)]\n",
    "\n",
    "print(degree_opt)\n",
    "print(lambda_opt)\n",
    "    "
   ]
  },
  {
   "cell_type": "code",
   "execution_count": null,
   "metadata": {},
   "outputs": [],
   "source": [
    "plt.plot(degrees, losses_opt)"
   ]
  },
  {
   "cell_type": "code",
   "execution_count": null,
   "metadata": {},
   "outputs": [],
   "source": [
    "tX_train_aug = build_poly(tX_train, degree_opt)\n",
    "\n",
    "w_RR, loss_RR = ridge_regression(y, tX_train_aug, lambda_opt)\n",
    "\n",
    "y_pred_RR = predict_labels(w_RR, tX_train_aug)\n",
    "acc_RR = compute_accuracy(y_pred_RR, y)\n",
    "\n",
    "acc_RR"
   ]
  },
  {
   "cell_type": "markdown",
   "metadata": {},
   "source": [
    "### Logistic Regression"
   ]
  },
  {
   "cell_type": "code",
   "execution_count": null,
   "metadata": {},
   "outputs": [],
   "source": [
    "y_logistic = y.copy()\n",
    "y_logistic[y_logistic == -1] = 0"
   ]
  },
  {
   "cell_type": "code",
   "execution_count": null,
   "metadata": {},
   "outputs": [],
   "source": [
    "# Parameters Tuning\n",
    "\n",
    "max_iters = 100\n",
    "\n",
    "k_fold = 5\n",
    "k_indices = build_k_indices(y, k_fold, seed)\n",
    "\n",
    "#gammas = np.logspace(-4, 1, 30)\n",
    "gammas = [0.05, 0.001, 0.1]\n",
    "\n",
    "losses_opt = []\n",
    "gammas_opt = []\n",
    "    \n",
    "for gamma in gammas:\n",
    "    losses = []\n",
    "    for k in range(k_fold):\n",
    "        w, loss_tr, loss_te, acc_tr, acc_te = cross_validation(y_logistic, tX_train, k_indices, k, degree, True, logistic_regression, initial_w=None, max_iters=max_iters, gamma=gamma)\n",
    "        losses_tmp.append(loss_te)\n",
    "\n",
    "    losses.append(np.mean(losses_tmp))\n",
    "\n",
    "ind_gamma_opt = np.argmin(losses)\n",
    "lambdas_opt.append(gammas[ind_lambda_opt])\n",
    "losses_opt.append(losses[ind_lambda_opt])\n",
    "    \n",
    "gamma_opt = gammas_opt[np.argmin(losses_opt)]\n",
    "\n",
    "print(gamma_opt)"
   ]
  },
  {
   "cell_type": "code",
   "execution_count": null,
   "metadata": {
    "scrolled": true
   },
   "outputs": [],
   "source": [
    "tX_train_aug = build_poly(tX_train, degree_opt=1)\n",
    "initial_w = np.zeros(tX_train.shape[1])\n",
    "w_LR, loss_LR = logistic_regression(y_logistic, tX_train, initial_w, max_iters, gamma_opt)\n",
    "\n",
    "y_pred_LR = predict_labels(w_LR, x_train)\n",
    "acc_LR = compute_accuracy(y_pred_LR, y)\n",
    "\n",
    "print(loss_LR)\n",
    "\n",
    "acc_LR"
   ]
  },
  {
   "cell_type": "markdown",
   "metadata": {},
   "source": [
    "### Regularized Logistic Regression"
   ]
  },
  {
   "cell_type": "code",
   "execution_count": null,
   "metadata": {},
   "outputs": [],
   "source": [
    "initial_w = np.zeros(x_train.shape[1])\n",
    "w_RLR, loss_RLR = reg_logistic_regression(y_logistic, x_train, lambda_, initial_w, max_iters, gamma)\n",
    "\n",
    "y_pred_RLR = predict_labels(w_RLR, x_train)\n",
    "acc_RLR = compute_accuracy(y_pred_RLR, y)\n",
    "\n",
    "acc_RLR"
   ]
  },
  {
   "cell_type": "markdown",
   "metadata": {},
   "source": [
    "## Generate predictions and save ouput in csv format for submission:"
   ]
  },
  {
   "cell_type": "code",
   "execution_count": null,
   "metadata": {},
   "outputs": [],
   "source": [
    "DATA_TEST_PATH = '../data/test.csv'\n",
    "y_test, tX_test, ids_test = load_csv_data(DATA_TEST_PATH)"
   ]
  },
  {
   "cell_type": "code",
   "execution_count": null,
   "metadata": {},
   "outputs": [],
   "source": [
    "x_test = standardization(tX_test, mean, std)"
   ]
  },
  {
   "cell_type": "code",
   "execution_count": null,
   "metadata": {},
   "outputs": [],
   "source": [
    "OUTPUT_PATH = 'output.csv' # TODO: fill in desired name of output file for submission\n",
    "y_pred = predict_labels(weights, tX_test)\n",
    "create_csv_submission(ids_test, y_pred, OUTPUT_PATH)"
   ]
  },
  {
   "cell_type": "code",
   "execution_count": null,
   "metadata": {
    "collapsed": true
   },
   "outputs": [],
   "source": []
  }
 ],
 "metadata": {
  "anaconda-cloud": {},
  "kernelspec": {
   "display_name": "Python 3",
   "language": "python",
   "name": "python3"
  },
  "language_info": {
   "codemirror_mode": {
    "name": "ipython",
    "version": 3
   },
   "file_extension": ".py",
   "mimetype": "text/x-python",
   "name": "python",
   "nbconvert_exporter": "python",
   "pygments_lexer": "ipython3",
   "version": "3.7.6"
  }
 },
 "nbformat": 4,
 "nbformat_minor": 1
}
