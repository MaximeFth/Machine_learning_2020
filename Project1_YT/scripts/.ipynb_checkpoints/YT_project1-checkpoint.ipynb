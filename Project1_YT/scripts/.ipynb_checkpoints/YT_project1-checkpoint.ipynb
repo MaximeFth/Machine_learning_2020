{
 "cells": [
  {
   "cell_type": "code",
   "execution_count": null,
   "metadata": {},
   "outputs": [],
   "source": [
    "# Useful starting lines\n",
    "%matplotlib inline\n",
    "import numpy as np\n",
    "import matplotlib.pyplot as plt\n",
    "%load_ext autoreload\n",
    "%autoreload 2"
   ]
  },
  {
   "cell_type": "markdown",
   "metadata": {},
   "source": [
    "## Load the training data into feature matrix, class labels, and event ids:"
   ]
  },
  {
   "cell_type": "code",
   "execution_count": null,
   "metadata": {},
   "outputs": [],
   "source": [
    "from proj1_helpers import *\n",
    "DATA_TRAIN_PATH = '../data/train.csv'\n",
    "y, tX, ids = load_csv_data(DATA_TRAIN_PATH)"
   ]
  },
  {
   "cell_type": "markdown",
   "metadata": {},
   "source": [
    "## Do your thing crazy machine learning thing here :) ..."
   ]
  },
  {
   "cell_type": "code",
   "execution_count": null,
   "metadata": {},
   "outputs": [],
   "source": [
    "from YT_implementations import *"
   ]
  },
  {
   "cell_type": "code",
   "execution_count": null,
   "metadata": {},
   "outputs": [],
   "source": [
    "jet_num = 4"
   ]
  },
  {
   "cell_type": "code",
   "execution_count": null,
   "metadata": {},
   "outputs": [],
   "source": []
  },
  {
   "cell_type": "markdown",
   "metadata": {},
   "source": [
    "Create 4 datasets each for tX and y depending on the value of PRI_jet_num (0, 1, 2 or 3)"
   ]
  },
  {
   "cell_type": "code",
   "execution_count": null,
   "metadata": {},
   "outputs": [],
   "source": [
    "indices = [[] for i in range(jet_num)]\n",
    "tXs = [[] for i in range(jet_num)]\n",
    "ys = [[] for i in range(jet_num)]\n",
    "\n",
    "for i in range(jet_num):\n",
    "    indices[i] = tX[:, 22] == i\n",
    "    tXs[i] = tX[indices[i]]\n",
    "    ys[i] = y[indices[i]]"
   ]
  },
  {
   "cell_type": "markdown",
   "metadata": {},
   "source": [
    "For jet_num = 0 : jet_all_pt's value is 0 too, as it's the sum of the transverse momentum of all the jets of the events."
   ]
  },
  {
   "cell_type": "code",
   "execution_count": null,
   "metadata": {},
   "outputs": [],
   "source": [
    "indices_nans = [[] for i in range(jet_num)]\n",
    "indices_zeros = [[] for i in range(jet_num)]\n",
    "columns_all_nans = [[] for i in range(jet_num)]\n",
    "columns_all_zeros = [[] for i in range(jet_num)]\n",
    "columns_to_drops = [[] for i in range(jet_num)]\n",
    "\n",
    "for i in range(jet_num):\n",
    "    indices_nans[i] = tXs[i] == -999\n",
    "    indices_zeros[i] = tXs[i] == 0\n",
    "    \n",
    "    columns_all_nans[i] = indices_nans[i].any(axis=0)\n",
    "    columns_all_zeros[i] = indices_zeros[i].all(axis=0)\n",
    "    \n",
    "    columns_to_drops[i] = np.append(np.argwhere(columns_all_nans[i] == True), np.argwhere(columns_all_zeros[i] == True)).ravel()\n",
    "    tXs[i] = np.delete(tXs[i], columns_to_drops[i], axis=1)"
   ]
  },
  {
   "cell_type": "code",
   "execution_count": null,
   "metadata": {},
   "outputs": [],
   "source": [
    "def standardization(x):\n",
    "    return (x - np.mean(x, axis=0)) / (np.std(x, axis=0) + np.finfo(float).eps)"
   ]
  },
  {
   "cell_type": "code",
   "execution_count": null,
   "metadata": {},
   "outputs": [],
   "source": [
    "for i in range(jet_num):\n",
    "    tXs[i] = standardization(tXs[i])"
   ]
  },
  {
   "cell_type": "code",
   "execution_count": null,
   "metadata": {},
   "outputs": [],
   "source": [
    "def build_poly(x, degree):\n",
    "    \"\"\"polynomial basis functions for input data x, for j=0 up to j=degree.\"\"\"\n",
    "    poly = x\n",
    "    for deg in range(2, degree+1):\n",
    "        poly = np.c_[poly, np.power(x, deg)]\n",
    "    return poly"
   ]
  },
  {
   "cell_type": "code",
   "execution_count": null,
   "metadata": {},
   "outputs": [],
   "source": [
    "max_iters = 1000\n",
    "gamma = 0.05\n",
    "lambda_ = 0.05"
   ]
  },
  {
   "cell_type": "markdown",
   "metadata": {},
   "source": [
    "# Least Squares GD"
   ]
  },
  {
   "cell_type": "code",
   "execution_count": null,
   "metadata": {},
   "outputs": [],
   "source": [
    "losses = []\n",
    "ws = []\n",
    "means = []\n",
    "\n",
    "for i in range(jet_num):\n",
    "    \n",
    "    initial_w = np.zeros(tXs[i].shape[1])\n",
    "    w, loss = least_squares_GD(ys[i], tXs[i], initial_w, max_iters, gamma)\n",
    "\n",
    "    losses.append(loss)\n",
    "    ws.append(w)\n",
    "    means.append(np.mean(predict_labels(w, tXs[i]) == ys[i]))\n",
    "\n",
    "loss_LSGD = losses\n",
    "w_LSGD = ws"
   ]
  },
  {
   "cell_type": "code",
   "execution_count": null,
   "metadata": {},
   "outputs": [],
   "source": [
    "losses = []\n",
    "ws = []\n",
    "means = []\n",
    "\n",
    "for i in range(jet_num):\n",
    "    \n",
    "    initial_w = np.zeros(tXs[i].shape[1])\n",
    "    w, loss = least_squares_GD(ys[i], tXs[i], initial_w, max_iters, gamma)\n",
    "\n",
    "    losses.append(loss)\n",
    "    ws.append(w)\n",
    "    means.append(np.mean(predict_labels(w, tXs[i]) == ys[i]))\n",
    "\n",
    "loss_LSGD = losses\n",
    "w_LSGD = ws"
   ]
  },
  {
   "cell_type": "code",
   "execution_count": null,
   "metadata": {
    "scrolled": true
   },
   "outputs": [],
   "source": [
    "np.mean(loss_LSGD)"
   ]
  },
  {
   "cell_type": "code",
   "execution_count": null,
   "metadata": {},
   "outputs": [],
   "source": [
    "plt.boxplot(loss_LSGD)\n",
    "plt.show()"
   ]
  },
  {
   "cell_type": "markdown",
   "metadata": {},
   "source": [
    "# Least Squares SGD"
   ]
  },
  {
   "cell_type": "code",
   "execution_count": null,
   "metadata": {},
   "outputs": [],
   "source": [
    "losses = []\n",
    "ws = []\n",
    "means = []\n",
    "\n",
    "for i in range(jet_num):\n",
    " \n",
    "    initial_w = np.zeros(tXs[i].shape[1])\n",
    "    w, loss = least_squares_SGD(ys[i], tXs[i], initial_w, max_iters, gamma)\n",
    "            \n",
    "    losses.append(loss)\n",
    "    ws.append(w)\n",
    "    means.append(np.mean(predict_labels(w, tXs[i]) == ys[i]))\n",
    "    \n",
    "loss_LSSGD = losses\n",
    "w_LSSGD = ws"
   ]
  },
  {
   "cell_type": "code",
   "execution_count": null,
   "metadata": {},
   "outputs": [],
   "source": [
    "np.mean(loss_LSSGD)"
   ]
  },
  {
   "cell_type": "code",
   "execution_count": null,
   "metadata": {},
   "outputs": [],
   "source": [
    "plt.boxplot(loss_LSSGD)\n",
    "plt.show()"
   ]
  },
  {
   "cell_type": "markdown",
   "metadata": {},
   "source": [
    "I used batch_size = 100. With batch_size = 1, the loss value is very very big."
   ]
  },
  {
   "cell_type": "markdown",
   "metadata": {},
   "source": [
    "# Least Squares"
   ]
  },
  {
   "cell_type": "code",
   "execution_count": null,
   "metadata": {},
   "outputs": [],
   "source": [
    "losses = []\n",
    "ws = []\n",
    "means = []\n",
    "\n",
    "for i in range(jet_num):\n",
    "    w, loss = least_squares(ys[i], tXs[i])\n",
    "\n",
    "    losses.append(loss)\n",
    "    ws.append(w)\n",
    "    means.append(np.mean(predict_labels(w, tXs[i]) == ys[i]))\n",
    "    \n",
    "loss_LS = losses\n",
    "w_LS = ws"
   ]
  },
  {
   "cell_type": "code",
   "execution_count": null,
   "metadata": {},
   "outputs": [],
   "source": [
    "losses = []\n",
    "ws = []\n",
    "means = []\n",
    "losses_means = []\n",
    "\n",
    "for d in range(2, 10):\n",
    "    losses_deg = []\n",
    "    ws_deg = []\n",
    "    means_deg = []\n",
    "    for i in range(jet_num):\n",
    "        x = build_poly(tXs[i], d)\n",
    "        w, loss = least_squares(ys[i], x)\n",
    "\n",
    "        losses_deg.append(loss)\n",
    "        ws_deg.append(w)\n",
    "        means_deg.append(np.mean(predict_labels(w, x) == ys[i]))\n",
    "\n",
    "    losses.append(losses_deg)\n",
    "    ws.append(ws_deg)\n",
    "    means.append(means_deg)\n",
    "    print(losses_deg)\n",
    "    losses_means.append(np.mean(losses))\n",
    "    \n",
    "index = losses_means.index(min(losses_means))\n",
    "loss_LS = losses[index]\n",
    "w_LS = ws[index]"
   ]
  },
  {
   "cell_type": "code",
   "execution_count": null,
   "metadata": {},
   "outputs": [],
   "source": [
    "np.mean(loss_LS)"
   ]
  },
  {
   "cell_type": "code",
   "execution_count": null,
   "metadata": {},
   "outputs": [],
   "source": [
    "plt.boxplot(loss_LS)\n",
    "plt.show()"
   ]
  },
  {
   "cell_type": "markdown",
   "metadata": {},
   "source": [
    "# Ridge Regression"
   ]
  },
  {
   "cell_type": "code",
   "execution_count": null,
   "metadata": {},
   "outputs": [],
   "source": [
    "losses = []\n",
    "ws = []\n",
    "means = []\n",
    "losses_means = []\n",
    "\n",
    "for d in range(2, 10):\n",
    "    losses_deg = []\n",
    "    ws_deg = []\n",
    "    means_deg = []\n",
    "    for i in range(jet_num):\n",
    "        x = build_poly(tXs[i], d)\n",
    "        w, loss = ridge_regression(ys[i], x, lambda_)\n",
    "\n",
    "        losses_deg.append(loss)\n",
    "        ws_deg.append(w)\n",
    "        means_deg.append(np.mean(predict_labels(w, x) == ys[i]))\n",
    "\n",
    "    losses.append(losses_deg)\n",
    "    ws.append(ws_deg)\n",
    "    means.append(means_deg)\n",
    "    print(losses_deg)\n",
    "    losses_means.append(np.mean(losses))\n",
    "    \n",
    "index = losses_means.index(min(losses_means))\n",
    "loss_RR = losses[index]\n",
    "w_RR = ws[index]"
   ]
  },
  {
   "cell_type": "code",
   "execution_count": null,
   "metadata": {},
   "outputs": [],
   "source": [
    "np.mean(loss_RR)"
   ]
  },
  {
   "cell_type": "code",
   "execution_count": null,
   "metadata": {},
   "outputs": [],
   "source": [
    "plt.boxplot(loss_RR)\n",
    "plt.show()"
   ]
  },
  {
   "cell_type": "markdown",
   "metadata": {},
   "source": [
    "# Logistic Regression"
   ]
  },
  {
   "cell_type": "code",
   "execution_count": null,
   "metadata": {},
   "outputs": [],
   "source": [
    "losses = []\n",
    "ws = []\n",
    "means = []\n",
    "\n",
    "for i in range(jet_num):\n",
    "    initial_w = np.zeros(tXs[i].shape[1])\n",
    "    w, loss = logistic_regression(ys[i], tXs[i], initial_w, max_iters, gamma)\n",
    "\n",
    "    losses.append(loss)\n",
    "    ws.append(w)\n",
    "    means.append(np.mean(predict_labels(w, tXs[i]) == ys[i]))\n",
    "\n",
    "loss_LR = losses\n",
    "w_LR = ws"
   ]
  },
  {
   "cell_type": "code",
   "execution_count": null,
   "metadata": {},
   "outputs": [],
   "source": [
    "loss_LR"
   ]
  },
  {
   "cell_type": "code",
   "execution_count": null,
   "metadata": {},
   "outputs": [],
   "source": [
    "np.mean(loss_LR)"
   ]
  },
  {
   "cell_type": "code",
   "execution_count": null,
   "metadata": {},
   "outputs": [],
   "source": [
    "plt.boxplot(loss_LR)\n",
    "plt.show()"
   ]
  },
  {
   "cell_type": "markdown",
   "metadata": {},
   "source": [
    "# Regularized Logistic Regression"
   ]
  },
  {
   "cell_type": "code",
   "execution_count": null,
   "metadata": {},
   "outputs": [],
   "source": [
    "losses = []\n",
    "ws = []\n",
    "means = []\n",
    "\n",
    "for i in range(jet_num):\n",
    "    initial_w = np.zeros(tXs[i].shape[1])\n",
    "    w, loss = reg_logistic_regression(ys[i], tXs[i], lambda_, initial_w, max_iters, gamma)\n",
    "\n",
    "    losses.append(loss)\n",
    "    ws.append(w)\n",
    "    means.append(np.mean(predict_labels(w, tXs[i]) == ys[i]))\n",
    "\n",
    "loss_RLR = losses\n",
    "w_RLR = ws"
   ]
  },
  {
   "cell_type": "code",
   "execution_count": null,
   "metadata": {},
   "outputs": [],
   "source": [
    "loss_RLR"
   ]
  },
  {
   "cell_type": "markdown",
   "metadata": {},
   "source": [
    "## Generate predictions and save ouput in csv format for submission:"
   ]
  },
  {
   "cell_type": "code",
   "execution_count": null,
   "metadata": {},
   "outputs": [],
   "source": [
    "DATA_TEST_PATH = '../data/test.csv'\n",
    "_, tX_test, ids_test = load_csv_data(DATA_TEST_PATH)"
   ]
  },
  {
   "cell_type": "markdown",
   "metadata": {},
   "source": [
    "OUTPUT_PATH = '../ML_Project1_Data/sample-submission.csv'\n",
    "y_pred = predict_labels(weights, tX_test)\n",
    "create_csv_submission(ids_test, y_pred, OUTPUT_PATH)"
   ]
  },
  {
   "cell_type": "code",
   "execution_count": null,
   "metadata": {},
   "outputs": [],
   "source": [
    "indices_test = [[] for i in range(jet_num)]\n",
    "tXs_test = [[] for i in range(jet_num)]\n",
    "\n",
    "for i in range(jet_num):\n",
    "    indices_test[i] = tX_test[:, 22] == i\n",
    "    tXs_test[i] = tX_test[indices_test[i]]\n",
    "    \n",
    "indices_nans = [[] for i in range(jet_num)]\n",
    "indices_zeros = [[] for i in range(jet_num)]\n",
    "columns_all_nans = [[] for i in range(jet_num)]\n",
    "columns_all_zeros = [[] for i in range(jet_num)]\n",
    "columns_to_drops = [[] for i in range(jet_num)]\n",
    "\n",
    "for i in range(jet_num):\n",
    "    indices_nans[i] = tXs_test[i] == -999\n",
    "    indices_zeros[i] = tXs_test[i] == 0\n",
    "    \n",
    "    columns_all_nans[i] = indices_nans[i].all(axis=0)\n",
    "    columns_all_zeros[i] = indices_zeros[i].all(axis=0)\n",
    "    \n",
    "    columns_to_drops[i] = np.append(np.argwhere(columns_all_nans[i] == True), np.argwhere(columns_all_zeros[i] == True)).ravel()\n",
    "    tXs_test[i] = np.delete(tXs_test[i], columns_to_drops[i], axis=1)\n",
    "    \n",
    "for i in range(jet_num):\n",
    "    tXs_test[i] = standardization(tXs_test[i])"
   ]
  },
  {
   "cell_type": "code",
   "execution_count": null,
   "metadata": {},
   "outputs": [],
   "source": [
    "OUTPUT_PATH = '../sample-submission.csv'\n",
    "\n",
    "for i in range(jet_num):\n",
    "    y_pred = predict_labels(w_LSGD[i], tXs_test[i])\n",
    "\n",
    "create_csv_submission(ids_test, y_pred, OUTPUT_PATH)"
   ]
  }
 ],
 "metadata": {
  "anaconda-cloud": {},
  "kernelspec": {
   "display_name": "Python 3",
   "language": "python",
   "name": "python3"
  },
  "language_info": {
   "codemirror_mode": {
    "name": "ipython",
    "version": 3
   },
   "file_extension": ".py",
   "mimetype": "text/x-python",
   "name": "python",
   "nbconvert_exporter": "python",
   "pygments_lexer": "ipython3",
   "version": "3.7.6"
  }
 },
 "nbformat": 4,
 "nbformat_minor": 1
}
