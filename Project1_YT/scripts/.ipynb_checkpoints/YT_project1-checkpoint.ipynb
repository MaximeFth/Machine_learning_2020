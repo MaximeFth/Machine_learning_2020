{
 "cells": [
  {
   "cell_type": "code",
   "execution_count": 1,
   "metadata": {},
   "outputs": [],
   "source": [
    "# Useful starting lines\n",
    "%matplotlib inline\n",
    "import numpy as np\n",
    "import matplotlib.pyplot as plt\n",
    "%load_ext autoreload\n",
    "%autoreload 2"
   ]
  },
  {
   "cell_type": "markdown",
   "metadata": {},
   "source": [
    "## Load the training data into feature matrix, class labels, and event ids:"
   ]
  },
  {
   "cell_type": "code",
   "execution_count": 3,
   "metadata": {},
   "outputs": [],
   "source": [
    "from proj1_helpers import *\n",
    "DATA_TRAIN_PATH = '../data/train.csv'\n",
    "y, tX, ids = load_csv_data(DATA_TRAIN_PATH)"
   ]
  },
  {
   "cell_type": "markdown",
   "metadata": {},
   "source": [
    "## Do your thing crazy machine learning thing here :) ..."
   ]
  },
  {
   "cell_type": "code",
   "execution_count": 4,
   "metadata": {},
   "outputs": [],
   "source": [
    "from YT_implementations import *"
   ]
  },
  {
   "cell_type": "code",
   "execution_count": 5,
   "metadata": {},
   "outputs": [],
   "source": [
    "jet_num = 4"
   ]
  },
  {
   "cell_type": "code",
   "execution_count": null,
   "metadata": {},
   "outputs": [],
   "source": []
  },
  {
   "cell_type": "markdown",
   "metadata": {},
   "source": [
    "Create 4 datasets each for tX and y depending on the value of PRI_jet_num (0, 1, 2 or 3)"
   ]
  },
  {
   "cell_type": "code",
   "execution_count": 5,
   "metadata": {},
   "outputs": [],
   "source": [
    "indices = [[] for i in range(jet_num)]\n",
    "tXs = [[] for i in range(jet_num)]\n",
    "ys = [[] for i in range(jet_num)]\n",
    "\n",
    "for i in range(jet_num):\n",
    "    indices[i] = tX[:, 22] == i\n",
    "    tXs[i] = tX[indices[i]]\n",
    "    ys[i] = y[indices[i]]"
   ]
  },
  {
   "cell_type": "markdown",
   "metadata": {},
   "source": [
    "For jet_num = 0 : jet_all_pt's value is 0 too, as it's the sum of the transverse momentum of all the jets of the events."
   ]
  },
  {
   "cell_type": "code",
   "execution_count": 6,
   "metadata": {},
   "outputs": [],
   "source": [
    "indices_nans = [[] for i in range(jet_num)]\n",
    "indices_zeros = [[] for i in range(jet_num)]\n",
    "columns_all_nans = [[] for i in range(jet_num)]\n",
    "columns_all_zeros = [[] for i in range(jet_num)]\n",
    "columns_to_drops = [[] for i in range(jet_num)]\n",
    "\n",
    "for i in range(jet_num):\n",
    "    indices_nans[i] = tXs[i] == -999\n",
    "    indices_zeros[i] = tXs[i] == 0\n",
    "    \n",
    "    columns_all_nans[i] = indices_nans[i].any(axis=0)\n",
    "    columns_all_zeros[i] = indices_zeros[i].all(axis=0)\n",
    "    \n",
    "    columns_to_drops[i] = np.append(np.argwhere(columns_all_nans[i] == True), np.argwhere(columns_all_zeros[i] == True)).ravel()\n",
    "    tXs[i] = np.delete(tXs[i], columns_to_drops[i], axis=1)"
   ]
  },
  {
   "cell_type": "code",
   "execution_count": 7,
   "metadata": {},
   "outputs": [],
   "source": [
    "def standardization(x):\n",
    "    return (x - np.mean(x, axis=0)) / (np.std(x, axis=0) + np.finfo(float).eps)"
   ]
  },
  {
   "cell_type": "code",
   "execution_count": 8,
   "metadata": {},
   "outputs": [],
   "source": [
    "for i in range(jet_num):\n",
    "    tXs[i] = standardization(tXs[i])"
   ]
  },
  {
   "cell_type": "code",
   "execution_count": 9,
   "metadata": {},
   "outputs": [],
   "source": [
    "def build_poly(x, degree):\n",
    "    \"\"\"polynomial basis functions for input data x, for j=0 up to j=degree.\"\"\"\n",
    "    poly = x\n",
    "    for deg in range(2, degree+1):\n",
    "        poly = np.c_[poly, np.power(x, deg)]\n",
    "    return poly"
   ]
  },
  {
   "cell_type": "code",
   "execution_count": 10,
   "metadata": {},
   "outputs": [],
   "source": [
    "max_iters = 1000\n",
    "gamma = 0.05\n",
    "lambda_ = 0.05"
   ]
  },
  {
   "cell_type": "markdown",
   "metadata": {},
   "source": [
    "# Least Squares GD"
   ]
  },
  {
   "cell_type": "code",
   "execution_count": null,
   "metadata": {},
   "outputs": [],
   "source": [
    "losses = []\n",
    "ws = []\n",
    "means = []\n",
    "\n",
    "for i in range(jet_num):\n",
    "    \n",
    "    initial_w = np.zeros(tXs[i].shape[1])\n",
    "    w, loss = least_squares_GD(ys[i], tXs[i], initial_w, max_iters, gamma)\n",
    "\n",
    "    losses.append(loss)\n",
    "    ws.append(w)\n",
    "    means.append(np.mean(predict_labels(w, tXs[i]) == ys[i]))\n",
    "\n",
    "loss_LSGD = losses\n",
    "w_LSGD = ws"
   ]
  },
  {
   "cell_type": "code",
   "execution_count": 11,
   "metadata": {},
   "outputs": [],
   "source": [
    "losses = []\n",
    "ws = []\n",
    "means = []\n",
    "\n",
    "for i in range(jet_num):\n",
    "    \n",
    "    initial_w = np.zeros(tXs[i].shape[1])\n",
    "    w, loss = least_squares_GD(ys[i], tXs[i], initial_w, max_iters, gamma)\n",
    "\n",
    "    losses.append(loss)\n",
    "    ws.append(w)\n",
    "    means.append(np.mean(predict_labels(w, tXs[i]) == ys[i]))\n",
    "\n",
    "loss_LSGD = losses\n",
    "w_LSGD = ws"
   ]
  },
  {
   "cell_type": "code",
   "execution_count": 12,
   "metadata": {
    "scrolled": true
   },
   "outputs": [
    {
     "data": {
      "text/plain": [
       "0.3994133577135016"
      ]
     },
     "execution_count": 12,
     "metadata": {},
     "output_type": "execute_result"
    }
   ],
   "source": [
    "np.mean(loss_LSGD)"
   ]
  },
  {
   "cell_type": "code",
   "execution_count": 13,
   "metadata": {},
   "outputs": [
    {
     "data": {
      "image/png": "[encoded data removed]",
      "text/plain": [
       "<Figure size 432x288 with 1 Axes>"
      ]
     },
     "metadata": {
      "needs_background": "light"
     },
     "output_type": "display_data"
    }
   ],
   "source": [
    "plt.boxplot(loss_LSGD)\n",
    "plt.show()"
   ]
  },
  {
   "cell_type": "markdown",
   "metadata": {},
   "source": [
    "# Least Squares SGD"
   ]
  },
  {
   "cell_type": "code",
   "execution_count": 14,
   "metadata": {},
   "outputs": [],
   "source": [
    "losses = []\n",
    "ws = []\n",
    "means = []\n",
    "\n",
    "for i in range(jet_num):\n",
    " \n",
    "    initial_w = np.zeros(tXs[i].shape[1])\n",
    "    w, loss = least_squares_SGD(ys[i], tXs[i], initial_w, max_iters, gamma)\n",
    "            \n",
    "    losses.append(loss)\n",
    "    ws.append(w)\n",
    "    means.append(np.mean(predict_labels(w, tXs[i]) == ys[i]))\n",
    "    \n",
    "loss_LSSGD = losses\n",
    "w_LSSGD = ws"
   ]
  },
  {
   "cell_type": "code",
   "execution_count": 15,
   "metadata": {},
   "outputs": [
    {
     "data": {
      "text/plain": [
       "0.40248068710463897"
      ]
     },
     "execution_count": 15,
     "metadata": {},
     "output_type": "execute_result"
    }
   ],
   "source": [
    "np.mean(loss_LSSGD)"
   ]
  },
  {
   "cell_type": "code",
   "execution_count": 16,
   "metadata": {},
   "outputs": [
    {
     "data": {
      "image/png": "[encoded data removed]",
      "text/plain": [
       "<Figure size 432x288 with 1 Axes>"
      ]
     },
     "metadata": {
      "needs_background": "light"
     },
     "output_type": "display_data"
    }
   ],
   "source": [
    "plt.boxplot(loss_LSSGD)\n",
    "plt.show()"
   ]
  },
  {
   "cell_type": "markdown",
   "metadata": {},
   "source": [
    "I used batch_size = 100. With batch_size = 1, the loss value is very very big."
   ]
  },
  {
   "cell_type": "markdown",
   "metadata": {},
   "source": [
    "# Least Squares"
   ]
  },
  {
   "cell_type": "code",
   "execution_count": 17,
   "metadata": {},
   "outputs": [
    {
     "ename": "LinAlgError",
     "evalue": "Singular matrix",
     "output_type": "error",
     "traceback": [
      "\u001b[0;31m---------------------------------------------------------------------------\u001b[0m",
      "\u001b[0;31mLinAlgError\u001b[0m                               Traceback (most recent call last)",
      "\u001b[0;32m<ipython-input-17-0745b84877f9>\u001b[0m in \u001b[0;36m<module>\u001b[0;34m\u001b[0m\n\u001b[1;32m      4\u001b[0m \u001b[0;34m\u001b[0m\u001b[0m\n\u001b[1;32m      5\u001b[0m \u001b[0;32mfor\u001b[0m \u001b[0mi\u001b[0m \u001b[0;32min\u001b[0m \u001b[0mrange\u001b[0m\u001b[0;34m(\u001b[0m\u001b[0mjet_num\u001b[0m\u001b[0;34m)\u001b[0m\u001b[0;34m:\u001b[0m\u001b[0;34m\u001b[0m\u001b[0;34m\u001b[0m\u001b[0m\n\u001b[0;32m----> 6\u001b[0;31m     \u001b[0mw\u001b[0m\u001b[0;34m,\u001b[0m \u001b[0mloss\u001b[0m \u001b[0;34m=\u001b[0m \u001b[0mleast_squares\u001b[0m\u001b[0;34m(\u001b[0m\u001b[0mys\u001b[0m\u001b[0;34m[\u001b[0m\u001b[0mi\u001b[0m\u001b[0;34m]\u001b[0m\u001b[0;34m,\u001b[0m \u001b[0mtXs\u001b[0m\u001b[0;34m[\u001b[0m\u001b[0mi\u001b[0m\u001b[0;34m]\u001b[0m\u001b[0;34m)\u001b[0m\u001b[0;34m\u001b[0m\u001b[0;34m\u001b[0m\u001b[0m\n\u001b[0m\u001b[1;32m      7\u001b[0m \u001b[0;34m\u001b[0m\u001b[0m\n\u001b[1;32m      8\u001b[0m     \u001b[0mlosses\u001b[0m\u001b[0;34m.\u001b[0m\u001b[0mappend\u001b[0m\u001b[0;34m(\u001b[0m\u001b[0mloss\u001b[0m\u001b[0;34m)\u001b[0m\u001b[0;34m\u001b[0m\u001b[0;34m\u001b[0m\u001b[0m\n",
      "\u001b[0;32m~/Project/ML/Higgs_Classification/scripts/YT_implementations.py\u001b[0m in \u001b[0;36mleast_squares\u001b[0;34m(y, tx)\u001b[0m\n\u001b[1;32m    101\u001b[0m     \u001b[0ma\u001b[0m \u001b[0;34m=\u001b[0m \u001b[0mtx\u001b[0m\u001b[0;34m.\u001b[0m\u001b[0mT\u001b[0m\u001b[0;34m.\u001b[0m\u001b[0mdot\u001b[0m\u001b[0;34m(\u001b[0m\u001b[0mtx\u001b[0m\u001b[0;34m)\u001b[0m\u001b[0;34m\u001b[0m\u001b[0;34m\u001b[0m\u001b[0m\n\u001b[1;32m    102\u001b[0m     \u001b[0mb\u001b[0m \u001b[0;34m=\u001b[0m \u001b[0mtx\u001b[0m\u001b[0;34m.\u001b[0m\u001b[0mT\u001b[0m\u001b[0;34m.\u001b[0m\u001b[0mdot\u001b[0m\u001b[0;34m(\u001b[0m\u001b[0my\u001b[0m\u001b[0;34m)\u001b[0m\u001b[0;34m\u001b[0m\u001b[0;34m\u001b[0m\u001b[0m\n\u001b[0;32m--> 103\u001b[0;31m     \u001b[0mw\u001b[0m \u001b[0;34m=\u001b[0m \u001b[0mnp\u001b[0m\u001b[0;34m.\u001b[0m\u001b[0mlinalg\u001b[0m\u001b[0;34m.\u001b[0m\u001b[0msolve\u001b[0m\u001b[0;34m(\u001b[0m\u001b[0ma\u001b[0m\u001b[0;34m,\u001b[0m \u001b[0mb\u001b[0m\u001b[0;34m)\u001b[0m\u001b[0;34m\u001b[0m\u001b[0;34m\u001b[0m\u001b[0m\n\u001b[0m\u001b[1;32m    104\u001b[0m     \u001b[0;31m# calculate loss\u001b[0m\u001b[0;34m\u001b[0m\u001b[0;34m\u001b[0m\u001b[0;34m\u001b[0m\u001b[0m\n\u001b[1;32m    105\u001b[0m     \u001b[0mloss\u001b[0m \u001b[0;34m=\u001b[0m \u001b[0mcompute_loss\u001b[0m\u001b[0;34m(\u001b[0m\u001b[0my\u001b[0m\u001b[0;34m,\u001b[0m \u001b[0mtx\u001b[0m\u001b[0;34m,\u001b[0m \u001b[0mw\u001b[0m\u001b[0;34m)\u001b[0m\u001b[0;34m\u001b[0m\u001b[0;34m\u001b[0m\u001b[0m\n",
      "\u001b[0;32m/anaconda3/lib/python3.7/site-packages/numpy/linalg/linalg.py\u001b[0m in \u001b[0;36msolve\u001b[0;34m(a, b)\u001b[0m\n\u001b[1;32m    392\u001b[0m     \u001b[0msignature\u001b[0m \u001b[0;34m=\u001b[0m \u001b[0;34m'DD->D'\u001b[0m \u001b[0;32mif\u001b[0m \u001b[0misComplexType\u001b[0m\u001b[0;34m(\u001b[0m\u001b[0mt\u001b[0m\u001b[0;34m)\u001b[0m \u001b[0;32melse\u001b[0m \u001b[0;34m'dd->d'\u001b[0m\u001b[0;34m\u001b[0m\u001b[0;34m\u001b[0m\u001b[0m\n\u001b[1;32m    393\u001b[0m     \u001b[0mextobj\u001b[0m \u001b[0;34m=\u001b[0m \u001b[0mget_linalg_error_extobj\u001b[0m\u001b[0;34m(\u001b[0m\u001b[0m_raise_linalgerror_singular\u001b[0m\u001b[0;34m)\u001b[0m\u001b[0;34m\u001b[0m\u001b[0;34m\u001b[0m\u001b[0m\n\u001b[0;32m--> 394\u001b[0;31m     \u001b[0mr\u001b[0m \u001b[0;34m=\u001b[0m \u001b[0mgufunc\u001b[0m\u001b[0;34m(\u001b[0m\u001b[0ma\u001b[0m\u001b[0;34m,\u001b[0m \u001b[0mb\u001b[0m\u001b[0;34m,\u001b[0m \u001b[0msignature\u001b[0m\u001b[0;34m=\u001b[0m\u001b[0msignature\u001b[0m\u001b[0;34m,\u001b[0m \u001b[0mextobj\u001b[0m\u001b[0;34m=\u001b[0m\u001b[0mextobj\u001b[0m\u001b[0;34m)\u001b[0m\u001b[0;34m\u001b[0m\u001b[0;34m\u001b[0m\u001b[0m\n\u001b[0m\u001b[1;32m    395\u001b[0m \u001b[0;34m\u001b[0m\u001b[0m\n\u001b[1;32m    396\u001b[0m     \u001b[0;32mreturn\u001b[0m \u001b[0mwrap\u001b[0m\u001b[0;34m(\u001b[0m\u001b[0mr\u001b[0m\u001b[0;34m.\u001b[0m\u001b[0mastype\u001b[0m\u001b[0;34m(\u001b[0m\u001b[0mresult_t\u001b[0m\u001b[0;34m,\u001b[0m \u001b[0mcopy\u001b[0m\u001b[0;34m=\u001b[0m\u001b[0;32mFalse\u001b[0m\u001b[0;34m)\u001b[0m\u001b[0;34m)\u001b[0m\u001b[0;34m\u001b[0m\u001b[0;34m\u001b[0m\u001b[0m\n",
      "\u001b[0;32m/anaconda3/lib/python3.7/site-packages/numpy/linalg/linalg.py\u001b[0m in \u001b[0;36m_raise_linalgerror_singular\u001b[0;34m(err, flag)\u001b[0m\n\u001b[1;32m     87\u001b[0m \u001b[0;34m\u001b[0m\u001b[0m\n\u001b[1;32m     88\u001b[0m \u001b[0;32mdef\u001b[0m \u001b[0m_raise_linalgerror_singular\u001b[0m\u001b[0;34m(\u001b[0m\u001b[0merr\u001b[0m\u001b[0;34m,\u001b[0m \u001b[0mflag\u001b[0m\u001b[0;34m)\u001b[0m\u001b[0;34m:\u001b[0m\u001b[0;34m\u001b[0m\u001b[0;34m\u001b[0m\u001b[0m\n\u001b[0;32m---> 89\u001b[0;31m     \u001b[0;32mraise\u001b[0m \u001b[0mLinAlgError\u001b[0m\u001b[0;34m(\u001b[0m\u001b[0;34m\"Singular matrix\"\u001b[0m\u001b[0;34m)\u001b[0m\u001b[0;34m\u001b[0m\u001b[0;34m\u001b[0m\u001b[0m\n\u001b[0m\u001b[1;32m     90\u001b[0m \u001b[0;34m\u001b[0m\u001b[0m\n\u001b[1;32m     91\u001b[0m \u001b[0;32mdef\u001b[0m \u001b[0m_raise_linalgerror_nonposdef\u001b[0m\u001b[0;34m(\u001b[0m\u001b[0merr\u001b[0m\u001b[0;34m,\u001b[0m \u001b[0mflag\u001b[0m\u001b[0;34m)\u001b[0m\u001b[0;34m:\u001b[0m\u001b[0;34m\u001b[0m\u001b[0;34m\u001b[0m\u001b[0m\n",
      "\u001b[0;31mLinAlgError\u001b[0m: Singular matrix"
     ]
    }
   ],
   "source": [
    "losses = []\n",
    "ws = []\n",
    "means = []\n",
    "\n",
    "for i in range(jet_num):\n",
    "    w, loss = least_squares(ys[i], tXs[i])\n",
    "\n",
    "    losses.append(loss)\n",
    "    ws.append(w)\n",
    "    means.append(np.mean(predict_labels(w, tXs[i]) == ys[i]))\n",
    "    \n",
    "loss_LS = losses\n",
    "w_LS = ws"
   ]
  },
  {
   "cell_type": "code",
   "execution_count": null,
   "metadata": {},
   "outputs": [],
   "source": [
    "losses = []\n",
    "ws = []\n",
    "means = []\n",
    "losses_means = []\n",
    "\n",
    "for d in range(2, 10):\n",
    "    losses_deg = []\n",
    "    ws_deg = []\n",
    "    means_deg = []\n",
    "    for i in range(jet_num):\n",
    "        x = build_poly(tXs[i], d)\n",
    "        w, loss = least_squares(ys[i], x)\n",
    "\n",
    "        losses_deg.append(loss)\n",
    "        ws_deg.append(w)\n",
    "        means_deg.append(np.mean(predict_labels(w, x) == ys[i]))\n",
    "\n",
    "    losses.append(losses_deg)\n",
    "    ws.append(ws_deg)\n",
    "    means.append(means_deg)\n",
    "    print(losses_deg)\n",
    "    losses_means.append(np.mean(losses))\n",
    "    \n",
    "index = losses_means.index(min(losses_means))\n",
    "loss_LS = losses[index]\n",
    "w_LS = ws[index]"
   ]
  },
  {
   "cell_type": "code",
   "execution_count": null,
   "metadata": {},
   "outputs": [],
   "source": [
    "np.mean(loss_LS)"
   ]
  },
  {
   "cell_type": "code",
   "execution_count": null,
   "metadata": {},
   "outputs": [],
   "source": [
    "plt.boxplot(loss_LS)\n",
    "plt.show()"
   ]
  },
  {
   "cell_type": "markdown",
   "metadata": {},
   "source": [
    "# Ridge Regression"
   ]
  },
  {
   "cell_type": "code",
   "execution_count": 18,
   "metadata": {},
   "outputs": [
    {
     "name": "stdout",
     "output_type": "stream",
     "text": [
      "[0.26763908432974504, 0.34484530885878334, 0.3293073679135539, 0.3395524473819982]\n",
      "[0.2596586967568433, 0.3387087184984381, 0.3183122785868129, 0.3277000600206781]\n",
      "[0.25245159149314783, 0.33100725704762207, 0.3124211706280952, 0.32245988323101843]\n",
      "[0.24781884516056762, 0.32764515082151413, 0.30937211465035247, 0.31983679278056726]\n",
      "[0.24725709958396602, 0.3275395609444334, 0.30850381060121945, 0.3189457698814859]\n",
      "[0.24630283949125345, 0.32655489115062736, 0.3072037328141282, 0.31844484729142836]\n",
      "[0.24467821600435746, 0.32224067257301037, 0.3031815922026047, 0.31480732824955404]\n",
      "[0.24445368683253876, 0.31887878404869346, 0.30014127734668794, 0.3121317830929393]\n"
     ]
    }
   ],
   "source": [
    "losses = []\n",
    "ws = []\n",
    "means = []\n",
    "losses_means = []\n",
    "\n",
    "for d in range(2, 10):\n",
    "    losses_deg = []\n",
    "    ws_deg = []\n",
    "    means_deg = []\n",
    "    for i in range(jet_num):\n",
    "        x = build_poly(tXs[i], d)\n",
    "        w, loss = ridge_regression(ys[i], x, lambda_)\n",
    "\n",
    "        losses_deg.append(loss)\n",
    "        ws_deg.append(w)\n",
    "        means_deg.append(np.mean(predict_labels(w, x) == ys[i]))\n",
    "\n",
    "    losses.append(losses_deg)\n",
    "    ws.append(ws_deg)\n",
    "    means.append(means_deg)\n",
    "    print(losses_deg)\n",
    "    losses_means.append(np.mean(losses))\n",
    "    \n",
    "index = losses_means.index(min(losses_means))\n",
    "loss_RR = losses[index]\n",
    "w_RR = ws[index]"
   ]
  },
  {
   "cell_type": "code",
   "execution_count": 19,
   "metadata": {},
   "outputs": [
    {
     "data": {
      "text/plain": [
       "0.29390138283021483"
      ]
     },
     "execution_count": 19,
     "metadata": {},
     "output_type": "execute_result"
    }
   ],
   "source": [
    "np.mean(loss_RR)"
   ]
  },
  {
   "cell_type": "code",
   "execution_count": 20,
   "metadata": {},
   "outputs": [
    {
     "data": {
      "image/png": "[encoded data removed]",
      "text/plain": [
       "<Figure size 432x288 with 1 Axes>"
      ]
     },
     "metadata": {
      "needs_background": "light"
     },
     "output_type": "display_data"
    }
   ],
   "source": [
    "plt.boxplot(loss_RR)\n",
    "plt.show()"
   ]
  },
  {
   "cell_type": "markdown",
   "metadata": {},
   "source": [
    "# Logistic Regression"
   ]
  },
  {
   "cell_type": "code",
   "execution_count": 24,
   "metadata": {},
   "outputs": [],
   "source": [
    "losses = []\n",
    "ws = []\n",
    "means = []\n",
    "\n",
    "for i in range(jet_num):\n",
    "    initial_w = np.zeros(tXs[i].shape[1])\n",
    "    w, loss = logistic_regression(ys[i], tXs[i], initial_w, max_iters, gamma)\n",
    "\n",
    "    losses.append(loss)\n",
    "    ws.append(w)\n",
    "    means.append(np.mean(predict_labels(w, tXs[i]) == ys[i]))\n",
    "\n",
    "loss_LR = losses\n",
    "w_LR = ws"
   ]
  },
  {
   "cell_type": "code",
   "execution_count": 25,
   "metadata": {},
   "outputs": [
    {
     "data": {
      "text/plain": [
       "[nan, nan, nan, nan]"
      ]
     },
     "execution_count": 25,
     "metadata": {},
     "output_type": "execute_result"
    }
   ],
   "source": [
    "loss_LR"
   ]
  },
  {
   "cell_type": "code",
   "execution_count": 26,
   "metadata": {},
   "outputs": [
    {
     "data": {
      "text/plain": [
       "nan"
      ]
     },
     "execution_count": 26,
     "metadata": {},
     "output_type": "execute_result"
    }
   ],
   "source": [
    "np.mean(loss_LR)"
   ]
  },
  {
   "cell_type": "code",
   "execution_count": 27,
   "metadata": {},
   "outputs": [
    {
     "name": "stderr",
     "output_type": "stream",
     "text": [
      "/anaconda3/lib/python3.7/site-packages/numpy/lib/function_base.py:3652: RuntimeWarning: Invalid value encountered in percentile\n",
      "  interpolation=interpolation)\n",
      "/anaconda3/lib/python3.7/site-packages/matplotlib/cbook/__init__.py:1874: RuntimeWarning: invalid value encountered in less_equal\n",
      "  wiskhi = np.compress(x <= hival, x)\n",
      "/anaconda3/lib/python3.7/site-packages/matplotlib/cbook/__init__.py:1881: RuntimeWarning: invalid value encountered in greater_equal\n",
      "  wisklo = np.compress(x >= loval, x)\n",
      "/anaconda3/lib/python3.7/site-packages/matplotlib/cbook/__init__.py:1889: RuntimeWarning: invalid value encountered in less\n",
      "  np.compress(x < stats['whislo'], x),\n",
      "/anaconda3/lib/python3.7/site-packages/matplotlib/cbook/__init__.py:1890: RuntimeWarning: invalid value encountered in greater\n",
      "  np.compress(x > stats['whishi'], x)\n"
     ]
    },
    {
     "data": {
      "image/png": "[encoded data removed]",
      "text/plain": [
       "<Figure size 432x288 with 1 Axes>"
      ]
     },
     "metadata": {
      "needs_background": "light"
     },
     "output_type": "display_data"
    }
   ],
   "source": [
    "plt.boxplot(loss_LR)\n",
    "plt.show()"
   ]
  },
  {
   "cell_type": "markdown",
   "metadata": {},
   "source": [
    "# Regularized Logistic Regression"
   ]
  },
  {
   "cell_type": "code",
   "execution_count": 28,
   "metadata": {},
   "outputs": [],
   "source": [
    "losses = []\n",
    "ws = []\n",
    "means = []\n",
    "\n",
    "for i in range(jet_num):\n",
    "    initial_w = np.zeros(tXs[i].shape[1])\n",
    "    w, loss = reg_logistic_regression(ys[i], tXs[i], lambda_, initial_w, max_iters, gamma)\n",
    "\n",
    "    losses.append(loss)\n",
    "    ws.append(w)\n",
    "    means.append(np.mean(predict_labels(w, tXs[i]) == ys[i]))\n",
    "\n",
    "loss_RLR = losses\n",
    "w_RLR = ws"
   ]
  },
  {
   "cell_type": "code",
   "execution_count": 29,
   "metadata": {},
   "outputs": [
    {
     "data": {
      "text/plain": [
       "[nan, nan, nan, nan]"
      ]
     },
     "execution_count": 29,
     "metadata": {},
     "output_type": "execute_result"
    }
   ],
   "source": [
    "loss_RLR"
   ]
  },
  {
   "cell_type": "markdown",
   "metadata": {},
   "source": [
    "## Generate predictions and save ouput in csv format for submission:"
   ]
  },
  {
   "cell_type": "code",
   "execution_count": 30,
   "metadata": {},
   "outputs": [],
   "source": [
    "DATA_TEST_PATH = '../data/test.csv'\n",
    "_, tX_test, ids_test = load_csv_data(DATA_TEST_PATH)"
   ]
  },
  {
   "cell_type": "markdown",
   "metadata": {},
   "source": [
    "OUTPUT_PATH = '../ML_Project1_Data/sample-submission.csv'\n",
    "y_pred = predict_labels(weights, tX_test)\n",
    "create_csv_submission(ids_test, y_pred, OUTPUT_PATH)"
   ]
  },
  {
   "cell_type": "code",
   "execution_count": 60,
   "metadata": {},
   "outputs": [],
   "source": [
    "indices_test = [[] for i in range(jet_num)]\n",
    "tXs_test = [[] for i in range(jet_num)]\n",
    "\n",
    "for i in range(jet_num):\n",
    "    indices_test[i] = tX_test[:, 22] == i\n",
    "    tXs_test[i] = tX_test[indices_test[i]]\n",
    "    \n",
    "indices_nans = [[] for i in range(jet_num)]\n",
    "indices_zeros = [[] for i in range(jet_num)]\n",
    "columns_all_nans = [[] for i in range(jet_num)]\n",
    "columns_all_zeros = [[] for i in range(jet_num)]\n",
    "columns_to_drops = [[] for i in range(jet_num)]\n",
    "\n",
    "for i in range(jet_num):\n",
    "    indices_nans[i] = tXs_test[i] == -999\n",
    "    indices_zeros[i] = tXs_test[i] == 0\n",
    "    \n",
    "    columns_all_nans[i] = indices_nans[i].all(axis=0)\n",
    "    columns_all_zeros[i] = indices_zeros[i].all(axis=0)\n",
    "    \n",
    "    columns_to_drops[i] = np.append(np.argwhere(columns_all_nans[i] == True), np.argwhere(columns_all_zeros[i] == True)).ravel()\n",
    "    tXs_test[i] = np.delete(tXs_test[i], columns_to_drops[i], axis=1)\n",
    "    \n",
    "for i in range(jet_num):\n",
    "    tXs_test[i] = standardization(tXs_test[i])"
   ]
  },
  {
   "cell_type": "code",
   "execution_count": 67,
   "metadata": {},
   "outputs": [],
   "source": [
    "OUTPUT_PATH = '../sample-submission.csv'\n",
    "\n",
    "for i in range(jet_num):\n",
    "    y_pred = predict_labels(w_LSGD[i], tXs_test[i])\n",
    "\n",
    "create_csv_submission(ids_test, y_pred, OUTPUT_PATH)"
   ]
  }
 ],
 "metadata": {
  "anaconda-cloud": {},
  "kernelspec": {
   "display_name": "Python 3",
   "language": "python",
   "name": "python3"
  },
  "language_info": {
   "codemirror_mode": {
    "name": "ipython",
    "version": 3
   },
   "file_extension": ".py",
   "mimetype": "text/x-python",
   "name": "python",
   "nbconvert_exporter": "python",
   "pygments_lexer": "ipython3",
   "version": "3.7.6"
  }
 },
 "nbformat": 4,
 "nbformat_minor": 1
}
