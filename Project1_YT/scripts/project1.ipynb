{
 "cells": [
  {
   "cell_type": "code",
   "execution_count": 120,
   "metadata": {},
   "outputs": [
    {
     "name": "stdout",
     "output_type": "stream",
     "text": [
      "The autoreload extension is already loaded. To reload it, use:\n",
      "  %reload_ext autoreload\n"
     ]
    }
   ],
   "source": [
    "# Useful starting lines\n",
    "%matplotlib inline\n",
    "import numpy as np\n",
    "import matplotlib.pyplot as plt\n",
    "%load_ext autoreload\n",
    "%autoreload 2"
   ]
  },
  {
   "cell_type": "markdown",
   "metadata": {},
   "source": [
    "## Load the training data into feature matrix, class labels, and event ids:"
   ]
  },
  {
   "cell_type": "code",
   "execution_count": 181,
   "metadata": {},
   "outputs": [],
   "source": [
    "from proj1_helpers import *\n",
    "DATA_TRAIN_PATH = '../data/train.csv'\n",
    "y, tX, ids = load_csv_data(DATA_TRAIN_PATH)"
   ]
  },
  {
   "cell_type": "markdown",
   "metadata": {},
   "source": [
    "## Do your thing crazy machine learning thing here :) ..."
   ]
  },
  {
   "cell_type": "code",
   "execution_count": 316,
   "metadata": {},
   "outputs": [],
   "source": [
    "from YT_implementations import *"
   ]
  },
  {
   "cell_type": "code",
   "execution_count": 184,
   "metadata": {},
   "outputs": [],
   "source": [
    "# Data preprocessing\n",
    "\n",
    "mean = np.mean(tX, axis=0)\n",
    "std = np.std(tX, axis=0)\n",
    "\n",
    "tX_train = standardization(tX, mean, std)"
   ]
  },
  {
   "cell_type": "code",
   "execution_count": 250,
   "metadata": {},
   "outputs": [],
   "source": [
    "seed = 7"
   ]
  },
  {
   "cell_type": "markdown",
   "metadata": {},
   "source": [
    "### Least Squares GD"
   ]
  },
  {
   "cell_type": "code",
   "execution_count": 254,
   "metadata": {},
   "outputs": [
    {
     "name": "stdout",
     "output_type": "stream",
     "text": [
      "0.15810526315789475 0.717764\n"
     ]
    }
   ],
   "source": [
    "max_iters = 500\n",
    "gammas = np.linspace(0.001, 0.2, 20)\n",
    "\n",
    "losses = []\n",
    "accuracies = []\n",
    "\n",
    "for gamma in gammas:\n",
    "    initial_w = np.zeros(tX_train.shape[1])\n",
    "    w_LSGD, loss_LSGD = least_squares_GD(y, tX_train, initial_w, max_iters, gamma)\n",
    "\n",
    "    y_pred_LSGD = predict_labels(w_LSGD, tX_train)\n",
    "    acc_LSGD = compute_accuracy(y_pred_LSGD, y)\n",
    "    \n",
    "    losses.append(loss_LSGD)\n",
    "    accuracies.append(acc_LSGD)\n",
    "    \n",
    "gamma_opt = gammas[np.argmin(losses)]\n",
    "print(gamma_opt, accuracies[np.argmin(losses)])"
   ]
  },
  {
   "cell_type": "code",
   "execution_count": 255,
   "metadata": {},
   "outputs": [
    {
     "data": {
      "text/plain": [
       "[<matplotlib.lines.Line2D at 0x1216d4210>]"
      ]
     },
     "execution_count": 255,
     "metadata": {},
     "output_type": "execute_result"
    },
    {
     "data": {
      "image/png": "[encoded data removed]",
      "text/plain": [
       "<Figure size 432x288 with 1 Axes>"
      ]
     },
     "metadata": {
      "needs_background": "light"
     },
     "output_type": "display_data"
    }
   ],
   "source": [
    "plt.plot(gammas, losses)"
   ]
  },
  {
   "cell_type": "code",
   "execution_count": 256,
   "metadata": {},
   "outputs": [
    {
     "data": {
      "text/plain": [
       "0.717772"
      ]
     },
     "execution_count": 256,
     "metadata": {},
     "output_type": "execute_result"
    }
   ],
   "source": [
    "max_iters = 1000\n",
    "gamma = gamma_opt\n",
    "\n",
    "initial_w = np.zeros(tX_train.shape[1])\n",
    "w_LSGD, loss_LSGD = least_squares_GD(y, tX_train, initial_w, max_iters, gamma)\n",
    "\n",
    "y_pred_LSGD = predict_labels(w_LSGD, tX_train)\n",
    "acc_LSGD = compute_accuracy(y_pred_LSGD, y)\n",
    "\n",
    "acc_LSGD"
   ]
  },
  {
   "cell_type": "markdown",
   "metadata": {},
   "source": [
    "### Least Squares SGD"
   ]
  },
  {
   "cell_type": "code",
   "execution_count": 257,
   "metadata": {},
   "outputs": [
    {
     "data": {
      "text/plain": [
       "0.595668"
      ]
     },
     "execution_count": 257,
     "metadata": {},
     "output_type": "execute_result"
    }
   ],
   "source": [
    "max_iters = 1000\n",
    "gamma = gamma_opt\n",
    "\n",
    "initial_w = np.zeros(tX_train.shape[1])\n",
    "w_LSSGD, loss_LSSGD = least_squares_SGD(y, tX_train, initial_w, max_iters, gamma_SGD)\n",
    "\n",
    "y_pred_LSSGD = predict_labels(w_LSSGD, tX_train)\n",
    "acc_LSSGD = compute_accuracy(y_pred_LSSGD, y)\n",
    "\n",
    "acc_LSSGD"
   ]
  },
  {
   "cell_type": "markdown",
   "metadata": {},
   "source": [
    "### Least Squares"
   ]
  },
  {
   "cell_type": "code",
   "execution_count": 258,
   "metadata": {},
   "outputs": [
    {
     "name": "stdout",
     "output_type": "stream",
     "text": [
      "5\n"
     ]
    }
   ],
   "source": [
    "# Opt Degree\n",
    "\n",
    "k_fold = 5\n",
    "k_indices = build_k_indices(y, k_fold, seed)\n",
    "\n",
    "degrees = [1, 3, 5, 7, 9]\n",
    "\n",
    "losses_opt = []\n",
    "\n",
    "for degree in degrees:\n",
    "    losses = []\n",
    "\n",
    "    for k in range(k_fold):\n",
    "        w, loss, acc_tr, acc_te = cross_validation(y, tX_train, k_indices, k, degree, False, least_squares)\n",
    "        losses.append(loss)\n",
    "            \n",
    "    losses_opt.append(np.mean(losses))\n",
    "    \n",
    "degree_opt = degrees[np.argmin(losses_opt)]\n",
    "\n",
    "print(degree_opt)"
   ]
  },
  {
   "cell_type": "code",
   "execution_count": 260,
   "metadata": {},
   "outputs": [
    {
     "data": {
      "text/plain": [
       "[<matplotlib.lines.Line2D at 0x12010e190>]"
      ]
     },
     "execution_count": 260,
     "metadata": {},
     "output_type": "execute_result"
    },
    {
     "data": {
      "image/png": "[encoded data removed]",
      "text/plain": [
       "<Figure size 432x288 with 1 Axes>"
      ]
     },
     "metadata": {
      "needs_background": "light"
     },
     "output_type": "display_data"
    }
   ],
   "source": [
    "plt.plot(degrees, losses_opt)"
   ]
  },
  {
   "cell_type": "code",
   "execution_count": 262,
   "metadata": {},
   "outputs": [
    {
     "data": {
      "text/plain": [
       "0.796088"
      ]
     },
     "execution_count": 262,
     "metadata": {},
     "output_type": "execute_result"
    }
   ],
   "source": [
    "tX_train_aug = build_poly(tX_train, degree_opt)\n",
    "\n",
    "w_LS, loss_LS = least_squares(y, tX_train_aug)\n",
    "\n",
    "y_pred_LS = predict_labels(w_LS, tX_train_aug)\n",
    "acc_LS = compute_accuracy(y_pred_LS, y)\n",
    "\n",
    "acc_LS"
   ]
  },
  {
   "cell_type": "markdown",
   "metadata": {},
   "source": [
    "### Ridge Regression"
   ]
  },
  {
   "cell_type": "code",
   "execution_count": 279,
   "metadata": {},
   "outputs": [
    {
     "name": "stdout",
     "output_type": "stream",
     "text": [
      "1\n",
      "0.001\n"
     ]
    }
   ],
   "source": [
    "# Parameters Tuning\n",
    "\n",
    "k_fold = 5\n",
    "k_indices = build_k_indices(y, k_fold, seed)\n",
    "\n",
    "degrees = [1, 3, 5, 7, 9]\n",
    "#lambdas = np.logspace(-4, 0, 30)\n",
    "lambdas = [0.05, 0.001]\n",
    "\n",
    "losses_opt = []\n",
    "lambdas_opt = []\n",
    "\n",
    "for degree in degrees:\n",
    "    losses = []\n",
    "    \n",
    "    for lambda_ in lambdas:\n",
    "        losses_tmp = []\n",
    "\n",
    "        for k in range(k_fold):\n",
    "            w, loss_tr, loss_te, acc_tr, acc_te = cross_validation(y, tX_train, k_indices, k, degree, False, ridge_regression, lambda_=lambda_)\n",
    "            losses_tmp.append(loss_te)\n",
    "            \n",
    "        losses.append(np.mean(losses_tmp))\n",
    "\n",
    "    ind_lambda_opt = np.argmin(losses)\n",
    "    lambdas_opt.append(lambdas[ind_lambda_opt])\n",
    "    losses_opt.append(losses[ind_lambda_opt])\n",
    "    \n",
    "degree_opt = degrees[np.argmin(losses_opt)]\n",
    "lambda_opt = lambdas_opt[np.argmin(losses_opt)]\n",
    "\n",
    "print(degree_opt)\n",
    "print(lambda_opt)\n",
    "    "
   ]
  },
  {
   "cell_type": "code",
   "execution_count": 280,
   "metadata": {},
   "outputs": [
    {
     "data": {
      "text/plain": [
       "[<matplotlib.lines.Line2D at 0x12cca3510>]"
      ]
     },
     "execution_count": 280,
     "metadata": {},
     "output_type": "execute_result"
    },
    {
     "data": {
      "image/png": "[encoded data removed]",
      "text/plain": [
       "<Figure size 432x288 with 1 Axes>"
      ]
     },
     "metadata": {
      "needs_background": "light"
     },
     "output_type": "display_data"
    }
   ],
   "source": [
    "plt.plot(degrees, losses_opt)"
   ]
  },
  {
   "cell_type": "code",
   "execution_count": 281,
   "metadata": {},
   "outputs": [
    {
     "data": {
      "text/plain": [
       "0.744248"
      ]
     },
     "execution_count": 281,
     "metadata": {},
     "output_type": "execute_result"
    }
   ],
   "source": [
    "tX_train_aug = build_poly(tX_train, degree_opt)\n",
    "\n",
    "w_RR, loss_RR = ridge_regression(y, tX_train_aug, lambda_opt)\n",
    "\n",
    "y_pred_RR = predict_labels(w_RR, tX_train_aug)\n",
    "acc_RR = compute_accuracy(y_pred_RR, y)\n",
    "\n",
    "acc_RR"
   ]
  },
  {
   "cell_type": "markdown",
   "metadata": {},
   "source": [
    "### Logistic Regression"
   ]
  },
  {
   "cell_type": "code",
   "execution_count": 318,
   "metadata": {},
   "outputs": [],
   "source": [
    "y_logistic = y.copy()\n",
    "y_logistic[y_logistic == -1] = 0"
   ]
  },
  {
   "cell_type": "code",
   "execution_count": null,
   "metadata": {},
   "outputs": [],
   "source": [
    "# Parameters Tuning\n",
    "\n",
    "max_iters = 100\n",
    "\n",
    "k_fold = 5\n",
    "k_indices = build_k_indices(y, k_fold, seed)\n",
    "\n",
    "#gammas = np.logspace(-4, 1, 30)\n",
    "gammas = [0.05, 0.001, 0.1]\n",
    "\n",
    "losses_opt = []\n",
    "gammas_opt = []\n",
    "    \n",
    "for gamma in gammas:\n",
    "    losses = []\n",
    "    for k in range(k_fold):\n",
    "        w, loss_tr, loss_te, acc_tr, acc_te = cross_validation(y_logistic, tX_train, k_indices, k, degree, True, logistic_regression, initial_w=None, max_iters=max_iters, gamma=gamma)\n",
    "        losses_tmp.append(loss_te)\n",
    "\n",
    "    losses.append(np.mean(losses_tmp))\n",
    "\n",
    "ind_gamma_opt = np.argmin(losses)\n",
    "lambdas_opt.append(gammas[ind_lambda_opt])\n",
    "losses_opt.append(losses[ind_lambda_opt])\n",
    "    \n",
    "gamma_opt = gammas_opt[np.argmin(losses_opt)]\n",
    "\n",
    "print(gamma_opt)"
   ]
  },
  {
   "cell_type": "code",
   "execution_count": null,
   "metadata": {
    "scrolled": true
   },
   "outputs": [],
   "source": [
    "tX_train_aug = build_poly(tX_train, degree_opt=1)\n",
    "initial_w = np.zeros(tX_train.shape[1])\n",
    "w_LR, loss_LR = logistic_regression(y_logistic, tX_train, initial_w, max_iters, gamma_opt)\n",
    "\n",
    "y_pred_LR = predict_labels(w_LR, x_train)\n",
    "acc_LR = compute_accuracy(y_pred_LR, y)\n",
    "\n",
    "print(loss_LR)\n",
    "\n",
    "acc_LR"
   ]
  },
  {
   "cell_type": "markdown",
   "metadata": {},
   "source": [
    "### Regularized Logistic Regression"
   ]
  },
  {
   "cell_type": "code",
   "execution_count": 147,
   "metadata": {},
   "outputs": [
    {
     "data": {
      "text/plain": [
       "0.648952"
      ]
     },
     "execution_count": 147,
     "metadata": {},
     "output_type": "execute_result"
    }
   ],
   "source": [
    "initial_w = np.zeros(x_train.shape[1])\n",
    "w_RLR, loss_RLR = reg_logistic_regression(y_logistic, x_train, lambda_, initial_w, max_iters, gamma)\n",
    "\n",
    "y_pred_RLR = predict_labels(w_RLR, x_train)\n",
    "acc_RLR = compute_accuracy(y_pred_RLR, y)\n",
    "\n",
    "acc_RLR"
   ]
  },
  {
   "cell_type": "markdown",
   "metadata": {},
   "source": [
    "## Generate predictions and save ouput in csv format for submission:"
   ]
  },
  {
   "cell_type": "code",
   "execution_count": 169,
   "metadata": {},
   "outputs": [],
   "source": [
    "DATA_TEST_PATH = '../data/test.csv'\n",
    "y_test, tX_test, ids_test = load_csv_data(DATA_TEST_PATH)"
   ]
  },
  {
   "cell_type": "code",
   "execution_count": 170,
   "metadata": {},
   "outputs": [],
   "source": [
    "x_test = standardization(tX_test, mean, std)"
   ]
  },
  {
   "cell_type": "code",
   "execution_count": 31,
   "metadata": {},
   "outputs": [],
   "source": [
    "OUTPUT_PATH = 'output.csv' # TODO: fill in desired name of output file for submission\n",
    "y_pred = predict_labels(weights, tX_test)\n",
    "create_csv_submission(ids_test, y_pred, OUTPUT_PATH)"
   ]
  },
  {
   "cell_type": "code",
   "execution_count": null,
   "metadata": {
    "collapsed": true
   },
   "outputs": [],
   "source": []
  }
 ],
 "metadata": {
  "anaconda-cloud": {},
  "kernelspec": {
   "display_name": "Python 3",
   "language": "python",
   "name": "python3"
  },
  "language_info": {
   "codemirror_mode": {
    "name": "ipython",
    "version": 3
   },
   "file_extension": ".py",
   "mimetype": "text/x-python",
   "name": "python",
   "nbconvert_exporter": "python",
   "pygments_lexer": "ipython3",
   "version": "3.7.6"
  }
 },
 "nbformat": 4,
 "nbformat_minor": 1
}
