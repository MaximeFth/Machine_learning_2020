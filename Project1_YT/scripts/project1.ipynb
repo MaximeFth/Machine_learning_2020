{
 "cells": [
  {
   "cell_type": "code",
   "execution_count": 1,
   "metadata": {},
   "outputs": [],
   "source": [
    "# Useful starting lines\n",
    "%matplotlib inline\n",
    "import numpy as np\n",
    "import matplotlib.pyplot as plt\n",
    "%load_ext autoreload\n",
    "%autoreload 2"
   ]
  },
  {
   "cell_type": "markdown",
   "metadata": {},
   "source": [
    "## Load the training data into feature matrix, class labels, and event ids:"
   ]
  },
  {
   "cell_type": "code",
   "execution_count": 17,
   "metadata": {},
   "outputs": [],
   "source": [
    "from proj1_helpers import *\n",
    "DATA_TRAIN_PATH = '../data/train.csv'\n",
    "y, tX, ids = load_csv_data(DATA_TRAIN_PATH)"
   ]
  },
  {
   "cell_type": "markdown",
   "metadata": {},
   "source": [
    "## Do your thing crazy machine learning thing here :) ..."
   ]
  },
  {
   "cell_type": "code",
   "execution_count": 20,
   "metadata": {},
   "outputs": [],
   "source": [
    "from YT_implementations import *\n",
    "import warnings"
   ]
  },
  {
   "cell_type": "code",
   "execution_count": 4,
   "metadata": {},
   "outputs": [],
   "source": [
    "warnings.filterwarnings('ignore')"
   ]
  },
  {
   "cell_type": "code",
   "execution_count": 18,
   "metadata": {},
   "outputs": [],
   "source": [
    "# Data preprocessing\n",
    "\n",
    "mean = np.mean(tX, axis=0)\n",
    "std = np.std(tX, axis=0)\n",
    "\n",
    "tX_train = standardization(tX, mean, std)"
   ]
  },
  {
   "cell_type": "code",
   "execution_count": 11,
   "metadata": {},
   "outputs": [],
   "source": [
    "max_iters=500\n",
    "seed = 7\n",
    "k_fold = 5\n",
    "k_indices = build_k_indices(y, k_fold, seed)"
   ]
  },
  {
   "cell_type": "code",
   "execution_count": 12,
   "metadata": {},
   "outputs": [],
   "source": [
    "def hyperparameter_tuning(y, tX, regression_method, max_iters, k_fold, k_indices, params1, params2): \n",
    "    \n",
    "    method = str(regression_method).split()[1]\n",
    "    \n",
    "    losses_tr = []\n",
    "    losses_te = []\n",
    "    accuracies_tr = []\n",
    "    accuracies_te = []\n",
    "    \n",
    "    # 1-param tuning\n",
    "    if params2 is None:\n",
    "        for param in params1:\n",
    "            losses_tr_tmp = []\n",
    "            losses_te_tmp = []\n",
    "            accuracies_tr_tmp = []\n",
    "            accuracies_te_tmp = []\n",
    "\n",
    "            for k in range(k_fold):\n",
    "                initial_w = np.zeros(tX.shape[1])\n",
    "                \n",
    "                # least_squares\n",
    "                if method == \"least_squares\":\n",
    "                    w, loss_tr, loss_te, acc_tr, acc_te = cross_validation(y, tX, k_indices, k, param, regression_method)\n",
    "                # logistic_regression\n",
    "                elif method == \"logistic_regression\":\n",
    "                    w, loss_tr, loss_te, acc_tr, acc_te = cross_validation(y_logistic, tX, k_indices, k, None, regression_method, initial_w=None, max_iters=max_iters, gamma=param)\n",
    "                # least_squares_GD / least_squares_SGD\n",
    "                else:\n",
    "                    w, loss_tr, loss_te, acc_tr, acc_te = cross_validation(y, tX, k_indices, k, None, regression_method, initial_w=initial_w, max_iters=max_iters, gamma=param)\n",
    "\n",
    "                losses_tr_tmp.append(loss_tr)\n",
    "                losses_te_tmp.append(loss_te)\n",
    "                accuracies_tr_tmp.append(acc_tr)\n",
    "                accuracies_te_tmp.append(acc_te)\n",
    "\n",
    "            losses_tr.append(np.mean(losses_tr_tmp))\n",
    "            losses_te.append(np.mean(losses_te_tmp))\n",
    "            accuracies_tr.append(np.mean(accuracies_tr_tmp))\n",
    "            accuracies_te.append(np.mean(accuracies_te_tmp))\n",
    "            \n",
    "        idx_opt = np.argmax(accuracies_te)\n",
    "        param_opt = params1[idx_opt]\n",
    "        accuracy_opt = accuracies_te[idx_opt]\n",
    "\n",
    "        return param_opt, accuracy_opt, losses_tr, losses_te, accuracies_tr, accuracies_te\n",
    "            \n",
    "    # 2-params tuning\n",
    "    else:\n",
    "        opt_params1 = []\n",
    "        for param2 in params2:\n",
    "            losses_tr_tmp2 = []\n",
    "            losses_te_tmp2 = []\n",
    "            accuracies_tr_tmp2 = []\n",
    "            accuracies_te_tmp2 = []\n",
    "            \n",
    "            for param1 in params1:\n",
    "                losses_tr_tmp = []\n",
    "                losses_te_tmp = []\n",
    "                accuracies_tr_tmp = []\n",
    "                accuracies_te_tmp = []\n",
    "\n",
    "                for k in range(k_fold):\n",
    "                    initial_w = np.zeros(tX.shape[1])\n",
    "\n",
    "                    # ridge_regression\n",
    "                    if method == \"ridge_regression\":\n",
    "                        w, loss_tr, loss_te, acc_tr, acc_te = cross_validation(y, tX, k_indices, k, param2, regression_method, lambda_=param1)\n",
    "                    # reg_logistic_regression\n",
    "                    elif method == \"reg_logistic_regression\":\n",
    "                        w, loss_tr, loss_te, acc_tr, acc_te = cross_validation(y_logistic, tX, k_indices, k, None, regression_method, initial_w=None, max_iters=max_iters, gamma=param2, lambda_=param1)\n",
    "                    else:\n",
    "                        break\n",
    "\n",
    "                    losses_tr_tmp.append(loss_tr)\n",
    "                    losses_te_tmp.append(loss_te)\n",
    "                    accuracies_tr_tmp.append(acc_tr)\n",
    "                    accuracies_te_tmp.append(acc_te)\n",
    "\n",
    "                losses_tr_tmp2.append(np.mean(losses_tr_tmp))\n",
    "                losses_te_tmp2.append(np.mean(losses_te_tmp))\n",
    "                accuracies_tr_tmp2.append(np.mean(accuracies_tr_tmp))\n",
    "                accuracies_te_tmp2.append(np.mean(accuracies_te_tmp))\n",
    "            \n",
    "            idx_opt_param1 = np.argmax(accuracies_te_tmp)\n",
    "            opt_params1.append(params1[idx_opt_param1])\n",
    "            losses_tr.append(losses_tr_tmp2[idx_opt_param1])\n",
    "            losses_te.append(losses_te_tmp2[idx_opt_param1])\n",
    "            accuracies_tr.append(accuracies_tr_tmp2[idx_opt_param1])\n",
    "            accuracies_te.append(accuracies_te_tmp2[idx_opt_param1])\n",
    "\n",
    "        idx_opt = np.argmax(accuracies_te)\n",
    "        param1_opt = opt_params1[idx_opt]\n",
    "        param2_opt = params2[idx_opt]\n",
    "        accuracy_opt = accuracies_te[idx_opt]\n",
    "\n",
    "        return param1_opt, param2_opt, accuracy_opt, losses_tr, losses_te, accuracies_tr, accuracies_te\n"
   ]
  },
  {
   "cell_type": "code",
   "execution_count": 13,
   "metadata": {},
   "outputs": [],
   "source": [
    "def test(y, tX, regression_method, max_iters, k_fold, k_indices, param1, param2):\n",
    "    method = str(regression_method).split()[1]\n",
    "\n",
    "    losses_tr = []\n",
    "    losses_te = []\n",
    "    accuracies_tr = []\n",
    "    accuracies_te = []\n",
    "\n",
    "    for k in range(k_fold):\n",
    "        initial_w = np.zeros(tX_train.shape[1])\n",
    "        \n",
    "        if method == \"least_squares_GD\":\n",
    "            w, loss_tr, loss_te, acc_tr, acc_te = cross_validation(y, tX, k_indices, k, None, regression_method, initial_w=initial_w, max_iters=max_iters, gamma=param1)\n",
    "        elif method == \"least_sqaures_SGD\":\n",
    "            w, loss_tr, loss_te, acc_tr, acc_te = cross_validation(y, tX, k_indices, k, None, least_squares_SGD, initial_w=initial_w, max_iters=max_iters, gamma=param1)\n",
    "        elif method == \"least_squares\":\n",
    "            w, loss_tr, loss_te, acc_tr, acc_te = cross_validation(y, tX, k_indices, k, param1, regression_method)\n",
    "        elif method == \"ridge_regression\":\n",
    "            w, loss_tr, loss_te, acc_tr, acc_te = cross_validation(y, tX, k_indices, k, param1, regression_method, lambda_=param2)\n",
    "        elif method == \"logistic_regression\":\n",
    "            w, loss_tr, loss_te, acc_tr, acc_te = cross_validation(y, tX, k_indices, k, None, regression_method, max_iters=max_iters, gamma=param1)\n",
    "        elif method == \"reg_logistic_regression\":\n",
    "            w, loss_tr, loss_te, acc_tr, acc_te = cross_validation(y, tX, k_indices, k, None, regression_method, max_iters=max_iters, gamma=param1, lambda_=param2)\n",
    "            \n",
    "        losses_tr.append(loss_tr)\n",
    "        losses_te.append(loss_te)\n",
    "        accuracies_tr.append(acc_te)\n",
    "        accuracies_te.append(acc_te)\n",
    "\n",
    "    l_tr = np.mean(losses_tr)\n",
    "    l_te = np.mean(losses_te)\n",
    "    acc_tr = np.mean(accuracies_tr)\n",
    "    acc_te = np.mean(accuracies_te)\n",
    "    \n",
    "    print(\"Train Loss     : {:f} / Test Loss     : {:f}\".format(l_tr, l_te))\n",
    "    print(\"Train Accuracy : {:f} / Test Accuracy : {:f}\".format(acc_tr, acc_te))\n",
    "    \n",
    "    \n",
    "    return"
   ]
  },
  {
   "cell_type": "markdown",
   "metadata": {},
   "source": [
    "### Least Squares GD"
   ]
  },
  {
   "cell_type": "code",
   "execution_count": 17,
   "metadata": {},
   "outputs": [],
   "source": [
    "# Hyperparameter Gamma Tuning for Least Squares GD using Cross-Validation\n",
    "\n",
    "gammas = np.linspace(0, 1, 20)\n",
    "gamma_opt, acc_opt, ls_tr, ls_te, accs_tr, accs_te = hyperparameter_tuning(y, tX_train, least_squares_GD, max_iters, k_fold, k_indices, gammas, None)\n"
   ]
  },
  {
   "cell_type": "code",
   "execution_count": 19,
   "metadata": {},
   "outputs": [
    {
     "name": "stdout",
     "output_type": "stream",
     "text": [
      "optimal gamma : 0.157895 / accuracy : 0.717704\n"
     ]
    }
   ],
   "source": [
    "print(\"optimal gamma : {:f} / accuracy : {:f}\".format(gamma_opt, acc_opt))"
   ]
  },
  {
   "cell_type": "code",
   "execution_count": 18,
   "metadata": {},
   "outputs": [
    {
     "data": {
      "text/plain": [
       "Text(0.5, 0, 'gamma')"
      ]
     },
     "execution_count": 18,
     "metadata": {},
     "output_type": "execute_result"
    },
    {
     "data": {
      "image/png": "[encoded data removed]",
      "text/plain": [
       "<Figure size 432x288 with 1 Axes>"
      ]
     },
     "metadata": {
      "needs_background": "light"
     },
     "output_type": "display_data"
    }
   ],
   "source": [
    "plt.title(\"Gamma tuning for Least Squares GD\")\n",
    "plt.xlabel(\"gamma\")\n",
    "plt.ylabel(\"accuracy\")\n",
    "plt.plot(gammas, list(zip(accs_tr, accs_te)))\n",
    "plt.plot(gamma_opt, acc_opt, 'ro')\n",
    "plt.xlabel(\"gamma\")"
   ]
  },
  {
   "cell_type": "code",
   "execution_count": 20,
   "metadata": {},
   "outputs": [
    {
     "name": "stdout",
     "output_type": "stream",
     "text": [
      "Train Loss     : 0.389520 / Test Loss     : 0.389625\n",
      "Train Accuracy : 0.717704 / Test Accuracy : 0.717704\n"
     ]
    }
   ],
   "source": [
    "test(y, tX_train, least_squares_GD, max_iters, k_fold, k_indices, gamma_opt, None)"
   ]
  },
  {
   "cell_type": "markdown",
   "metadata": {},
   "source": [
    "### Least Squares SGD"
   ]
  },
  {
   "cell_type": "code",
   "execution_count": 21,
   "metadata": {},
   "outputs": [],
   "source": [
    "# Hyperparameter Gamma Tuning for Least Squares SGD using Cross-Validation\n",
    "\n",
    "gammas = np.linspace(0, 1, 20)\n",
    "gamma_opt, acc_opt, ls_tr, ls_te, accs_tr, accs_te = hyperparameter_tuning(y, tX_train, least_squares_SGD, max_iters, k_fold, k_indices, gammas, None)\n"
   ]
  },
  {
   "cell_type": "code",
   "execution_count": 22,
   "metadata": {},
   "outputs": [
    {
     "name": "stdout",
     "output_type": "stream",
     "text": [
      "optimal gamma : 0.000000 / accuracy : 0.657332\n"
     ]
    }
   ],
   "source": [
    "print(\"optimal gamma : {:f} / accuracy : {:f}\".format(gamma_opt, acc_opt))"
   ]
  },
  {
   "cell_type": "code",
   "execution_count": 23,
   "metadata": {
    "scrolled": true
   },
   "outputs": [
    {
     "data": {
      "text/plain": [
       "[<matplotlib.lines.Line2D at 0x144ae9590>]"
      ]
     },
     "execution_count": 23,
     "metadata": {},
     "output_type": "execute_result"
    },
    {
     "data": {
      "image/png": "[encoded data removed]",
      "text/plain": [
       "<Figure size 432x288 with 1 Axes>"
      ]
     },
     "metadata": {
      "needs_background": "light"
     },
     "output_type": "display_data"
    }
   ],
   "source": [
    "plt.title(\"Gamma tuning for Least Squares SGD\")\n",
    "plt.xlabel(\"gamma\")\n",
    "plt.ylabel(\"accuracy\")\n",
    "plt.plot(gammas, list(zip(accs_tr, accs_te)))\n",
    "plt.plot(gamma_opt, acc_opt, 'ro')"
   ]
  },
  {
   "cell_type": "code",
   "execution_count": 24,
   "metadata": {},
   "outputs": [
    {
     "name": "stdout",
     "output_type": "stream",
     "text": [
      "Train Loss     : 0.500000 / Test Loss     : 0.500000\n",
      "Train Accuracy : 0.657332 / Test Accuracy : 0.657332\n"
     ]
    }
   ],
   "source": [
    "# Performance Test for Least Squares SGD\n",
    "test(y, tX_train, least_squares_GD, max_iters, k_fold, k_indices, gamma_opt, None)"
   ]
  },
  {
   "cell_type": "markdown",
   "metadata": {},
   "source": [
    "### Least Squares"
   ]
  },
  {
   "cell_type": "code",
   "execution_count": 25,
   "metadata": {},
   "outputs": [],
   "source": [
    "# Degree Tuning for Least Squares using Cross-Validation\n",
    "\n",
    "degrees = list(range(1, 10))\n",
    "degree_opt, acc_opt, ls_tr, ls_te, accs_tr, accs_te = hyperparameter_tuning(y, tX_train, least_squares, max_iters, k_fold, k_indices, degrees, None)\n"
   ]
  },
  {
   "cell_type": "code",
   "execution_count": 26,
   "metadata": {},
   "outputs": [
    {
     "name": "stdout",
     "output_type": "stream",
     "text": [
      "optimal degree : 6 / accuracy : 0.798296\n"
     ]
    }
   ],
   "source": [
    "print(\"optimal degree : {:d} / accuracy : {:f}\".format(degree_opt, acc_opt))"
   ]
  },
  {
   "cell_type": "code",
   "execution_count": 27,
   "metadata": {},
   "outputs": [
    {
     "data": {
      "text/plain": [
       "[<matplotlib.lines.Line2D at 0x144ad0f90>]"
      ]
     },
     "execution_count": 27,
     "metadata": {},
     "output_type": "execute_result"
    },
    {
     "data": {
      "image/png": "[encoded data removed]",
      "text/plain": [
       "<Figure size 432x288 with 1 Axes>"
      ]
     },
     "metadata": {
      "needs_background": "light"
     },
     "output_type": "display_data"
    }
   ],
   "source": [
    "plt.title(\"Degree tuning for Least Squares\")\n",
    "plt.xlabel(\"degree\")\n",
    "plt.ylabel(\"accuracy\")\n",
    "plt.plot(degrees, list(zip(accs_tr, accs_te)))\n",
    "plt.plot(degree_opt, acc_opt, 'ro')"
   ]
  },
  {
   "cell_type": "code",
   "execution_count": 28,
   "metadata": {},
   "outputs": [
    {
     "name": "stdout",
     "output_type": "stream",
     "text": [
      "Train Loss     : 0.293468 / Test Loss     : 47118974.259245\n",
      "Train Accuracy : 0.798296 / Test Accuracy : 0.798296\n"
     ]
    }
   ],
   "source": [
    "# Performance Test for Least Squares\n",
    "test(y, tX_train, least_squares, max_iters, k_fold, k_indices, degree_opt, None)"
   ]
  },
  {
   "cell_type": "markdown",
   "metadata": {},
   "source": [
    "### Ridge Regression"
   ]
  },
  {
   "cell_type": "code",
   "execution_count": 31,
   "metadata": {},
   "outputs": [],
   "source": [
    "# Hyperparameter and Degree Tuning for Ridge Regression using Cross-Validation\n",
    "\n",
    "degrees = list(range(1, 10))\n",
    "lambdas = np.logspace(-4, 0, 15)\n",
    "lambda_opt, degree_opt, acc_opt, ls_tr, ls_te, accs_tr, accs_te = hyperparameter_tuning(y, tX_train, ridge_regression, max_iters, k_fold, k_indices, lambdas, degrees)\n"
   ]
  },
  {
   "cell_type": "code",
   "execution_count": 32,
   "metadata": {},
   "outputs": [
    {
     "name": "stdout",
     "output_type": "stream",
     "text": [
      "optimal degree : 9 and lambda : 0.000118 / accuracy : 0.796788\n"
     ]
    }
   ],
   "source": [
    "print(\"optimal degree : {:d} and lambda : {:f} / accuracy : {:f}\".format(degree_opt, lambda_opt, acc_opt))"
   ]
  },
  {
   "cell_type": "code",
   "execution_count": 33,
   "metadata": {},
   "outputs": [
    {
     "data": {
      "text/plain": [
       "[<matplotlib.lines.Line2D at 0x14e817710>]"
      ]
     },
     "execution_count": 33,
     "metadata": {},
     "output_type": "execute_result"
    },
    {
     "data": {
      "image/png": "[encoded data removed]",
      "text/plain": [
       "<Figure size 432x288 with 1 Axes>"
      ]
     },
     "metadata": {
      "needs_background": "light"
     },
     "output_type": "display_data"
    }
   ],
   "source": [
    "plt.title(\"Degree tuning for Ridge Regression\")\n",
    "plt.xlabel(\"degree\")\n",
    "plt.ylabel(\"loss\")\n",
    "plt.plot(degrees, list(zip(accs_tr, accs_te)))\n",
    "plt.plot(degree_opt, acc_opt, 'ro')"
   ]
  },
  {
   "cell_type": "code",
   "execution_count": 38,
   "metadata": {},
   "outputs": [
    {
     "name": "stdout",
     "output_type": "stream",
     "text": [
      "Train Loss     : 0.294690 / Test Loss     : 1137536277408929.250000\n",
      "Train Accuracy : 0.796788 / Test Accuracy : 0.796788\n"
     ]
    }
   ],
   "source": [
    "# Performance Test for Ridge Regression\n",
    "test(y, tX_train, ridge_regression, max_iters, k_fold, k_indices, degree_opt, lambda_opt)"
   ]
  },
  {
   "cell_type": "markdown",
   "metadata": {},
   "source": [
    "### Logistic Regression"
   ]
  },
  {
   "cell_type": "code",
   "execution_count": 15,
   "metadata": {},
   "outputs": [],
   "source": [
    "y_logistic = y.copy()\n",
    "y_logistic[y_logistic == -1] = 0"
   ]
  },
  {
   "cell_type": "code",
   "execution_count": 40,
   "metadata": {},
   "outputs": [],
   "source": [
    "# Hyperparameter Tuning for Logistic Regression using Cross-Validation\n",
    "\n",
    "gammas = np.logspace(-5, 0, 15)\n",
    "gamma_opt, acc_opt, ls_tr, ls_te, accs_tr, accs_te = hyperparameter_tuning(y_logistic, tX_train, logistic_regression, max_iters, k_fold, k_indices, gammas, None)\n"
   ]
  },
  {
   "cell_type": "code",
   "execution_count": 41,
   "metadata": {},
   "outputs": [
    {
     "name": "stdout",
     "output_type": "stream",
     "text": [
      "optimal gamma : 0.000268 / accuracy : 0.660596\n"
     ]
    }
   ],
   "source": [
    "print(\"optimal gamma : {:f} / accuracy : {:f}\".format(gamma_opt, acc_opt))"
   ]
  },
  {
   "cell_type": "code",
   "execution_count": 42,
   "metadata": {},
   "outputs": [
    {
     "data": {
      "text/plain": [
       "[<matplotlib.lines.Line2D at 0x14d459490>]"
      ]
     },
     "execution_count": 42,
     "metadata": {},
     "output_type": "execute_result"
    },
    {
     "data": {
      "image/png": "[encoded data removed]",
      "text/plain": [
       "<Figure size 432x288 with 1 Axes>"
      ]
     },
     "metadata": {
      "needs_background": "light"
     },
     "output_type": "display_data"
    }
   ],
   "source": [
    "plt.title(\"Gamma tuning for Logistic Regression\")\n",
    "plt.xlabel(\"gamma\")\n",
    "plt.ylabel(\"accuracy\")\n",
    "plt.plot(gammas, list(zip(accs_tr, accs_te)))\n",
    "plt.plot(gamma_opt, acc_opt, 'ro')"
   ]
  },
  {
   "cell_type": "code",
   "execution_count": 43,
   "metadata": {},
   "outputs": [
    {
     "name": "stdout",
     "output_type": "stream",
     "text": [
      "Train Loss     : 2450814.145854 / Test Loss     : 15099.809556\n",
      "Train Accuracy : 0.660596 / Test Accuracy : 0.660596\n"
     ]
    }
   ],
   "source": [
    "# Performance Test for Logistic Regression\n",
    "\n",
    "test(y_logistic, tX_train, logistic_regression, max_iters, k_fold, k_indices, gamma_opt, None)"
   ]
  },
  {
   "cell_type": "markdown",
   "metadata": {},
   "source": [
    "### Regularized Logistic Regression"
   ]
  },
  {
   "cell_type": "code",
   "execution_count": 44,
   "metadata": {},
   "outputs": [],
   "source": [
    "# Hyperparameter Tuning for Regularized Ridge Regression using Cross-Validation\n",
    "\n",
    "gammas = np.logspace(-5, 0, 15)\n",
    "lambdas = np.logspace(-4, 0, 15)\n",
    "lambda_opt, gamma_opt, acc_opt, ls_tr, ls_te, accs_tr, accs_te = hyperparameter_tuning(y, tX_train, reg_logistic_regression, max_iters, k_fold, k_indices, lambdas, gammas)\n"
   ]
  },
  {
   "cell_type": "code",
   "execution_count": 22,
   "metadata": {},
   "outputs": [],
   "source": [
    "gammas = [0.000611]\n",
    "lambdas = np.logspace(-4, 0, 15)\n",
    "lambda_opt, gamma_opt, acc_opt, ls_tr, ls_te, accs_tr, accs_te = hyperparameter_tuning(y, tX_train, reg_logistic_regression, max_iters, k_fold, k_indices, lambdas, gammas)\n"
   ]
  },
  {
   "cell_type": "code",
   "execution_count": 24,
   "metadata": {},
   "outputs": [
    {
     "name": "stdout",
     "output_type": "stream",
     "text": [
      "optimal gamma : 0.000611 and lambda : 0.001389 / accuracy : 0.616408\n"
     ]
    }
   ],
   "source": [
    "print(\"optimal gamma : {:f} and lambda : {:f} / accuracy : {:f}\".format(gamma_opt, lambda_opt, acc_opt))"
   ]
  },
  {
   "cell_type": "code",
   "execution_count": 46,
   "metadata": {},
   "outputs": [
    {
     "data": {
      "text/plain": [
       "[<matplotlib.lines.Line2D at 0x1437259d0>]"
      ]
     },
     "execution_count": 46,
     "metadata": {},
     "output_type": "execute_result"
    },
    {
     "data": {
      "image/png": "[encoded data removed]",
      "text/plain": [
       "<Figure size 432x288 with 1 Axes>"
      ]
     },
     "metadata": {
      "needs_background": "light"
     },
     "output_type": "display_data"
    }
   ],
   "source": [
    "plt.title(\"Gamma tuning for Regularized Logistic Regression\")\n",
    "plt.xlabel(\"gamma\")\n",
    "plt.ylabel(\"accuracy\")\n",
    "plt.plot(gammas, list(zip(accs_tr, accs_te)))\n",
    "plt.plot(gamma_opt, acc_opt, 'ro')"
   ]
  },
  {
   "cell_type": "code",
   "execution_count": 46,
   "metadata": {
    "scrolled": true
   },
   "outputs": [
    {
     "name": "stdout",
     "output_type": "stream",
     "text": [
      "Train Loss     : 3812085.479253 / Test Loss     : 8442.467310\n",
      "Train Accuracy : 0.537592 / Test Accuracy : 0.537592\n"
     ]
    }
   ],
   "source": [
    "test(y_logistic, tX_train, reg_logistic_regression, max_iters, k_fold, k_indices, gamma_opt, lambda_opt)"
   ]
  },
  {
   "cell_type": "markdown",
   "metadata": {},
   "source": [
    "## Generate predictions and save ouput in csv format for submission:"
   ]
  },
  {
   "cell_type": "code",
   "execution_count": 26,
   "metadata": {},
   "outputs": [],
   "source": [
    "DATA_TEST_PATH = '../data/test.csv'\n",
    "y_test, tX_test, ids_test = load_csv_data(DATA_TEST_PATH)"
   ]
  },
  {
   "cell_type": "code",
   "execution_count": 27,
   "metadata": {},
   "outputs": [],
   "source": [
    "tX_test = standardization(tX_test, mean, std)\n",
    "y_logistic = y_test.copy()\n",
    "y_logistic[y_logistic == -1] = 0\n",
    "\n",
    "initial_w = np.zeros(tX_test.shape[1])\n",
    "weights, _ = reg_logistic_regression(y_logistic, tX_test, lambda_opt, initial_w, max_iters, gamma_opt)"
   ]
  },
  {
   "cell_type": "code",
   "execution_count": 28,
   "metadata": {},
   "outputs": [],
   "source": [
    "OUTPUT_PATH = 'output.csv'\n",
    "y_pred = predict_labels(weights, tX_test)\n",
    "create_csv_submission(ids_test, y_pred, OUTPUT_PATH)"
   ]
  },
  {
   "cell_type": "code",
   "execution_count": 45,
   "metadata": {},
   "outputs": [
    {
     "data": {
      "text/plain": [
       "0.6603412654556717"
      ]
     },
     "execution_count": 45,
     "metadata": {},
     "output_type": "execute_result"
    }
   ],
   "source": [
    "compute_accuracy(pd.read_csv(OUTPUT_PATH).Prediction.values.tolist(), y_test)"
   ]
  }
 ],
 "metadata": {
  "anaconda-cloud": {},
  "kernelspec": {
   "display_name": "Python 3",
   "language": "python",
   "name": "python3"
  },
  "language_info": {
   "codemirror_mode": {
    "name": "ipython",
    "version": 3
   },
   "file_extension": ".py",
   "mimetype": "text/x-python",
   "name": "python",
   "nbconvert_exporter": "python",
   "pygments_lexer": "ipython3",
   "version": "3.7.6"
  }
 },
 "nbformat": 4,
 "nbformat_minor": 1
}
