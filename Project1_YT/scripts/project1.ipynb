{
 "cells": [
  {
   "cell_type": "code",
   "execution_count": null,
   "metadata": {},
   "outputs": [],
   "source": [
    "# Useful starting lines\n",
    "%matplotlib inline\n",
    "import numpy as np\n",
    "import matplotlib.pyplot as plt\n",
    "%load_ext autoreload\n",
    "%autoreload 2"
   ]
  },
  {
   "cell_type": "markdown",
   "metadata": {},
   "source": [
    "## Load the training data into feature matrix, class labels, and event ids:"
   ]
  },
  {
   "cell_type": "code",
   "execution_count": null,
   "metadata": {},
   "outputs": [],
   "source": [
    "from proj1_helpers import *\n",
    "DATA_TRAIN_PATH = '../data/train.csv'\n",
    "y, tX, ids = load_csv_data(DATA_TRAIN_PATH)"
   ]
  },
  {
   "cell_type": "markdown",
   "metadata": {},
   "source": [
    "## Do your thing crazy machine learning thing here :) ..."
   ]
  },
  {
   "cell_type": "code",
   "execution_count": null,
   "metadata": {},
   "outputs": [],
   "source": [
    "from YT_implementations import *\n",
    "import warnings"
   ]
  },
  {
   "cell_type": "code",
   "execution_count": null,
   "metadata": {},
   "outputs": [],
   "source": [
    "warnings.filterwarnings('ignore')"
   ]
  },
  {
   "cell_type": "code",
   "execution_count": null,
   "metadata": {},
   "outputs": [],
   "source": [
    "# Undefined values processing\n",
    "\n",
    "# From documentation, list of features which may be undefined\n",
    "undefined_cols=[0, 4, 5, 6, 12, 23, 24, 25, 26, 27, 28]\n",
    "\n",
    "for c in undefined_cols:\n",
    "    undefined_lines = (tX[:, c]==-999)\n",
    "    tX[undefined_lines, c] = 0"
   ]
  },
  {
   "cell_type": "code",
   "execution_count": null,
   "metadata": {},
   "outputs": [],
   "source": [
    "# Data preprocessing\n",
    "\n",
    "mean = np.mean(tX, axis=0)\n",
    "std = np.std(tX, axis=0)\n",
    "\n",
    "tX_train = standardization(tX, mean, std)"
   ]
  },
  {
   "cell_type": "code",
   "execution_count": null,
   "metadata": {},
   "outputs": [],
   "source": [
    "from sklearn.decomposition import PCA\n",
    "\n",
    "pca = PCA()\n",
    "pca.fit(tX_train)\n",
    "x_test = pca.transform(tX_train)\n",
    "\n",
    "plt.scatter(list(range(30)), pca.singular_values_)\n",
    "\n",
    "features_ordered = np.abs(pca.components_).argmax(axis=1)\n",
    "features_top = features_ordered[:20]\n",
    "\n",
    "print(features_ordered)"
   ]
  },
  {
   "cell_type": "code",
   "execution_count": null,
   "metadata": {},
   "outputs": [],
   "source": [
    "tX_train = tX_train[:, features_top]"
   ]
  },
  {
   "cell_type": "code",
   "execution_count": null,
   "metadata": {},
   "outputs": [],
   "source": [
    "max_iters=500\n",
    "seed = 7\n",
    "k_fold = 5\n",
    "k_indices = build_k_indices(y, k_fold, seed)"
   ]
  },
  {
   "cell_type": "markdown",
   "metadata": {},
   "source": [
    "### Least Squares GD"
   ]
  },
  {
   "cell_type": "code",
   "execution_count": null,
   "metadata": {},
   "outputs": [],
   "source": [
    "# Hyperparameter Gamma Tuning for Least Squares GD using Cross-Validation\n",
    "\n",
    "gammas = np.logspace(-4, 0, 15)\n",
    "gamma_opt, acc_opt, ls_tr, ls_te, accs_tr, accs_te = hyperparameter_tuning(y, tX_train, least_squares_GD, max_iters, k_fold, k_indices, gammas, None)\n"
   ]
  },
  {
   "cell_type": "code",
   "execution_count": null,
   "metadata": {},
   "outputs": [],
   "source": [
    "print(\"optimal gamma : {:f} / accuracy : {:f}\".format(gamma_opt, acc_opt))"
   ]
  },
  {
   "cell_type": "code",
   "execution_count": null,
   "metadata": {},
   "outputs": [],
   "source": [
    "plt.title(\"Gamma tuning for Least Squares GD\")\n",
    "plt.xlabel(\"gamma\")\n",
    "plt.ylabel(\"accuracy\")\n",
    "plt.plot(gammas, list(zip(accs_tr, accs_te)))\n",
    "plt.plot(gamma_opt, acc_opt, 'ro')\n",
    "plt.xlabel(\"gamma\")"
   ]
  },
  {
   "cell_type": "code",
   "execution_count": null,
   "metadata": {},
   "outputs": [],
   "source": [
    "test(y, tX_train, least_squares_GD, max_iters, k_fold, k_indices, gamma_opt, None)"
   ]
  },
  {
   "cell_type": "markdown",
   "metadata": {},
   "source": [
    "### Least Squares SGD"
   ]
  },
  {
   "cell_type": "code",
   "execution_count": null,
   "metadata": {},
   "outputs": [],
   "source": [
    "# Hyperparameter Gamma Tuning for Least Squares SGD using Cross-Validation\n",
    "\n",
    "gammas = np.logspace(-4, 0, 15)\n",
    "gamma_opt, acc_opt, ls_tr, ls_te, accs_tr, accs_te = hyperparameter_tuning(y, tX_train, least_squares_SGD, max_iters, k_fold, k_indices, gammas, None)\n"
   ]
  },
  {
   "cell_type": "code",
   "execution_count": null,
   "metadata": {},
   "outputs": [],
   "source": [
    "print(\"optimal gamma : {:f} / accuracy : {:f}\".format(gamma_opt, acc_opt))"
   ]
  },
  {
   "cell_type": "code",
   "execution_count": null,
   "metadata": {
    "scrolled": true
   },
   "outputs": [],
   "source": [
    "plt.title(\"Gamma tuning for Least Squares SGD\")\n",
    "plt.xlabel(\"gamma\")\n",
    "plt.ylabel(\"accuracy\")\n",
    "plt.plot(gammas, list(zip(accs_tr, accs_te)))\n",
    "plt.plot(gamma_opt, acc_opt, 'ro')"
   ]
  },
  {
   "cell_type": "code",
   "execution_count": null,
   "metadata": {},
   "outputs": [],
   "source": [
    "# Performance Test for Least Squares SGD\n",
    "test(y, tX_train, least_squares_GD, max_iters, k_fold, k_indices, gamma_opt, None)"
   ]
  },
  {
   "cell_type": "markdown",
   "metadata": {},
   "source": [
    "### Least Squares"
   ]
  },
  {
   "cell_type": "code",
   "execution_count": null,
   "metadata": {},
   "outputs": [],
   "source": [
    "# Degree Tuning for Least Squares using Cross-Validation\n",
    "\n",
    "degrees = list(range(1, 10))\n",
    "degree_opt, acc_opt, ls_tr, ls_te, accs_tr, accs_te = hyperparameter_tuning(y, tX_train, least_squares, max_iters, k_fold, k_indices, degrees, None)\n"
   ]
  },
  {
   "cell_type": "code",
   "execution_count": null,
   "metadata": {},
   "outputs": [],
   "source": [
    "print(\"optimal degree : {:d} / accuracy : {:f}\".format(degree_opt, acc_opt))"
   ]
  },
  {
   "cell_type": "code",
   "execution_count": null,
   "metadata": {},
   "outputs": [],
   "source": [
    "plt.title(\"Degree tuning for Least Squares\")\n",
    "plt.xlabel(\"degree\")\n",
    "plt.ylabel(\"accuracy\")\n",
    "plt.plot(degrees, list(zip(accs_tr, accs_te)))\n",
    "plt.plot(degree_opt, acc_opt, 'ro')"
   ]
  },
  {
   "cell_type": "code",
   "execution_count": null,
   "metadata": {},
   "outputs": [],
   "source": [
    "# Performance Test for Least Squares\n",
    "test(y, tX_train, least_squares, max_iters, k_fold, k_indices, degree_opt, None)"
   ]
  },
  {
   "cell_type": "markdown",
   "metadata": {},
   "source": [
    "### Ridge Regression"
   ]
  },
  {
   "cell_type": "code",
   "execution_count": null,
   "metadata": {},
   "outputs": [],
   "source": [
    "# Hyperparameter and Degree Tuning for Ridge Regression using Cross-Validation\n",
    "\n",
    "degrees = list(range(1, 10))\n",
    "lambdas = np.logspace(-4, 0, 15)\n",
    "lambda_opt, degree_opt, acc_opt, ls_tr, ls_te, accs_tr, accs_te = hyperparameter_tuning(y, tX_train, ridge_regression, max_iters, k_fold, k_indices, lambdas, degrees)\n"
   ]
  },
  {
   "cell_type": "code",
   "execution_count": null,
   "metadata": {},
   "outputs": [],
   "source": [
    "print(\"optimal degree : {:d} and lambda : {:f} / accuracy : {:f}\".format(degree_opt, lambda_opt, acc_opt))"
   ]
  },
  {
   "cell_type": "code",
   "execution_count": null,
   "metadata": {},
   "outputs": [],
   "source": [
    "plt.title(\"Degree tuning for Ridge Regression\")\n",
    "plt.xlabel(\"degree\")\n",
    "plt.ylabel(\"loss\")\n",
    "plt.plot(degrees, list(zip(accs_tr, accs_te)))\n",
    "plt.plot(degree_opt, acc_opt, 'ro')"
   ]
  },
  {
   "cell_type": "code",
   "execution_count": null,
   "metadata": {},
   "outputs": [],
   "source": [
    "# Performance Test for Ridge Regression\n",
    "test(y, tX_train, ridge_regression, max_iters, k_fold, k_indices, degree_opt, lambda_opt)"
   ]
  },
  {
   "cell_type": "markdown",
   "metadata": {},
   "source": [
    "### Logistic Regression"
   ]
  },
  {
   "cell_type": "code",
   "execution_count": null,
   "metadata": {},
   "outputs": [],
   "source": [
    "y_logistic = y.copy()\n",
    "y_logistic[y_logistic == -1] = 0"
   ]
  },
  {
   "cell_type": "code",
   "execution_count": null,
   "metadata": {},
   "outputs": [],
   "source": [
    "# Hyperparameter Tuning for Logistic Regression using Cross-Validation\n",
    "\n",
    "gammas = np.logspace(-4, 0, 15)\n",
    "gamma_opt, acc_opt, ls_tr, ls_te, accs_tr, accs_te = hyperparameter_tuning(y_logistic, tX_train, logistic_regression, max_iters, k_fold, k_indices, gammas, None)\n"
   ]
  },
  {
   "cell_type": "code",
   "execution_count": null,
   "metadata": {},
   "outputs": [],
   "source": [
    "print(\"optimal gamma : {:f} / accuracy : {:f}\".format(gamma_opt, acc_opt))"
   ]
  },
  {
   "cell_type": "code",
   "execution_count": null,
   "metadata": {},
   "outputs": [],
   "source": [
    "plt.title(\"Gamma tuning for Logistic Regression\")\n",
    "plt.xlabel(\"gamma\")\n",
    "plt.ylabel(\"accuracy\")\n",
    "plt.plot(gammas, list(zip(accs_tr, accs_te)))\n",
    "plt.plot(gamma_opt, acc_opt, 'ro')"
   ]
  },
  {
   "cell_type": "code",
   "execution_count": null,
   "metadata": {},
   "outputs": [],
   "source": [
    "# Performance Test for Logistic Regression\n",
    "\n",
    "test(y_logistic, tX_train, logistic_regression, max_iters, k_fold, k_indices, gamma_opt, None)"
   ]
  },
  {
   "cell_type": "markdown",
   "metadata": {},
   "source": [
    "### Regularized Logistic Regression"
   ]
  },
  {
   "cell_type": "code",
   "execution_count": null,
   "metadata": {},
   "outputs": [],
   "source": [
    "# Hyperparameter Tuning for Regularized Ridge Regression using Cross-Validation\n",
    "\n",
    "gammas = np.logspace(-4, 0, 15)\n",
    "lambdas = np.logspace(-4, 0, 15)\n",
    "lambda_opt, gamma_opt, acc_opt, ls_tr, ls_te, accs_tr, accs_te = hyperparameter_tuning(y, tX_train, reg_logistic_regression, max_iters, k_fold, k_indices, lambdas, gammas)\n"
   ]
  },
  {
   "cell_type": "code",
   "execution_count": null,
   "metadata": {},
   "outputs": [],
   "source": [
    "print(\"optimal gamma : {:f} and lambda : {:f} / accuracy : {:f}\".format(gamma_opt, lambda_opt, acc_opt))"
   ]
  },
  {
   "cell_type": "code",
   "execution_count": null,
   "metadata": {},
   "outputs": [],
   "source": [
    "plt.title(\"Gamma tuning for Regularized Logistic Regression\")\n",
    "plt.xlabel(\"gamma\")\n",
    "plt.ylabel(\"accuracy\")\n",
    "plt.plot(gammas, list(zip(accs_tr, accs_te)))\n",
    "plt.plot(gamma_opt, acc_opt, 'ro')"
   ]
  },
  {
   "cell_type": "code",
   "execution_count": null,
   "metadata": {
    "scrolled": true
   },
   "outputs": [],
   "source": [
    "test(y_logistic, tX_train, reg_logistic_regression, max_iters, k_fold, k_indices, gamma_opt, lambda_opt)"
   ]
  },
  {
   "cell_type": "markdown",
   "metadata": {},
   "source": [
    "## Generate predictions and save ouput in csv format for submission:"
   ]
  },
  {
   "cell_type": "code",
   "execution_count": null,
   "metadata": {},
   "outputs": [],
   "source": [
    "DATA_TEST_PATH = '../data/test.csv'\n",
    "y_test, tX_test, ids_test = load_csv_data(DATA_TEST_PATH)"
   ]
  },
  {
   "cell_type": "code",
   "execution_count": null,
   "metadata": {},
   "outputs": [],
   "source": [
    "tX_test = standardization(tX_test, mean, std)\n",
    "y_logistic = y_test.copy()\n",
    "y_logistic[y_logistic == -1] = 0\n",
    "\n",
    "initial_w = np.zeros(tX_test.shape[1])\n",
    "weights, _ = reg_logistic_regression(y_logistic, tX_test, lambda_opt, initial_w, max_iters, gamma_opt)"
   ]
  },
  {
   "cell_type": "code",
   "execution_count": null,
   "metadata": {},
   "outputs": [],
   "source": [
    "OUTPUT_PATH = 'output.csv'\n",
    "y_pred = predict_labels(weights, tX_test)\n",
    "create_csv_submission(ids_test, y_pred, OUTPUT_PATH)"
   ]
  },
  {
   "cell_type": "code",
   "execution_count": null,
   "metadata": {},
   "outputs": [],
   "source": [
    "compute_accuracy(pd.read_csv(OUTPUT_PATH).Prediction.values.tolist(), y_test)"
   ]
  }
 ],
 "metadata": {
  "anaconda-cloud": {},
  "kernelspec": {
   "display_name": "Python 3",
   "language": "python",
   "name": "python3"
  },
  "language_info": {
   "codemirror_mode": {
    "name": "ipython",
    "version": 3
   },
   "file_extension": ".py",
   "mimetype": "text/x-python",
   "name": "python",
   "nbconvert_exporter": "python",
   "pygments_lexer": "ipython3",
   "version": "3.6.5"
  },
  "toc": {
   "base_numbering": 1,
   "nav_menu": {},
   "number_sections": true,
   "sideBar": true,
   "skip_h1_title": false,
   "title_cell": "Table of Contents",
   "title_sidebar": "Contents",
   "toc_cell": false,
   "toc_position": {},
   "toc_section_display": true,
   "toc_window_display": false
  }
 },
 "nbformat": 4,
 "nbformat_minor": 1
}
