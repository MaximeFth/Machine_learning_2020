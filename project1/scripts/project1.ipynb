{
 "cells": [
  {
   "cell_type": "code",
   "execution_count": 1,
   "metadata": {},
   "outputs": [],
   "source": [
    "# Useful starting lines\n",
    "%matplotlib inline\n",
    "import datetime\n",
    "from costs import compute_loss\n",
    "import numpy as np\n",
    "import matplotlib.pyplot as plt\n",
    "%load_ext autoreload\n",
    "\n",
    "%autoreload 2"
   ]
  },
  {
   "cell_type": "markdown",
   "metadata": {},
   "source": [
    "## Load the training data into feature matrix, class labels, and event ids:"
   ]
  },
  {
   "cell_type": "code",
   "execution_count": 2,
   "metadata": {},
   "outputs": [],
   "source": [
    "from proj1_helpers import *\n",
    "DATA_TRAIN_PATH = '../data/train.csv' \n",
    "y, tX, ids = load_csv_data(DATA_TRAIN_PATH)\n",
    "# standardize the data\n",
    "tX_std = standardize(tX)\n"
   ]
  },
  {
   "cell_type": "markdown",
   "metadata": {},
   "source": [
    "# least squares GD"
   ]
  },
  {
   "cell_type": "code",
   "execution_count": 3,
   "metadata": {},
   "outputs": [],
   "source": [
    "def compute_gradient(y, tx, w):\n",
    "    \"\"\"Compute the gradient.\"\"\"\n",
    "    # ***************************************************\n",
    "    return (-1/len(y))*tx.T@(y-tx@w)\n",
    "    # ***************************************************\n",
    "\n",
    "\n",
    "def least_squares_GD(y, tx, initial_w, max_iters, gamma):\n",
    "    \"\"\"least square gradient descent algorithm.\"\"\"\n",
    "    # Define parameters to store w and loss\n",
    "    ws = [initial_w]\n",
    "    losses = []\n",
    "    w = initial_w\n",
    "    for n_iter in range(max_iters):\n",
    "        # ***************************************************\n",
    "        # compute gradient computes the gradient\n",
    "        gradient = compute_gradient(y,tx,w)\n",
    "        # compute loss. here MSE is used\n",
    "        loss = compute_loss(y,tx,w)\n",
    "        # ***************************************************\n",
    "        # TODO: update w by gradient\n",
    "        w = w-gamma*gradient\n",
    "        # ***************************************************\n",
    "        # store w and loss\n",
    "        ws.append(w)\n",
    "        losses.append(loss)\n",
    "        print(\"Gradient Descent({bi}/{ti}): loss={l}\".format(\n",
    "              bi=n_iter, ti=max_iters - 1, l=loss))\n",
    "\n",
    "    return np.array(losses), np.array(ws)"
   ]
  },
  {
   "cell_type": "markdown",
   "metadata": {},
   "source": [
    "# least square SGD"
   ]
  },
  {
   "cell_type": "code",
   "execution_count": 4,
   "metadata": {},
   "outputs": [],
   "source": [
    "\n",
    "def compute_stoch_gradient(y, tx, w):\n",
    "    \"\"\"Compute the gradient.\"\"\"\n",
    "    # ***************************************************\n",
    "    e = y-tx@w\n",
    "    return -1/len(y)*tx.T@e\n",
    "    # ***************************************************\n",
    "\n",
    "\n",
    "def least_squares_SGD(y, tx, initial_w, batch_size, max_iters, gamma):\n",
    "    \"\"\"Least square stochastic gradient descent algorithm.\"\"\"\n",
    "    # ***************************************************\n",
    "    # Define parameters to store w and loss\n",
    "    ws = [initial_w]\n",
    "    losses = []\n",
    "    w = initial_w\n",
    "    for n_iter in range(max_iters):\n",
    "        # compute random batch\n",
    "        a = batch_iter(y, tx, batch_size, num_batches=1, shuffle=True)\n",
    "        a = list(a)\n",
    "        tx2, y2 = a[0][1], a[0][0]\n",
    "        \n",
    "        # compute gradient & loss\n",
    "        grad = compute_stoch_gradient(y2,tx2,w)\n",
    "        loss= compute_loss(y2, tx2, w)\n",
    "        print(grad)\n",
    "        # update gradient\n",
    "        w = w-gamma*grad\n",
    "        \n",
    "        # store w and loss\n",
    "        ws.append(w)\n",
    "        losses.append(loss)\n",
    "        print(\"stoch Gradient Descent({bi}/{ti}): loss={l}\".format(\n",
    "              bi=n_iter, ti=max_iters - 1, l=loss))\n",
    "\n",
    "    return np.array(losses), np.array(ws)"
   ]
  },
  {
   "cell_type": "markdown",
   "metadata": {},
   "source": [
    "# least square\n",
    "computed by solving for w:  X<sup>T</sup>X * w = X<sup>T</sup>y"
   ]
  },
  {
   "cell_type": "code",
   "execution_count": 5,
   "metadata": {},
   "outputs": [],
   "source": [
    "def least_square(y, tx):\n",
    "    w = np.linalg.solve(tx.T@tx,tx.T@y)\n",
    "    return w, compute_loss(y, tx, w)\n"
   ]
  },
  {
   "cell_type": "code",
   "execution_count": 6,
   "metadata": {},
   "outputs": [],
   "source": [
    "wls, loss = least_square(y, tX_std)"
   ]
  },
  {
   "cell_type": "markdown",
   "metadata": {},
   "source": [
    "# Ridge regression"
   ]
  },
  {
   "cell_type": "code",
   "execution_count": 7,
   "metadata": {},
   "outputs": [],
   "source": [
    "def ridge_regression(y, tx, lamda):\n",
    "    w = np.linalg.solve(tx.T@tx+lamda*np.eye(tx.shape[1]),tx.T@y)\n",
    "    return w, compute_loss(y, tx, w)\n"
   ]
  },
  {
   "cell_type": "code",
   "execution_count": 8,
   "metadata": {},
   "outputs": [],
   "source": [
    "wls, loss = ridge_regression(y, tX_std,1)"
   ]
  },
  {
   "cell_type": "markdown",
   "metadata": {},
   "source": [
    "# Logistic regression"
   ]
  },
  {
   "cell_type": "code",
   "execution_count": 12,
   "metadata": {},
   "outputs": [],
   "source": [
    "def sigmoid(z):\n",
    "    return 1/(1+np.exp(-z))\n",
    "def update_weights(tx, y, w, gamma):\n",
    "    #probabilities array that the label is 1\n",
    "    probabilities = sigmoid(np.dot(tx, w))\n",
    "    gradient = np.dot(tx.T,  probabilities - y)\n",
    "    w -= gradient*gamma / len(tx)\n",
    "    return w\n",
    "\n",
    "def loss_function(tx, y, w):\n",
    "    #probabilities array that the label is 1\n",
    "    probabilities = sigmoid(np.dot(tx, w))\n",
    "    #the error when label=1\n",
    "    error1 = -y*np.log(probabilities)\n",
    "    #the error when label=-1\n",
    "    error2 = (1-y)*np.log(1-probabilities)\n",
    "    #return average of sum of costs\n",
    "    return (error1-error2).mean()\n",
    "\n",
    "\n",
    "# logistic regression function\n",
    "def logistic_regression(y,tx, initial_w,  max_iter, gamma):\n",
    "    losses = []\n",
    "    ws = []\n",
    "    for iter_n in range(max_iter):\n",
    "        w = update_weights(tx, y, initial_w, gamma)\n",
    "        loss = loss_function(tx, y, w)\n",
    "        losses.append(loss)\n",
    "        ws.append(w)\n",
    "    return np.array(losses), np.array(ws)\n",
    "\n",
    "#################################################################################\n",
    "def decision_boundary(prob):\n",
    "    return 1 if prob >= .5 else 0\n",
    "\n",
    "def classify(predictions):\n",
    "    '''\n",
    "    input  - N element array of predictions between 0 and 1\n",
    "    output - N element array of 0s (False) and 1s (True)\n",
    "    '''\n",
    "    decision_boundary = np.vectorize(decision_boundary)\n",
    "    return decision_boundary(predictions).flatten()"
   ]
  },
  {
   "cell_type": "markdown",
   "metadata": {},
   "source": [
    "# reg logistic regression"
   ]
  },
  {
   "cell_type": "code",
   "execution_count": 16,
   "metadata": {},
   "outputs": [],
   "source": [
    "def update_weights(tx, y, w, gamma, lambda_):\n",
    "    #probabilities array that the label is 1\n",
    "    probabilities = sigmoid(np.dot(tx, w))\n",
    "    gradient = np.dot(tx.T,  probabilities - y) + lambda_ * w\n",
    "    w -= gradient*gamma / len(tx)\n",
    "    return w\n",
    "\n",
    "def loss_function(tx, y, w):\n",
    "    #probabilities array that the label is 1\n",
    "    probabilities = sigmoid(np.dot(tx, w))\n",
    "    #the error when label=1\n",
    "    error1 = -y*np.log(probabilities)\n",
    "    #the error when label=-1\n",
    "    error2 = (1-y)*np.log(1-probabilities)\n",
    "    #return average of sum of costs\n",
    "    return (error1-error2).mean()\n",
    "\n",
    "\n",
    "# regularized logistic regression function\n",
    "def reg_logistic_regression(y,tx,lambda_, initial_w,  max_iter, gamma):\n",
    "    losses = []\n",
    "    ws = []\n",
    "    for iter_n in range(max_iter):\n",
    "        w = update_weights(tx, y, initial_w, gamma,lambda_)\n",
    "        loss = loss_function(tx, y, w)\n",
    "        losses.append(loss)\n",
    "        ws.append(w)\n",
    "    return np.array(losses), np.array(ws)\n"
   ]
  },
  {
   "cell_type": "markdown",
   "metadata": {},
   "source": [
    "# tests on train set "
   ]
  },
  {
   "cell_type": "markdown",
   "metadata": {},
   "source": [
    "# test logistic regression"
   ]
  },
  {
   "cell_type": "code",
   "execution_count": 15,
   "metadata": {},
   "outputs": [
    {
     "name": "stderr",
     "output_type": "stream",
     "text": [
      "/Users/Maxime/anaconda3/lib/python3.6/site-packages/ipykernel_launcher.py:16: RuntimeWarning: invalid value encountered in multiply\n",
      "  app.launch_new_instance()\n"
     ]
    },
    {
     "name": "stdout",
     "output_type": "stream",
     "text": [
      "Gradient Descent: execution time=2.519 seconds\n"
     ]
    },
    {
     "data": {
      "text/plain": [
       "[<matplotlib.lines.Line2D at 0x12afd2358>]"
      ]
     },
     "execution_count": 15,
     "metadata": {},
     "output_type": "execute_result"
    },
    {
     "data": {
      "image/png": "[encoded data removed]",
      "text/plain": [
       "<Figure size 432x288 with 1 Axes>"
      ]
     },
     "metadata": {},
     "output_type": "display_data"
    }
   ],
   "source": [
    "#Define the parameters of the algorithm.\n",
    "max_iters = 100\n",
    "gamma = 0.2\n",
    "# Initialization\n",
    "w_initial = np.zeros(30)\n",
    "\n",
    "# Start gradient descent.\n",
    "start_time = datetime.datetime.now()\n",
    "losses, ws  = logistic_regression(y, tX_std, w_initial, max_iters, gamma)\n",
    "end_time = datetime.datetime.now()\n",
    "\n",
    "# Print result\n",
    "exection_time = (end_time - start_time).total_seconds()\n",
    "print(\"Gradient Descent: execution time={t:.3f} seconds\".format(t=exection_time))\n",
    "plt.plot(losses)"
   ]
  },
  {
   "cell_type": "markdown",
   "metadata": {},
   "source": [
    "# test reg logistic regression"
   ]
  },
  {
   "cell_type": "code",
   "execution_count": 29,
   "metadata": {},
   "outputs": [
    {
     "name": "stdout",
     "output_type": "stream",
     "text": [
      "Gradient Descent: execution time=2.597 seconds\n",
      "best loss: 0.1570169845486614\n"
     ]
    },
    {
     "data": {
      "image/png": "[encoded data removed]",
      "text/plain": [
       "<Figure size 432x288 with 1 Axes>"
      ]
     },
     "metadata": {},
     "output_type": "display_data"
    }
   ],
   "source": [
    "#Define the parameters of the algorithm.\n",
    "max_iters = 100\n",
    "gamma = 0.1\n",
    "lambda_ = 0.2\n",
    "# Initialization\n",
    "w_initial = np.zeros(30)\n",
    "\n",
    "# Start gradient descent.\n",
    "start_time = datetime.datetime.now()\n",
    "losses, ws  = reg_logistic_regression(y, tX_std,lambda_, w_initial, max_iters, gamma)\n",
    "end_time = datetime.datetime.now()\n",
    "\n",
    "# Print result\n",
    "exection_time = (end_time - start_time).total_seconds()\n",
    "print(\"Gradient Descent: execution time={t:.3f} seconds\".format(t=exection_time))\n",
    "plt.plot(losses)\n",
    "print(f'best loss: {losses[-1]}')"
   ]
  },
  {
   "cell_type": "markdown",
   "metadata": {},
   "source": [
    "# test GD"
   ]
  },
  {
   "cell_type": "code",
   "execution_count": 30,
   "metadata": {},
   "outputs": [
    {
     "name": "stdout",
     "output_type": "stream",
     "text": [
      "Gradient Descent(0/49): loss=1.0\n",
      "Gradient Descent(1/49): loss=0.9264755130297591\n",
      "Gradient Descent(2/49): loss=0.8962466370379258\n",
      "Gradient Descent(3/49): loss=0.8771600577769223\n",
      "Gradient Descent(4/49): loss=0.8642270151661157\n",
      "Gradient Descent(5/49): loss=0.8551458442459039\n",
      "Gradient Descent(6/49): loss=0.8485355498878918\n",
      "Gradient Descent(7/49): loss=0.8435390789639572\n",
      "Gradient Descent(8/49): loss=0.839618166428172\n",
      "Gradient Descent(9/49): loss=0.836430789564036\n",
      "Gradient Descent(10/49): loss=0.8337566792321113\n",
      "Gradient Descent(11/49): loss=0.8314517631067185\n",
      "Gradient Descent(12/49): loss=0.8294201370090645\n",
      "Gradient Descent(13/49): loss=0.827596702095248\n",
      "Gradient Descent(14/49): loss=0.8259363236853894\n",
      "Gradient Descent(15/49): loss=0.8244070000529391\n",
      "Gradient Descent(16/49): loss=0.8229855127345691\n",
      "Gradient Descent(17/49): loss=0.8216546239049244\n",
      "Gradient Descent(18/49): loss=0.8204012464387307\n",
      "Gradient Descent(19/49): loss=0.8192152314360012\n",
      "Gradient Descent(20/49): loss=0.8180885519776158\n",
      "Gradient Descent(21/49): loss=0.8170147442288442\n",
      "Gradient Descent(22/49): loss=0.8159885179204109\n",
      "Gradient Descent(23/49): loss=0.8150054799239733\n",
      "Gradient Descent(24/49): loss=0.8140619345101036\n",
      "Gradient Descent(25/49): loss=0.8131547364439043\n",
      "Gradient Descent(26/49): loss=0.8122811810960384\n",
      "Gradient Descent(27/49): loss=0.811438920921736\n",
      "Gradient Descent(28/49): loss=0.8106259010360855\n",
      "Gradient Descent(29/49): loss=0.8098403088429811\n",
      "Gradient Descent(30/49): loss=0.8090805341662551\n",
      "Gradient Descent(31/49): loss=0.8083451373426869\n",
      "Gradient Descent(32/49): loss=0.80763282343203\n",
      "Gradient Descent(33/49): loss=0.8069424211844628\n",
      "Gradient Descent(34/49): loss=0.8062728657493831\n",
      "Gradient Descent(35/49): loss=0.8056231843561816\n",
      "Gradient Descent(36/49): loss=0.8049924843773115\n",
      "Gradient Descent(37/49): loss=0.8043799433165914\n",
      "Gradient Descent(38/49): loss=0.8037848003648502\n",
      "Gradient Descent(39/49): loss=0.8032063492400608\n",
      "Gradient Descent(40/49): loss=0.8026439320865358\n",
      "Gradient Descent(41/49): loss=0.8020969342521465\n",
      "Gradient Descent(42/49): loss=0.8015647797971903\n",
      "Gradient Descent(43/49): loss=0.8010469276158095\n",
      "Gradient Descent(44/49): loss=0.8005428680725071\n",
      "Gradient Descent(45/49): loss=0.8000521200736141\n",
      "Gradient Descent(46/49): loss=0.7995742285074728\n",
      "Gradient Descent(47/49): loss=0.7991087619983623\n",
      "Gradient Descent(48/49): loss=0.7986553109283492\n",
      "Gradient Descent(49/49): loss=0.7982134856887392\n",
      "Gradient Descent: execution time=1.779 seconds\n"
     ]
    },
    {
     "data": {
      "text/plain": [
       "[<matplotlib.lines.Line2D at 0x128083320>]"
      ]
     },
     "execution_count": 30,
     "metadata": {},
     "output_type": "execute_result"
    },
    {
     "data": {
      "image/png": "[encoded data removed]",
      "text/plain": [
       "<Figure size 432x288 with 1 Axes>"
      ]
     },
     "metadata": {},
     "output_type": "display_data"
    }
   ],
   "source": [
    "# Define the parameters of the algorithm.\n",
    "max_iters = 50\n",
    "gamma = 0.1\n",
    "# Initialization\n",
    "w_initial = np.zeros(30)\n",
    "\n",
    "# Start gradient descent.\n",
    "start_time = datetime.datetime.now()\n",
    "gradient_losses, gradient_ws = least_squares_GD(y, tX_std, w_initial, max_iters, gamma)\n",
    "end_time = datetime.datetime.now()\n",
    "\n",
    "# Print result\n",
    "exection_time = (end_time - start_time).total_seconds()\n",
    "print(\"Gradient Descent: execution time={t:.3f} seconds\".format(t=exection_time))\n",
    "plt.plot(gradient_losses)"
   ]
  },
  {
   "cell_type": "markdown",
   "metadata": {},
   "source": [
    "# test SGD"
   ]
  },
  {
   "cell_type": "code",
   "execution_count": 31,
   "metadata": {},
   "outputs": [
    {
     "name": "stdout",
     "output_type": "stream",
     "text": [
      "[0. 0. 0. 0. 0. 0. 0. 0. 0. 0. 0. 0. 0. 0. 0. 0. 0. 0. 0. 0. 0. 0. 0. 0.\n",
      " 0. 0. 0. 0. 0. 0.]\n",
      "[ 0.35814674 -1.25200314 -0.22807492  0.17918371 -0.63936707 -0.60452962\n",
      " -0.63936262 -0.83419578  0.37136896 -0.04178886 -0.81398822  1.19162669\n",
      " -0.63936836  0.6157665   0.43817105 -1.10902353 -0.3290844   0.962472\n",
      "  1.45075744 -1.12675648  1.68860334  0.43305254  0.02130497  0.76932273\n",
      "  0.81769836  0.81763925 -0.63895617 -0.63936657 -0.63936694 -0.11604894]\n",
      "stoch Gradient Descent(0/49): loss=1.0\n",
      "[ 0.51377202  0.63163297  1.11118676 -0.81679292 -0.65735099 -0.62153364\n",
      " -0.65734642  0.61839262 -0.5350944  -0.37795515 -0.50826903 -1.10488769\n",
      " -0.65735231  0.85685952  0.61562949  1.09287473  0.55214898  1.33090427\n",
      " -0.96526951 -0.39591677  0.23834656 -0.81746938 -1.02997021 -1.25519763\n",
      " -1.26010247 -1.2601023  -0.65692853 -0.65735047 -0.65735086 -0.7664069 ]\n",
      "stoch Gradient Descent(1/49): loss=1.0570465524461559\n",
      "[ 0.30675172 -0.8779777  -0.55193073  0.03140885 -0.60813225 -0.5749967\n",
      " -0.60812802 -0.32328146  0.45550071 -0.11101813  0.70304059  1.18202244\n",
      " -0.60813348 -0.68630094 -0.10421769 -1.63283352 -0.00806991 -0.4454994\n",
      "  0.55419151 -0.66054044  0.88181436  0.17571758  0.02026417  0.75713115\n",
      "  0.77437917  0.77240054 -0.60774143 -0.60813177 -0.60813213  0.02768963]\n",
      "stoch Gradient Descent(2/49): loss=0.9046811503983063\n",
      "[ 0.43520841 -1.76304663 -0.80544007  1.66003553  1.99930188  2.08910609\n",
      "  1.99916818 -1.74786312 -0.70401242  2.48076453 -0.53075562  1.31490594\n",
      "  2.0011551  -0.03659783 -1.91069996 -1.81025339 -0.30682738 -0.50797319\n",
      " -1.85455135  0.75346498 -1.81411976  2.52338827  1.335557    1.23874509\n",
      "  1.04035125  1.04251521  2.20618992  2.00286244  2.00546615  3.00593494]\n",
      "stoch Gradient Descent(3/49): loss=1.6352698150272145\n",
      "[-0.43725645  1.0361881  -0.60848145  0.81056722  0.57611526  0.54472424\n",
      "  0.57611126 -1.62959676  0.73965125  0.72804111  0.56172538  0.96985504\n",
      "  0.57611642  0.18970305 -0.68650269  1.2879679   0.64131825  0.91140906\n",
      " -0.27700509  1.03840723  0.10037914  0.75378562  0.90268603  1.10007975\n",
      "  1.10437844  1.1043783   0.57574501  0.57611481  0.57611515  0.671694  ]\n",
      "stoch Gradient Descent(4/49): loss=0.8119293350425996\n",
      "[-2.85994372  1.19875635 -0.10762389 -0.64096937 -0.7821489  -0.73953164\n",
      " -0.78214346 -0.832983    0.30897672 -0.85597437 -0.68006791 -1.27775348\n",
      " -0.78215048  0.03572903 -1.53058941 -0.40928245 -0.47409467  0.12814333\n",
      "  0.11344026  0.20639009  2.06232277 -1.07527027 -1.22550978 -1.49349657\n",
      " -1.49933259 -1.49933239 -0.78164624 -0.78214829 -0.78214874 -0.91190905]\n",
      "stoch Gradient Descent(5/49): loss=1.4965056179852294\n",
      "[-2.66333326e+00  1.39508496e+00  3.98092933e+00 -9.80519060e-01\n",
      " -7.28379080e-01 -6.88691598e-01 -7.28374017e-01  2.52737953e+00\n",
      " -8.08599107e-01 -7.20991621e-01  5.06252118e-01 -1.16414245e+00\n",
      " -7.28380551e-01 -4.28117265e-01 -1.49480442e+00 -2.23753500e-01\n",
      "  4.26404946e-01  1.59448866e+00 -1.74434281e+00  6.11426205e-05\n",
      "  5.85959977e-01 -1.24097409e+00 -1.14126055e+00 -1.39082425e+00\n",
      " -1.39625907e+00 -1.39625888e+00 -7.27910980e-01 -7.28378510e-01\n",
      " -7.28378935e-01 -8.49218706e-01]\n",
      "stoch Gradient Descent(6/49): loss=1.2978198205092053\n",
      "[-0.35861031  1.23422051 -0.04734268 -2.28223695 -1.47905981 -1.38853893\n",
      " -1.4913377   1.24362076 -1.81114736 -2.13452959 -6.95784143 -1.08592987\n",
      " -1.47736689  0.75479556 -0.45230383 -1.63007252 -4.82630353 -1.43350827\n",
      " -1.50444337  0.28501874 -1.55850233 -2.5865237  -1.95418454 -0.88691411\n",
      " -0.76862704 -0.77007391 -1.46872499 -1.46982203 -1.48078395 -1.6059025 ]\n",
      "stoch Gradient Descent(7/49): loss=0.8933887336164477\n",
      "[ 0.39257333 -1.11681917 -0.03794906 -0.34761814 -0.64663959 -0.61140588\n",
      " -0.6466351   0.14713797  0.50809128 -0.0558563   0.14413876 -0.52763693\n",
      " -0.6466409  -0.22704985 -2.02847589  1.35285565  0.26547493 -1.88485883\n",
      " -0.06043    -1.06605943 -0.33032055  0.36354391  0.02154731  0.78608912\n",
      "  0.819257    0.81944104 -0.64622402 -0.64663909 -0.64663947 -0.07378352]\n",
      "stoch Gradient Descent(8/49): loss=1.0228785238709164\n",
      "[ 0.39563173  0.84184719  0.54344301 -0.74327367 -0.56570883 -0.53488482\n",
      " -0.56570489  0.50505841 -0.57581556 -0.45493296  0.08839199 -0.94047574\n",
      " -0.56570997  0.02043335 -0.03208598 -0.07637856  0.52349331 -0.71798432\n",
      "  1.18426299 -0.2237427  -0.69372867 -0.09179665 -0.88638071 -1.08020889\n",
      " -1.08442994 -1.08442979 -0.56534527 -0.56570838 -0.56570871 -0.65956111]\n",
      "stoch Gradient Descent(9/49): loss=0.7828623102589247\n",
      "[-0.06632755  0.07801712  0.08042265 -0.73935638 -0.26009563 -0.51740751\n",
      " -0.25772996  0.35776175 -0.19219465 -0.57885721  0.12862181 -0.21095295\n",
      " -0.25931034 -0.464811    0.10388366 -0.05848839 -0.24598772  0.0349136\n",
      " -0.01007686 -0.62624168 -0.04107183 -0.48545814 -0.17308557 -0.21166299\n",
      " -0.13474146 -0.1342934  -0.25612171 -0.26046626 -0.25889927 -0.52167415]\n",
      "stoch Gradient Descent(10/49): loss=0.027465421964566746\n",
      "[ 0.16664464 -0.07976736  0.03423101 -0.40638302 -0.28713913 -0.27149367\n",
      " -0.28713713  0.5294016  -0.37548165 -0.40564046 -0.04764004 -0.47773736\n",
      " -0.28713971 -0.31549135 -0.45056045 -0.55541129 -0.31955526  0.31899236\n",
      "  0.05820934 -0.32843149  0.64881493 -0.62661996 -0.44990387 -0.54828602\n",
      " -0.55042851 -0.55042844 -0.2869546  -0.28713891 -0.28713907 -0.33477612]\n",
      "stoch Gradient Descent(11/49): loss=0.20168993993745735\n",
      "[ 0.15988619  0.17720225 -0.07726822 -0.39901355 -0.29390226 -0.27788829\n",
      " -0.29390022  0.13909337 -0.33590908 -0.3339151   0.04483389 -0.48359802\n",
      " -0.29390286 -0.18841593 -0.12268398 -0.78027111 -0.03746199 -0.38064495\n",
      " -0.15955346 -0.235986    0.47639273 -0.33089365 -0.46050068 -0.56120008\n",
      " -0.56339304 -0.56339296 -0.29371338 -0.29390203 -0.29390221 -0.34266127]\n",
      "stoch Gradient Descent(12/49): loss=0.21130284160408486\n",
      "[ 0.21713284 -0.84017229 -0.86538634  0.39206143 -0.5207935  -0.49241682\n",
      " -0.52078988 -1.19241149 -0.54600585 -0.02192344 -0.13076198  0.5256848\n",
      " -0.52079455 -0.37926597 -1.34923386  0.10095561 -0.36399867 -1.00547592\n",
      " -0.43518    -0.00790497 -0.55999105 -0.043813    0.01735387  0.67029302\n",
      "  0.6650903   0.66846124 -0.52045881 -0.52079309 -0.5207934   0.14279228]\n",
      "stoch Gradient Descent(13/49): loss=0.6634841973093801\n",
      "[ 0.50052525  0.5234552   1.39792404  0.011386   -0.46665032 -0.44122375\n",
      " -0.46664707  1.14656734 -0.58492493  0.03768843 -0.66926849  0.93331903\n",
      " -0.46665126  0.7887594  -0.04931192  1.04097421 -0.16394162 -1.21020292\n",
      " -0.17699803 -0.1223937   0.88044948 -0.3304376   0.01554971  0.55887764\n",
      "  0.59551456  0.59415138 -0.46635042 -0.46664995 -0.46665022 -0.09895969]\n",
      "stoch Gradient Descent(14/49): loss=0.5326998871778184\n",
      "[ 0.85331005 -2.33383254 -0.08617125  1.57631132  2.69846631  2.9102239\n",
      "  2.6956334  -0.42736748  1.35125205  2.40362007 -1.10930546  1.57753591\n",
      "  2.69620548 -0.32376413 -2.86813167 -0.92210479 -1.23609943 -0.14511874\n",
      " -1.97520474  1.21575621 -1.95843147  2.40540647  3.56396319  1.59059526\n",
      "  1.41589611  1.41005921  2.77422588  2.69480692  2.68611222  3.18973722]\n",
      "stoch Gradient Descent(15/49): loss=2.971500076690855\n",
      "[ 0.46385429  0.8604886  -0.04816569 -0.47010445 -0.65384904 -0.61822251\n",
      " -0.6538445   1.14019783 -0.7723251  -0.48284164  0.10579572  1.32143252\n",
      " -0.65385036 -0.43354522  1.06467999 -0.7271681  -0.09831251  0.31650732\n",
      "  1.00229969 -0.08693124 -0.37406922 -0.93637486  0.02178754  0.72605065\n",
      "  0.83665641  0.84039329 -0.65342884 -0.65384853 -0.65384891 -0.44872239]\n",
      "stoch Gradient Descent(16/49): loss=1.0458140212682538\n",
      "[-0.15512054  0.45543175 -0.09648025 -0.37788462 -0.59206372 -0.66449979\n",
      " -0.58782901  0.34541267 -0.11152205 -0.49204672 -0.56211189 -0.40602581\n",
      " -0.59091081  0.03687444  0.44698736 -0.46627406 -0.88577888  0.23807806\n",
      " -0.13688082  0.30050969 -0.18361165 -0.6316178  -0.39440644 -0.34481905\n",
      " -0.30986711 -0.30614043 -0.57315741 -0.58911109 -0.59021153 -0.38988264]\n",
      "stoch Gradient Descent(17/49): loss=0.14261084769199728\n",
      "[-0.40480114 -0.44815782  0.45963775  0.42089623  0.69224091  0.6545225\n",
      "  0.6922361  -0.25431824 -0.69184026  0.85571973  0.28403479 -0.75044708\n",
      "  0.69224231  0.40958173 -1.7291506   1.57976062  0.48608573 -1.67372056\n",
      " -0.60997984  0.40932751  1.5090692   0.03671073  1.08463748  1.32181919\n",
      "  1.32698436  1.32698419  0.69179604  0.69224037  0.69224077  0.80708514]\n",
      "stoch Gradient Descent(18/49): loss=1.1722331525161467\n",
      "[ 0.24090343 -0.67281593 -1.47184272 -0.07671041 -0.71821602 -0.6790823\n",
      " -0.71821103 -1.98448018 -0.86575472 -0.46650228 -0.39575628  0.0558138\n",
      " -0.71821747 -0.62368205  1.62563849  1.32514757 -0.85137886  0.97726938\n",
      "  1.74777724 -0.83481804 -1.28489742 -0.55116149  0.02393238  0.84836943\n",
      "  0.92165258  0.9158196  -0.71775445 -0.71821546 -0.71821588 -0.21643017]\n",
      "stoch Gradient Descent(19/49): loss=1.2618555711299284\n"
     ]
    },
    {
     "name": "stdout",
     "output_type": "stream",
     "text": [
      "[ 1.47167468 -2.1849315   5.80705667  1.99235525  2.66154872  2.44214054\n",
      "  2.6556052   2.22422598 -1.11658495  3.2142682   1.55102981  2.19476038\n",
      "  2.66014901  1.67761695  0.16526076 -1.90111687  6.75403515 -1.58444146\n",
      "  0.98625357  0.89453707  0.99864808  2.67216092  1.77623576  1.52549154\n",
      "  1.39245568  1.38194924  2.63918093  2.65466917  2.67067213  1.89035439]\n",
      "stoch Gradient Descent(20/49): loss=2.89244950065641\n",
      "[ 0.47906976  0.28174276  1.09350282 -0.81572388 -0.58674817 -0.55477779\n",
      " -0.58674409  1.13219732 -0.72528533 -0.53032219 -0.14623565 -0.97622194\n",
      " -0.58674935  0.04330457  0.0702769  -0.92177774  0.21389418 -1.24235765\n",
      "  0.8100236  -0.61708729 -0.4080953  -0.62488358 -0.9193462  -1.12038306\n",
      " -1.12476109 -1.12476094 -0.58637109 -0.58674771 -0.58674805 -0.68409093]\n",
      "stoch Gradient Descent(21/49): loss=0.8421761902550244\n",
      "[ 0.58790687  0.57935431  1.144714    1.16518437 -0.67399263 -0.63726853\n",
      " -0.67398795  0.98412746  0.98317446  0.5500354   4.43054665  1.35684371\n",
      " -0.67399399 -0.82421863 -1.60546994  1.12924579  2.81916231 -0.17874485\n",
      " -0.43495095  0.33305123  0.1547998   1.0344525   0.02245877  0.87084201\n",
      "  0.85519574  0.86659409 -0.67355949 -0.67399211 -0.6739925   0.20313402]\n",
      "stoch Gradient Descent(22/49): loss=1.1112448849674121\n",
      "[-2.497085    0.789826   -1.25710273 -0.58114015 -0.68291284 -0.64570269\n",
      " -0.68290809 -1.69184306  0.20834548 -0.91629389  0.11934931 -0.67356853\n",
      " -0.68291422 -0.73118546 -0.72847313 -1.7718877  -0.52537763 -1.42401941\n",
      " -1.37381309 -0.06433183  0.55468822 -1.14185329 -1.07002178 -1.30400743\n",
      " -1.309103   -1.30910283 -0.68247396 -0.6829123  -0.6829127  -0.79620952]\n",
      "stoch Gradient Descent(23/49): loss=1.1408538898930787\n",
      "[-0.35511505  0.5170532   0.16441754  0.769159    0.63955361  0.60470599\n",
      "  0.63954916 -0.6680883   0.44767385  0.85273101  0.61647436  1.07581158\n",
      "  0.6395549   0.33569523 -1.35778449  1.48209734  0.81838086 -0.1387838\n",
      "  0.14071146  0.92060831 -1.02231545  0.77095019  1.00208439  1.22121391\n",
      "  1.22598595  1.22598579  0.63914259  0.63955311  0.63955348  0.7456569 ]\n",
      "stoch Gradient Descent(24/49): loss=1.0005835959586658\n",
      "[-2.36561121  0.96819409  0.03169839 -0.90057324 -0.64695686 -0.61170586\n",
      " -0.64695236 -0.26378867 -0.80298082 -0.63252453 -0.42357    -1.0882648\n",
      " -0.64695816  0.11786393 -0.42008083  1.10065745 -0.08594906  0.33956808\n",
      " -0.02202587  0.17609936 -1.24507642 -0.9715391  -1.01368417 -1.23535026\n",
      " -1.24017754 -1.24017738 -0.64654108 -0.64695635 -0.64695673 -0.75428836]\n",
      "stoch Gradient Descent(25/49): loss=1.0238824891519835\n",
      "[ 0.26992472  0.45313347 -0.60714508 -0.55783013 -0.63381632 -0.59928132\n",
      " -0.63381191 -0.56611685  0.14058196 -0.91554106 -0.14036372 -0.474816\n",
      " -0.6338176  -0.72793663 -0.77163407 -0.50790865 -0.7790061   0.7260701\n",
      " -0.26987089 -0.03092679  1.11817215 -0.14757156 -0.99309492 -1.21025868\n",
      " -1.21498792 -1.21498776 -0.63340899 -0.63381582 -0.63381619 -0.73896778]\n",
      "stoch Gradient Descent(26/49): loss=0.9827121115443864\n",
      "[-0.56722972  1.37182211 -0.51812742  0.01107365  0.77046006  0.7284797\n",
      "  0.7704547  -0.72171985  0.05368706  0.01308305 -0.38714256  0.10469031\n",
      "  0.77046162  0.10524522 -0.34637441  1.57652323 -0.88090103  0.21671226\n",
      " -0.71273451  0.46103745 -0.60983866 -0.94979105 -0.02567325 -0.91789735\n",
      " -0.97773883 -0.97930517  0.76996492  0.77045946  0.77045991  0.18967207]\n",
      "stoch Gradient Descent(27/49): loss=1.4521107329871228\n",
      "[-5.19467073e-01  4.69387630e-01 -7.38525011e-01  6.15923303e-02\n",
      "  6.48418893e-01  6.13088234e-01  6.48414386e-01 -2.80965936e-01\n",
      " -2.21407588e-01 -5.50290083e-04  9.25158224e-01 -1.31045816e+00\n",
      "  6.48420202e-01 -1.43709400e+00 -6.89962238e-01  1.72953734e-01\n",
      " -1.47444443e-02 -5.70428653e-01 -1.24296409e+00  7.43392004e-01\n",
      " -5.94944780e-01 -2.34009782e-01 -2.16065983e-02 -7.40935333e-01\n",
      " -8.27677001e-01 -8.21268875e-01  6.48002180e-01  6.48418386e-01\n",
      "  6.48418764e-01  3.31272879e-01]\n",
      "stoch Gradient Descent(28/49): loss=1.0285153925667487\n",
      "[-0.07142306  0.24095463  0.07865401 -0.05271073 -0.30005571 -0.19140192\n",
      " -0.30145514  0.06509345  0.05851118  0.0386969   0.05794156 -0.20395072\n",
      " -0.30074188  0.09052999 -0.35942989 -0.16508752  0.11637336 -0.12469196\n",
      " -0.32079657  0.04841939 -0.31156618 -0.05847845 -0.20077385 -0.14089559\n",
      " -0.1571028  -0.1564609  -0.28994527 -0.30135255 -0.3007077  -0.00121681]\n",
      "stoch Gradient Descent(29/49): loss=0.03695548197399197\n",
      "[ 0.51763093  0.26998976 -0.43410348 -1.114651   -0.84738324 -0.80121153\n",
      " -0.84737735  1.18313186 -0.86621147 -1.10581489  0.97649248 -1.38099203\n",
      " -0.84738495 -1.09284889  2.69634754 -0.75929675 -0.30004168  1.3657135\n",
      "  1.71555845 -0.87935362 -0.24710551 -0.53429274 -1.32772218 -1.61806014\n",
      " -1.62438291 -1.6243827  -0.84683866 -0.84738257 -0.84738307 -0.9879659 ]\n",
      "stoch Gradient Descent(30/49): loss=1.7565447245077055\n",
      "[-1.76579274  0.45566712 -0.573258   -0.66669683 -0.48291609 -0.45660325\n",
      " -0.48291274 -0.34933183 -0.58357673 -0.65415748  0.24355092 -0.77562448\n",
      " -0.48291707 -0.58030806  0.89086174 -0.7952435  -0.33978423  1.3198661\n",
      " -0.0442981  -0.11864641  1.05951382 -0.77479761 -0.75665694 -0.92211793\n",
      " -0.92572122 -0.9257211  -0.48260574 -0.48291572 -0.482916   -0.56303289]\n",
      "stoch Gradient Descent(31/49): loss=0.5704831639642274\n",
      "[ 0.36542421  1.26403882  0.15204502 -0.29799748 -0.49477002 -0.46781129\n",
      " -0.49476658  0.57021965  0.50257875 -0.44004653  0.23303997  0.94223096\n",
      " -0.49477102 -0.14831236  0.56726243  0.76592581  0.40552191  0.60410159\n",
      " -0.67669185  0.21101301  0.83614489 -0.38583621 -0.77523027 -0.94475276\n",
      " -0.9484445  -0.94844437 -0.49445205 -0.49476964 -0.49476992 -0.57685341]\n",
      "stoch Gradient Descent(32/49): loss=0.5988336982165248\n",
      "[ 1.01554773 -2.06193719  0.09345416  1.98177966  3.25338753  2.51218067\n",
      "  3.27356013  0.33244659  6.53287488  3.66997719  0.74349226  2.34003105\n",
      "  3.25755618 -0.80282764 -0.40855514  1.96505095  0.53320461  1.24623571\n",
      " -2.66882713  2.48779675 -2.86656185  2.88006988  4.30839821  1.77955901\n",
      "  1.70473037  1.70240124  3.38442087  3.2693133   3.26989761  4.39589666]\n",
      "stoch Gradient Descent(33/49): loss=4.342511734405691\n",
      "[ 1.03095327  1.31403248  1.51552217  0.17409354  2.05246257  1.24972781\n",
      "  2.06400697  1.61349561 -0.90819134 -0.06276198  0.58792328  1.64865808\n",
      "  2.05693914 -0.57287841  2.0486274  -1.02847069  0.35032441 -0.32197338\n",
      "  1.67737015  0.36280772 -1.45008935 -0.61604589  1.37442496  0.95233953\n",
      "  1.07024612  1.07604722  1.99220421  2.05569954  2.05937466 -0.02196006]\n",
      "stoch Gradient Descent(34/49): loss=1.7318354878737763\n",
      "[-0.3523147   0.98085618  0.06769369 -1.04285671 -1.19450199 -1.21130632\n",
      " -1.19023837  0.48826921  0.54585189 -0.83839336 -0.11594608 -0.68535006\n",
      " -1.19394606  0.09654633 -0.71630057 -0.59549465 -0.32858073 -0.16373628\n",
      " -1.26882566 -1.08536209 -1.31721926 -1.12297637 -0.79673589 -0.69224368\n",
      " -0.61964668 -0.62266184 -1.19331108 -1.1955687  -1.19067094 -0.93781883]\n",
      "stoch Gradient Descent(35/49): loss=0.5819602574755582\n",
      "[ 0.29847301 -1.14750458 -0.79245687  0.66178412  1.53047513  1.15194245\n",
      "  1.53805118 -1.35552481 -0.07004555  1.12499464 -1.15928469  1.13603138\n",
      "  1.53433921  0.94224636 -0.99696492 -0.94169573 -0.89748391 -0.81597325\n",
      " -1.66139421 -0.25381342 -1.49117965  1.65912357  1.02522922  0.85411696\n",
      "  0.8024265   0.80119291  1.59827414  1.53662763  1.53984316  1.31462634]\n",
      "stoch Gradient Descent(36/49): loss=0.9636215832430904\n",
      "[ 0.33948992  1.15386155 -0.20104267 -0.7831513  -0.57032412 -0.53924864\n",
      " -0.57032015  0.85440411 -0.67714984 -0.59486046  1.48509322 -0.93544373\n",
      " -0.57032527 -0.6991549  -0.95810276 -0.51594817  0.54454134 -0.72384194\n",
      "  0.98621792 -0.11392615 -0.5566441  -0.73137211 -0.89361218 -1.08902169\n",
      " -1.09327717 -1.09327703 -0.56995759 -0.57032367 -0.57032401 -0.66494209]\n",
      "stoch Gradient Descent(37/49): loss=0.7956882618807776\n",
      "[-2.48939776  0.3930372   1.20949718 -0.36128709 -0.6808105  -0.64371491\n",
      " -0.68080577  0.48677277 -0.71257433 -0.16896562 -0.9953243  -1.00604018\n",
      " -0.68081188  1.21003915  0.77266752  1.54918698 -0.24477747  2.03329709\n",
      " -0.83617987  1.10680863 -0.11627034 -0.47227908  0.02268595  0.76448254\n",
      "  0.86949343  0.87374561 -0.68037297 -0.68080997 -0.68081037 -0.42104348]\n",
      "stoch Gradient Descent(38/49): loss=1.1338405045348916\n",
      "[ 2.55891205 -2.58854792  0.52096903  0.40794937 -1.71604955 -2.02491712\n",
      " -1.70505374  1.73373257 -8.50635096 -1.65576433  0.84689907  0.85806279\n",
      " -1.71319058 -1.06742646  1.23785609 -1.39603957 -0.04131164  0.39239518\n",
      " -0.95889451 -1.70341579  0.87993455 -0.12452739 -1.14315407 -1.11164847\n",
      " -0.88675642 -0.89058149 -1.65327929 -1.71509149 -1.71196065 -1.70123088]\n",
      "stoch Gradient Descent(39/49): loss=1.1980476638861552\n"
     ]
    },
    {
     "name": "stdout",
     "output_type": "stream",
     "text": [
      "[ 0.58586082 -1.80687119  0.13098552  3.08831511  2.47629935  1.71869169\n",
      "  2.48878888 -2.86684123 -1.28682591  3.36639806  1.29059503  0.90530191\n",
      "  2.48262149  1.61580125 -0.98516042  1.11833932  6.04346962 -1.5575895\n",
      "  1.791926   -1.81125155  2.18248779  3.09286412  1.6588614   1.52283956\n",
      "  1.29388496  1.29092812  2.45352585  2.48156677  2.48329793  2.24403611]\n",
      "stoch Gradient Descent(40/49): loss=2.5228113171803623\n",
      "[ 0.5585475  -0.79476679 -1.51644263  2.35143377  2.22924309  1.56470052\n",
      "  2.24612143 -1.86019008  0.83072302  0.90080633 -0.65572662  1.8070771\n",
      "  2.23367665 -0.59130392  0.78743524  1.12104168 -1.01982724  0.65128877\n",
      "  2.14245434  3.22429733  1.79646154  1.55043606  1.4925191   1.21681899\n",
      "  1.17004281  1.16502281  2.25709714  2.24121918  2.22958568  1.42817543]\n",
      "stoch Gradient Descent(41/49): loss=2.042228628718094\n",
      "[ 0.34802282 -0.42124394 -1.22204352  0.96158641 -0.80982968 -0.76570417\n",
      " -0.80982405 -1.92375675  0.78291808 -0.14445661  0.57335934  0.76225401\n",
      " -0.80983131 -0.75455265  0.08134708  0.83046273 -0.02974715 -0.94671226\n",
      "  1.19887422  0.05786416  0.63401142  0.27648162  0.02698512  1.00306572\n",
      "  1.0319374   1.02860623 -0.80930923 -0.80982904 -0.80982952  0.00870217]\n",
      "stoch Gradient Descent(42/49): loss=1.6043046852762353\n",
      "[-0.62160587  1.11610805  0.14326667 -0.1586561  -2.42696638 -1.64266656\n",
      " -2.4359204   0.26426741  1.18951569 -0.32873983  0.08576849 -1.96563174\n",
      " -2.43259501  0.15677807  1.56591336 -1.57790713 -0.28410706  1.41376729\n",
      "  0.3821024   0.82008363 -0.25743093  0.04330594 -1.62347412 -1.17127147\n",
      " -1.26345941 -1.27706847 -2.38051665 -2.43002131 -2.42507447 -0.35996421]\n",
      "stoch Gradient Descent(43/49): loss=2.4163247713849954\n",
      "[ 0.54356747  0.46503813  1.29194007 -0.33151838 -0.67274532 -0.63608918\n",
      " -0.67274064  1.1072952   0.89391311 -0.83865868 -0.03189897 -0.4599016\n",
      " -0.67274668 -0.52851577 -1.274897    1.49318884 -0.3767839   1.09589761\n",
      "  0.54993911 -0.44562039 -1.4201199  -0.8450894  -1.05409081 -1.28459278\n",
      " -1.28961248 -1.28961231 -0.67231297 -0.67274479 -0.67274519 -0.78435519]\n",
      "stoch Gradient Descent(44/49): loss=1.1071356746555598\n",
      "[-0.29022624 -0.40796071 -0.09440433  0.01935493 -1.10233748 -0.72646321\n",
      " -1.10864411 -0.23078145 -0.30484499 -0.53159799  0.77616011  0.73747929\n",
      " -1.10360207 -0.68780559  0.22740639  0.36214351  0.50639546 -0.10968253\n",
      " -1.06280087 -0.03013086 -0.09628036 -0.57246957 -1.45977953 -0.53329093\n",
      " -0.57908322 -0.57878322 -1.07396961 -1.10579623 -1.10903096 -0.58426948]\n",
      "stoch Gradient Descent(45/49): loss=0.4985214665254918\n",
      "[-0.37853329  0.50234502 -0.21346008  0.53314675  0.58853518  0.55646743\n",
      "  0.58853109 -0.88403762 -0.08718639  0.55913716  0.56511765 -1.18943284\n",
      "  0.58853637 -0.29660136 -1.00988437  0.49796943  0.18523535 -1.32765209\n",
      " -1.04000423  0.60542284 -0.52120585  0.85111271  0.92214618  1.12379532\n",
      "  1.12818669  1.12818654  0.58815695  0.58853472  0.58853506  0.68617441]\n",
      "stoch Gradient Descent(46/49): loss=0.8473139033744841\n",
      "[ 0.40914083 -1.09888679 -0.12881829 -0.31032803 -0.68459803 -0.64729606\n",
      " -0.68459327 -0.09997473  0.04233601 -0.38789307 -0.77397189  0.04961295\n",
      " -0.68459941  0.14583819 -0.15436341  1.45054018 -0.58738141 -0.97806788\n",
      "  0.19595655 -0.84469845 -0.10391856 -0.48804328  0.02281216  0.78057284\n",
      "  0.87255825  0.87043367 -0.68415806 -0.68459749 -0.68459789 -0.3590203 ]\n",
      "stoch Gradient Descent(47/49): loss=1.1464912972136017\n",
      "[ 0.21400654  0.54001232  0.51251061 -0.0493565  -0.29074892 -0.27490677\n",
      " -0.2907469   0.20439756 -0.36372596 -0.0177574   0.77970412 -0.48717219\n",
      " -0.29074951 -0.25231726 -0.82741408  0.05085484  0.60074046 -0.06883925\n",
      " -0.42268694 -0.07025829  0.64141373 -0.08610431  0.00968833  0.3414352\n",
      "  0.3725523   0.37232376 -0.29056207 -0.29074869 -0.29074886 -0.09850444]\n",
      "stoch Gradient Descent(48/49): loss=0.20679293326382067\n",
      "[-2.55928712e+00  8.68998479e-01 -4.16905924e-01  6.10029082e-01\n",
      " -6.99924122e-01 -6.61787077e-01 -6.99919257e-01 -1.21802736e+00\n",
      "  2.29557866e-01  2.53398301e-04 -7.30390720e-01 -1.98981992e-02\n",
      " -6.99925536e-01  2.67063543e-01  1.95843507e+00  7.03897994e-01\n",
      " -4.00142512e-01  7.26510231e-01  1.08076318e+00  1.30897156e+00\n",
      " -1.75778276e+00 -2.31104398e-01  2.33228543e-02  8.70944693e-01\n",
      "  8.91591089e-01  8.92063263e-01 -6.99474309e-01 -6.99923575e-01\n",
      " -6.99923983e-01  2.93226351e-02]\n",
      "stoch Gradient Descent(49/49): loss=1.1983988882947796\n",
      "SGD: execution time=3.241 seconds\n"
     ]
    },
    {
     "data": {
      "text/plain": [
       "[<matplotlib.lines.Line2D at 0x12cf917f0>]"
      ]
     },
     "execution_count": 31,
     "metadata": {},
     "output_type": "execute_result"
    },
    {
     "data": {
      "image/png": "[encoded data removed]",
      "text/plain": [
       "<Figure size 432x288 with 1 Axes>"
      ]
     },
     "metadata": {},
     "output_type": "display_data"
    }
   ],
   "source": [
    "from proj1_helpers import batch_iter\n",
    "# Define the parameters of the algorithm.\n",
    "max_iters = 50\n",
    "gamma = 0.01\n",
    "batch_size = 1\n",
    "\n",
    "# Initialization\n",
    "w_initial = np.zeros(30)\n",
    "print(w_initial)\n",
    "\n",
    "# Start SGD.\n",
    "start_time = datetime.datetime.now()\n",
    "sgd_losses, sgd_ws = least_squares_SGD(\n",
    "    y, tX_std, w_initial,batch_size, max_iters, gamma)\n",
    "end_time = datetime.datetime.now()\n",
    "\n",
    "# Print result\n",
    "exection_time = (end_time - start_time).total_seconds()\n",
    "print(\"SGD: execution time={t:.3f} seconds\".format(t=exection_time))\n",
    "\n",
    "plt.plot(sgd_losses)"
   ]
  },
  {
   "cell_type": "code",
   "execution_count": null,
   "metadata": {},
   "outputs": [],
   "source": []
  },
  {
   "cell_type": "markdown",
   "metadata": {},
   "source": [
    "## Do your thing crazy machine learning thing here :) ..."
   ]
  },
  {
   "cell_type": "markdown",
   "metadata": {},
   "source": [
    "## Generate predictions and save ouput in csv format for submission:"
   ]
  },
  {
   "cell_type": "code",
   "execution_count": 21,
   "metadata": {},
   "outputs": [],
   "source": [
    "DATA_TEST_PATH = '../data/test.csv' # TODO: download train data and supply path here \n",
    "_, tX_test, ids_test = load_csv_data(DATA_TEST_PATH)"
   ]
  },
  {
   "cell_type": "code",
   "execution_count": 50,
   "metadata": {},
   "outputs": [],
   "source": [
    "tX_test_std = standardize(tX_test)  # standardize par rapport a tX_train mean and std? "
   ]
  },
  {
   "cell_type": "code",
   "execution_count": null,
   "metadata": {},
   "outputs": [],
   "source": [
    "OUTPUT_PATH = '' # TODO: fill in desired name of output file for submission\n",
    "y_pred = predict_labels(weights, tX_test)\n",
    "create_csv_submission(ids_test, y_pred, OUTPUT_PATH)"
   ]
  },
  {
   "cell_type": "code",
   "execution_count": 71,
   "metadata": {},
   "outputs": [
    {
     "data": {
      "text/plain": [
       "array([-1., -1., -1., ...,  1.,  1., -1.])"
      ]
     },
     "execution_count": 71,
     "metadata": {},
     "output_type": "execute_result"
    }
   ],
   "source": [
    "predict_labels(gradient_ws[-1], tX_test_std)"
   ]
  },
  {
   "cell_type": "code",
   "execution_count": null,
   "metadata": {},
   "outputs": [],
   "source": []
  }
 ],
 "metadata": {
  "anaconda-cloud": {},
  "kernelspec": {
   "display_name": "Python 3",
   "language": "python",
   "name": "python3"
  },
  "language_info": {
   "codemirror_mode": {
    "name": "ipython",
    "version": 3
   },
   "file_extension": ".py",
   "mimetype": "text/x-python",
   "name": "python",
   "nbconvert_exporter": "python",
   "pygments_lexer": "ipython3",
   "version": "3.6.5"
  }
 },
 "nbformat": 4,
 "nbformat_minor": 1
}
