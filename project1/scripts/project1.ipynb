{
 "cells": [
  {
   "cell_type": "code",
   "execution_count": 21,
   "metadata": {},
   "outputs": [
    {
     "name": "stdout",
     "output_type": "stream",
     "text": [
      "The autoreload extension is already loaded. To reload it, use:\n",
      "  %reload_ext autoreload\n"
     ]
    }
   ],
   "source": [
    "# Useful starting lines\n",
    "%matplotlib inline\n",
    "import datetime\n",
    "from costs import compute_loss\n",
    "import numpy as np\n",
    "import matplotlib.pyplot as plt\n",
    "%load_ext autoreload\n",
    "\n",
    "%autoreload 2"
   ]
  },
  {
   "cell_type": "markdown",
   "metadata": {},
   "source": [
    "## Load the training data into feature matrix, class labels, and event ids:"
   ]
  },
  {
   "cell_type": "code",
   "execution_count": 117,
   "metadata": {},
   "outputs": [],
   "source": [
    "from proj1_helpers import *\n",
    "DATA_TRAIN_PATH = '../data/train.csv' \n",
    "y, tX, ids = load_csv_data(DATA_TRAIN_PATH)\n",
    "# standardize the data\n",
    "tX_std = standardize(tX)"
   ]
  },
  {
   "cell_type": "markdown",
   "metadata": {},
   "source": [
    "# least squares GD"
   ]
  },
  {
   "cell_type": "code",
   "execution_count": 118,
   "metadata": {},
   "outputs": [],
   "source": [
    "def compute_gradient(y, tx, w):\n",
    "    \"\"\"Compute the gradient.\"\"\"\n",
    "    # ***************************************************\n",
    "    return (-1/len(y))*tx.T@(y-tx@w)\n",
    "    # ***************************************************\n",
    "\n",
    "\n",
    "def least_squares_GD(y, tx, initial_w, max_iters, gamma):\n",
    "    \"\"\"least square gradient descent algorithm.\"\"\"\n",
    "    # Define parameters to store w and loss\n",
    "    ws = [initial_w]\n",
    "    losses = []\n",
    "    w = initial_w\n",
    "    for n_iter in range(max_iters):\n",
    "        # ***************************************************\n",
    "        # compute gradient computes the gradient\n",
    "        gradient = compute_gradient(y,tx,w)\n",
    "        # compute loss. here MSE is used\n",
    "        loss = compute_loss(y,tx,w)\n",
    "        # ***************************************************\n",
    "        # TODO: update w by gradient\n",
    "        w = w-gamma*gradient\n",
    "        # ***************************************************\n",
    "        # store w and loss\n",
    "        ws.append(w)\n",
    "        losses.append(loss)\n",
    "\n",
    "    return np.array(losses), np.array(ws)"
   ]
  },
  {
   "cell_type": "markdown",
   "metadata": {},
   "source": [
    "# least square SGD"
   ]
  },
  {
   "cell_type": "code",
   "execution_count": 6,
   "metadata": {},
   "outputs": [],
   "source": [
    "\n",
    "def compute_stoch_gradient(y, tx, w):\n",
    "    \"\"\"Compute the gradient.\"\"\"\n",
    "    # ***************************************************\n",
    "    e = y-tx@w\n",
    "    return -1/len(y)*tx.T@e\n",
    "    # ***************************************************\n",
    "\n",
    "\n",
    "def least_squares_SGD(y, tx, initial_w, batch_size, max_iters, gamma):\n",
    "    \"\"\"Least square stochastic gradient descent algorithm.\"\"\"\n",
    "    # ***************************************************\n",
    "    # Define parameters to store w and loss\n",
    "    ws = [initial_w]\n",
    "    losses = []\n",
    "    w = initial_w\n",
    "    for n_iter in range(max_iters):\n",
    "        # compute random batch\n",
    "        a = batch_iter(y, tx, batch_size, num_batches=1, shuffle=True)\n",
    "        a = list(a)\n",
    "        tx2, y2 = a[0][1], a[0][0]\n",
    "        \n",
    "        # compute gradient & loss\n",
    "        grad = compute_stoch_gradient(y2,tx2,w)\n",
    "        loss= compute_loss(y2, tx2, w)\n",
    "        print(grad)\n",
    "        # update gradient\n",
    "        w = w-gamma*grad\n",
    "        \n",
    "        # store w and loss\n",
    "        ws.append(w)\n",
    "        losses.append(loss)\n",
    "        #print(\"stoch Gradient Descent({bi}/{ti}): loss={l}\".format(\n",
    "              #bi=n_iter, ti=max_iters - 1, l=loss))\n",
    "\n",
    "    return np.array(losses), np.array(ws)"
   ]
  },
  {
   "cell_type": "markdown",
   "metadata": {},
   "source": [
    "# least square\n",
    "computed by solving for w:  X<sup>T</sup>X * w = X<sup>T</sup>y"
   ]
  },
  {
   "cell_type": "code",
   "execution_count": 8,
   "metadata": {},
   "outputs": [],
   "source": [
    "def least_square(y, tx):\n",
    "    w = np.linalg.solve(tx.T@tx,tx.T@y)\n",
    "    return w, compute_loss(y, tx, w)\n"
   ]
  },
  {
   "cell_type": "code",
   "execution_count": 9,
   "metadata": {},
   "outputs": [],
   "source": [
    "wls, loss = least_square(y, tX_std)"
   ]
  },
  {
   "cell_type": "markdown",
   "metadata": {},
   "source": [
    "# Ridge regression"
   ]
  },
  {
   "cell_type": "code",
   "execution_count": 10,
   "metadata": {},
   "outputs": [],
   "source": [
    "def ridge_regression(y, tx, lamda):\n",
    "    w = np.linalg.solve(tx.T@tx+lamda*np.eye(tx.shape[1]),tx.T@y)\n",
    "    return w, compute_loss(y, tx, w)\n"
   ]
  },
  {
   "cell_type": "code",
   "execution_count": 11,
   "metadata": {},
   "outputs": [
    {
     "name": "stdout",
     "output_type": "stream",
     "text": [
      "0.7779046298744507\n"
     ]
    }
   ],
   "source": [
    "wls, loss = ridge_regression(y, tX_std,0)\n",
    "print(loss)"
   ]
  },
  {
   "cell_type": "markdown",
   "metadata": {},
   "source": [
    "# Logistic regression"
   ]
  },
  {
   "cell_type": "code",
   "execution_count": 36,
   "metadata": {},
   "outputs": [],
   "source": [
    "def sigmoid(z):\n",
    "    return 1/(1+np.exp(-z))\n",
    "def update_weights(tx, y, w, gamma):\n",
    "    #probabilities array that the label is 1\n",
    "    probabilities = sigmoid(np.dot(tx, w))\n",
    "    gradient = np.dot(tx.T,  probabilities - y)\n",
    "    w -= gradient*gamma / len(tx)\n",
    "    return w\n",
    "\n",
    "def loss_function_LR(tx, y, w):\n",
    "    #probabilities array that the label is 1\n",
    "    probabilities = sigmoid(np.dot(tx, w))\n",
    "    #the error when label=1\n",
    "    error1 = -y*np.log(probabilities)\n",
    "    #the error when label=-1\n",
    "    error2 = (1-y)*np.log(1-probabilities)\n",
    "    #return average of sum of costs\n",
    "    return (error1-error2).mean()\n",
    "\n",
    "\n",
    "# logistic regression function\n",
    "def logistic_regression(y,tx, initial_w,  max_iter, gamma):\n",
    "    losses = []\n",
    "    ws = []\n",
    "    for iter_n in range(max_iter):\n",
    "        w = update_weights(tx, y, initial_w, gamma)\n",
    "        loss = loss_function_LR(tx, y, w)\n",
    "        losses.append(loss)\n",
    "        ws.append(w)\n",
    "    return np.array(losses)[-1], np.array(ws)[-1]\n",
    "\n",
    "#################################################################################\n",
    "def decision_boundary(prob):\n",
    "    return 1 if prob > 0.5 else -1\n",
    "\n",
    "def classify(predictions):\n",
    "    decision_boundary = np.vectorize(decision_boundary)\n",
    "    return decision_boundary(predictions).flatten()"
   ]
  },
  {
   "cell_type": "markdown",
   "metadata": {},
   "source": [
    "# regularized logistic regression"
   ]
  },
  {
   "cell_type": "code",
   "execution_count": 223,
   "metadata": {},
   "outputs": [],
   "source": [
    "def reg_LR_update_weights(tx, y, w, gamma, lambda_):\n",
    "    # probabilities array that the label is 1\n",
    "    probabilities = sigmoid(np.dot(tx, w))\n",
    "    gradient = np.dot(tx.T,  probabilities - y) + lambda_ * w\n",
    "    w -= gradient*gamma / len(tx)\n",
    "    return w\n",
    "\n",
    "def reg_LR_loss_function(tx, y, w, lambda_):\n",
    "    y2 = (y+1) / 2\n",
    "    # probabilities array that the label is 1\n",
    "    probabilities = sigmoid(np.dot(tx, w))\n",
    "    # the error when label=1\n",
    "    error1 = -y2*np.log(probabilities)\n",
    "    # the error when label=-1\n",
    "    error2 = (1-y2)*np.log(1-probabilities)\n",
    "    # return average of sum of costs\n",
    "    return (error1-error2).mean()+lambda_/2*np.dot(w.T,w)/ len(tx)\n",
    "\n",
    "\n",
    "# regularized logistic regression function\n",
    "def reg_logistic_regression(y,tx,lambda_, initial_w,  max_iter, gamma):\n",
    "    losses = []\n",
    "    ws = []\n",
    "    for iter_n in range(max_iter):\n",
    "        w = reg_LR_update_weights(tx, y, initial_w, gamma,lambda_)\n",
    "        loss = reg_LR_loss_function(tx, y, w, lambda_)\n",
    "        losses.append(loss)\n",
    "        ws.append(w)\n",
    "    return np.array(losses)[-1], np.array(ws)[-1]\n"
   ]
  },
  {
   "cell_type": "markdown",
   "metadata": {},
   "source": [
    "# K fold functions"
   ]
  },
  {
   "cell_type": "code",
   "execution_count": 177,
   "metadata": {},
   "outputs": [],
   "source": [
    "# compute K pairs of validations sets  of length 250 000 / K and train set of size 250 000- 250 000/K\n",
    "def parallel_shuffle(a, b):\n",
    "    rng_state = np.random.get_state()\n",
    "    np.random.shuffle(a)\n",
    "    np.random.set_state(rng_state)\n",
    "    np.random.shuffle(b)\n",
    "def split_cross_KFold(K, tx, y):\n",
    "    temp_tx = np.copy(tx)\n",
    "    temp_y = np.copy(y)\n",
    "    parallel_shuffle(temp_tx,temp_y)\n",
    "    train_set, val_set = [], []\n",
    "    size = temp_tx.shape[0]//K\n",
    "    for i in range(K):\n",
    "        val_set.append((temp_tx[size*i:size+size*i], temp_y[size*i:size+size*i]))\n",
    "        indices = range(size*i,size+size*i)\n",
    "        train_set.append((np.delete(temp_tx, indices, axis = 0),np.delete(temp_y, indices, axis = 0)))\n",
    "    return train_set, val_set\n",
    "\n",
    "\n",
    "\n",
    "    "
   ]
  },
  {
   "cell_type": "markdown",
   "metadata": {},
   "source": [
    "# functions updated for K-fold cross validation\n",
    "we compute now the loss on the validations sets instead of the train ones"
   ]
  },
  {
   "cell_type": "markdown",
   "metadata": {},
   "source": [
    "### regularized Logistic regression"
   ]
  },
  {
   "cell_type": "code",
   "execution_count": 244,
   "metadata": {},
   "outputs": [],
   "source": [
    "#update logistic regression in order to compute loss on validation set\n",
    "def reg_logistic_regression_val(tx_val,y_val,tx_train,y_train, initial_w,  max_iter, gamma,lambda_):\n",
    "    losses_val = []\n",
    "    losses_train = []\n",
    "    ws = []\n",
    "    for iter_n in range(max_iter):\n",
    "        # update weights by gradient descent\n",
    "        \n",
    "        w = reg_LR_update_weights(tx_train, y_train, initial_w, gamma,lambda_)\n",
    "        # compute loss on validation sets according to weights w\n",
    "        loss_train = reg_LR_loss_function(tx_train, y_train, w,lambda_)\n",
    "        loss_val = reg_LR_loss_function(tx_val, y_val, w,lambda_)\n",
    "        losses_train.append(loss_train)\n",
    "        losses_val.append(loss_val)\n",
    "\n",
    "        ws.append(w)\n",
    "            \n",
    "    return np.array(losses_val), np.array(losses_train), np.array(ws)[-1]\n",
    "\n",
    "\n",
    "def evaluate_Kfold_logistic(train_set,validation_set,iters, gamma,K,lambda_=0, plot=1):\n",
    "    graph_train = []\n",
    "    graph_val = []\n",
    "    weigths_final = []\n",
    "    validation_losses = []\n",
    "    train_losses = []\n",
    "\n",
    "    for i in range(K):\n",
    "        max_iters = iters\n",
    "        # Initialization\n",
    "        w_initial = np.zeros(len(train_set[0][0][1]))\n",
    "        # validation set [i][0] is matrice tx of the validation set i\n",
    "        # validation set [i][1] is vector y of the validation set i\n",
    "        validation_loss,train_loss, ws  = reg_logistic_regression_val(validation_set[i][0],validation_set[i][1], train_set[i][0], train_set[i][1], w_initial, max_iters, gamma, lambda_)\n",
    "        validation_losses.append(validation_loss[-1])\n",
    "        train_losses.append(train_loss[-1])\n",
    "\n",
    "        weigths_final.append(ws)\n",
    "        if plot:\n",
    "            graph_val.append(validation_loss)\n",
    "            graph_train.append(train_loss)\n",
    "    if plot:\n",
    "        plt.figure(1)\n",
    "        plt.subplot(211)\n",
    "        G = plt.plot(np.array(graph_val).T)\n",
    "        leg = [\"val \"+str(i) for i in range(K)]\n",
    "        plt.legend(G[:K], leg)\n",
    "        plt.subplot(212)\n",
    "        G2 = plt.plot(np.array(graph_train).T)\n",
    "        leg2 = [\"train \"+str(i) for i in range(K)]\n",
    "        plt.legend(G2[:K], leg2)\n",
    "        \n",
    "    return weigths_final, validation_losses, train_losses\n",
    "    "
   ]
  },
  {
   "cell_type": "markdown",
   "metadata": {},
   "source": [
    "### SGD "
   ]
  },
  {
   "cell_type": "code",
   "execution_count": 207,
   "metadata": {},
   "outputs": [],
   "source": [
    "def least_squares_SGD_val(tx_val,y_val,tx,y, initial_w, batch_size, max_iters, gamma):\n",
    "    \"\"\"Least square stochastic gradient descent algorithm.\"\"\"\n",
    "    # ***************************************************\n",
    "    # Define parameters to store w and loss\n",
    "    ws = [initial_w]\n",
    "    losses = []\n",
    "    w = initial_w\n",
    "    for n_iter in range(max_iters):\n",
    "        # compute random batch\n",
    "        a = batch_iter(y, tx, batch_size, num_batches=1, shuffle=True)\n",
    "        a = list(a)\n",
    "        tx2, y2 = a[0][1], a[0][0]\n",
    "        \n",
    "        # compute gradient & loss\n",
    "        grad = compute_stoch_gradient(y2,tx2,w)\n",
    "        loss= compute_loss(y_val, tx_val, w)\n",
    "        # update gradient\n",
    "        w = w-gamma*grad\n",
    "        # diminish gamma at each iteration\n",
    "        gamma = gamma - gamma/10\n",
    "        # store w and loss\n",
    "        ws.append(w)\n",
    "        losses.append(loss)\n",
    "        #print(\"stoch Gradient Descent({bi}/{ti}): loss={l}\".format(\n",
    "              #bi=n_iter, ti=max_iters - 1, l=loss))\n",
    "\n",
    "    return np.array(losses), np.array(ws)\n",
    "\n",
    "def evalutate_Kfold_SGD(train_set,validation_set,iters, gamma,K,batch_size, plot=1):\n",
    "    graph = []\n",
    "    weigths_final = []\n",
    "    validation_losses = []\n",
    "    train_losses = []\n",
    "    for i in range(K):\n",
    "        max_iters = iters\n",
    "        # Initialization\n",
    "        w_initial = np.zeros(30)\n",
    "        # validation set [i][0] is matrice tx of the validation set i\n",
    "        # validation set [i][1] is vector y of the validation set i\n",
    "        validation_losses, ws  = least_squares_SGD_val(validation_set[i][0],validation_set[i][1], train_set[i][0], train_set[i][1], w_initial,  batch_size, max_iters, gamma)\n",
    "        #compute train_loss\n",
    "        train_loss = loss_function(train_set[i][0], train_set[i][1], ws)\n",
    "        validation_losses.append(validation_loss[-1])\n",
    "        train_losses.append(train_loss)\n",
    "\n",
    "        weigths_final.append(ws)\n",
    "        \n",
    "        if plot:\n",
    "            graph.append(losses)\n",
    "    if plot:\n",
    "        G = plt.plot(np.array(graph).T)\n",
    "        leg = [\"\"+str(i) for i in range(K)]\n",
    "        plt.legend(G[:K], leg)\n",
    "        \n",
    "    return weigths_final, validation_losses, train_losses"
   ]
  },
  {
   "cell_type": "markdown",
   "metadata": {},
   "source": [
    "# main "
   ]
  },
  {
   "cell_type": "code",
   "execution_count": 178,
   "metadata": {},
   "outputs": [],
   "source": [
    "DATA_TRAIN_PATH = '../data/train.csv' \n",
    "y, tX, ids = load_csv_data(DATA_TRAIN_PATH)\n",
    "\n",
    "# standardize the data\n",
    "tX_std = standardize(tX)"
   ]
  },
  {
   "cell_type": "code",
   "execution_count": 241,
   "metadata": {},
   "outputs": [],
   "source": [
    "#put feature exp here\n",
    "\n",
    "def fesquare(tx):\n",
    "    temp = np.copy(tx)\n",
    "    return np.concatenate((temp,temp**2),axis=1)"
   ]
  },
  {
   "cell_type": "code",
   "execution_count": 246,
   "metadata": {},
   "outputs": [],
   "source": [
    "# the train function serves to generalize training for each method.\n",
    "def train(Model,gamma,max_iter = 100, batch_size=1, K=5,lambda_=0):\n",
    "    assert( K > 1)\n",
    "    #feature expansion\n",
    "    tX_std_expanded = fesquare(tX_std)\n",
    "    # perform K pairs for the cross validation\n",
    "    train_set, val_set = split_cross_KFold(K, tX_std_expanded, y)\n",
    "    if Model == 'Log_reg':\n",
    "        wf, validation_lost, train_loss = evaluate_Kfold_logistic(train_set, val_set, max_iter,gamma,K,lambda_ )\n",
    "        \n",
    "    if Model == 'SGD':\n",
    "        wf, validation_lost, train_loss = evalutate_Kfold_SGD(train_set, val_set, max_iter ,gamma,K,batch_size,lambda_ )\n",
    "        \n",
    "        \n",
    "    print(f'Function: {Model} used, K = {K}, Best final loss :{np.min(validation_lost)}')\n",
    "    for i in range(len(validation_lost)):\n",
    "        print(f'validation_lost {i}: {str(validation_lost[i])[:6]} , train_loss {i}: {str(train_loss[i])[:6]}')\n",
    "    print(f'mean validation lost: {np.mean(validation_lost)}')\n",
    "    \n",
    "    "
   ]
  },
  {
   "cell_type": "code",
   "execution_count": 247,
   "metadata": {},
   "outputs": [
    {
     "name": "stdout",
     "output_type": "stream",
     "text": [
      "Function: Log_reg used, K = 5, Best final loss :0.6415263121587754\n",
      "validation_lost 0: 0.6507 , train_loss 0: 0.6501\n",
      "validation_lost 1: 0.6491 , train_loss 1: 0.6508\n",
      "validation_lost 2: 0.6617 , train_loss 2: 0.6482\n",
      "validation_lost 3: 0.6496 , train_loss 3: 0.6504\n",
      "validation_lost 4: 0.6415 , train_loss 4: 0.6518\n",
      "mean validation lost: 0.650582139335779\n"
     ]
    },
    {
     "data": {
      "image/png": "[encoded data removed]",
      "text/plain": [
       "<Figure size 432x288 with 2 Axes>"
      ]
     },
     "metadata": {},
     "output_type": "display_data"
    }
   ],
   "source": [
    "train('Log_reg',0.0005,lambda_=0.008)"
   ]
  },
  {
   "cell_type": "markdown",
   "metadata": {},
   "source": [
    "## Generate predictions and save ouput in csv format for submission:"
   ]
  },
  {
   "cell_type": "code",
   "execution_count": null,
   "metadata": {},
   "outputs": [],
   "source": [
    "# load test data\n",
    "DATA_TEST_PATH = '../data/test.csv' \n",
    "_, tX_test, ids_test = load_csv_data(DATA_TEST_PATH)\n",
    "\n",
    "# standardize wrt the tx train mean and std\n",
    "def standardize_test(tx, tx_test):\n",
    "    centered_data = tx_test - np.mean(tx, axis=0)\n",
    "    std_data = centered_data / np.std(tx, axis=0)\n",
    "    return std_data\n",
    "tX_test_std = standardize_test(tX, tX_test)\n",
    "OUTPUT_PATH = 'outLogRegD23v2.csv' # TODO: fill in desired name of output file for submission\n",
    "y_pred = predict_labels(wf[9], tX_test_std)\n",
    "create_csv_submission(ids_test, y_pred, OUTPUT_PATH)\n"
   ]
  }
 ],
 "metadata": {
  "anaconda-cloud": {},
  "kernelspec": {
   "display_name": "Python 3",
   "language": "python",
   "name": "python3"
  },
  "language_info": {
   "codemirror_mode": {
    "name": "ipython",
    "version": 3
   },
   "file_extension": ".py",
   "mimetype": "text/x-python",
   "name": "python",
   "nbconvert_exporter": "python",
   "pygments_lexer": "ipython3",
   "version": "3.6.5"
  }
 },
 "nbformat": 4,
 "nbformat_minor": 1
}
