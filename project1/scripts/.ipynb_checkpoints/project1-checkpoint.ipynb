{
 "cells": [
  {
   "cell_type": "code",
   "execution_count": 1,
   "metadata": {},
   "outputs": [],
   "source": [
    "# Useful starting lines\n",
    "%matplotlib inline\n",
    "import datetime\n",
    "from costs import compute_loss\n",
    "import numpy as np\n",
    "import matplotlib.pyplot as plt\n",
    "%load_ext autoreload\n",
    "\n",
    "%autoreload 2"
   ]
  },
  {
   "cell_type": "markdown",
   "metadata": {},
   "source": [
    "## Load the training data into feature matrix, class labels, and event ids:"
   ]
  },
  {
   "cell_type": "code",
   "execution_count": 2,
   "metadata": {},
   "outputs": [],
   "source": [
    "from proj1_helpers import *\n",
    "DATA_TRAIN_PATH = '../data/train.csv' \n",
    "y, tX, ids = load_csv_data(DATA_TRAIN_PATH)\n",
    "# standardize the data\n",
    "tX_std = standardize(tX)\n"
   ]
  },
  {
   "cell_type": "markdown",
   "metadata": {},
   "source": [
    "# least squares GD"
   ]
  },
  {
   "cell_type": "code",
   "execution_count": 3,
   "metadata": {},
   "outputs": [],
   "source": [
    "def compute_gradient(y, tx, w):\n",
    "    \"\"\"Compute the gradient.\"\"\"\n",
    "    # ***************************************************\n",
    "    return (-1/len(y))*tx.T@(y-tx@w)\n",
    "    # ***************************************************\n",
    "\n",
    "\n",
    "def least_squares_GD(y, tx, initial_w, max_iters, gamma):\n",
    "    \"\"\"least square gradient descent algorithm.\"\"\"\n",
    "    # Define parameters to store w and loss\n",
    "    ws = [initial_w]\n",
    "    losses = []\n",
    "    w = initial_w\n",
    "    for n_iter in range(max_iters):\n",
    "        # ***************************************************\n",
    "        # compute gradient computes the gradient\n",
    "        gradient = compute_gradient(y,tx,w)\n",
    "        # compute loss. here MSE is used\n",
    "        loss = compute_loss(y,tx,w)\n",
    "        # ***************************************************\n",
    "        # TODO: update w by gradient\n",
    "        w = w-gamma*gradient\n",
    "        # ***************************************************\n",
    "        # store w and loss\n",
    "        ws.append(w)\n",
    "        losses.append(loss)\n",
    "        print(\"Gradient Descent({bi}/{ti}): loss={l}\".format(\n",
    "              bi=n_iter, ti=max_iters - 1, l=loss))\n",
    "\n",
    "    return np.array(losses), np.array(ws)"
   ]
  },
  {
   "cell_type": "markdown",
   "metadata": {},
   "source": [
    "# least square SGD"
   ]
  },
  {
   "cell_type": "code",
   "execution_count": 4,
   "metadata": {},
   "outputs": [],
   "source": [
    "\n",
    "def compute_stoch_gradient(y, tx, w):\n",
    "    \"\"\"Compute the gradient.\"\"\"\n",
    "    # ***************************************************\n",
    "    e = y-tx@w\n",
    "    return -1/len(y)*tx.T@e\n",
    "    # ***************************************************\n",
    "\n",
    "\n",
    "def least_squares_SGD(y, tx, initial_w, batch_size, max_iters, gamma):\n",
    "    \"\"\"Least square stochastic gradient descent algorithm.\"\"\"\n",
    "    # ***************************************************\n",
    "    # Define parameters to store w and loss\n",
    "    ws = [initial_w]\n",
    "    losses = []\n",
    "    w = initial_w\n",
    "    for n_iter in range(max_iters):\n",
    "        # compute random batch\n",
    "        a = batch_iter(y, tx, batch_size, num_batches=1, shuffle=True)\n",
    "        a = list(a)\n",
    "        tx2, y2 = a[0][1], a[0][0]\n",
    "        \n",
    "        # compute gradient & loss\n",
    "        grad = compute_stoch_gradient(y2,tx2,w)\n",
    "        loss= compute_loss(y2, tx2, w)\n",
    "        print(grad)\n",
    "        # update gradient\n",
    "        w = w-gamma*grad\n",
    "        \n",
    "        # store w and loss\n",
    "        ws.append(w)\n",
    "        losses.append(loss)\n",
    "        print(\"stoch Gradient Descent({bi}/{ti}): loss={l}\".format(\n",
    "              bi=n_iter, ti=max_iters - 1, l=loss))\n",
    "\n",
    "    return np.array(losses), np.array(ws)"
   ]
  },
  {
   "cell_type": "markdown",
   "metadata": {},
   "source": [
    "# least square\n",
    "computed by solving for w:  X<sup>T</sup>X * w = X<sup>T</sup>y"
   ]
  },
  {
   "cell_type": "code",
   "execution_count": 5,
   "metadata": {},
   "outputs": [],
   "source": [
    "def least_square(y, tx):\n",
    "    w = np.linalg.solve(tx.T@tx,tx.T@y)\n",
    "    return w, compute_loss(y, tx, w)\n"
   ]
  },
  {
   "cell_type": "code",
   "execution_count": 6,
   "metadata": {},
   "outputs": [],
   "source": [
    "wls, loss = least_square(y, tX_std)"
   ]
  },
  {
   "cell_type": "markdown",
   "metadata": {},
   "source": [
    "# Ridge regression"
   ]
  },
  {
   "cell_type": "code",
   "execution_count": 7,
   "metadata": {},
   "outputs": [],
   "source": [
    "def ridge_regression(y, tx, lamda):\n",
    "    w = np.linalg.solve(tx.T@tx+lamda*np.eye(len(y)),tx.T@y)\n",
    "    return w, compute_loss(y, tx, w)\n"
   ]
  },
  {
   "cell_type": "code",
   "execution_count": null,
   "metadata": {},
   "outputs": [],
   "source": [
    "wls, loss = ridge_regression(y, tX_std,1)"
   ]
  },
  {
   "cell_type": "code",
   "execution_count": null,
   "metadata": {},
   "outputs": [],
   "source": []
  },
  {
   "cell_type": "markdown",
   "metadata": {},
   "source": [
    "# test GD"
   ]
  },
  {
   "cell_type": "code",
   "execution_count": 65,
   "metadata": {},
   "outputs": [
    {
     "name": "stdout",
     "output_type": "stream",
     "text": [
      "Gradient Descent(0/49): loss=1.0\n",
      "Gradient Descent(1/49): loss=0.9264755130297591\n",
      "Gradient Descent(2/49): loss=0.8962466370379258\n",
      "Gradient Descent(3/49): loss=0.8771600577769223\n",
      "Gradient Descent(4/49): loss=0.8642270151661157\n",
      "Gradient Descent(5/49): loss=0.8551458442459039\n",
      "Gradient Descent(6/49): loss=0.8485355498878918\n",
      "Gradient Descent(7/49): loss=0.8435390789639572\n",
      "Gradient Descent(8/49): loss=0.839618166428172\n",
      "Gradient Descent(9/49): loss=0.836430789564036\n",
      "Gradient Descent(10/49): loss=0.8337566792321113\n",
      "Gradient Descent(11/49): loss=0.8314517631067185\n",
      "Gradient Descent(12/49): loss=0.8294201370090645\n",
      "Gradient Descent(13/49): loss=0.827596702095248\n",
      "Gradient Descent(14/49): loss=0.8259363236853894\n",
      "Gradient Descent(15/49): loss=0.8244070000529391\n",
      "Gradient Descent(16/49): loss=0.8229855127345691\n",
      "Gradient Descent(17/49): loss=0.8216546239049244\n",
      "Gradient Descent(18/49): loss=0.8204012464387307\n",
      "Gradient Descent(19/49): loss=0.8192152314360012\n",
      "Gradient Descent(20/49): loss=0.8180885519776158\n",
      "Gradient Descent(21/49): loss=0.8170147442288442\n",
      "Gradient Descent(22/49): loss=0.8159885179204109\n",
      "Gradient Descent(23/49): loss=0.8150054799239733\n",
      "Gradient Descent(24/49): loss=0.8140619345101036\n",
      "Gradient Descent(25/49): loss=0.8131547364439043\n",
      "Gradient Descent(26/49): loss=0.8122811810960384\n",
      "Gradient Descent(27/49): loss=0.811438920921736\n",
      "Gradient Descent(28/49): loss=0.8106259010360855\n",
      "Gradient Descent(29/49): loss=0.8098403088429811\n",
      "Gradient Descent(30/49): loss=0.8090805341662551\n",
      "Gradient Descent(31/49): loss=0.8083451373426869\n",
      "Gradient Descent(32/49): loss=0.80763282343203\n",
      "Gradient Descent(33/49): loss=0.8069424211844628\n",
      "Gradient Descent(34/49): loss=0.8062728657493831\n",
      "Gradient Descent(35/49): loss=0.8056231843561816\n",
      "Gradient Descent(36/49): loss=0.8049924843773115\n",
      "Gradient Descent(37/49): loss=0.8043799433165914\n",
      "Gradient Descent(38/49): loss=0.8037848003648502\n",
      "Gradient Descent(39/49): loss=0.8032063492400608\n",
      "Gradient Descent(40/49): loss=0.8026439320865358\n",
      "Gradient Descent(41/49): loss=0.8020969342521465\n",
      "Gradient Descent(42/49): loss=0.8015647797971903\n",
      "Gradient Descent(43/49): loss=0.8010469276158095\n",
      "Gradient Descent(44/49): loss=0.8005428680725071\n",
      "Gradient Descent(45/49): loss=0.8000521200736141\n",
      "Gradient Descent(46/49): loss=0.7995742285074728\n",
      "Gradient Descent(47/49): loss=0.7991087619983623\n",
      "Gradient Descent(48/49): loss=0.7986553109283492\n",
      "Gradient Descent(49/49): loss=0.7982134856887392\n",
      "Gradient Descent: execution time=1.908 seconds\n"
     ]
    },
    {
     "data": {
      "text/plain": [
       "[<matplotlib.lines.Line2D at 0x1314ba3c8>]"
      ]
     },
     "execution_count": 65,
     "metadata": {},
     "output_type": "execute_result"
    },
    {
     "data": {
      "image/png": "[encoded data removed]",
      "text/plain": [
       "<Figure size 432x288 with 1 Axes>"
      ]
     },
     "metadata": {},
     "output_type": "display_data"
    }
   ],
   "source": [
    "# Define the parameters of the algorithm.\n",
    "max_iters = 50\n",
    "gamma = 0.1\n",
    "# Initialization\n",
    "w_initial = np.zeros(30)\n",
    "\n",
    "# Start gradient descent.\n",
    "start_time = datetime.datetime.now()\n",
    "gradient_losses, gradient_ws = least_squares_GD(y, tX_std, w_initial, max_iters, gamma)\n",
    "end_time = datetime.datetime.now()\n",
    "\n",
    "# Print result\n",
    "exection_time = (end_time - start_time).total_seconds()\n",
    "print(\"Gradient Descent: execution time={t:.3f} seconds\".format(t=exection_time))\n",
    "plt.plot(gradient_losses)"
   ]
  },
  {
   "cell_type": "markdown",
   "metadata": {},
   "source": [
    "# test SGD"
   ]
  },
  {
   "cell_type": "code",
   "execution_count": 75,
   "metadata": {},
   "outputs": [
    {
     "name": "stdout",
     "output_type": "stream",
     "text": [
      "[0. 0. 0. 0. 0. 0. 0. 0. 0. 0. 0. 0. 0. 0. 0. 0. 0. 0. 0. 0. 0. 0. 0. 0.\n",
      " 0. 0. 0. 0. 0. 0.]\n",
      "[ 0.52014216  0.43475063  1.36637079 -0.50759061 -0.63936707 -0.60452962\n",
      " -0.63936262  0.79306754  0.29935496 -0.32590579  0.27865405 -1.0754978\n",
      " -0.63936836  0.28786233  0.70092226 -0.49088995  1.30999104 -0.27865471\n",
      "  0.98780662 -0.68592461 -1.32814009 -0.01846792 -1.00179211 -1.22085772\n",
      " -1.22562837 -1.22562821 -0.63895617 -0.63936657 -0.63936694 -0.74543941]\n",
      "stoch Gradient Descent(0/49): loss=1.0\n",
      "[-0.43905041  1.14367174  0.14146096  0.99987755  0.70933081  0.67068122\n",
      "  0.70932588 -0.75514929  0.91606076  0.75240818  1.16966676  1.13834574\n",
      "  0.70933224 -0.64235858 -0.78675981  1.65723314  0.9243114  -0.70996329\n",
      " -0.37342499  0.57541879 -0.10720662  1.16379252  1.11141478  1.35445199\n",
      "  1.35974467  1.3597445   0.70887495  0.70933026  0.70933067  0.82701029]\n",
      "stoch Gradient Descent(1/49): loss=1.2308273068025894\n",
      "[-2.40353674  0.64670816 -0.85649601 -0.69340505 -0.65732888 -0.62151274\n",
      " -0.65732431 -0.52933851 -0.18252323 -0.93815806 -0.04698964 -0.98167738\n",
      " -0.65733021 -0.76503268 -1.03143865  1.27958298 -0.73815337 -1.74859313\n",
      " -1.32630754  0.02927779  0.29109853 -0.8793229  -1.02993558 -1.25515542\n",
      " -1.2600601  -1.26005993 -0.65690645 -0.65732837 -0.65732875 -0.76638113]\n",
      "stoch Gradient Descent(2/49): loss=1.0569754678313645\n",
      "[ 0.44193321 -0.21862404  0.6837915  -0.77933351 -0.59525803 -0.56282396\n",
      " -0.59525389  0.92148687 -0.59799263 -0.52959718 -0.44372637 -0.99974068\n",
      " -0.59525923  0.28233465 -0.18559778 -1.14781641  0.01897868 -1.10434637\n",
      "  0.56910922 -0.86734719 -0.54399058 -0.65533416 -0.93267987 -1.13663245\n",
      " -1.14107398 -1.14107383 -0.59487548 -0.59525756 -0.59525791 -0.69401259]\n",
      "stoch Gradient Descent(3/49): loss=0.8667822204267164\n",
      "[-1.46628836  1.11680088 -0.64282129 -0.01825708 -0.40100643 -0.37915663\n",
      " -0.40100364 -1.2329807   1.04541294 -0.30010608  0.43314846 -0.48117121\n",
      " -0.40100724 -0.1283493  -0.96605753  0.81893544  0.63350072 -0.95567506\n",
      " -1.08118078  0.22957797 -0.25433568  0.17719081 -0.62831681 -0.76571319\n",
      " -0.76870531 -0.76870521 -0.40074872 -0.40100612 -0.40100635 -0.46753425]\n",
      "stoch Gradient Descent(4/49): loss=0.3933708305797798\n",
      "[-0.2039562  -0.12484629  0.40476672 -1.72522046 -0.75185629 -0.92502098\n",
      " -0.74775261  0.81949462 -0.21497054 -1.06037696  0.5382692  -0.49580605\n",
      " -0.75103794 -0.56782167 -0.0750827  -0.37958139  0.31900609  0.16026156\n",
      " -0.58492473 -2.27780104 -0.40143618 -0.89139786 -0.99206287 -0.52842377\n",
      " -0.38951344 -0.39008223 -0.7391446  -0.75226816 -0.74771428 -1.19374144]\n",
      "stoch Gradient Descent(5/49): loss=0.23024368150053084\n",
      "[ 0.25173042 -0.09442415  0.15138663 -0.27147568 -0.37124101 -0.35101306\n",
      " -0.37123843  0.39299601  0.2402659  -0.31721823  0.42574207 -0.50820964\n",
      " -0.37124176 -0.19576742 -0.00336068  0.8188727   0.45808689 -0.25084554\n",
      " -0.108847   -0.60592592  0.93657274 -0.58054158 -0.58167888 -0.70887676\n",
      " -0.71164679 -0.71164669 -0.37100243 -0.37124072 -0.37124094 -0.43283068]\n",
      "stoch Gradient Descent(6/49): loss=0.33714084907331127\n",
      "[ 0.42713488 -0.93107707 -0.14950768  0.29954752 -0.62545352 -0.59137418\n",
      " -0.62544917 -0.07259524  0.36464894 -0.05805907 -0.67815526  1.17061267\n",
      " -0.62545478  0.01800829 -0.16681139  1.14484203 -0.59099001 -1.0343145\n",
      " -1.18121727  0.05949987 -1.37696926 -0.05139593  0.02084135  0.78456249\n",
      "  0.79693739  0.79935046 -0.62505156 -0.62545303 -0.62545339  0.06037583]\n",
      "stoch Gradient Descent(7/49): loss=0.9569506768931806\n",
      "[ 1.39463619  7.29835613  4.40577663  0.06191353  2.072547    1.42584566\n",
      "  2.07780532  0.6373338   2.44700013  2.2805995   1.331576    0.58754089\n",
      "  2.07678298  1.83709939 -0.02189651  1.93634407  6.77726045 -0.70043675\n",
      " -0.74206715  2.16330061  1.82176326  0.67017248  2.74442505  0.97859168\n",
      "  1.08057853  1.07567413  2.03807339  2.07694475  2.07789085  0.74647622]\n",
      "stoch Gradient Descent(8/49): loss=1.762025047479079\n",
      "[-0.31992807  0.87888154  0.21417706  0.13288337  0.53738833  0.50810743\n",
      "  0.53738459 -0.66227941 -0.05930771  0.17604006 -0.46006927  0.77649929\n",
      "  0.53738941  0.55182298 -0.91519706 -0.0468055   0.04072849 -0.36444918\n",
      " -1.35770241  0.37614667  1.36489719  0.20146336 -0.01790684 -0.65122738\n",
      " -0.69161632 -0.68525776  0.53704297  0.53738791  0.53738822  0.07246536]\n",
      "stoch Gradient Descent(9/49): loss=0.7064410575947568\n",
      "[-0.39165042  0.59954538 -0.38153125  0.70236822  0.53038984  0.50149028\n",
      "  0.53038615 -0.75325488  0.55558259  0.5042834   0.84219135  0.87550376\n",
      "  0.53039091 -0.63151387 -0.6907781   0.89168552  0.53891104 -1.45748682\n",
      " -0.3810551   0.34782004 -0.77778235  0.63964722  0.83104117  1.01276804\n",
      "  1.01672556  1.01672542  0.53004898  0.53038943  0.53038974  0.61838264]\n",
      "stoch Gradient Descent(10/49): loss=0.6881607042099273\n",
      "[ 0.49022404 -1.56260512 -0.16259763 -0.56123864 -0.82787981 -0.7827708\n",
      " -0.82787406  0.6465041   0.66200967 -0.93727767 -0.0975023   1.56900529\n",
      " -0.82788149 -0.41923553  2.4583116  -0.30563542 -0.20147238  1.68537756\n",
      "  1.56915596 -1.23078312  1.38908628 -1.204356   -1.29716325 -1.58081877\n",
      " -1.58699601 -1.58699581 -0.82734777 -0.82787917 -0.82787965 -0.96522682]\n",
      "stoch Gradient Descent(11/49): loss=1.6766177585187836\n",
      "[ 0.30459967 -0.62183528 -0.25734643 -0.63772908 -0.55510674 -0.52486042\n",
      " -0.55510288  0.5133363  -0.30319726 -0.66371177 -0.55768617 -0.90902944\n",
      " -0.55510786 -0.06869993 -1.66410874 -0.63790269 -0.53573369 -1.60501354\n",
      "  0.98475608 -0.98111505 -0.28212589 -0.27152354 -0.86976884 -1.05996443\n",
      " -1.06410638 -1.06410624 -0.55475    -0.55510631 -0.55510663 -0.64720012]\n",
      "stoch Gradient Descent(12/49): loss=0.7537936610032776\n",
      "[ 0.37871605  0.31326478  0.01812026 -0.28228943 -0.69457706 -0.65673136\n",
      " -0.69457223 -0.47191634 -0.90973697 -0.4546032  -0.78525367 -0.29825515\n",
      " -0.69457846 -0.05047943 -1.52207276 -0.83225921 -0.7627495   0.27782476\n",
      " -0.70478144 -0.37953312  0.90585397 -1.02094563  0.02314468  0.79394637\n",
      "  0.88428249  0.89110488 -0.69413068 -0.69457651 -0.69457692 -0.35340284]\n",
      "stoch Gradient Descent(13/49): loss=1.1801585082589712\n",
      "[ 0.43350979  1.07719472 -1.656463    2.39088565  2.48544656  1.65737691\n",
      "  2.49690575 -2.89107303  2.11448705  2.44688951  3.13817823  0.59155616\n",
      "  2.48951179 -1.14590558  2.01897586  1.95956382  1.68917676  3.00109022\n",
      "  1.51457988  1.85024637  2.46275931  2.14431014  3.29299749  1.43845471\n",
      "  1.30148281  1.29717351  2.51575084  2.4960247   2.48852847  2.7702782 ]\n",
      "stoch Gradient Descent(14/49): loss=2.5368344504594473\n",
      "[-0.43819666 -0.09477637  0.35078293  1.02758669  0.7483056   0.70753237\n",
      "  0.7483004  -0.89381123  0.88857359  0.93771914 -0.31920503  1.2126599\n",
      "  0.74830711  0.73498403 -0.41546352 -1.19577457  0.29519469  0.38627261\n",
      "  0.67103441  0.87779811 -1.62046378  1.04711841  1.17248242  1.42887351\n",
      "  1.43445701  1.43445682  0.74782469  0.74830501  0.74830545  0.87245108]\n",
      "stoch Gradient Descent(15/49): loss=1.3698009569488045\n",
      "[-1.95052342  1.56573524  0.29750918 -0.45627329 -0.53343698 -0.50437139\n",
      " -0.53343327  0.18212255  0.15607532 -0.40105348  0.14557233 -0.80294403\n",
      " -0.53343806  0.03977947  1.28505659 -0.19142264  0.61924167  1.21523029\n",
      " -1.38312295  0.31143154  0.21183246 -0.33888895 -0.83581558 -1.01858649\n",
      " -1.02256674 -1.02256661 -0.53309416 -0.53343656 -0.53343688 -0.6219353 ]\n",
      "stoch Gradient Descent(16/49): loss=0.6960905169790851\n",
      "[ 0.3234112  -0.73036322 -0.72037724 -0.25691026 -0.69632961 -0.65838842\n",
      " -0.69632477 -0.5523988   0.19424925 -0.31453316  0.80242398  0.09791088\n",
      " -0.69633102 -0.86509203  0.27895966 -0.57958457 -0.17755321 -0.51441492\n",
      " -1.65979608 -1.23998766 -0.15437805 -0.32006735  0.02320308  0.83655138\n",
      "  0.89017267  0.89142811 -0.69588211 -0.69632906 -0.69632947 -0.13352153]\n",
      "stoch Gradient Descent(17/49): loss=1.1861215594883268\n",
      "[ 0.8937763  -0.56510147  3.21074202 -0.40360465 -0.64513539 -0.60998364\n",
      " -0.64513091  0.84661972 -0.60990992  0.80406136 -0.81774854  1.29874995\n",
      " -0.6451367   3.74355817  0.35402732 -1.19567379  2.06007118  0.34898162\n",
      "  0.58235809 -0.09577257  0.89204083  0.7971386   0.02149719  0.72964827\n",
      "  0.81673678  0.82218682 -0.64472079 -0.64513489 -0.64513527 -0.37056754]\n",
      "stoch Gradient Descent(18/49): loss=1.0181252605107272\n",
      "[-2.40891017e+00  5.45799350e-01  8.33285024e-04 -9.13770920e-01\n",
      " -6.58798429e-01 -6.22902217e-01 -6.58793850e-01 -4.21285162e-01\n",
      " -8.08287200e-01 -5.83483803e-01 -1.13757068e+00 -1.04343812e+00\n",
      " -6.58799760e-01  1.05809352e+00  5.78793376e-01  1.69249966e+00\n",
      " -7.22478555e-01 -1.83675372e-01  6.20783087e-01  5.87850305e-01\n",
      " -3.68940663e-01 -9.08095373e-01 -1.03223813e+00 -1.25796149e+00\n",
      " -1.26287713e+00 -1.26287696e+00 -6.58375047e-01 -6.58797914e-01\n",
      " -6.58798299e-01 -7.68094479e-01]\n",
      "stoch Gradient Descent(19/49): loss=1.0617067670683238\n",
      "[-1.36899699  0.56151063  2.27898158 -0.30568753 -0.3743988  -0.35399878\n",
      " -0.3743962   1.47114305  0.23394927 -0.25368435 -0.11965339  0.0624563\n",
      " -0.37439955 -0.36595694  1.0418053   1.00053529 -0.40934124 -1.00521508\n",
      "  0.98394905  0.29010862  0.12896626 -0.2868613   0.01247571  0.44025668\n",
      "  0.47549041  0.47609839 -0.37415819 -0.3743985  -0.37439872 -0.1236424 ]\n",
      "stoch Gradient Descent(20/49): loss=0.3429006950587955\n",
      "[ 0.33187112  0.22557924  1.64813401 -0.19188284 -0.13816736 -0.13063898\n",
      " -0.1381664   0.73805512 -0.17020794 -0.11205864  0.06558938 -0.22444903\n",
      " -0.13816764 -0.02095643 -0.43289008  0.2937034   0.14924653  0.30246104\n",
      " -0.04645825 -0.06904665 -0.36690631 -0.16173476 -0.21648749 -0.26382762\n",
      " -0.26485856 -0.26485852 -0.13807857 -0.13816725 -0.13816734 -0.16108962]\n",
      "stoch Gradient Descent(21/49): loss=0.04669930440660701\n"
     ]
    },
    {
     "name": "stdout",
     "output_type": "stream",
     "text": [
      "[-0.21291887  0.59020853  0.34626279 -0.16518509  0.34844502  0.32945916\n",
      "  0.3484426  -0.0577069   0.43548765  0.10432465  0.18942195 -0.62887106\n",
      "  0.34844573  0.27493357 -0.88699071  0.66319573  0.3782236  -0.88168573\n",
      " -0.05773733 -0.33144709  0.00116707  0.21158948 -0.01161088 -0.43547228\n",
      " -0.44862535 -0.44792826  0.34822109  0.34844475  0.34844495 -0.02486187]\n",
      "stoch Gradient Descent(22/49): loss=0.29700790543408206\n",
      "[ 0.33869756  0.31290415  0.14833291 -0.65048913 -0.48541342 -0.45896451\n",
      " -0.48541005  0.59531616 -0.53042114 -0.50141497  0.18459431 -0.80062603\n",
      " -0.4854144  -0.26017474  0.37956397  0.78487275  0.14891088  0.9815909\n",
      " -0.68938847 -0.46684537  0.4215026  -0.51515013 -0.76056989 -0.92688653\n",
      " -0.93050846 -0.93050834 -0.48510147 -0.48541304 -0.48541333 -0.56594454]\n",
      "stoch Gradient Descent(23/49): loss=0.5763987628207958\n",
      "[ 0.31206931 -1.9666843  -2.38099654  0.98596738 -0.99442692 -0.94024319\n",
      " -0.99442001 -3.29994542 -1.02287679 -0.11415324  0.1093494   1.18880358\n",
      " -0.99442893 -1.20052947  1.51292238 -1.43810385 -1.03006972  0.84039285\n",
      " -1.91144279  0.27975767 -1.97043109  0.02890377  0.03313627  1.29809236\n",
      "  1.26730619  1.27208999 -0.99378785 -0.99442615 -0.99442673  0.37164002]\n",
      "stoch Gradient Descent(24/49): loss=2.419052106913413\n",
      "[-1.76602467  0.71119094 -0.28152298 -0.671104   -0.48297952 -0.45666322\n",
      " -0.48297617 -0.62436444 -0.59599841 -0.51385796 -0.66138934 -0.79597874\n",
      " -0.4829805   0.27764946  1.48642757  0.29570258 -0.47523034  0.79393639\n",
      "  0.8380904   0.47280688 -0.79736224 -0.67802813 -0.75675633 -0.92223905\n",
      " -0.92584281 -0.92584269 -0.48266913 -0.48297914 -0.48297943 -0.56310684]\n",
      "stoch Gradient Descent(25/49): loss=0.5706330353341019\n",
      "[-0.4049771   0.53628936  0.14951104  0.85587784  0.64457771  0.60945634\n",
      "  0.64457323 -1.25151217  0.68175726  0.82766202  0.12842561 -1.30100581\n",
      "  0.64457901  0.51632813 -0.86440755  1.68463141  0.47738114  0.14623788\n",
      " -0.01190786  1.07841317  1.54591012  0.6427106   1.0099564   1.23080732\n",
      "  1.23561685  1.23561669  0.64416346  0.6445772   0.64457758  0.75151451]\n",
      "stoch Gradient Descent(26/49): loss=1.016365782647754\n",
      "[-0.57642466  0.52531933 -0.32285291 -0.14648648 -0.15764293 -0.14905338\n",
      " -0.15764183 -0.47683394  0.0128372  -0.18091413  0.32263857 -0.26372972\n",
      " -0.15764325 -0.19751046 -0.22583622 -0.08466274  0.0683736  -0.18467857\n",
      " -0.20651297  0.27004528  0.29212565 -0.09947511 -0.24700278 -0.3010158\n",
      " -0.30219206 -0.30219202 -0.15754162 -0.15764281 -0.1576429  -0.18379623]\n",
      "stoch Gradient Descent(27/49): loss=0.06079228607490567\n",
      "[-1.3386488   0.52562114  0.07484839 -0.52078721 -0.36609905 -0.34615127\n",
      " -0.36609651  0.06867569 -0.48631847 -0.33713758  0.01043228 -0.60575147\n",
      " -0.36609979 -0.04839975 -0.03679993 -0.38571954  0.17731483  0.22112407\n",
      "  0.35537527 -0.09769204 -0.85843661 -0.78300901 -0.57362219 -0.69905829\n",
      " -0.70178995 -0.70178986 -0.36586377 -0.36609876 -0.36609898 -0.42683566]\n",
      "stoch Gradient Descent(28/49): loss=0.3278662255940075\n",
      "[-0.47161521  1.16445379 -0.2173848   0.86602461  0.71931822  0.68012444\n",
      "  0.71931322 -1.0287543   0.50618444  0.6982058   0.68803325 -1.4528035\n",
      "  0.71931967 -0.32039506 -1.87555399 -0.48065209  0.26132484 -1.37276439\n",
      "  1.55357136  1.1999011  -1.89106733  1.03967598  1.12706355  1.37352273\n",
      "  1.37888994  1.37888976  0.71885594  0.71931766  0.71931808  0.83865463]\n",
      "stoch Gradient Descent(29/49): loss=1.265731518869967\n",
      "[ 3.97987384 -2.19427803  1.98248251  1.53923526  1.08843189  1.02912607\n",
      "  1.08842432  2.91391285 -2.7250841   0.53768274  0.241042    1.81519384\n",
      "  1.08843409  0.72314561 -2.6837426  -2.25840302  0.63289715 -3.16725512\n",
      "  2.79871469 -0.98855203  0.1793092   2.11583777 -0.0362687  -1.28587618\n",
      " -1.39414127 -1.38739241  1.0877324   1.08843104  1.08843167  0.32689835]\n",
      "stoch Gradient Descent(30/49): loss=2.8980240721352755\n",
      "[ 0.37518953 -0.47006207 -1.11479677  0.19923552 -0.76670857 -0.72493261\n",
      " -0.76670324 -0.40298516 -0.92711607 -0.39543813 -0.03635434  1.54952225\n",
      " -0.76671012 -0.9588952  -0.57685544  0.7664412  -0.94119899 -0.31993422\n",
      " -0.6518909   0.04800246  0.07154382 -0.28595519  0.02554824  0.94157782\n",
      "  0.97689412  0.98612085 -0.76621584 -0.76670797 -0.76670842 -0.03568297]\n",
      "stoch Gradient Descent(31/49): loss=1.4380040553535736\n",
      "[ 0.49945119  0.35372924 -0.03941568  0.79537194 -0.61798002 -0.5843079\n",
      " -0.61797573  0.67765077  0.05479308  0.14512363  0.14003881  1.24651167\n",
      " -0.61798127 -0.29206983  1.70367412  1.63072779  0.13858961  1.52626188\n",
      " -0.187043    1.50896773 -0.66449233  1.96223594  0.02059232  0.80226766\n",
      "  0.79208032  0.79278762 -0.61758287 -0.61797954 -0.6179799   0.20690177]\n",
      "stoch Gradient Descent(32/49): loss=0.9342182515402226\n",
      "[-0.44573909  0.41964996 -0.7357891   0.52985635  0.61168026  0.57835139\n",
      "  0.611676   -1.17541872 -0.1599402   0.67502974 -0.29376813  1.02892501\n",
      "  0.61168149  0.43691658  0.92198555  1.07679681 -0.07196586 -0.62281378\n",
      " -0.30727126  0.87711218 -1.17572828  0.85456706  0.95841104  1.16799035\n",
      "  1.17255441  1.17255426  0.61128715  0.61167978  0.61168014  0.7131593 ]\n",
      "stoch Gradient Descent(33/49): loss=0.9152682571224616\n",
      "[-0.19386913  0.23844123  0.20796725  0.40741454 -0.86992743 -0.76861473\n",
      " -0.86764745 -0.26218821  0.03999611  0.05272415  0.45039474  0.59729371\n",
      " -0.86815722  0.0338827  -0.0968891  -0.74413305  0.46736842  0.15858278\n",
      "  0.37193187  0.44839187 -0.23857967 -0.19850834 -0.57957274 -0.41341966\n",
      " -0.45309271 -0.4535192  -0.83918749 -0.86335705 -0.86526667 -0.05071968]\n",
      "stoch Gradient Descent(34/49): loss=0.3079501809125111\n",
      "[-0.25401911  0.5611006   0.55677922 -0.03413568  0.47318772  0.44740495\n",
      "  0.47318443 -0.35061349 -0.10668198  0.42755461  0.02156061 -0.93957348\n",
      "  0.47318867  0.56468812 -0.52666862  1.13566934  0.54123158 -0.43324057\n",
      "  0.0401465  -0.1255602   0.26295291  0.13772252 -0.01576755 -0.53849285\n",
      " -0.5986923  -0.60741914  0.47288362  0.47318735  0.47318762  0.25376164]\n",
      "stoch Gradient Descent(35/49): loss=0.5477298394289706\n",
      "[ 0.59392118 -2.33589217 -1.20356631 -0.10314353  2.73878656  2.7288663\n",
      "  2.72223649 -0.47727501  1.0302086  -0.26929294 -1.07353759  1.7492558\n",
      "  2.73005044 -0.5708361   0.1135264  -0.06612071 -1.41332935  0.19247657\n",
      "  1.95745262 -0.36477619  1.9551261  -0.29894986  1.82276907  1.29961143\n",
      "  1.426374    1.41846701  2.63406964  2.71391816  2.72764203  0.13081104]\n",
      "stoch Gradient Descent(36/49): loss=3.0459857528031233\n",
      "[-0.40906433  1.05018884  0.20896134 -0.58910526 -1.2852341  -1.42593875\n",
      " -1.27395915  0.1172912   0.53295786 -0.25959086  0.75600629 -0.83064284\n",
      " -1.28218788 -0.25693316 -0.04923666  0.06079358  0.61491477  0.4205936\n",
      "  1.04911228 -1.15418615  0.99304248 -0.29422048 -0.85553887 -0.66698224\n",
      " -0.67100436 -0.67003187 -1.23935926 -1.27570225 -1.28538504 -0.38612083]\n",
      "stoch Gradient Descent(37/49): loss=0.6710332743162499\n",
      "[-0.37293031  1.0149234  -0.07531563 -0.02413607 -1.19352666 -1.0725715\n",
      " -1.19100107 -0.87055638  0.49558774 -0.33992699  0.19641448 -0.85171926\n",
      " -1.19294009  0.24717176  0.17272245 -1.02787708  0.2870602   0.96168032\n",
      "  0.37839447 -0.24295674  0.37734927 -0.36712311 -0.79631922 -0.60874992\n",
      " -0.62330527 -0.62410317 -1.20026916 -1.18879845 -1.18802852 -0.52241103]\n",
      "stoch Gradient Descent(38/49): loss=0.5813517195621002\n",
      "[-0.44868237  0.54352129 -0.31610673  0.08345535  0.65672788  0.62094449\n",
      "  0.65672332 -0.06415549  0.64374277  0.11771461  0.07491326 -1.32725067\n",
      "  0.65672921 -0.10465748  0.44673022  0.87227926 -0.45316918 -0.09135515\n",
      " -0.42036828  0.90142676  0.23175079  0.43347074 -0.02188347 -0.76341569\n",
      " -0.84273097 -0.84444611  0.65630583  0.65672737  0.65672775  0.26490701]\n",
      "stoch Gradient Descent(39/49): loss=1.0550435427807983\n",
      "[ 0.23389184  0.48472271 -0.50516811 -0.23654612 -0.54725297 -0.51743458\n",
      " -0.54724917 -0.69542702  0.82185179 -0.71253202  0.58909067 -0.08583462\n",
      " -0.54725408 -0.69252628  1.34512966 -0.25574281 -0.19877557  0.13634697\n",
      " -0.4082882  -0.28159817  0.85540976 -0.9188213  -0.85746316 -1.04496782\n",
      " -1.04905116 -1.04905103 -0.54690127 -0.54725254 -0.54725286 -0.63804339]\n",
      "stoch Gradient Descent(40/49): loss=0.7326148720714838\n",
      "[-0.44564409  0.38514785 -0.60100557  0.82203987  0.62703005  0.59286482\n",
      "  0.62702569 -1.22996805  0.6330808   0.70112316  0.25959989  1.04817217\n",
      "  0.62703132  0.19745413 -0.37801844 -1.38524401  0.22859703 -1.73933039\n",
      "  0.49426026  0.98531372 -0.83183069  1.06348654  0.98246186  1.19730045\n",
      "  1.20197905  1.2019789   0.62662709  0.62702956  0.62702993  0.73105566]\n",
      "stoch Gradient Descent(41/49): loss=0.9617809905305512\n",
      "[ 0.20326942  0.05992405 -0.01638144  0.57081443  0.81638746  0.51640689\n",
      "  0.81861451 -0.54711384  0.71631237  0.21761174  0.59886729  0.66082903\n",
      "  0.81737354 -0.04716583 -0.95666597  0.24010995  0.98480701 -0.85924574\n",
      "  0.6708608  -0.09594484  0.40229224  0.3503096   0.54616035  0.39180056\n",
      "  0.4269174   0.42532941  0.78797714  0.81692248  0.81678656  0.04597635]\n",
      "stoch Gradient Descent(42/49): loss=0.27346698264318753\n",
      "[-2.21108894  1.13451283  3.33995367 -0.45448163  1.47705201  1.08293019\n",
      "  1.48007322  2.02815517  0.89168784  0.60370232 -0.6914776  -0.99499235\n",
      "  1.47827979 -0.04761864 -1.72552384 -0.51528871 -0.67969342  1.18168283\n",
      "  0.20848878  0.9099258   1.59495154  0.7438085   1.95538931  0.76080133\n",
      "  0.769932    0.7700906   1.45542437  1.48021341  1.48426684  0.87656057]\n",
      "stoch Gradient Descent(43/49): loss=0.8944906426830278\n",
      "[-0.97894787  0.6536119  -0.06397654 -0.37024535 -0.2677266  -0.25313887\n",
      " -0.26772474 -0.01609881 -0.3253372  -0.25329298  0.4453308  -0.41596992\n",
      " -0.26772714 -0.22787269 -0.48287164  0.31234744  0.28980195 -0.52218578\n",
      " -0.23777568  0.05433987  0.59640135 -0.39270862 -0.41948734 -0.5112182\n",
      " -0.51321585 -0.51321578 -0.26755454 -0.26772639 -0.26772654 -0.312143  ]\n",
      "stoch Gradient Descent(44/49): loss=0.1753406076873842\n"
     ]
    },
    {
     "name": "stdout",
     "output_type": "stream",
     "text": [
      "[ 0.39706233 -0.8083976   0.18973918 -0.16174908 -0.62216165 -0.58826168\n",
      " -0.62215733 -0.23130626  0.06442577  0.03962623 -0.0536912  -1.04247973\n",
      " -0.62216291  0.14278421 -0.82877928 -0.6035504   0.5185781  -1.06502564\n",
      "  0.52465913 -1.15710812  1.56154491  0.08992344  0.02073166  0.75051904\n",
      "  0.79429208  0.78874003 -0.62176181 -0.62216116 -0.62216153 -0.10260102]\n",
      "stoch Gradient Descent(45/49): loss=0.9469040008466273\n",
      "[ 0.40821875  0.83777336  0.04220444 -0.91673418 -0.66568714 -0.62941558\n",
      " -0.66568251  0.44670264 -0.79790092 -0.64089377  0.25191675 -1.08749633\n",
      " -0.66568848 -0.2647238   0.95103159  0.62935036  0.35572974  0.80044099\n",
      " -0.95057305 -0.37567963  1.18473978 -0.81479055 -1.04303171 -1.27111533\n",
      " -1.27608237 -1.27608221 -0.66525933 -0.66568662 -0.66568701 -0.77612604]\n",
      "stoch Gradient Descent(46/49): loss=1.084026275420479\n",
      "[ 0.6270696  -0.30266148  0.26924945 -1.28827173 -0.92093773 -0.87075823\n",
      " -0.92093133  1.34470329 -1.16107906 -0.89073323 -0.40344873 -1.54430882\n",
      " -0.92093959  0.04952414  1.01553324 -1.78532785  0.04835876  1.51272672\n",
      "  0.60772442 -1.41204166 -2.10379632 -1.58754857 -1.44297103 -1.75851087\n",
      " -1.76538247 -1.76538224 -0.92034588 -0.92093701 -0.92093755 -1.07372325]\n",
      "stoch Gradient Descent(47/49): loss=2.0747224661192916\n",
      "[-0.2736776   0.82471192  0.24106875  0.64085936  0.48643274  0.45992829\n",
      "  0.48642936 -0.65875918  0.50011015  0.5926879   0.27614319  0.81951738\n",
      "  0.48643373  0.22582438 -0.16604595 -0.29404788  0.35932633 -0.23847364\n",
      "  1.08199958  0.93964721  0.17711348  0.59301637  0.76216701  0.9288329\n",
      "  0.93246243  0.93246231  0.48612013  0.48643236  0.48643265  0.56713296]\n",
      "stoch Gradient Descent(48/49): loss=0.5788220644389017\n",
      "[-1.23749281  0.47194447  0.25270661 -0.46643239 -0.33843451 -0.31999409\n",
      " -0.33843215  0.32446187 -0.40669748 -0.48129388  0.07355867 -0.54135134\n",
      " -0.33843519 -0.42225245  0.71893889  0.65997573 -0.3421685  -0.4860235\n",
      "  0.51821099  0.14290578 -0.33937141 -0.23466782 -0.53027601 -0.64623344\n",
      " -0.64875868 -0.64875859 -0.33821701 -0.33843424 -0.33843444 -0.3945815 ]\n",
      "stoch Gradient Descent(49/49): loss=0.28018749466929177\n",
      "SGD: execution time=3.321 seconds\n"
     ]
    },
    {
     "data": {
      "text/plain": [
       "[<matplotlib.lines.Line2D at 0x11382bac8>]"
      ]
     },
     "execution_count": 75,
     "metadata": {},
     "output_type": "execute_result"
    },
    {
     "data": {
      "image/png": "[encoded data removed]",
      "text/plain": [
       "<Figure size 432x288 with 1 Axes>"
      ]
     },
     "metadata": {},
     "output_type": "display_data"
    }
   ],
   "source": [
    "from proj1_helpers import batch_iter\n",
    "# Define the parameters of the algorithm.\n",
    "max_iters = 50\n",
    "gamma = 0.01\n",
    "batch_size = 1\n",
    "\n",
    "# Initialization\n",
    "w_initial = np.zeros(30)\n",
    "print(w_initial)\n",
    "\n",
    "# Start SGD.\n",
    "start_time = datetime.datetime.now()\n",
    "sgd_losses, sgd_ws = least_squares_SGD(\n",
    "    y, tX_std, w_initial,batch_size, max_iters, gamma)\n",
    "end_time = datetime.datetime.now()\n",
    "\n",
    "# Print result\n",
    "exection_time = (end_time - start_time).total_seconds()\n",
    "print(\"SGD: execution time={t:.3f} seconds\".format(t=exection_time))\n",
    "\n",
    "plt.plot(sgd_losses)"
   ]
  },
  {
   "cell_type": "code",
   "execution_count": null,
   "metadata": {},
   "outputs": [],
   "source": []
  },
  {
   "cell_type": "markdown",
   "metadata": {},
   "source": [
    "## Do your thing crazy machine learning thing here :) ..."
   ]
  },
  {
   "cell_type": "markdown",
   "metadata": {},
   "source": [
    "## Generate predictions and save ouput in csv format for submission:"
   ]
  },
  {
   "cell_type": "code",
   "execution_count": 21,
   "metadata": {},
   "outputs": [],
   "source": [
    "DATA_TEST_PATH = '../data/test.csv' # TODO: download train data and supply path here \n",
    "_, tX_test, ids_test = load_csv_data(DATA_TEST_PATH)"
   ]
  },
  {
   "cell_type": "code",
   "execution_count": 50,
   "metadata": {},
   "outputs": [],
   "source": [
    "tX_test_std = standardize(tX_test)  # standardize par rapport a tX_train mean and std? "
   ]
  },
  {
   "cell_type": "code",
   "execution_count": null,
   "metadata": {},
   "outputs": [],
   "source": [
    "OUTPUT_PATH = '' # TODO: fill in desired name of output file for submission\n",
    "y_pred = predict_labels(weights, tX_test)\n",
    "create_csv_submission(ids_test, y_pred, OUTPUT_PATH)"
   ]
  },
  {
   "cell_type": "code",
   "execution_count": 71,
   "metadata": {},
   "outputs": [
    {
     "data": {
      "text/plain": [
       "array([-1., -1., -1., ...,  1.,  1., -1.])"
      ]
     },
     "execution_count": 71,
     "metadata": {},
     "output_type": "execute_result"
    }
   ],
   "source": [
    "predict_labels(gradient_ws[-1], tX_test_std)"
   ]
  },
  {
   "cell_type": "code",
   "execution_count": null,
   "metadata": {},
   "outputs": [],
   "source": []
  }
 ],
 "metadata": {
  "anaconda-cloud": {},
  "kernelspec": {
   "display_name": "Python 3",
   "language": "python",
   "name": "python3"
  },
  "language_info": {
   "codemirror_mode": {
    "name": "ipython",
    "version": 3
   },
   "file_extension": ".py",
   "mimetype": "text/x-python",
   "name": "python",
   "nbconvert_exporter": "python",
   "pygments_lexer": "ipython3",
   "version": "3.6.5"
  }
 },
 "nbformat": 4,
 "nbformat_minor": 1
}
